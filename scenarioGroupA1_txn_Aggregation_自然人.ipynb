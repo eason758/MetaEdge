{
 "cells": [
  {
   "cell_type": "code",
   "execution_count": null,
   "metadata": {},
   "outputs": [],
   "source": [
    "%run aggregation_function.ipynb"
   ]
  },
  {
   "cell_type": "markdown",
   "metadata": {},
   "source": [
    "# 自然人"
   ]
  },
  {
   "cell_type": "code",
   "execution_count": null,
   "metadata": {},
   "outputs": [],
   "source": [
    "day1 = ['TWN_A15_01','TWN_A17_01','TWN_A81_01', 'TWN_A21_02', 'BOT_AZ2_01']\n",
    "day3 = ['TWN_A61_01', 'TWN_A62_01']\n",
    "day5 = [ 'TWN_A15_01','TWN_A17_01','TWN_A1F_01', 'TWN_AB3_02', 'TWN_AB2_01', 'TWN_AB4_01', 'TWN_AB1_01', 'TWN_A21_01', 'TWN_A1C_01',\n",
    "        'TWN_A1D_01', 'TWN_A1B_01']\n",
    "day15 = ['TWN_A11_01', 'TWN_A12_01','TWN_A13_01', 'BOT_AZ9_01', 'BOT_AZ8_01']\n",
    "day30 = ['TWN_AB3_01']\n",
    "folder = [day1, day3, day5, day15, day30]"
   ]
  },
  {
   "cell_type": "code",
   "execution_count": null,
   "metadata": {},
   "outputs": [],
   "source": [
    "path = 'D:/Temp/NCTU/crystal/第二階段/new_alert/日數分類_營業日/'\n",
    "save_path = 'D:/Temp/NCTU/crystal/第二階段/new_alert/日數分類_營業日/'"
   ]
  },
  {
   "cell_type": "markdown",
   "metadata": {},
   "source": [
    "# 1.TWN_A11_01"
   ]
  },
  {
   "cell_type": "code",
   "execution_count": null,
   "metadata": {},
   "outputs": [],
   "source": [
    "df = pd.read_csv(\"D:/Temp/NCTU/crystal/第二階段/new_alert/日數分類/day15.csv\")\n",
    "day = \"day15\"\n",
    "scenario_name = \"TWN_A11_01\"\n",
    "party = \"ACC\"\n",
    "feature = ['Credit_Amt', 'number_of_Credit', 'Debit_Amt','number_of_Debit']"
   ]
  },
  {
   "cell_type": "code",
   "execution_count": null,
   "metadata": {},
   "outputs": [],
   "source": [
    "aggregation(df, day, scenario_name, party, feature, path, save_path)"
   ]
  },
  {
   "cell_type": "markdown",
   "metadata": {},
   "source": [
    "# 2.TWN_A12_01"
   ]
  },
  {
   "cell_type": "code",
   "execution_count": null,
   "metadata": {},
   "outputs": [],
   "source": [
    "df = pd.read_csv(\"D:/Temp/NCTU/crystal/第二階段/new_alert/日數分類/day15.csv\")\n",
    "day = \"day15\"\n",
    "scenario_name = \"TWN_A12_01\"\n",
    "party = \"PTY\"\n",
    "feature = ['Credit_Amt', 'number_of_Credit', 'Debit_Amt','number_of_Debit']"
   ]
  },
  {
   "cell_type": "code",
   "execution_count": null,
   "metadata": {},
   "outputs": [],
   "source": [
    "df[df['scenario_name']=='TWN_A12_01']['primary_entity_level_code'].value_counts()"
   ]
  },
  {
   "cell_type": "code",
   "execution_count": null,
   "metadata": {},
   "outputs": [],
   "source": [
    "aggregation(df, day, scenario_name, party, feature, path, save_path)"
   ]
  },
  {
   "cell_type": "markdown",
   "metadata": {},
   "source": [
    "# 3.TWN_A13_01"
   ]
  },
  {
   "cell_type": "code",
   "execution_count": null,
   "metadata": {},
   "outputs": [],
   "source": [
    "df = pd.read_csv(\"D:/Temp/NCTU/crystal/第二階段/new_alert/日數分類/day15.csv\")\n",
    "day = \"day15\"\n",
    "scenario_name = \"TWN_A13_01\"\n",
    "party = \"PTY\"\n",
    "feature = ['Credit_Amt', 'number_of_Credit', 'Debit_Amt','number_of_Debit']"
   ]
  },
  {
   "cell_type": "code",
   "execution_count": null,
   "metadata": {},
   "outputs": [],
   "source": [
    "aggregation(df, day, scenario_name, party, feature, path, save_path)"
   ]
  },
  {
   "cell_type": "markdown",
   "metadata": {},
   "source": [
    "# 4.TWN_A15_01"
   ]
  },
  {
   "cell_type": "markdown",
   "metadata": {},
   "source": [
    "## part1 - day5"
   ]
  },
  {
   "cell_type": "code",
   "execution_count": null,
   "metadata": {},
   "outputs": [],
   "source": [
    "df = pd.read_csv(\"D:/Temp/NCTU/crystal/第二階段/new_alert/日數分類/day5.csv\")\n",
    "day = \"day5\"\n",
    "scenario_name = \"TWN_A15_01\"\n",
    "party = \"ACC\"\n",
    "feature = ['Credit_Amt', 'debit/credit']"
   ]
  },
  {
   "cell_type": "code",
   "execution_count": null,
   "metadata": {},
   "outputs": [],
   "source": [
    "aggregation(df, day, scenario_name, party, feature, path, save_path)"
   ]
  },
  {
   "cell_type": "markdown",
   "metadata": {},
   "source": [
    "## part2 - day1"
   ]
  },
  {
   "cell_type": "code",
   "execution_count": null,
   "metadata": {},
   "outputs": [],
   "source": [
    "df = pd.read_csv(\"D:/Temp/NCTU/crystal/第二階段/new_alert/日數分類/day1.csv\")\n",
    "day = \"day1\"\n",
    "scenario_name = \"TWN_A15_01\"\n",
    "party = \"ACC\"\n",
    "feature = ['Debit_Amt']"
   ]
  },
  {
   "cell_type": "code",
   "execution_count": null,
   "metadata": {},
   "outputs": [],
   "source": [
    "aggregation(df, day, scenario_name, party, feature, path, save_path)"
   ]
  },
  {
   "cell_type": "markdown",
   "metadata": {},
   "source": [
    "# 5.TWN_A17_01"
   ]
  },
  {
   "cell_type": "markdown",
   "metadata": {},
   "source": [
    "## part1 - day5"
   ]
  },
  {
   "cell_type": "code",
   "execution_count": null,
   "metadata": {},
   "outputs": [],
   "source": [
    "df = pd.read_csv(\"D:/Temp/NCTU/crystal/第二階段/new_alert/日數分類/day5.csv\")\n",
    "day = \"day5\"\n",
    "scenario_name = \"TWN_A17_01\"\n",
    "party = \"ACC\"\n",
    "feature = ['Credit_Amt', 'number_of_Credit', 'Debit_Amt','number_of_Debit', 'debit/credit']"
   ]
  },
  {
   "cell_type": "code",
   "execution_count": null,
   "metadata": {},
   "outputs": [],
   "source": [
    "aggregation(df, day, scenario_name, party, feature, path, save_path)"
   ]
  },
  {
   "cell_type": "markdown",
   "metadata": {},
   "source": [
    "## part2 - day1"
   ]
  },
  {
   "cell_type": "code",
   "execution_count": null,
   "metadata": {},
   "outputs": [],
   "source": [
    "df = pd.read_csv(\"D:/Temp/NCTU/crystal/第二階段/new_alert/日數分類/day1.csv\")\n",
    "day = \"day1\"\n",
    "scenario_name = \"TWN_A17_01\"\n",
    "party = \"ACC\"\n",
    "feature = ['Debit_Amt']"
   ]
  },
  {
   "cell_type": "code",
   "execution_count": null,
   "metadata": {},
   "outputs": [],
   "source": [
    "aggregation(df, day, scenario_name, party, feature, path, save_path)"
   ]
  },
  {
   "cell_type": "markdown",
   "metadata": {},
   "source": [
    "# 法人"
   ]
  },
  {
   "cell_type": "code",
   "execution_count": null,
   "metadata": {},
   "outputs": [],
   "source": [
    "df = pd.read_csv(\"D:/Temp/NCTU/crystal/第二階段/日數分類/day15.csv\")\n",
    "day = \"day15\"\n",
    "scenario_name = \"TWN_A13_01\"\n",
    "party = \"PTY\"\n",
    "feature = ['Credit_Amt', 'number_of_Credit', 'Debit_Amt','number_of_Debit']"
   ]
  },
  {
   "cell_type": "code",
   "execution_count": null,
   "metadata": {},
   "outputs": [],
   "source": [
    "aggregation(df, day, scenario_name, party)"
   ]
  }
 ],
 "metadata": {
  "kernelspec": {
   "display_name": "Python 3 (ipykernel)",
   "language": "python",
   "name": "python3"
  },
  "language_info": {
   "codemirror_mode": {
    "name": "ipython",
    "version": 3
   },
   "file_extension": ".py",
   "mimetype": "text/x-python",
   "name": "python",
   "nbconvert_exporter": "python",
   "pygments_lexer": "ipython3",
   "version": "3.8.5"
  }
 },
 "nbformat": 4,
 "nbformat_minor": 4
}
