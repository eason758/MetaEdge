{
 "cells": [
  {
   "cell_type": "code",
   "execution_count": 2,
   "metadata": {},
   "outputs": [],
   "source": [
    "import numpy as np\n",
    "import pandas as pd\n",
    "import matplotlib.pyplot as plt\n",
    "from scipy.stats import entropy\n",
    "from scipy.special import entr\n",
    "import matplotlib.pyplot as plt\n",
    "from scipy.spatial import cKDTree, KDTree"
   ]
  },
  {
   "cell_type": "markdown",
   "metadata": {},
   "source": [
    "scipy.special.entr\n",
    "elementwise function for computing entropy\n",
    "$$ f(x)=\\left\\{\n",
    "\\begin{aligned}\n",
    "& -xlog(x) x>0 \\\\\n",
    "& 0 \\quad x=0 \\\\\n",
    "& \\infty \\quad otherwise\n",
    "\\end{aligned}\n",
    "\\right.\n",
    "$$"
   ]
  },
  {
   "cell_type": "code",
   "execution_count": 3,
   "metadata": {},
   "outputs": [],
   "source": [
    "def Entropy(data, feature):\n",
    "    total_cnt = len(data)\n",
    "    if total_cnt == 0:\n",
    "        return 0\n",
    "    else:\n",
    "        target_cnt = np.array([len(data[data[feature] == 0]), len(data[data[feature] != 0])])\n",
    "        pk = target_cnt / total_cnt\n",
    "        vec = entr(pk)\n",
    "        S = np.sum(vec, axis= 0)\n",
    "        S /= np.log(2) # 換底公式\n",
    "        return S"
   ]
  },
  {
   "cell_type": "code",
   "execution_count": 4,
   "metadata": {},
   "outputs": [],
   "source": [
    "%run ./function.ipynb"
   ]
  },
  {
   "cell_type": "code",
   "execution_count": 5,
   "metadata": {},
   "outputs": [
    {
     "data": {
      "text/plain": [
       "Index(['alert_id', 'run_date', 'primary_entity_level_code',\n",
       "       'primary_entity_number', 'scenario_name', 'TO_SAR', 'Acct_No',\n",
       "       'Cust_No', 'Cust_Key', 'Cust_Segmentation', 'Cust_Typ_Cd', 'Cust_Id_Id',\n",
       "       'Cust_Id_Typ_Desc', 'Cust_Id_State_Cd', 'Cust_Dt_Of_Birth',\n",
       "       'Cust_Sts_Desc', 'Street_Postal_Cd', 'Street_Cntry_Cd',\n",
       "       'Mailing_Postal_Cd', 'Mailing_Cntry_Cd', 'Residence_Cntry_Cd',\n",
       "       'Citizenship_Cntry_Cd', 'Org_Cntry_Of_Buz_Cd', 'Empl_No', 'Ocup_Code',\n",
       "       'job_title_code', 'Lst_Cont_Dt', 'Politically_Exposed_Pers_Ind',\n",
       "       'Non_Prft_Org_Ind', 'Cust_Since_Dt', 'Lst_Susp_Actv_Rpt_Dt',\n",
       "       'Extnl_Cust_Ind', 'Negative_News_Ind', 'Prim_Br_No', 'Obu_Ind',\n",
       "       'Riskclass_Cd', 'risk_score', 'last_risk_assessment_date',\n",
       "       'change_current_ind', 'change_begin_date', 'change_end_date',\n",
       "       'Credit_Amt', 'number_of_Credit', 'Debit_Amt', 'number_of_Debit'],\n",
       "      dtype='object')"
      ]
     },
     "execution_count": 5,
     "metadata": {},
     "output_type": "execute_result"
    }
   ],
   "source": [
    "PATH = 'C:/Users/NCTUUser2/Desktop/mark/'\n",
    "FILE = 'TWN_A11_01_day15_with_aggregated_txn_scenario_txn_type_key_營業日.csv'\n",
    "df = pd.read_csv(PATH + FILE)\n",
    "df.columns"
   ]
  },
  {
   "cell_type": "code",
   "execution_count": 6,
   "metadata": {},
   "outputs": [],
   "source": [
    "df['TO_SAR'] = df['TO_SAR'].replace(np.nan, 0)\n",
    "df['TO_SAR'] = df['TO_SAR'].replace('F', 1)\n",
    "df['TO_SAR'] = df['TO_SAR'].replace('NF', 1)"
   ]
  },
  {
   "cell_type": "code",
   "execution_count": 7,
   "metadata": {},
   "outputs": [
    {
     "name": "stdout",
     "output_type": "stream",
     "text": [
      "Verify on time series\n",
      "shape of data: (86770, 39)\n",
      "total number of TO_SAR: 446\n",
      "********************************\n",
      "time interval in train set:2019-03-04~2020-04-29\n",
      "TO_SAR in train set: 267\n",
      "TO_SAR/Total in train set 0.005128599143312653\n",
      "split dataset to train, test...\n",
      "********************************\n",
      "time interval in test set:2020-02-19~2020-12-31\n",
      "TO_SAR in test set: 179\n",
      "TO_SAR/Total in test set 0.0051571638479933155\n",
      "********************************\n",
      "train data shape:  (52061, 38)\n",
      "test data shape:  (34709, 38)\n"
     ]
    }
   ],
   "source": [
    "SAR_type = 'TO_SAR'\n",
    "train_set, test_set = ReadFile(df, SAR_type)"
   ]
  },
  {
   "cell_type": "code",
   "execution_count": 8,
   "metadata": {},
   "outputs": [
    {
     "name": "stdout",
     "output_type": "stream",
     "text": [
      "train_set:(52060, 38)\n",
      "test_set:(34709, 38)\n"
     ]
    }
   ],
   "source": [
    "train_set = train_set.dropna(subset= ['Credit_Amt', 'number_of_Credit', 'Debit_Amt', 'number_of_Debit']).reset_index(drop= True)\n",
    "test_set = test_set.dropna(subset= ['Credit_Amt', 'number_of_Credit', 'Debit_Amt', 'number_of_Debit']).reset_index(drop= True)\n",
    "print(f'train_set:{train_set.shape}\\n' + f'test_set:{test_set.shape}')"
   ]
  },
  {
   "cell_type": "code",
   "execution_count": 9,
   "metadata": {},
   "outputs": [],
   "source": [
    "SAR = train_set[train_set.TO_SAR!= 0]\n",
    "Non_SAR = train_set[train_set.TO_SAR== 0]"
   ]
  },
  {
   "cell_type": "code",
   "execution_count": 8,
   "metadata": {},
   "outputs": [
    {
     "data": {
      "text/plain": [
       "6840000.0"
      ]
     },
     "execution_count": 8,
     "metadata": {},
     "output_type": "execute_result"
    }
   ],
   "source": [
    "np.max(SAR['Credit_Amt'])"
   ]
  },
  {
   "cell_type": "code",
   "execution_count": 9,
   "metadata": {},
   "outputs": [
    {
     "data": {
      "text/plain": [
       "23214500.0"
      ]
     },
     "execution_count": 9,
     "metadata": {},
     "output_type": "execute_result"
    }
   ],
   "source": [
    "np.max(Non_SAR['Credit_Amt'])"
   ]
  },
  {
   "cell_type": "code",
   "execution_count": 10,
   "metadata": {},
   "outputs": [
    {
     "data": {
      "text/plain": [
       "98.0"
      ]
     },
     "execution_count": 10,
     "metadata": {},
     "output_type": "execute_result"
    }
   ],
   "source": [
    "np.max(SAR['number_of_Credit'])"
   ]
  },
  {
   "cell_type": "code",
   "execution_count": 11,
   "metadata": {},
   "outputs": [
    {
     "data": {
      "text/plain": [
       "852.0"
      ]
     },
     "execution_count": 11,
     "metadata": {},
     "output_type": "execute_result"
    }
   ],
   "source": [
    "np.max(Non_SAR['number_of_Credit'])"
   ]
  },
  {
   "cell_type": "code",
   "execution_count": 10,
   "metadata": {},
   "outputs": [
    {
     "data": {
      "image/png": "[encoded data removed]",
      "text/plain": [
       "<Figure size 700x700 with 1 Axes>"
      ]
     },
     "metadata": {},
     "output_type": "display_data"
    }
   ],
   "source": [
    "plt.figure(figsize= (7, 7))\n",
    "plt.style.use('ggplot')\n",
    "plt.scatter(Non_SAR['Credit_Amt'], Non_SAR['number_of_Credit'], marker= '*', label= 'Non_SAR')\n",
    "plt.scatter(SAR['Credit_Amt'], SAR['number_of_Credit'], marker= 'o', label= 'SAR')\n",
    "plt.xlabel('Credit_Amt')\n",
    "plt.ylabel('number_of_Credit')\n",
    "plt.legend()\n",
    "plt.show()"
   ]
  },
  {
   "cell_type": "code",
   "execution_count": 11,
   "metadata": {},
   "outputs": [
    {
     "name": "stdout",
     "output_type": "stream",
     "text": [
      "86 33\n"
     ]
    }
   ],
   "source": [
    "credit_amt_threshold = np.unique(SAR['Credit_Amt']).tolist()\n",
    "number_of_credit_threshold = np.unique(SAR['number_of_Credit']).tolist()\n",
    "print(len(credit_amt_threshold), len(number_of_credit_threshold))"
   ]
  },
  {
   "cell_type": "code",
   "execution_count": 14,
   "metadata": {},
   "outputs": [],
   "source": [
    "# Hyper parameter settings\n",
    "RANK = 10\n",
    "SLICE = 86\n",
    "beta = 2 # give recall weight=2"
   ]
  },
  {
   "cell_type": "code",
   "execution_count": 15,
   "metadata": {},
   "outputs": [
    {
     "name": "stdout",
     "output_type": "stream",
     "text": [
      "max val:  0.3987044048677559 number of max val:  2\n",
      "Rank: 10, countMax: 2, 100- countZero: 2803\n",
      "1th, recall: 0.40823970037453183, val1: 0.0, val2: 4000.0\n",
      "87th, recall: 0.40823970037453183, val1: 1.0, val2: 4000.0\n",
      "86th, recall: 0.40823970037453183, val1: 1.0, val2: 0.0\n",
      "2th, recall: 0.40074906367041196, val1: 0.0, val2: 11405.0\n",
      "88th, recall: 0.40074906367041196, val1: 1.0, val2: 11405.0\n",
      "3th, recall: 0.3970037453183521, val1: 0.0, val2: 16000.0\n",
      "89th, recall: 0.3970037453183521, val1: 1.0, val2: 16000.0\n",
      "4th, recall: 0.3895131086142322, val1: 0.0, val2: 20000.0\n",
      "90th, recall: 0.3895131086142322, val1: 1.0, val2: 20000.0\n",
      "175th, recall: 0.37453183520599254, val1: 2.0, val2: 16000.0\n",
      "********************************\n"
     ]
    }
   ],
   "source": [
    "LOGIC = \"OR\"\n",
    "default_number_of_credit  = 0\n",
    "default_credit_amt = 0\n",
    "candidate_rule1 = Search2D(number_of_credit_threshold, credit_amt_threshold, 'number_of_Credit','Credit_Amt',\\\n",
    "                           default_number_of_credit, default_credit_amt, SAR, \\\n",
    "                            Non_SAR, train_set, LOGIC, SAR_type)"
   ]
  },
  {
   "cell_type": "code",
   "execution_count": 77,
   "metadata": {},
   "outputs": [],
   "source": [
    "thre1 = SAR['Credit_Amt'].min()\n",
    "thre2 = SAR['number_of_Credit'].min()\n",
    "\n",
    "idx1 = set(train_set[train_set['Credit_Amt'] >= thre1].index)\n",
    "idx2 = set(train_set[train_set['number_of_Credit'] >= thre2].index)\n",
    "\n",
    "idx = list(idx1 & idx2)\n",
    "new_SAM_1 = train_set.iloc[idx]\n",
    "new_SAM_0 = train_set.drop(index= new_SAM_1.index)\n",
    "\n",
    "TP = new_SAM_1[new_SAM_1[SAR_type] != 0].shape[0]\n",
    "TN = new_SAM_0[new_SAM_0[SAR_type] == 0].shape[0]\n",
    "FP = new_SAM_1[new_SAM_1[SAR_type] == 0].shape[0]\n",
    "FN = new_SAM_0[new_SAM_0[SAR_type] != 0].shape[0]\n",
    "\n",
    "recallRate = TP / (TP + FN)\n",
    "filterRate = (TN + FN) / (TP + FP + TN + FN)\n"
   ]
  },
  {
   "cell_type": "markdown",
   "metadata": {},
   "source": [
    "recall 的定義是 $\\frac{TP}{TP+FN}$，應該是找 SAR 中最小的 Credit_Amt 和 number_of_Credit 才對"
   ]
  },
  {
   "cell_type": "code",
   "execution_count": 78,
   "metadata": {},
   "outputs": [
    {
     "name": "stdout",
     "output_type": "stream",
     "text": [
      "267 0 51793 0\n"
     ]
    }
   ],
   "source": [
    "print(TP, TN, FP, FN)"
   ]
  },
  {
   "cell_type": "code",
   "execution_count": 79,
   "metadata": {},
   "outputs": [
    {
     "name": "stdout",
     "output_type": "stream",
     "text": [
      "recall: 1.0 filter rate 0.0\n"
     ]
    }
   ],
   "source": [
    "print('recall:', recallRate, 'filter rate', filterRate)"
   ]
  },
  {
   "cell_type": "code",
   "execution_count": 64,
   "metadata": {},
   "outputs": [
    {
     "name": "stdout",
     "output_type": "stream",
     "text": [
      "[0.0, 0.0, 0.0, 0.0, 0.0, 0.0, 0.0, 0.0, 0.0, 0.0, 0.0, 0.0, 0.0, 0.0, 0.0, 0.0, 0.0, 0.0, 0.0, 0.0, 0.0, 0.0, 16000.0, 61968.0, 292378.4615384626, 483194.153846153, 668833.6, 806769.23076923, 949076.9230769229, 993144.6153846153, 1051884.6153846155, 1101953.8461538462, 1226061.5384615385, 1300169.2307692308, 1426076.9230769225, 1632338.4615384587, 2057999.9999999993, 2273125.9692307673, 3732153.8461538306, 6840000.0]\n",
      "\n",
      "[0.0, 0.0, 0.0, 0.0, 0.0, 0.0, 0.0, 0.0, 0.0, 0.0, 0.0, 0.0, 0.0, 0.0, 0.0, 0.0, 0.0, 0.0, 0.0, 0.0, 0.0, 0.0, 1.0, 2.0, 2.0, 3.0, 5.0, 5.338461538461502, 6.0, 7.0, 8.753846153846155, 11.0, 13.0, 14.16923076923075, 16.0, 18.0, 21.0, 24.72307692307689, 30.72307692307686, 98.0]\n",
      "\n",
      "[0.0, 1000.0, 15433.846153846156, 62277.000000000065, 100000.0, 314621.2307692305, 725998.076923077, 849976.3076923077, 900000.0, 966376.1538461538, 989913.5076923076, 1000000.0, 1020298.1538461539, 1050000.0, 1050000.0, 1076809.8461538462, 1102014.0, 1126464.0769230768, 1170558.3846153845, 1190105.7692307692, 1200000.0, 1200000.0, 1212977.9230769225, 1280113.7692307692, 1318538.4615384617, 1358780.0, 1392000.0, 1452709.3846153843, 1528280.123076923, 1674621.5384615373, 1830007.5384615385, 1967846.153846154, 2070304.8461538448, 2208353.4615384615, 2355693.846153846, 2486376.0615384574, 2791694.3846153845, 3077507.6923076897, 4321199.999999969, 10600030.0]\n",
      "\n",
      "[0.0, 1.0, 1.0, 1.0, 2.153846153846146, 5.0, 5.0, 5.0, 6.0, 6.84615384615384, 8.0, 9.0, 9.0, 10.0, 11.0, 11.676923076923075, 13.0, 14.0, 15.0, 15.0, 16.0, 17.0, 18.0, 18.0, 18.923076923076934, 19.0, 20.0, 20.3384615384615, 21.0, 22.0, 23.0, 25.892307692307696, 30.0, 32.16923076923075, 37.0, 42.446153846153805, 54.0, 80.16923076923067, 93.44615384615372, 149.0]\n",
      "\n"
     ]
    }
   ],
   "source": [
    "number_of_credit_threshold = []\n",
    "credit_amt_threshold = []\n",
    "number_of_debit_threshold = []\n",
    "debit_amt_threshold = []\n",
    "\n",
    "FEATURE = ['Credit_Amt', 'number_of_Credit', 'Debit_Amt', 'number_of_Debit']\n",
    "threshold_list = [credit_amt_threshold, number_of_credit_threshold, debit_amt_threshold, number_of_debit_threshold]\n",
    "\n",
    "for i in range(len(FEATURE)):\n",
    "    tmp = []\n",
    "    tmp = list(SAR[FEATURE[i]].values)\n",
    "    tmp.sort()\n",
    "    for j in np.linspace(10, 100, 40):\n",
    "        threshold_list[i].append(np.percentile(tmp, j))\n",
    "        \n",
    "    print(threshold_list[i])\n",
    "    print()"
   ]
  },
  {
   "cell_type": "code",
   "execution_count": 65,
   "metadata": {},
   "outputs": [],
   "source": [
    "# Hyper parameter settings\n",
    "RANK = 10\n",
    "SLICE = 40\n",
    "beta = 2 # give recall weight=2"
   ]
  },
  {
   "cell_type": "code",
   "execution_count": 66,
   "metadata": {},
   "outputs": [
    {
     "name": "stdout",
     "output_type": "stream",
     "text": [
      "max val:  0.26262948256054164 number of max val:  1\n",
      "Rank: 10, countMax: 1, 100- countZero: 147\n",
      "1069th, recall: 0.23220973782771537, val1: 5.0, val2: 993144.6153846153\n",
      "1109th, recall: 0.21722846441947566, val1: 5.338461538461502, val2: 993144.6153846153\n",
      "1149th, recall: 0.21722846441947566, val1: 6.0, val2: 993144.6153846153\n",
      "1070th, recall: 0.20973782771535582, val1: 5.0, val2: 1051884.6153846155\n",
      "1189th, recall: 0.20224719101123595, val1: 7.0, val2: 993144.6153846153\n",
      "1110th, recall: 0.1947565543071161, val1: 5.338461538461502, val2: 1051884.6153846155\n",
      "1150th, recall: 0.1947565543071161, val1: 6.0, val2: 1051884.6153846155\n",
      "1071th, recall: 0.18726591760299627, val1: 5.0, val2: 1101953.8461538462\n",
      "1229th, recall: 0.18352059925093633, val1: 8.753846153846155, val2: 993144.6153846153\n",
      "1190th, recall: 0.1797752808988764, val1: 7.0, val2: 1051884.6153846155\n",
      "********************************\n"
     ]
    }
   ],
   "source": [
    "LOGIC = \"OR\"\n",
    "default_number_of_credit  = 5\n",
    "default_credit_amt = 985500\n",
    "candidate_rule1 = Search2D(number_of_credit_threshold, credit_amt_threshold, 'number_of_Credit','Credit_Amt',\\\n",
    "                           default_number_of_credit, default_credit_amt, SAR, \\\n",
    "                            Non_SAR, train_set, LOGIC, SAR_type)"
   ]
  },
  {
   "cell_type": "code",
   "execution_count": 63,
   "metadata": {},
   "outputs": [
    {
     "name": "stdout",
     "output_type": "stream",
     "text": [
      "max val:  0.39730453715148556 number of max val:  24\n",
      "Rank: 10, countMax: 24, 100- countZero: 1377\n",
      "480th, recall: 0.40823970037453183, val1: 1.0, val2: 0.0\n",
      "481th, recall: 0.40823970037453183, val1: 1.0, val2: 0.0\n",
      "482th, recall: 0.40823970037453183, val1: 1.0, val2: 0.0\n",
      "483th, recall: 0.40823970037453183, val1: 1.0, val2: 0.0\n",
      "484th, recall: 0.40823970037453183, val1: 1.0, val2: 0.0\n",
      "485th, recall: 0.40823970037453183, val1: 1.0, val2: 0.0\n",
      "486th, recall: 0.40823970037453183, val1: 1.0, val2: 0.0\n",
      "487th, recall: 0.40823970037453183, val1: 1.0, val2: 0.0\n",
      "488th, recall: 0.40823970037453183, val1: 1.0, val2: 0.0\n",
      "489th, recall: 0.40823970037453183, val1: 1.0, val2: 0.0\n",
      "490th, recall: 0.40823970037453183, val1: 1.0, val2: 0.0\n",
      "491th, recall: 0.40823970037453183, val1: 1.0, val2: 0.0\n",
      "520th, recall: 0.40823970037453183, val1: 1.0, val2: 0.0\n",
      "521th, recall: 0.40823970037453183, val1: 1.0, val2: 0.0\n",
      "522th, recall: 0.40823970037453183, val1: 1.0, val2: 0.0\n",
      "523th, recall: 0.40823970037453183, val1: 1.0, val2: 0.0\n",
      "524th, recall: 0.40823970037453183, val1: 1.0, val2: 0.0\n",
      "525th, recall: 0.40823970037453183, val1: 1.0, val2: 0.0\n",
      "526th, recall: 0.40823970037453183, val1: 1.0, val2: 0.0\n",
      "527th, recall: 0.40823970037453183, val1: 1.0, val2: 0.0\n",
      "528th, recall: 0.40823970037453183, val1: 1.0, val2: 0.0\n",
      "529th, recall: 0.40823970037453183, val1: 1.0, val2: 0.0\n",
      "530th, recall: 0.40823970037453183, val1: 1.0, val2: 0.0\n",
      "531th, recall: 0.40823970037453183, val1: 1.0, val2: 0.0\n",
      "********************************\n"
     ]
    }
   ],
   "source": [
    "LOGIC = \"OR\"\n",
    "default_number_of_credit  = 0\n",
    "default_credit_amt = 0\n",
    "candidate_rule1 = Search2D(number_of_credit_threshold, credit_amt_threshold, 'number_of_Credit','Credit_Amt',\\\n",
    "                           default_number_of_credit, default_credit_amt, SAR, \\\n",
    "                            Non_SAR, train_set, LOGIC, SAR_type)"
   ]
  },
  {
   "cell_type": "markdown",
   "metadata": {},
   "source": [
    "### check 微分分子為零的情況"
   ]
  },
  {
   "cell_type": "code",
   "execution_count": 12,
   "metadata": {},
   "outputs": [],
   "source": [
    "sort_Credit_Amt = np.unique(SAR['Credit_Amt'])\n",
    "sort_number_of_Credit = np.unique(SAR['number_of_Credit'])"
   ]
  },
  {
   "cell_type": "code",
   "execution_count": 19,
   "metadata": {},
   "outputs": [
    {
     "data": {
      "text/plain": [
       "6840000.0"
      ]
     },
     "execution_count": 19,
     "metadata": {},
     "output_type": "execute_result"
    }
   ],
   "source": [
    "sort_Credit_Amt[-1]"
   ]
  },
  {
   "cell_type": "code",
   "execution_count": 36,
   "metadata": {},
   "outputs": [],
   "source": [
    "def conditionalEntropy(new_sam_0 , new_sam_1):\n",
    "    total = len(new_sam_1) + len(new_sam_0)\n",
    "    return Entropy(new_sam_0) * (len(new_sam_0) / total) \\\n",
    "            + Entropy(new_sam_1, SAR_type) * (len(new_sam_1) / total)"
   ]
  },
  {
   "cell_type": "code",
   "execution_count": 37,
   "metadata": {},
   "outputs": [],
   "source": [
    "def informationGain(point, x_name, y_name, data):\n",
    "    \n",
    "    idx1 = set(data[data[x_name] >= float(point[0])].index)\n",
    "    idx2 = set(data[data[y_name] >= float(point[1])].index)\n",
    "    \n",
    "    #idx3 = set(data[data[y_name] >= float(y_thre)].index)\n",
    "    \n",
    "    idx = list(idx1 & idx2)\n",
    "    new_sam_1 = data.iloc[idx]\n",
    "    new_sam_0 = data.drop(index= new_sam_1.index)\n",
    "    #print(len(new_sam_1), len(new_sam_0))\n",
    "    if len(set(new_sam_1.index) & set(new_sam_0.index)) != 0:\n",
    "        raise ValueError('new sam 0 and new sam 1 are overlapped')\n",
    "        \n",
    "    return -(father_entropy - conditionalEntropy(new_sam_0, new_sam_1))"
   ]
  },
  {
   "cell_type": "code",
   "execution_count": 33,
   "metadata": {},
   "outputs": [],
   "source": [
    "point = train_set[['Credit_Amt', 'number_of_Credit']]\n",
    "credit_kdtree = cKDTree(point, leafsize= 100)"
   ]
  },
  {
   "cell_type": "code",
   "execution_count": 35,
   "metadata": {},
   "outputs": [],
   "source": [
    "def gradientIG(point, x_name, y_name, data):\n",
    "    _, auxiliary_idx = credit_kdtree.query(point)\n",
    "    auxiliary = train_set[auxiliary_idx]\n",
    "    delta = auxiliary - point\n",
    "    z = informationGain(point, x_name, y_name, data)\n",
    "    z_delta = [informationGain(np.array([[auxiliary[[0]]], point[[1]]]), x_name, y_name, data), \\\n",
    "        informationGain(np.array([[point[[0]]], auxiliary[[1]]]), x_name, y_name, data)]\n",
    "    grad = (z_delta - z) / delta"
   ]
  }
 ],
 "metadata": {
  "kernelspec": {
   "display_name": "Python 3.9.15 ('AntiMoneyLaundering')",
   "language": "python",
   "name": "python3"
  },
  "language_info": {
   "codemirror_mode": {
    "name": "ipython",
    "version": 3
   },
   "file_extension": ".py",
   "mimetype": "text/x-python",
   "name": "python",
   "nbconvert_exporter": "python",
   "pygments_lexer": "ipython3",
   "version": "3.9.15"
  },
  "orig_nbformat": 4,
  "vscode": {
   "interpreter": {
    "hash": "37457cf4a8118c030724fb1e937b4d8b25b52507af80f55da5435ced93987267"
   }
  }
 },
 "nbformat": 4,
 "nbformat_minor": 2
}
