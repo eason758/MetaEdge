{
 "cells": [
  {
   "cell_type": "code",
   "execution_count": 174,
   "metadata": {},
   "outputs": [],
   "source": [
    "import os\n",
    "import json\n",
    "import pandas as pd\n",
    "import datetime\n",
    "import math\n",
    "import numpy as np\n",
    "from IPython.display import clear_output"
   ]
  },
  {
   "cell_type": "code",
   "execution_count": 126,
   "metadata": {},
   "outputs": [],
   "source": [
    "%run D:/Temp/NCTU/crystal/第二階段/new_alert/aggregation_function.ipynb"
   ]
  },
  {
   "cell_type": "markdown",
   "metadata": {},
   "source": [
    "## 少數SAR態樣in Group A1: TWN_A1F_01, TWN_1B_01, TWN_A1C_01 -> day5"
   ]
  },
  {
   "cell_type": "code",
   "execution_count": 233,
   "metadata": {},
   "outputs": [],
   "source": [
    "df = pd.read_csv(\"D:/NCTU/12-資料產出/NCTU/alert處理new3.csv\")\n",
    "feature = ['Credit_Amt', 'number_of_Credit', 'Debit_Amt','number_of_Debit', 'debit/credit']\n",
    "path = 'D:/Temp/NCTU/crystal/第二階段/new_alert/日數分類_營業日/aggregation/'\n",
    "save_path = 'D:/Temp/NCTU/crystal/第二階段/new_alert/日數分類_營業日/aggregation/'\n",
    "day = \"day5\""
   ]
  },
  {
   "cell_type": "code",
   "execution_count": 234,
   "metadata": {},
   "outputs": [
    {
     "data": {
      "text/html": [
       "<div>\n",
       "<style scoped>\n",
       "    .dataframe tbody tr th:only-of-type {\n",
       "        vertical-align: middle;\n",
       "    }\n",
       "\n",
       "    .dataframe tbody tr th {\n",
       "        vertical-align: top;\n",
       "    }\n",
       "\n",
       "    .dataframe thead th {\n",
       "        text-align: right;\n",
       "    }\n",
       "</style>\n",
       "<table border=\"1\" class=\"dataframe\">\n",
       "  <thead>\n",
       "    <tr style=\"text-align: right;\">\n",
       "      <th></th>\n",
       "      <th>alert_id</th>\n",
       "      <th>run_date</th>\n",
       "      <th>primary_entity_level_code</th>\n",
       "      <th>primary_entity_number</th>\n",
       "      <th>scenario_name</th>\n",
       "      <th>TO_SAR</th>\n",
       "      <th>Acct_No</th>\n",
       "      <th>Cust_No</th>\n",
       "      <th>Cust_Key</th>\n",
       "      <th>Cust_Segmentation</th>\n",
       "      <th>...</th>\n",
       "      <th>Extnl_Cust_Ind</th>\n",
       "      <th>Negative_News_Ind</th>\n",
       "      <th>Prim_Br_No</th>\n",
       "      <th>Obu_Ind</th>\n",
       "      <th>Riskclass_Cd</th>\n",
       "      <th>risk_score</th>\n",
       "      <th>last_risk_assessment_date</th>\n",
       "      <th>change_current_ind</th>\n",
       "      <th>change_begin_date</th>\n",
       "      <th>change_end_date</th>\n",
       "    </tr>\n",
       "  </thead>\n",
       "  <tbody>\n",
       "    <tr>\n",
       "      <th>0</th>\n",
       "      <td>14481254.0</td>\n",
       "      <td>2019-03-04</td>\n",
       "      <td>ACC</td>\n",
       "      <td>FP-116007004049</td>\n",
       "      <td>TWN_A17_01</td>\n",
       "      <td>NaN</td>\n",
       "      <td>FP-116007004049</td>\n",
       "      <td>&gt;.-.1/67;4</td>\n",
       "      <td>63163503</td>\n",
       "      <td>PH</td>\n",
       "      <td>...</td>\n",
       "      <td>N</td>\n",
       "      <td>N</td>\n",
       "      <td>116.0</td>\n",
       "      <td>N</td>\n",
       "      <td>3.0</td>\n",
       "      <td>315.18</td>\n",
       "      <td>2018-11-30</td>\n",
       "      <td>N</td>\n",
       "      <td>2018-12-14</td>\n",
       "      <td>2019-05-05 23:59:59</td>\n",
       "    </tr>\n",
       "    <tr>\n",
       "      <th>1</th>\n",
       "      <td>14481255.0</td>\n",
       "      <td>2019-03-04</td>\n",
       "      <td>ACC</td>\n",
       "      <td>PB-016008286512</td>\n",
       "      <td>TWN_A17_01</td>\n",
       "      <td>NaN</td>\n",
       "      <td>PB-016008286512</td>\n",
       "      <td>I.//467433</td>\n",
       "      <td>68099071</td>\n",
       "      <td>PNH</td>\n",
       "      <td>...</td>\n",
       "      <td>N</td>\n",
       "      <td>N</td>\n",
       "      <td>16.0</td>\n",
       "      <td>N</td>\n",
       "      <td>2.0</td>\n",
       "      <td>113.68</td>\n",
       "      <td>2018-11-23</td>\n",
       "      <td>N</td>\n",
       "      <td>2018-12-28</td>\n",
       "      <td>2019-03-28 23:59:59</td>\n",
       "    </tr>\n",
       "    <tr>\n",
       "      <th>2</th>\n",
       "      <td>14481256.0</td>\n",
       "      <td>2019-03-04</td>\n",
       "      <td>ACC</td>\n",
       "      <td>PB-025008428448</td>\n",
       "      <td>TWN_A17_01</td>\n",
       "      <td>NF</td>\n",
       "      <td>PB-025008428448</td>\n",
       "      <td>&gt;+/250396&lt;</td>\n",
       "      <td>63137042</td>\n",
       "      <td>PH</td>\n",
       "      <td>...</td>\n",
       "      <td>N</td>\n",
       "      <td>N</td>\n",
       "      <td>25.0</td>\n",
       "      <td>N</td>\n",
       "      <td>3.0</td>\n",
       "      <td>308.93</td>\n",
       "      <td>2018-11-30</td>\n",
       "      <td>N</td>\n",
       "      <td>2018-12-14</td>\n",
       "      <td>2019-03-07 23:59:59</td>\n",
       "    </tr>\n",
       "    <tr>\n",
       "      <th>3</th>\n",
       "      <td>14481257.0</td>\n",
       "      <td>2019-03-04</td>\n",
       "      <td>ACC</td>\n",
       "      <td>PB-026008470094</td>\n",
       "      <td>TWN_A17_01</td>\n",
       "      <td>NaN</td>\n",
       "      <td>PB-026008470094</td>\n",
       "      <td>C+/2227157</td>\n",
       "      <td>64347661</td>\n",
       "      <td>PNH</td>\n",
       "      <td>...</td>\n",
       "      <td>N</td>\n",
       "      <td>N</td>\n",
       "      <td>26.0</td>\n",
       "      <td>N</td>\n",
       "      <td>2.0</td>\n",
       "      <td>114.09</td>\n",
       "      <td>2018-11-30</td>\n",
       "      <td>N</td>\n",
       "      <td>2018-12-14</td>\n",
       "      <td>2019-05-01 23:59:59</td>\n",
       "    </tr>\n",
       "    <tr>\n",
       "      <th>4</th>\n",
       "      <td>14481258.0</td>\n",
       "      <td>2019-03-04</td>\n",
       "      <td>ACC</td>\n",
       "      <td>PB-027008462525</td>\n",
       "      <td>TWN_A17_01</td>\n",
       "      <td>NaN</td>\n",
       "      <td>PB-027008462525</td>\n",
       "      <td>A+/-032674</td>\n",
       "      <td>69939509</td>\n",
       "      <td>PNH</td>\n",
       "      <td>...</td>\n",
       "      <td>N</td>\n",
       "      <td>N</td>\n",
       "      <td>27.0</td>\n",
       "      <td>N</td>\n",
       "      <td>1.0</td>\n",
       "      <td>0.00</td>\n",
       "      <td>2019-02-23</td>\n",
       "      <td>N</td>\n",
       "      <td>2019-02-23</td>\n",
       "      <td>2019-03-31 23:59:59</td>\n",
       "    </tr>\n",
       "    <tr>\n",
       "      <th>...</th>\n",
       "      <td>...</td>\n",
       "      <td>...</td>\n",
       "      <td>...</td>\n",
       "      <td>...</td>\n",
       "      <td>...</td>\n",
       "      <td>...</td>\n",
       "      <td>...</td>\n",
       "      <td>...</td>\n",
       "      <td>...</td>\n",
       "      <td>...</td>\n",
       "      <td>...</td>\n",
       "      <td>...</td>\n",
       "      <td>...</td>\n",
       "      <td>...</td>\n",
       "      <td>...</td>\n",
       "      <td>...</td>\n",
       "      <td>...</td>\n",
       "      <td>...</td>\n",
       "      <td>...</td>\n",
       "      <td>...</td>\n",
       "      <td>...</td>\n",
       "    </tr>\n",
       "    <tr>\n",
       "      <th>347671</th>\n",
       "      <td>16581234.0</td>\n",
       "      <td>2020-12-31</td>\n",
       "      <td>ACC</td>\n",
       "      <td>PB-141004130992</td>\n",
       "      <td>TWN_A15_01</td>\n",
       "      <td>NaN</td>\n",
       "      <td>PB-141004130992</td>\n",
       "      <td>=+/0.304:7</td>\n",
       "      <td>108579829</td>\n",
       "      <td>PNH</td>\n",
       "      <td>...</td>\n",
       "      <td>N</td>\n",
       "      <td>N</td>\n",
       "      <td>55.0</td>\n",
       "      <td>N</td>\n",
       "      <td>1.0</td>\n",
       "      <td>53.00</td>\n",
       "      <td>2020-12-31</td>\n",
       "      <td>Y</td>\n",
       "      <td>2020-12-31</td>\n",
       "      <td>5999-01-01 00:00:00</td>\n",
       "    </tr>\n",
       "    <tr>\n",
       "      <th>347672</th>\n",
       "      <td>16581235.0</td>\n",
       "      <td>2020-12-31</td>\n",
       "      <td>ACC</td>\n",
       "      <td>PB-146004080681</td>\n",
       "      <td>TWN_A15_01</td>\n",
       "      <td>NaN</td>\n",
       "      <td>PB-146004080681</td>\n",
       "      <td>L./0.79846</td>\n",
       "      <td>107244141</td>\n",
       "      <td>PNH</td>\n",
       "      <td>...</td>\n",
       "      <td>N</td>\n",
       "      <td>N</td>\n",
       "      <td>146.0</td>\n",
       "      <td>N</td>\n",
       "      <td>1.0</td>\n",
       "      <td>90.34</td>\n",
       "      <td>2020-06-18</td>\n",
       "      <td>Y</td>\n",
       "      <td>2020-12-04</td>\n",
       "      <td>5999-01-01 00:00:00</td>\n",
       "    </tr>\n",
       "    <tr>\n",
       "      <th>347673</th>\n",
       "      <td>16581237.0</td>\n",
       "      <td>2020-12-31</td>\n",
       "      <td>ACC</td>\n",
       "      <td>PB-241004057317</td>\n",
       "      <td>TWN_A15_01</td>\n",
       "      <td>NaN</td>\n",
       "      <td>PB-241004057317</td>\n",
       "      <td>I+/0.57359</td>\n",
       "      <td>105111174</td>\n",
       "      <td>PNH</td>\n",
       "      <td>...</td>\n",
       "      <td>N</td>\n",
       "      <td>N</td>\n",
       "      <td>241.0</td>\n",
       "      <td>N</td>\n",
       "      <td>1.0</td>\n",
       "      <td>62.43</td>\n",
       "      <td>2018-11-30</td>\n",
       "      <td>Y</td>\n",
       "      <td>2020-12-04</td>\n",
       "      <td>5999-01-01 00:00:00</td>\n",
       "    </tr>\n",
       "    <tr>\n",
       "      <th>347674</th>\n",
       "      <td>16581238.0</td>\n",
       "      <td>2020-12-31</td>\n",
       "      <td>ACC</td>\n",
       "      <td>PB-246004317763</td>\n",
       "      <td>TWN_A15_01</td>\n",
       "      <td>NaN</td>\n",
       "      <td>PB-246004317763</td>\n",
       "      <td>A+/1241355</td>\n",
       "      <td>102039956</td>\n",
       "      <td>PNH</td>\n",
       "      <td>...</td>\n",
       "      <td>N</td>\n",
       "      <td>N</td>\n",
       "      <td>26.0</td>\n",
       "      <td>N</td>\n",
       "      <td>1.0</td>\n",
       "      <td>90.34</td>\n",
       "      <td>2020-03-30</td>\n",
       "      <td>Y</td>\n",
       "      <td>2020-12-04</td>\n",
       "      <td>5999-01-01 00:00:00</td>\n",
       "    </tr>\n",
       "    <tr>\n",
       "      <th>347675</th>\n",
       "      <td>16581239.0</td>\n",
       "      <td>2020-12-31</td>\n",
       "      <td>ACC</td>\n",
       "      <td>PB-271004088092</td>\n",
       "      <td>TWN_A15_01</td>\n",
       "      <td>NaN</td>\n",
       "      <td>PB-271004088092</td>\n",
       "      <td>?+--04424;</td>\n",
       "      <td>100901441</td>\n",
       "      <td>PNH</td>\n",
       "      <td>...</td>\n",
       "      <td>N</td>\n",
       "      <td>N</td>\n",
       "      <td>271.0</td>\n",
       "      <td>N</td>\n",
       "      <td>1.0</td>\n",
       "      <td>62.43</td>\n",
       "      <td>2019-03-05</td>\n",
       "      <td>Y</td>\n",
       "      <td>2020-12-04</td>\n",
       "      <td>5999-01-01 00:00:00</td>\n",
       "    </tr>\n",
       "  </tbody>\n",
       "</table>\n",
       "<p>347676 rows × 41 columns</p>\n",
       "</div>"
      ],
      "text/plain": [
       "          alert_id    run_date primary_entity_level_code  \\\n",
       "0       14481254.0  2019-03-04                       ACC   \n",
       "1       14481255.0  2019-03-04                       ACC   \n",
       "2       14481256.0  2019-03-04                       ACC   \n",
       "3       14481257.0  2019-03-04                       ACC   \n",
       "4       14481258.0  2019-03-04                       ACC   \n",
       "...            ...         ...                       ...   \n",
       "347671  16581234.0  2020-12-31                       ACC   \n",
       "347672  16581235.0  2020-12-31                       ACC   \n",
       "347673  16581237.0  2020-12-31                       ACC   \n",
       "347674  16581238.0  2020-12-31                       ACC   \n",
       "347675  16581239.0  2020-12-31                       ACC   \n",
       "\n",
       "       primary_entity_number scenario_name TO_SAR          Acct_No  \\\n",
       "0            FP-116007004049    TWN_A17_01    NaN  FP-116007004049   \n",
       "1            PB-016008286512    TWN_A17_01    NaN  PB-016008286512   \n",
       "2            PB-025008428448    TWN_A17_01     NF  PB-025008428448   \n",
       "3            PB-026008470094    TWN_A17_01    NaN  PB-026008470094   \n",
       "4            PB-027008462525    TWN_A17_01    NaN  PB-027008462525   \n",
       "...                      ...           ...    ...              ...   \n",
       "347671       PB-141004130992    TWN_A15_01    NaN  PB-141004130992   \n",
       "347672       PB-146004080681    TWN_A15_01    NaN  PB-146004080681   \n",
       "347673       PB-241004057317    TWN_A15_01    NaN  PB-241004057317   \n",
       "347674       PB-246004317763    TWN_A15_01    NaN  PB-246004317763   \n",
       "347675       PB-271004088092    TWN_A15_01    NaN  PB-271004088092   \n",
       "\n",
       "           Cust_No   Cust_Key Cust_Segmentation  ... Extnl_Cust_Ind  \\\n",
       "0       >.-.1/67;4   63163503                PH  ...              N   \n",
       "1       I.//467433   68099071               PNH  ...              N   \n",
       "2       >+/250396<   63137042                PH  ...              N   \n",
       "3       C+/2227157   64347661               PNH  ...              N   \n",
       "4       A+/-032674   69939509               PNH  ...              N   \n",
       "...            ...        ...               ...  ...            ...   \n",
       "347671  =+/0.304:7  108579829               PNH  ...              N   \n",
       "347672  L./0.79846  107244141               PNH  ...              N   \n",
       "347673  I+/0.57359  105111174               PNH  ...              N   \n",
       "347674  A+/1241355  102039956               PNH  ...              N   \n",
       "347675  ?+--04424;  100901441               PNH  ...              N   \n",
       "\n",
       "       Negative_News_Ind Prim_Br_No  Obu_Ind Riskclass_Cd risk_score  \\\n",
       "0                      N      116.0        N          3.0     315.18   \n",
       "1                      N       16.0        N          2.0     113.68   \n",
       "2                      N       25.0        N          3.0     308.93   \n",
       "3                      N       26.0        N          2.0     114.09   \n",
       "4                      N       27.0        N          1.0       0.00   \n",
       "...                  ...        ...      ...          ...        ...   \n",
       "347671                 N       55.0        N          1.0      53.00   \n",
       "347672                 N      146.0        N          1.0      90.34   \n",
       "347673                 N      241.0        N          1.0      62.43   \n",
       "347674                 N       26.0        N          1.0      90.34   \n",
       "347675                 N      271.0        N          1.0      62.43   \n",
       "\n",
       "        last_risk_assessment_date change_current_ind  change_begin_date  \\\n",
       "0                      2018-11-30                  N         2018-12-14   \n",
       "1                      2018-11-23                  N         2018-12-28   \n",
       "2                      2018-11-30                  N         2018-12-14   \n",
       "3                      2018-11-30                  N         2018-12-14   \n",
       "4                      2019-02-23                  N         2019-02-23   \n",
       "...                           ...                ...                ...   \n",
       "347671                 2020-12-31                  Y         2020-12-31   \n",
       "347672                 2020-06-18                  Y         2020-12-04   \n",
       "347673                 2018-11-30                  Y         2020-12-04   \n",
       "347674                 2020-03-30                  Y         2020-12-04   \n",
       "347675                 2019-03-05                  Y         2020-12-04   \n",
       "\n",
       "            change_end_date  \n",
       "0       2019-05-05 23:59:59  \n",
       "1       2019-03-28 23:59:59  \n",
       "2       2019-03-07 23:59:59  \n",
       "3       2019-05-01 23:59:59  \n",
       "4       2019-03-31 23:59:59  \n",
       "...                     ...  \n",
       "347671  5999-01-01 00:00:00  \n",
       "347672  5999-01-01 00:00:00  \n",
       "347673  5999-01-01 00:00:00  \n",
       "347674  5999-01-01 00:00:00  \n",
       "347675  5999-01-01 00:00:00  \n",
       "\n",
       "[347676 rows x 41 columns]"
      ]
     },
     "execution_count": 234,
     "metadata": {},
     "output_type": "execute_result"
    }
   ],
   "source": [
    "df"
   ]
  },
  {
   "cell_type": "code",
   "execution_count": 235,
   "metadata": {},
   "outputs": [
    {
     "data": {
      "text/plain": [
       "F     645\n",
       "NF    295\n",
       "Name: TO_SAR, dtype: int64"
      ]
     },
     "execution_count": 235,
     "metadata": {},
     "output_type": "execute_result"
    }
   ],
   "source": [
    "df['TO_SAR'].value_counts()"
   ]
  },
  {
   "cell_type": "code",
   "execution_count": 128,
   "metadata": {},
   "outputs": [],
   "source": [
    "A1 =  ['TWN_A1F_01', 'TWN_A13_01', 'TWN_A12_01', 'TWN_A1C_01', \\\n",
    "       'TWN_A1D_01','TWN_A11_01', 'TWN_A17_01', 'TWN_A15_01', 'TWN_A1B_01' ]"
   ]
  },
  {
   "cell_type": "markdown",
   "metadata": {},
   "source": [
    "## Preprocess, day5"
   ]
  },
  {
   "cell_type": "code",
   "execution_count": null,
   "metadata": {},
   "outputs": [],
   "source": [
    "aggregationScenarioGroup(df, A1, day, path, save_path)"
   ]
  },
  {
   "cell_type": "code",
   "execution_count": 237,
   "metadata": {},
   "outputs": [
    {
     "name": "stderr",
     "output_type": "stream",
     "text": [
      "C:\\Users\\NCTUUser2\\anaconda3\\lib\\site-packages\\IPython\\core\\interactiveshell.py:3146: DtypeWarning: Columns (5,6) have mixed types.Specify dtype option on import or set low_memory=False.\n",
      "  has_raised = await self.run_ast_nodes(code_ast.body, cell_name,\n"
     ]
    }
   ],
   "source": [
    "PATH = \"D:/Temp/NCTU/crystal/第二階段/new_alert/日數分類_營業日/aggregation/\"\n",
    "day5 = pd.read_csv(PATH+\"scenarioGroup_day5_with_aggregated_txn_scenario_txn_type_key_營業日.csv\")"
   ]
  },
  {
   "cell_type": "code",
   "execution_count": 238,
   "metadata": {},
   "outputs": [],
   "source": [
    "day5['TO_SAR'] = day5['TO_SAR'].replace(np.nan, 0)\n",
    "day5['TO_SAR'] = day5['TO_SAR'].replace('NF', 1)\n",
    "day5['TO_SAR'] = day5['TO_SAR'].replace('F', 1)"
   ]
  },
  {
   "cell_type": "code",
   "execution_count": 239,
   "metadata": {},
   "outputs": [
    {
     "data": {
      "text/plain": [
       "(256436, 46)"
      ]
     },
     "execution_count": 239,
     "metadata": {},
     "output_type": "execute_result"
    }
   ],
   "source": [
    "day5.shape"
   ]
  },
  {
   "cell_type": "code",
   "execution_count": 216,
   "metadata": {
    "scrolled": true
   },
   "outputs": [
    {
     "data": {
      "text/plain": [
       "TWN_A1B_01    90059\n",
       "TWN_A11_01    86770\n",
       "TWN_A12_01    49965\n",
       "TWN_A15_01    12530\n",
       "TWN_A13_01     7499\n",
       "TWN_A17_01     4507\n",
       "TWN_A1C_01     3700\n",
       "TWN_A1F_01      802\n",
       "TWN_A1D_01      604\n",
       "Name: scenario_name, dtype: int64"
      ]
     },
     "execution_count": 216,
     "metadata": {},
     "output_type": "execute_result"
    }
   ],
   "source": [
    "day5['scenario_name'].value_counts()"
   ]
  },
  {
   "cell_type": "code",
   "execution_count": 240,
   "metadata": {},
   "outputs": [
    {
     "data": {
      "text/plain": [
       "0    255576\n",
       "1       860\n",
       "Name: TO_SAR, dtype: int64"
      ]
     },
     "execution_count": 240,
     "metadata": {},
     "output_type": "execute_result"
    }
   ],
   "source": [
    "day5['TO_SAR'].value_counts()"
   ]
  },
  {
   "cell_type": "markdown",
   "metadata": {},
   "source": [
    "## 針對 捷智商訊- 第二階段計畫結果整理.pptx p.14中 藍字標註的態樣，為避免SAR樣本個數太少問題，因此用Group A1整體的分布取閥值點\n",
    "#### TWN_A1F_01, TWN_A1B_01, TWN_A1C_01, TWN_A1D_01"
   ]
  },
  {
   "cell_type": "code",
   "execution_count": 246,
   "metadata": {},
   "outputs": [],
   "source": [
    "TWN_A1F_01 = day5[day5['scenario_name']=='TWN_A1F_01']"
   ]
  },
  {
   "cell_type": "code",
   "execution_count": 247,
   "metadata": {},
   "outputs": [
    {
     "data": {
      "text/plain": [
       "0    800\n",
       "1      2\n",
       "Name: TO_SAR, dtype: int64"
      ]
     },
     "execution_count": 247,
     "metadata": {},
     "output_type": "execute_result"
    }
   ],
   "source": [
    "TWN_A1F_01['TO_SAR'].value_counts()"
   ]
  },
  {
   "cell_type": "code",
   "execution_count": 248,
   "metadata": {},
   "outputs": [],
   "source": [
    "scenario_except_TWN_A1F_01 = day5[day5['scenario_name']!='TWN_A1F_01']\n",
    "scenario_except_TWN_A1F_01 = scenario_except_TWN_A1F_01.drop(['run_date','alert_id',\\\n",
    "                                                              'primary_entity_level_code','primary_entity_number', 'scenario_name','Cust_No','Acct_No'], axis = 1)"
   ]
  },
  {
   "cell_type": "code",
   "execution_count": 249,
   "metadata": {},
   "outputs": [],
   "source": [
    "scenario_except_TWN_A1F_01_SAR = scenario_except_TWN_A1F_01[scenario_except_TWN_A1F_01['TO_SAR']==1]"
   ]
  },
  {
   "cell_type": "code",
   "execution_count": 250,
   "metadata": {},
   "outputs": [
    {
     "data": {
      "text/plain": [
       "1    858\n",
       "Name: TO_SAR, dtype: int64"
      ]
     },
     "execution_count": 250,
     "metadata": {},
     "output_type": "execute_result"
    }
   ],
   "source": [
    "scenario_except_TWN_A1F_01_SAR['TO_SAR'].value_counts()"
   ]
  },
  {
   "cell_type": "markdown",
   "metadata": {},
   "source": [
    "### TWN_A1F_01"
   ]
  },
  {
   "cell_type": "markdown",
   "metadata": {},
   "source": [
    "#### Rule1: A>= or B>=\n",
    "#### Scenario: Rule1 \n",
    "\"\"\"    \n",
    "匯存入自\n",
    "    或\n",
    "    匯提出至\n",
    "\n",
    "高風險國家或地區>=&1F01_amount元\n",
    "\n",
    "\"\"\""
   ]
  },
  {
   "cell_type": "code",
   "execution_count": 251,
   "metadata": {},
   "outputs": [],
   "source": [
    "DAY = 5\n",
    "FEATURE = ['Credit_Amt', 'Debit_Amt']"
   ]
  },
  {
   "cell_type": "code",
   "execution_count": 252,
   "metadata": {},
   "outputs": [],
   "source": [
    "credit_amt_threshold = []\n",
    "debit_amt_threshold = []\n",
    "threshold_list = [credit_amt_threshold, debit_amt_threshold]"
   ]
  },
  {
   "cell_type": "code",
   "execution_count": 253,
   "metadata": {},
   "outputs": [
    {
     "name": "stdout",
     "output_type": "stream",
     "text": [
      "0.0\n",
      "0.0\n",
      "0.0\n",
      "0.0\n",
      "0.0\n",
      "21069.199999999633\n",
      "486179.0\n",
      "800000.0\n",
      "1350708.0000000002\n",
      "39258714.0\n",
      "[0.0, 0.0, 0.0, 0.0, 0.0, 21069.199999999633, 486179.0, 800000.0, 1350708.0000000002, 39258714.0]\n",
      "\n",
      "0.0\n",
      "88003.00000000012\n",
      "329991.0\n",
      "458200.0000000001\n",
      "600000.0\n",
      "785926.3999999991\n",
      "951846.5\n",
      "1180000.0\n",
      "1800000.0\n",
      "157580516.0\n",
      "[0.0, 88003.00000000012, 329991.0, 458200.0000000001, 600000.0, 785926.3999999991, 951846.5, 1180000.0, 1800000.0, 157580516.0]\n",
      "\n"
     ]
    }
   ],
   "source": [
    "for i in range(len(FEATURE)):\n",
    "    tmp = []\n",
    "    tmp = list(scenario_except_TWN_A1F_01_SAR[FEATURE[i]].values)\n",
    "    tmp = [item for item in tmp if not math.isnan(item)]\n",
    "    tmp.sort()       \n",
    "    #print(tmp)\n",
    "    for j in np.linspace(10, 100, 10):\n",
    "        print(np.percentile(tmp, j))\n",
    "        threshold_list[i].append(np.percentile(tmp, j))\n",
    "    print(threshold_list[i])\n",
    "    print()"
   ]
  },
  {
   "cell_type": "code",
   "execution_count": 181,
   "metadata": {},
   "outputs": [
    {
     "name": "stdout",
     "output_type": "stream",
     "text": [
      "1200000.0    16\n",
      "1050000.0    14\n",
      "1000000.0     9\n",
      "900000.0      7\n",
      "1350000.0     5\n",
      "             ..\n",
      "648850.0      1\n",
      "333888.0      1\n",
      "148900.0      1\n",
      "174243.0      1\n",
      "140800.0      1\n",
      "Name: Debit_Amt, Length: 772, dtype: int64\n"
     ]
    },
    {
     "data": {
      "image/png": "[encoded data removed]",
      "text/plain": [
       "<Figure size 1440x720 with 1 Axes>"
      ]
     },
     "metadata": {
      "needs_background": "light"
     },
     "output_type": "display_data"
    }
   ],
   "source": [
    "# Draw the decile distance\n",
    "plt.figure(figsize=(20,10))\n",
    "day15['Debit_Amt'].value_counts() # 存款金額\n",
    "print(day15['Debit_Amt'].value_counts())\n",
    "y, x = day15['Debit_Amt'].value_counts().values, day15['Debit_Amt'].value_counts().index\n",
    "plt.title(\"distribution of Debit_Amt of SAR=1 in past 15 days\")\n",
    "plt.xlabel(\"Debit_Amt in past 15 days\")\n",
    "plt.ylabel(\"number of data\")\n",
    "for val in debit_amt_threshold:\n",
    "    plt.axvline(val, c='r')\n",
    "plt.scatter(x, y)\n",
    "plt.show()"
   ]
  },
  {
   "cell_type": "code",
   "execution_count": 254,
   "metadata": {},
   "outputs": [],
   "source": [
    "candidate_rule1 = []\n",
    "for x in credit_amt_threshold:\n",
    "    for y in debit_amt_threshold:\n",
    "        candidate_rule1.append([x,y])"
   ]
  },
  {
   "cell_type": "code",
   "execution_count": 255,
   "metadata": {},
   "outputs": [],
   "source": [
    "candidate_rule1 = [[math.ceil(x), math.ceil(y)] for [x,y] in candidate_rule1]"
   ]
  },
  {
   "cell_type": "code",
   "execution_count": 256,
   "metadata": {},
   "outputs": [],
   "source": [
    "# apply on testing set\n",
    "results = pd.DataFrame(columns = ['Credit_Amt','Debit_Amt','SAR', 'Non SAR','newSAM=1_SAR=1(TP)','newSAM=1_SAR=0(FP)',\\\n",
    "                                  'newSAM=0_SAR=1(FN)', 'newSAM=0_SAR=0(TN)', 'recall','filter rate'])\n",
    "for thre1, thre2 in candidate_rule1:\n",
    "    idx = list(set(TWN_A1F_01[TWN_A1F_01['Credit_Amt']>=thre1].index))\n",
    "    idx1 = list(set(TWN_A1F_01[TWN_A1F_01['Debit_Amt']>=thre2].index)) \n",
    "    new_SAM_1_rule1 = TWN_A1F_01.iloc[idx]\n",
    "    new_SAM_1_rule2 = TWN_A1F_01.iloc[idx1]\n",
    "\n",
    "    new_SAM_1 = new_SAM_1_rule1.append(new_SAM_1_rule2)\n",
    "    new_SAM_1 = new_SAM_1.drop_duplicates()\n",
    "    new_SAM_0 = TWN_A1F_01.drop(index = new_SAM_1.index)\n",
    "\n",
    "    if (new_SAM_0.shape[0]+new_SAM_1.shape[0])!=TWN_A1F_01.shape[0]:\n",
    "        raise ValueError(\"new SAM 0 and new SAM 1 overlapped!\")\n",
    "\n",
    "    TP = new_SAM_1[new_SAM_1['TO_SAR']!=0].shape[0]\n",
    "    TN = new_SAM_0[new_SAM_0['TO_SAR']==0].shape[0]\n",
    "    FP = new_SAM_1[new_SAM_1['TO_SAR']==0].shape[0]\n",
    "    FN = new_SAM_0[new_SAM_0['TO_SAR']!=0].shape[0]\n",
    "    total = TWN_A1F_01.shape[0]\n",
    "    results = results.append({'Credit_Amt':thre1, 'Debit_Amt':thre2,  'SAR':TWN_A1F_01[TWN_A1F_01['TO_SAR']==1].shape[0],\\\n",
    "                              'Non SAR':TWN_A1F_01[TWN_A1F_01['TO_SAR']==0].shape[0],\\\n",
    "                              'newSAM=1_SAR=1(TP)':TP, 'newSAM=1_SAR=0(FP)':FP, 'newSAM=0_SAR=1(FN)':FN,\\\n",
    "                              'newSAM=0_SAR=0(TN)':TN, 'recall': str(round(TP/(TP+FN), 4)),\\\n",
    "                              'filter rate':str((round((TN+FN)/total, 4)))}, ignore_index = True)\n"
   ]
  },
  {
   "cell_type": "code",
   "execution_count": 257,
   "metadata": {},
   "outputs": [
    {
     "data": {
      "text/plain": [
       "0    800\n",
       "1      2\n",
       "Name: TO_SAR, dtype: int64"
      ]
     },
     "execution_count": 257,
     "metadata": {},
     "output_type": "execute_result"
    }
   ],
   "source": [
    "TWN_A1F_01['TO_SAR'].value_counts()"
   ]
  },
  {
   "cell_type": "code",
   "execution_count": 259,
   "metadata": {},
   "outputs": [
    {
     "data": {
      "text/html": [
       "<div>\n",
       "<style scoped>\n",
       "    .dataframe tbody tr th:only-of-type {\n",
       "        vertical-align: middle;\n",
       "    }\n",
       "\n",
       "    .dataframe tbody tr th {\n",
       "        vertical-align: top;\n",
       "    }\n",
       "\n",
       "    .dataframe thead th {\n",
       "        text-align: right;\n",
       "    }\n",
       "</style>\n",
       "<table border=\"1\" class=\"dataframe\">\n",
       "  <thead>\n",
       "    <tr style=\"text-align: right;\">\n",
       "      <th></th>\n",
       "      <th>Credit_Amt</th>\n",
       "      <th>Debit_Amt</th>\n",
       "      <th>SAR</th>\n",
       "      <th>Non SAR</th>\n",
       "      <th>newSAM=1_SAR=1(TP)</th>\n",
       "      <th>newSAM=1_SAR=0(FP)</th>\n",
       "      <th>newSAM=0_SAR=1(FN)</th>\n",
       "      <th>newSAM=0_SAR=0(TN)</th>\n",
       "      <th>recall</th>\n",
       "      <th>filter rate</th>\n",
       "    </tr>\n",
       "  </thead>\n",
       "  <tbody>\n",
       "    <tr>\n",
       "      <th>93</th>\n",
       "      <td>39258714</td>\n",
       "      <td>458201</td>\n",
       "      <td>2</td>\n",
       "      <td>800</td>\n",
       "      <td>2</td>\n",
       "      <td>176</td>\n",
       "      <td>0</td>\n",
       "      <td>624</td>\n",
       "      <td>1.0</td>\n",
       "      <td>0.7781</td>\n",
       "    </tr>\n",
       "    <tr>\n",
       "      <th>83</th>\n",
       "      <td>1350709</td>\n",
       "      <td>458201</td>\n",
       "      <td>2</td>\n",
       "      <td>800</td>\n",
       "      <td>2</td>\n",
       "      <td>198</td>\n",
       "      <td>0</td>\n",
       "      <td>602</td>\n",
       "      <td>1.0</td>\n",
       "      <td>0.7506</td>\n",
       "    </tr>\n",
       "    <tr>\n",
       "      <th>92</th>\n",
       "      <td>39258714</td>\n",
       "      <td>329991</td>\n",
       "      <td>2</td>\n",
       "      <td>800</td>\n",
       "      <td>2</td>\n",
       "      <td>218</td>\n",
       "      <td>0</td>\n",
       "      <td>582</td>\n",
       "      <td>1.0</td>\n",
       "      <td>0.7257</td>\n",
       "    </tr>\n",
       "    <tr>\n",
       "      <th>73</th>\n",
       "      <td>800000</td>\n",
       "      <td>458201</td>\n",
       "      <td>2</td>\n",
       "      <td>800</td>\n",
       "      <td>2</td>\n",
       "      <td>219</td>\n",
       "      <td>0</td>\n",
       "      <td>581</td>\n",
       "      <td>1.0</td>\n",
       "      <td>0.7244</td>\n",
       "    </tr>\n",
       "    <tr>\n",
       "      <th>82</th>\n",
       "      <td>1350709</td>\n",
       "      <td>329991</td>\n",
       "      <td>2</td>\n",
       "      <td>800</td>\n",
       "      <td>2</td>\n",
       "      <td>240</td>\n",
       "      <td>0</td>\n",
       "      <td>560</td>\n",
       "      <td>1.0</td>\n",
       "      <td>0.6983</td>\n",
       "    </tr>\n",
       "    <tr>\n",
       "      <th>72</th>\n",
       "      <td>800000</td>\n",
       "      <td>329991</td>\n",
       "      <td>2</td>\n",
       "      <td>800</td>\n",
       "      <td>2</td>\n",
       "      <td>260</td>\n",
       "      <td>0</td>\n",
       "      <td>540</td>\n",
       "      <td>1.0</td>\n",
       "      <td>0.6733</td>\n",
       "    </tr>\n",
       "    <tr>\n",
       "      <th>63</th>\n",
       "      <td>486179</td>\n",
       "      <td>458201</td>\n",
       "      <td>2</td>\n",
       "      <td>800</td>\n",
       "      <td>2</td>\n",
       "      <td>263</td>\n",
       "      <td>0</td>\n",
       "      <td>537</td>\n",
       "      <td>1.0</td>\n",
       "      <td>0.6696</td>\n",
       "    </tr>\n",
       "    <tr>\n",
       "      <th>62</th>\n",
       "      <td>486179</td>\n",
       "      <td>329991</td>\n",
       "      <td>2</td>\n",
       "      <td>800</td>\n",
       "      <td>2</td>\n",
       "      <td>304</td>\n",
       "      <td>0</td>\n",
       "      <td>496</td>\n",
       "      <td>1.0</td>\n",
       "      <td>0.6185</td>\n",
       "    </tr>\n",
       "    <tr>\n",
       "      <th>91</th>\n",
       "      <td>39258714</td>\n",
       "      <td>88004</td>\n",
       "      <td>2</td>\n",
       "      <td>800</td>\n",
       "      <td>2</td>\n",
       "      <td>412</td>\n",
       "      <td>0</td>\n",
       "      <td>388</td>\n",
       "      <td>1.0</td>\n",
       "      <td>0.4838</td>\n",
       "    </tr>\n",
       "    <tr>\n",
       "      <th>81</th>\n",
       "      <td>1350709</td>\n",
       "      <td>88004</td>\n",
       "      <td>2</td>\n",
       "      <td>800</td>\n",
       "      <td>2</td>\n",
       "      <td>434</td>\n",
       "      <td>0</td>\n",
       "      <td>366</td>\n",
       "      <td>1.0</td>\n",
       "      <td>0.4564</td>\n",
       "    </tr>\n",
       "  </tbody>\n",
       "</table>\n",
       "</div>"
      ],
      "text/plain": [
       "   Credit_Amt Debit_Amt SAR Non SAR newSAM=1_SAR=1(TP) newSAM=1_SAR=0(FP)  \\\n",
       "93   39258714    458201   2     800                  2                176   \n",
       "83    1350709    458201   2     800                  2                198   \n",
       "92   39258714    329991   2     800                  2                218   \n",
       "73     800000    458201   2     800                  2                219   \n",
       "82    1350709    329991   2     800                  2                240   \n",
       "72     800000    329991   2     800                  2                260   \n",
       "63     486179    458201   2     800                  2                263   \n",
       "62     486179    329991   2     800                  2                304   \n",
       "91   39258714     88004   2     800                  2                412   \n",
       "81    1350709     88004   2     800                  2                434   \n",
       "\n",
       "   newSAM=0_SAR=1(FN) newSAM=0_SAR=0(TN) recall filter rate  \n",
       "93                  0                624    1.0      0.7781  \n",
       "83                  0                602    1.0      0.7506  \n",
       "92                  0                582    1.0      0.7257  \n",
       "73                  0                581    1.0      0.7244  \n",
       "82                  0                560    1.0      0.6983  \n",
       "72                  0                540    1.0      0.6733  \n",
       "63                  0                537    1.0      0.6696  \n",
       "62                  0                496    1.0      0.6185  \n",
       "91                  0                388    1.0      0.4838  \n",
       "81                  0                366    1.0      0.4564  "
      ]
     },
     "execution_count": 259,
     "metadata": {},
     "output_type": "execute_result"
    }
   ],
   "source": [
    "results[results['recall']>=str(0.9)].sort_values(by='filter rate', ascending=False).drop_duplicates()[:10]"
   ]
  },
  {
   "cell_type": "markdown",
   "metadata": {},
   "source": [
    "### TWN_A1D_01"
   ]
  },
  {
   "cell_type": "markdown",
   "metadata": {},
   "source": [
    "#### Rule1: A>= or B>=\n",
    "\"\"\"借方累計金額>=&1D01_amount\n",
    "    或\n",
    "    貸方累計金額>=&1D01_amount\"\"\""
   ]
  },
  {
   "cell_type": "code",
   "execution_count": 277,
   "metadata": {},
   "outputs": [],
   "source": [
    "TWN_A1D_01 = day5[day5['scenario_name']=='TWN_A1D_01'].reset_index(drop=True)"
   ]
  },
  {
   "cell_type": "code",
   "execution_count": 278,
   "metadata": {},
   "outputs": [
    {
     "data": {
      "text/plain": [
       "0    603\n",
       "1      1\n",
       "Name: TO_SAR, dtype: int64"
      ]
     },
     "execution_count": 278,
     "metadata": {},
     "output_type": "execute_result"
    }
   ],
   "source": [
    "TWN_A1D_01['TO_SAR'].value_counts()"
   ]
  },
  {
   "cell_type": "code",
   "execution_count": 279,
   "metadata": {},
   "outputs": [],
   "source": [
    "scenario_except_TWN_A1D_01 = day5[day5['scenario_name']!='TWN_A1D_01'].reset_index(drop=True)\n",
    "scenario_except_TWN_A1D_01 = scenario_except_TWN_A1D_01.drop(['run_date','alert_id',\\\n",
    "                                                              'primary_entity_level_code','primary_entity_number', 'scenario_name','Cust_No','Acct_No'], axis = 1)"
   ]
  },
  {
   "cell_type": "code",
   "execution_count": 280,
   "metadata": {},
   "outputs": [],
   "source": [
    "scenario_except_TWN_A1D_01_SAR = scenario_except_TWN_A1D_01[scenario_except_TWN_A1D_01['TO_SAR']==1]"
   ]
  },
  {
   "cell_type": "code",
   "execution_count": 281,
   "metadata": {},
   "outputs": [
    {
     "data": {
      "text/plain": [
       "1    859\n",
       "Name: TO_SAR, dtype: int64"
      ]
     },
     "execution_count": 281,
     "metadata": {},
     "output_type": "execute_result"
    }
   ],
   "source": [
    "scenario_except_TWN_A1D_01_SAR['TO_SAR'].value_counts()"
   ]
  },
  {
   "cell_type": "code",
   "execution_count": 286,
   "metadata": {},
   "outputs": [],
   "source": [
    "DAY = 5\n",
    "FEATURE = ['Credit_Amt', 'Debit_Amt']"
   ]
  },
  {
   "cell_type": "code",
   "execution_count": 287,
   "metadata": {},
   "outputs": [],
   "source": [
    "credit_amt_threshold = []\n",
    "debit_amt_threshold = []\n",
    "threshold_list = [credit_amt_threshold,  debit_amt_threshold]"
   ]
  },
  {
   "cell_type": "code",
   "execution_count": 288,
   "metadata": {},
   "outputs": [
    {
     "name": "stdout",
     "output_type": "stream",
     "text": [
      "0.0\n",
      "0.0\n",
      "0.0\n",
      "0.0\n",
      "0.0\n",
      "21069.199999999633\n",
      "486179.0\n",
      "800000.0\n",
      "1350708.0000000002\n",
      "39258714.0\n",
      "[0.0, 0.0, 0.0, 0.0, 0.0, 21069.199999999633, 486179.0, 800000.0, 1350708.0000000002, 39258714.0]\n",
      "\n",
      "0.0\n",
      "88003.00000000012\n",
      "329991.0\n",
      "458200.0000000001\n",
      "600000.0\n",
      "785926.3999999991\n",
      "951846.5\n",
      "1180000.0\n",
      "1800000.0\n",
      "157580516.0\n",
      "[0.0, 88003.00000000012, 329991.0, 458200.0000000001, 600000.0, 785926.3999999991, 951846.5, 1180000.0, 1800000.0, 157580516.0]\n",
      "\n"
     ]
    }
   ],
   "source": [
    "for i in range(len(FEATURE)):\n",
    "    tmp = []\n",
    "    tmp = list(scenario_except_TWN_A1F_01_SAR[FEATURE[i]].values)\n",
    "    tmp = [item for item in tmp if not math.isnan(item)]\n",
    "    tmp.sort()       \n",
    "    #print(tmp)\n",
    "    for j in np.linspace(10, 100, 10):\n",
    "        print(np.percentile(tmp, j))\n",
    "        threshold_list[i].append(np.percentile(tmp, j))\n",
    "    print(threshold_list[i])\n",
    "    print()"
   ]
  },
  {
   "cell_type": "code",
   "execution_count": 289,
   "metadata": {},
   "outputs": [
    {
     "data": {
      "text/plain": [
       "[0.0,\n",
       " 0.0,\n",
       " 0.0,\n",
       " 0.0,\n",
       " 0.0,\n",
       " 21069.199999999633,\n",
       " 486179.0,\n",
       " 800000.0,\n",
       " 1350708.0000000002,\n",
       " 39258714.0]"
      ]
     },
     "execution_count": 289,
     "metadata": {},
     "output_type": "execute_result"
    }
   ],
   "source": [
    "credit_amt_threshold"
   ]
  },
  {
   "cell_type": "code",
   "execution_count": 290,
   "metadata": {},
   "outputs": [
    {
     "data": {
      "text/plain": [
       "[0.0,\n",
       " 88003.00000000012,\n",
       " 329991.0,\n",
       " 458200.0000000001,\n",
       " 600000.0,\n",
       " 785926.3999999991,\n",
       " 951846.5,\n",
       " 1180000.0,\n",
       " 1800000.0,\n",
       " 157580516.0]"
      ]
     },
     "execution_count": 290,
     "metadata": {},
     "output_type": "execute_result"
    }
   ],
   "source": [
    "debit_amt_threshold"
   ]
  },
  {
   "cell_type": "code",
   "execution_count": 151,
   "metadata": {},
   "outputs": [
    {
     "name": "stdout",
     "output_type": "stream",
     "text": [
      "400000.0     6\n",
      "700000.0     4\n",
      "900000.0     3\n",
      "580000.0     3\n",
      "1100000.0    3\n",
      "            ..\n",
      "205735.0     1\n",
      "120280.0     1\n",
      "150182.0     1\n",
      "199333.0     1\n",
      "1104900.0    1\n",
      "Name: Credit_Amt, Length: 591, dtype: int64\n"
     ]
    },
    {
     "data": {
      "image/png": "[encoded data removed]",
      "text/plain": [
       "<Figure size 1440x720 with 1 Axes>"
      ]
     },
     "metadata": {
      "needs_background": "light"
     },
     "output_type": "display_data"
    }
   ],
   "source": [
    "# Draw the decile distance\n",
    "plt.figure(figsize=(20,10))\n",
    "day5['Credit_Amt'].value_counts() # 存款金額\n",
    "print(day5['Credit_Amt'].value_counts())\n",
    "y, x = day5['Credit_Amt'].value_counts().values, day5['Credit_Amt'].value_counts().index\n",
    "plt.title(\"distribution of Credit_Amt of SAR=1 in past 5 days\")\n",
    "plt.xlabel(\"Credit_Amt in past 5 days\")\n",
    "plt.ylabel(\"number of data\")\n",
    "for val in credit_amt_threshold:\n",
    "    plt.axvline(val, c='r')\n",
    "plt.scatter(x, y)\n",
    "plt.show()"
   ]
  },
  {
   "cell_type": "code",
   "execution_count": 141,
   "metadata": {},
   "outputs": [
    {
     "name": "stdout",
     "output_type": "stream",
     "text": [
      "300000.0     14\n",
      "600000.0     14\n",
      "400000.0     13\n",
      "1050000.0    11\n",
      "900000.0      8\n",
      "             ..\n",
      "501070.0      1\n",
      "90195.0       1\n",
      "1188805.0     1\n",
      "380070.0      1\n",
      "140800.0      1\n",
      "Name: Debit_Amt, Length: 743, dtype: int64\n"
     ]
    },
    {
     "data": {
      "image/png": "[encoded data removed]",
      "text/plain": [
       "<Figure size 1440x720 with 1 Axes>"
      ]
     },
     "metadata": {
      "needs_background": "light"
     },
     "output_type": "display_data"
    }
   ],
   "source": [
    "# Draw the decile distance\n",
    "plt.figure(figsize=(20,10))\n",
    "day5['Debit_Amt'].value_counts() # 存款金額\n",
    "print(day5['Debit_Amt'].value_counts())\n",
    "y, x = day5['Debit_Amt'].value_counts().values, day5['Debit_Amt'].value_counts().index\n",
    "plt.title(\"distribution of Debit_Amt of SAR=1 in past 5 days\")\n",
    "plt.xlabel(\"Debit_Amt in past 5 days\")\n",
    "plt.ylabel(\"number of data\")\n",
    "for val in debit_amt_threshold:\n",
    "    plt.axvline(val, c='r')\n",
    "plt.scatter(x, y)\n",
    "plt.show()"
   ]
  },
  {
   "cell_type": "code",
   "execution_count": 291,
   "metadata": {},
   "outputs": [],
   "source": [
    "candidate_rule1 = []\n",
    "for x in credit_amt_threshold:\n",
    "    for y in debit_amt_threshold:\n",
    "        candidate_rule1.append([x,y])"
   ]
  },
  {
   "cell_type": "code",
   "execution_count": 293,
   "metadata": {},
   "outputs": [],
   "source": [
    "candidate_rule1 = [[math.ceil(x), math.ceil(y)] for [x,y] in candidate_rule1]"
   ]
  },
  {
   "cell_type": "code",
   "execution_count": 294,
   "metadata": {},
   "outputs": [],
   "source": [
    "# apply on testing set\n",
    "results = pd.DataFrame(columns = ['Credit_Amt','Debit_Amt','SAR', 'Non SAR','newSAM=1_SAR=1(TP)','newSAM=1_SAR=0(FP)',\\\n",
    "                                  'newSAM=0_SAR=1(FN)', 'newSAM=0_SAR=0(TN)', 'recall','filter rate'])\n",
    "for thre1, thre2 in candidate_rule1:\n",
    "    idx = list(set(TWN_A1D_01[TWN_A1D_01['Credit_Amt']>=thre1].index))\n",
    "    idx1 = list(set(TWN_A1D_01[TWN_A1D_01['Debit_Amt']>=thre2].index))\n",
    "    new_SAM_1_rule1 = TWN_A1D_01.iloc[idx]\n",
    "    new_SAM_1_rule2 = TWN_A1D_01.iloc[idx1]\n",
    "\n",
    "    new_SAM_1 = new_SAM_1_rule1.append(new_SAM_1_rule2)\n",
    "    new_SAM_1 = new_SAM_1.drop_duplicates()\n",
    "    new_SAM_0 = TWN_A1D_01.drop(index = new_SAM_1.index)\n",
    "\n",
    "    if (new_SAM_0.shape[0]+new_SAM_1.shape[0])!=TWN_A1D_01.shape[0]:\n",
    "        raise ValueError(\"new SAM 0 and new SAM 1 overlapped!\")\n",
    "\n",
    "    TP = new_SAM_1[new_SAM_1['TO_SAR']!=0].shape[0]\n",
    "    TN = new_SAM_0[new_SAM_0['TO_SAR']==0].shape[0]\n",
    "    FP = new_SAM_1[new_SAM_1['TO_SAR']==0].shape[0]\n",
    "    FN = new_SAM_0[new_SAM_0['TO_SAR']!=0].shape[0]\n",
    "    total = TWN_A1D_01.shape[0]\n",
    "    results = results.append({'Credit_Amt':thre1,'Debit_Amt':thre2, 'SAR':TWN_A1D_01[TWN_A1D_01['TO_SAR']!=0].shape[0], \\\n",
    "                              'Non SAR':TWN_A1D_01[TWN_A1D_01['TO_SAR']==0].shape[0],\\\n",
    "                              'newSAM=1_SAR=1(TP)':TP, 'newSAM=1_SAR=0(FP)':FP, 'newSAM=0_SAR=1(FN)':FN,\\\n",
    "                              'newSAM=0_SAR=0(TN)':TN, 'recall': str(round(TP/(TP+FN), 4)),\\\n",
    "                              'filter rate':str((round((TN+FN)/total, 4)))}, ignore_index = True)\n"
   ]
  },
  {
   "cell_type": "code",
   "execution_count": 295,
   "metadata": {},
   "outputs": [
    {
     "data": {
      "text/html": [
       "<div>\n",
       "<style scoped>\n",
       "    .dataframe tbody tr th:only-of-type {\n",
       "        vertical-align: middle;\n",
       "    }\n",
       "\n",
       "    .dataframe tbody tr th {\n",
       "        vertical-align: top;\n",
       "    }\n",
       "\n",
       "    .dataframe thead th {\n",
       "        text-align: right;\n",
       "    }\n",
       "</style>\n",
       "<table border=\"1\" class=\"dataframe\">\n",
       "  <thead>\n",
       "    <tr style=\"text-align: right;\">\n",
       "      <th></th>\n",
       "      <th>Credit_Amt</th>\n",
       "      <th>Debit_Amt</th>\n",
       "      <th>SAR</th>\n",
       "      <th>Non SAR</th>\n",
       "      <th>newSAM=1_SAR=1(TP)</th>\n",
       "      <th>newSAM=1_SAR=0(FP)</th>\n",
       "      <th>newSAM=0_SAR=1(FN)</th>\n",
       "      <th>newSAM=0_SAR=0(TN)</th>\n",
       "      <th>recall</th>\n",
       "      <th>filter rate</th>\n",
       "    </tr>\n",
       "  </thead>\n",
       "  <tbody>\n",
       "    <tr>\n",
       "      <th>0</th>\n",
       "      <td>0</td>\n",
       "      <td>0</td>\n",
       "      <td>1</td>\n",
       "      <td>603</td>\n",
       "      <td>1</td>\n",
       "      <td>390</td>\n",
       "      <td>0</td>\n",
       "      <td>213</td>\n",
       "      <td>1.0</td>\n",
       "      <td>0.3526</td>\n",
       "    </tr>\n",
       "    <tr>\n",
       "      <th>1</th>\n",
       "      <td>0</td>\n",
       "      <td>88004</td>\n",
       "      <td>1</td>\n",
       "      <td>603</td>\n",
       "      <td>1</td>\n",
       "      <td>390</td>\n",
       "      <td>0</td>\n",
       "      <td>213</td>\n",
       "      <td>1.0</td>\n",
       "      <td>0.3526</td>\n",
       "    </tr>\n",
       "    <tr>\n",
       "      <th>2</th>\n",
       "      <td>0</td>\n",
       "      <td>329991</td>\n",
       "      <td>1</td>\n",
       "      <td>603</td>\n",
       "      <td>1</td>\n",
       "      <td>390</td>\n",
       "      <td>0</td>\n",
       "      <td>213</td>\n",
       "      <td>1.0</td>\n",
       "      <td>0.3526</td>\n",
       "    </tr>\n",
       "    <tr>\n",
       "      <th>3</th>\n",
       "      <td>0</td>\n",
       "      <td>458201</td>\n",
       "      <td>1</td>\n",
       "      <td>603</td>\n",
       "      <td>1</td>\n",
       "      <td>390</td>\n",
       "      <td>0</td>\n",
       "      <td>213</td>\n",
       "      <td>1.0</td>\n",
       "      <td>0.3526</td>\n",
       "    </tr>\n",
       "    <tr>\n",
       "      <th>4</th>\n",
       "      <td>0</td>\n",
       "      <td>600000</td>\n",
       "      <td>1</td>\n",
       "      <td>603</td>\n",
       "      <td>1</td>\n",
       "      <td>390</td>\n",
       "      <td>0</td>\n",
       "      <td>213</td>\n",
       "      <td>1.0</td>\n",
       "      <td>0.3526</td>\n",
       "    </tr>\n",
       "    <tr>\n",
       "      <th>...</th>\n",
       "      <td>...</td>\n",
       "      <td>...</td>\n",
       "      <td>...</td>\n",
       "      <td>...</td>\n",
       "      <td>...</td>\n",
       "      <td>...</td>\n",
       "      <td>...</td>\n",
       "      <td>...</td>\n",
       "      <td>...</td>\n",
       "      <td>...</td>\n",
       "    </tr>\n",
       "    <tr>\n",
       "      <th>94</th>\n",
       "      <td>39258714</td>\n",
       "      <td>600000</td>\n",
       "      <td>1</td>\n",
       "      <td>603</td>\n",
       "      <td>1</td>\n",
       "      <td>233</td>\n",
       "      <td>0</td>\n",
       "      <td>370</td>\n",
       "      <td>1.0</td>\n",
       "      <td>0.6126</td>\n",
       "    </tr>\n",
       "    <tr>\n",
       "      <th>95</th>\n",
       "      <td>39258714</td>\n",
       "      <td>785927</td>\n",
       "      <td>1</td>\n",
       "      <td>603</td>\n",
       "      <td>1</td>\n",
       "      <td>233</td>\n",
       "      <td>0</td>\n",
       "      <td>370</td>\n",
       "      <td>1.0</td>\n",
       "      <td>0.6126</td>\n",
       "    </tr>\n",
       "    <tr>\n",
       "      <th>96</th>\n",
       "      <td>39258714</td>\n",
       "      <td>951847</td>\n",
       "      <td>1</td>\n",
       "      <td>603</td>\n",
       "      <td>1</td>\n",
       "      <td>233</td>\n",
       "      <td>0</td>\n",
       "      <td>370</td>\n",
       "      <td>1.0</td>\n",
       "      <td>0.6126</td>\n",
       "    </tr>\n",
       "    <tr>\n",
       "      <th>97</th>\n",
       "      <td>39258714</td>\n",
       "      <td>1180000</td>\n",
       "      <td>1</td>\n",
       "      <td>603</td>\n",
       "      <td>1</td>\n",
       "      <td>233</td>\n",
       "      <td>0</td>\n",
       "      <td>370</td>\n",
       "      <td>1.0</td>\n",
       "      <td>0.6126</td>\n",
       "    </tr>\n",
       "    <tr>\n",
       "      <th>98</th>\n",
       "      <td>39258714</td>\n",
       "      <td>1800000</td>\n",
       "      <td>1</td>\n",
       "      <td>603</td>\n",
       "      <td>1</td>\n",
       "      <td>233</td>\n",
       "      <td>0</td>\n",
       "      <td>370</td>\n",
       "      <td>1.0</td>\n",
       "      <td>0.6126</td>\n",
       "    </tr>\n",
       "  </tbody>\n",
       "</table>\n",
       "<p>95 rows × 10 columns</p>\n",
       "</div>"
      ],
      "text/plain": [
       "   Credit_Amt Debit_Amt SAR Non SAR newSAM=1_SAR=1(TP) newSAM=1_SAR=0(FP)  \\\n",
       "0           0         0   1     603                  1                390   \n",
       "1           0     88004   1     603                  1                390   \n",
       "2           0    329991   1     603                  1                390   \n",
       "3           0    458201   1     603                  1                390   \n",
       "4           0    600000   1     603                  1                390   \n",
       "..        ...       ...  ..     ...                ...                ...   \n",
       "94   39258714    600000   1     603                  1                233   \n",
       "95   39258714    785927   1     603                  1                233   \n",
       "96   39258714    951847   1     603                  1                233   \n",
       "97   39258714   1180000   1     603                  1                233   \n",
       "98   39258714   1800000   1     603                  1                233   \n",
       "\n",
       "   newSAM=0_SAR=1(FN) newSAM=0_SAR=0(TN) recall filter rate  \n",
       "0                   0                213    1.0      0.3526  \n",
       "1                   0                213    1.0      0.3526  \n",
       "2                   0                213    1.0      0.3526  \n",
       "3                   0                213    1.0      0.3526  \n",
       "4                   0                213    1.0      0.3526  \n",
       "..                ...                ...    ...         ...  \n",
       "94                  0                370    1.0      0.6126  \n",
       "95                  0                370    1.0      0.6126  \n",
       "96                  0                370    1.0      0.6126  \n",
       "97                  0                370    1.0      0.6126  \n",
       "98                  0                370    1.0      0.6126  \n",
       "\n",
       "[95 rows x 10 columns]"
      ]
     },
     "execution_count": 295,
     "metadata": {},
     "output_type": "execute_result"
    }
   ],
   "source": [
    "results = results[results['recall']>= str(0.9)]\n",
    "results"
   ]
  },
  {
   "cell_type": "code",
   "execution_count": 296,
   "metadata": {},
   "outputs": [
    {
     "data": {
      "text/html": [
       "<div>\n",
       "<style scoped>\n",
       "    .dataframe tbody tr th:only-of-type {\n",
       "        vertical-align: middle;\n",
       "    }\n",
       "\n",
       "    .dataframe tbody tr th {\n",
       "        vertical-align: top;\n",
       "    }\n",
       "\n",
       "    .dataframe thead th {\n",
       "        text-align: right;\n",
       "    }\n",
       "</style>\n",
       "<table border=\"1\" class=\"dataframe\">\n",
       "  <thead>\n",
       "    <tr style=\"text-align: right;\">\n",
       "      <th></th>\n",
       "      <th>Credit_Amt</th>\n",
       "      <th>Debit_Amt</th>\n",
       "      <th>SAR</th>\n",
       "      <th>Non SAR</th>\n",
       "      <th>newSAM=1_SAR=1(TP)</th>\n",
       "      <th>newSAM=1_SAR=0(FP)</th>\n",
       "      <th>newSAM=0_SAR=1(FN)</th>\n",
       "      <th>newSAM=0_SAR=0(TN)</th>\n",
       "      <th>recall</th>\n",
       "      <th>filter rate</th>\n",
       "    </tr>\n",
       "  </thead>\n",
       "  <tbody>\n",
       "    <tr>\n",
       "      <th>98</th>\n",
       "      <td>39258714</td>\n",
       "      <td>1800000</td>\n",
       "      <td>1</td>\n",
       "      <td>603</td>\n",
       "      <td>1</td>\n",
       "      <td>233</td>\n",
       "      <td>0</td>\n",
       "      <td>370</td>\n",
       "      <td>1.0</td>\n",
       "      <td>0.6126</td>\n",
       "    </tr>\n",
       "    <tr>\n",
       "      <th>97</th>\n",
       "      <td>39258714</td>\n",
       "      <td>1180000</td>\n",
       "      <td>1</td>\n",
       "      <td>603</td>\n",
       "      <td>1</td>\n",
       "      <td>233</td>\n",
       "      <td>0</td>\n",
       "      <td>370</td>\n",
       "      <td>1.0</td>\n",
       "      <td>0.6126</td>\n",
       "    </tr>\n",
       "    <tr>\n",
       "      <th>96</th>\n",
       "      <td>39258714</td>\n",
       "      <td>951847</td>\n",
       "      <td>1</td>\n",
       "      <td>603</td>\n",
       "      <td>1</td>\n",
       "      <td>233</td>\n",
       "      <td>0</td>\n",
       "      <td>370</td>\n",
       "      <td>1.0</td>\n",
       "      <td>0.6126</td>\n",
       "    </tr>\n",
       "    <tr>\n",
       "      <th>95</th>\n",
       "      <td>39258714</td>\n",
       "      <td>785927</td>\n",
       "      <td>1</td>\n",
       "      <td>603</td>\n",
       "      <td>1</td>\n",
       "      <td>233</td>\n",
       "      <td>0</td>\n",
       "      <td>370</td>\n",
       "      <td>1.0</td>\n",
       "      <td>0.6126</td>\n",
       "    </tr>\n",
       "    <tr>\n",
       "      <th>94</th>\n",
       "      <td>39258714</td>\n",
       "      <td>600000</td>\n",
       "      <td>1</td>\n",
       "      <td>603</td>\n",
       "      <td>1</td>\n",
       "      <td>233</td>\n",
       "      <td>0</td>\n",
       "      <td>370</td>\n",
       "      <td>1.0</td>\n",
       "      <td>0.6126</td>\n",
       "    </tr>\n",
       "    <tr>\n",
       "      <th>93</th>\n",
       "      <td>39258714</td>\n",
       "      <td>458201</td>\n",
       "      <td>1</td>\n",
       "      <td>603</td>\n",
       "      <td>1</td>\n",
       "      <td>233</td>\n",
       "      <td>0</td>\n",
       "      <td>370</td>\n",
       "      <td>1.0</td>\n",
       "      <td>0.6126</td>\n",
       "    </tr>\n",
       "    <tr>\n",
       "      <th>92</th>\n",
       "      <td>39258714</td>\n",
       "      <td>329991</td>\n",
       "      <td>1</td>\n",
       "      <td>603</td>\n",
       "      <td>1</td>\n",
       "      <td>233</td>\n",
       "      <td>0</td>\n",
       "      <td>370</td>\n",
       "      <td>1.0</td>\n",
       "      <td>0.6126</td>\n",
       "    </tr>\n",
       "    <tr>\n",
       "      <th>91</th>\n",
       "      <td>39258714</td>\n",
       "      <td>88004</td>\n",
       "      <td>1</td>\n",
       "      <td>603</td>\n",
       "      <td>1</td>\n",
       "      <td>234</td>\n",
       "      <td>0</td>\n",
       "      <td>369</td>\n",
       "      <td>1.0</td>\n",
       "      <td>0.6109</td>\n",
       "    </tr>\n",
       "    <tr>\n",
       "      <th>62</th>\n",
       "      <td>486179</td>\n",
       "      <td>329991</td>\n",
       "      <td>1</td>\n",
       "      <td>603</td>\n",
       "      <td>1</td>\n",
       "      <td>293</td>\n",
       "      <td>0</td>\n",
       "      <td>310</td>\n",
       "      <td>1.0</td>\n",
       "      <td>0.5132</td>\n",
       "    </tr>\n",
       "    <tr>\n",
       "      <th>68</th>\n",
       "      <td>486179</td>\n",
       "      <td>1800000</td>\n",
       "      <td>1</td>\n",
       "      <td>603</td>\n",
       "      <td>1</td>\n",
       "      <td>293</td>\n",
       "      <td>0</td>\n",
       "      <td>310</td>\n",
       "      <td>1.0</td>\n",
       "      <td>0.5132</td>\n",
       "    </tr>\n",
       "  </tbody>\n",
       "</table>\n",
       "</div>"
      ],
      "text/plain": [
       "   Credit_Amt Debit_Amt SAR Non SAR newSAM=1_SAR=1(TP) newSAM=1_SAR=0(FP)  \\\n",
       "98   39258714   1800000   1     603                  1                233   \n",
       "97   39258714   1180000   1     603                  1                233   \n",
       "96   39258714    951847   1     603                  1                233   \n",
       "95   39258714    785927   1     603                  1                233   \n",
       "94   39258714    600000   1     603                  1                233   \n",
       "93   39258714    458201   1     603                  1                233   \n",
       "92   39258714    329991   1     603                  1                233   \n",
       "91   39258714     88004   1     603                  1                234   \n",
       "62     486179    329991   1     603                  1                293   \n",
       "68     486179   1800000   1     603                  1                293   \n",
       "\n",
       "   newSAM=0_SAR=1(FN) newSAM=0_SAR=0(TN) recall filter rate  \n",
       "98                  0                370    1.0      0.6126  \n",
       "97                  0                370    1.0      0.6126  \n",
       "96                  0                370    1.0      0.6126  \n",
       "95                  0                370    1.0      0.6126  \n",
       "94                  0                370    1.0      0.6126  \n",
       "93                  0                370    1.0      0.6126  \n",
       "92                  0                370    1.0      0.6126  \n",
       "91                  0                369    1.0      0.6109  \n",
       "62                  0                310    1.0      0.5132  \n",
       "68                  0                310    1.0      0.5132  "
      ]
     },
     "execution_count": 296,
     "metadata": {},
     "output_type": "execute_result"
    }
   ],
   "source": [
    "results.sort_values(by=['filter rate'], ascending = False)[:10]"
   ]
  },
  {
   "cell_type": "code",
   "execution_count": null,
   "metadata": {},
   "outputs": [],
   "source": []
  }
 ],
 "metadata": {
  "kernelspec": {
   "display_name": "Python 3",
   "language": "python",
   "name": "python3"
  },
  "language_info": {
   "codemirror_mode": {
    "name": "ipython",
    "version": 3
   },
   "file_extension": ".py",
   "mimetype": "text/x-python",
   "name": "python",
   "nbconvert_exporter": "python",
   "pygments_lexer": "ipython3",
   "version": "3.8.5"
  }
 },
 "nbformat": 4,
 "nbformat_minor": 4
}
