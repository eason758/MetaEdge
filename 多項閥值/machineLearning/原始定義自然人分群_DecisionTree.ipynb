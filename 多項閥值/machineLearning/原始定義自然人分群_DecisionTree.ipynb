{
 "cells": [
  {
   "cell_type": "code",
   "execution_count": 108,
   "metadata": {},
   "outputs": [],
   "source": [
    "import pandas as pd\n",
    "import numpy as np\n",
    "import matplotlib.pyplot as plt\n",
    "from sklearn.metrics import f1_score, recall_score, accuracy_score, precision_score, confusion_matrix, precision_recall_curve\n",
    "from sklearn.preprocessing import StandardScaler\n",
    "from sklearn import tree"
   ]
  },
  {
   "cell_type": "code",
   "execution_count": 109,
   "metadata": {},
   "outputs": [],
   "source": [
    "from sklearn.tree import _tree\n",
    "\n",
    "def tree_to_code(tree, feature_names):\n",
    "    tree_ = tree.tree_\n",
    "    feature_name = [\n",
    "        feature_names[i] if i != _tree.TREE_UNDEFINED else \"undefined!\"\n",
    "        for i in tree_.feature\n",
    "    ]\n",
    "    print (\"def tree({}):\".format(\", \".join(feature_names)))\n",
    "\n",
    "    def recurse(node, depth):\n",
    "        indent = \"  \" * depth\n",
    "        if tree_.feature[node] != _tree.TREE_UNDEFINED:\n",
    "            name = feature_name[node]\n",
    "            threshold = tree_.threshold[node]\n",
    "            print (\"{}if {} <= {}:\".format(indent, name, threshold))\n",
    "            recurse(tree_.children_left[node], depth + 1)\n",
    "            print (\"{}else:  # if {} > {}\".format(indent, name, threshold))\n",
    "            recurse(tree_.children_right[node], depth + 1)\n",
    "        else:\n",
    "            print (\"{}return {}\".format(indent, tree_.value[node]))\n",
    "\n",
    "    recurse(0, 1)"
   ]
  },
  {
   "cell_type": "markdown",
   "metadata": {},
   "source": [
    "# 按原始分群定義分群"
   ]
  },
  {
   "cell_type": "code",
   "execution_count": 110,
   "metadata": {},
   "outputs": [],
   "source": [
    "df = pd.read_csv(\"D:/NCTU/12-資料產出/NCTU/alert處理new3.csv\")"
   ]
  },
  {
   "cell_type": "code",
   "execution_count": 111,
   "metadata": {},
   "outputs": [],
   "source": [
    "def Segmentation(TYPE, score):\n",
    "    if TYPE == 'original':\n",
    "        riskHigh = df[df['Cust_Segmentation']=='PH']\n",
    "        riskLow = df[df['Cust_Segmentation']=='PNH']\n",
    "    elif TYPE =='selfDefined':\n",
    "        riskHigh = df[df['risk_score'] >= score]\n",
    "        riskLow = df[df['risk_score'] < score]\n",
    "    \n",
    "    return riskHigh, riskLow"
   ]
  },
  {
   "cell_type": "code",
   "execution_count": 112,
   "metadata": {},
   "outputs": [],
   "source": [
    "def printResult(y_pred, test_label):\n",
    "    '''\n",
    "    prediction on test dataset\n",
    "    '''\n",
    "    acc = accuracy_score(test_label,  y_pred.round().astype(int))\n",
    "    f1 = f1_score(test_label, y_pred.round().astype(int))\n",
    "    r = recall_score(test_label,  y_pred.round().astype(int))\n",
    "    p = precision_score(test_label,  y_pred.round().astype(int))\n",
    "    recall, precision, thresholds = precision_recall_curve(test_label,  y_pred)\n",
    "    \n",
    "    TP = 0\n",
    "    FP = 0\n",
    "    TN = 0\n",
    "    FN = 0\n",
    "    for i in range(len(y_pred)): \n",
    "        if test_label[i]==y_pred[i]==1:\n",
    "            TP += 1\n",
    "        if y_pred[i]==1 and test_label[i]==0: \n",
    "            FP += 1\n",
    "        if test_label[i]==y_pred[i]==0:\n",
    "            TN += 1\n",
    "        if y_pred[i]==0 and test_label[i]==1:\n",
    "            FN += 1\n",
    "\n",
    "    HRS = (TN+FN)/(TN+FN+TP+FP)\n",
    "    \n",
    "    print('acc: ', acc, 'f1: ',f1,'recall: ', r, 'precision: ', p, 'filter rate: ', HRS)\n",
    "    print('TP: ', TP, 'FP: ', FP, 'FN: ', FN, 'TN: ', TN)"
   ]
  },
  {
   "cell_type": "code",
   "execution_count": 113,
   "metadata": {},
   "outputs": [],
   "source": [
    "TYPE = 'original'\n",
    "score = 0\n",
    "riskHigh, riskLow = Segmentation(TYPE, score)"
   ]
  },
  {
   "cell_type": "markdown",
   "metadata": {},
   "source": [
    "### risk score切分落在124左右(original)"
   ]
  },
  {
   "cell_type": "code",
   "execution_count": 114,
   "metadata": {},
   "outputs": [],
   "source": [
    "riskHighID = riskHigh['alert_id'].values"
   ]
  },
  {
   "cell_type": "code",
   "execution_count": 115,
   "metadata": {},
   "outputs": [],
   "source": [
    "riskHighID = riskHigh['alert_id'].values"
   ]
  },
  {
   "cell_type": "markdown",
   "metadata": {},
   "source": [
    "# 分群閥值"
   ]
  },
  {
   "cell_type": "code",
   "execution_count": 116,
   "metadata": {},
   "outputs": [],
   "source": [
    "%run function.ipynb"
   ]
  },
  {
   "cell_type": "code",
   "execution_count": 117,
   "metadata": {},
   "outputs": [],
   "source": [
    "SAR_type = 'TO_SAR'"
   ]
  },
  {
   "cell_type": "markdown",
   "metadata": {},
   "source": [
    "## TWN_A11_01"
   ]
  },
  {
   "cell_type": "code",
   "execution_count": 118,
   "metadata": {},
   "outputs": [],
   "source": [
    "DAY = 15\n",
    "FEATURE = ['Credit_Amt', 'number_of_Credit', 'Debit_Amt', 'number_of_Debit']\n",
    "PATH = \"D:/Temp/NCTU/crystal/第二階段/new_alert/日數分類_營業日/\"\n",
    "FILE = \"TWN_A11_01_day15_with_aggregated_txn_scenario_txn_type_key_營業日.csv\""
   ]
  },
  {
   "cell_type": "code",
   "execution_count": 119,
   "metadata": {},
   "outputs": [],
   "source": [
    "file = pd.read_csv(PATH+FILE)"
   ]
  },
  {
   "cell_type": "code",
   "execution_count": 120,
   "metadata": {},
   "outputs": [
    {
     "data": {
      "text/plain": [
       "(86770, 45)"
      ]
     },
     "execution_count": 120,
     "metadata": {},
     "output_type": "execute_result"
    }
   ],
   "source": [
    "file.shape"
   ]
  },
  {
   "cell_type": "code",
   "execution_count": 121,
   "metadata": {},
   "outputs": [],
   "source": [
    "file['TO_SAR'] = file['TO_SAR'].replace(np.nan, 0)\n",
    "file['TO_SAR'] = file['TO_SAR'].replace('NF', 1)\n",
    "file['TO_SAR'] = file['TO_SAR'].replace('F', 1)"
   ]
  },
  {
   "cell_type": "code",
   "execution_count": 122,
   "metadata": {},
   "outputs": [],
   "source": [
    "fileID = file['alert_id'].values"
   ]
  },
  {
   "cell_type": "code",
   "execution_count": 123,
   "metadata": {},
   "outputs": [],
   "source": [
    "HighIntersection = list(set(fileID) & set(riskHighID))"
   ]
  },
  {
   "cell_type": "code",
   "execution_count": 124,
   "metadata": {},
   "outputs": [],
   "source": [
    "rowHigh = []\n",
    "rowLow = []\n",
    "for i in range(file.shape[0]):\n",
    "    if file['alert_id'][i] in HighIntersection:\n",
    "        rowHigh.append(i)\n",
    "    else:\n",
    "        rowLow.append(i)"
   ]
  },
  {
   "cell_type": "code",
   "execution_count": 125,
   "metadata": {},
   "outputs": [],
   "source": [
    "file1 = file.iloc[rowHigh] "
   ]
  },
  {
   "cell_type": "code",
   "execution_count": 126,
   "metadata": {},
   "outputs": [
    {
     "name": "stdout",
     "output_type": "stream",
     "text": [
      "Verify on time series\n",
      "shape of data: (75, 39)\n",
      "total number of TO_SAR: 0\n",
      "********************************\n",
      "time interval in train set:2019-12-11~2020-01-03\n",
      "TO_SAR in train set: 0\n",
      "TO_SAR/Total in train set 0.0\n",
      "split dataset to train, test...\n",
      "********************************\n",
      "time interval in test set:2020-01-03~2020-01-30\n",
      "TO_SAR in test set: 0\n",
      "TO_SAR/Total in test set 0.0\n",
      "********************************\n",
      "train data shape:  (45, 38)\n",
      "test data shape:  (30, 38)\n"
     ]
    }
   ],
   "source": [
    "train_set, test_set = ReadFile(file1, SAR_type)"
   ]
  },
  {
   "cell_type": "code",
   "execution_count": 127,
   "metadata": {},
   "outputs": [],
   "source": [
    "file2 = file.iloc[rowLow] "
   ]
  },
  {
   "cell_type": "code",
   "execution_count": 128,
   "metadata": {},
   "outputs": [
    {
     "name": "stdout",
     "output_type": "stream",
     "text": [
      "Verify on time series\n",
      "shape of data: (86695, 39)\n",
      "total number of TO_SAR: 446\n",
      "********************************\n",
      "time interval in train set:2019-03-04~2020-04-29\n",
      "TO_SAR in train set: 267\n",
      "TO_SAR/Total in train set 0.005133035988926484\n",
      "split dataset to train, test...\n",
      "********************************\n",
      "time interval in test set:2020-02-19~2020-12-31\n",
      "TO_SAR in test set: 179\n",
      "TO_SAR/Total in test set 0.005161625191037804\n",
      "********************************\n",
      "train data shape:  (52016, 38)\n",
      "test data shape:  (34679, 38)\n"
     ]
    }
   ],
   "source": [
    "train_set, test_set = ReadFile(file2, SAR_type)"
   ]
  },
  {
   "cell_type": "code",
   "execution_count": 129,
   "metadata": {},
   "outputs": [],
   "source": [
    "# duplication\n",
    "ratio = train_set[train_set['TO_SAR']==0].shape[0] / train_set[train_set['TO_SAR']==1].shape[0]"
   ]
  },
  {
   "cell_type": "code",
   "execution_count": 130,
   "metadata": {},
   "outputs": [],
   "source": [
    "train_set = train_set.append([train_set[train_set['TO_SAR']==1]]*(int(ratio)-1))"
   ]
  },
  {
   "cell_type": "code",
   "execution_count": 131,
   "metadata": {},
   "outputs": [
    {
     "data": {
      "text/plain": [
       "0    51749\n",
       "1    51531\n",
       "Name: TO_SAR, dtype: int64"
      ]
     },
     "execution_count": 131,
     "metadata": {},
     "output_type": "execute_result"
    }
   ],
   "source": [
    "train_set['TO_SAR'].value_counts()"
   ]
  },
  {
   "cell_type": "code",
   "execution_count": 132,
   "metadata": {},
   "outputs": [],
   "source": [
    "col = [*FEATURE, 'TO_SAR']\n",
    "train_set = train_set[col]\n",
    "test_set = test_set[col]"
   ]
  },
  {
   "cell_type": "code",
   "execution_count": 133,
   "metadata": {},
   "outputs": [
    {
     "name": "stdout",
     "output_type": "stream",
     "text": [
      "(103280, 5)\n",
      "(103279, 5)\n"
     ]
    }
   ],
   "source": [
    "print(train_set.shape)\n",
    "train_set = train_set.dropna()\n",
    "print(train_set.shape)"
   ]
  },
  {
   "cell_type": "code",
   "execution_count": 134,
   "metadata": {},
   "outputs": [],
   "source": [
    "X_train = train_set.drop(['TO_SAR'], axis = 1)\n",
    "y_train = train_set['TO_SAR']"
   ]
  },
  {
   "cell_type": "code",
   "execution_count": 135,
   "metadata": {},
   "outputs": [
    {
     "name": "stdout",
     "output_type": "stream",
     "text": [
      "(103279, 4) (103279,)\n"
     ]
    }
   ],
   "source": [
    "print(X_train.shape, y_train.shape)"
   ]
  },
  {
   "cell_type": "code",
   "execution_count": 136,
   "metadata": {},
   "outputs": [
    {
     "name": "stdout",
     "output_type": "stream",
     "text": [
      "(34679, 5)\n",
      "(34679, 5)\n"
     ]
    }
   ],
   "source": [
    "print(test_set.shape)\n",
    "test_set = test_set.dropna()\n",
    "print(test_set.shape)"
   ]
  },
  {
   "cell_type": "code",
   "execution_count": 137,
   "metadata": {},
   "outputs": [],
   "source": [
    "X_test = test_set.drop(['TO_SAR'], axis = 1)\n",
    "y_test = test_set['TO_SAR']"
   ]
  },
  {
   "cell_type": "code",
   "execution_count": 138,
   "metadata": {},
   "outputs": [
    {
     "name": "stdout",
     "output_type": "stream",
     "text": [
      "(34679, 4) (34679,)\n"
     ]
    }
   ],
   "source": [
    "print(X_test.shape, y_test.shape)"
   ]
  },
  {
   "cell_type": "code",
   "execution_count": 139,
   "metadata": {},
   "outputs": [],
   "source": [
    "clf = tree.DecisionTreeClassifier(max_depth=3)\n",
    "clf = clf.fit(X_train, y_train)"
   ]
  },
  {
   "cell_type": "code",
   "execution_count": 154,
   "metadata": {},
   "outputs": [
    {
     "data": {
      "image/png": "[encoded data removed]",
      "text/plain": [
       "<Figure size 1440x720 with 1 Axes>"
      ]
     },
     "metadata": {
      "needs_background": "light"
     },
     "output_type": "display_data"
    }
   ],
   "source": [
    "plt.figure(figsize=(20,10))\n",
    "tree.plot_tree(clf)\n",
    "plt.savefig('tree.eps', format='eps', bbox_inches = \"tight\")"
   ]
  },
  {
   "cell_type": "code",
   "execution_count": 150,
   "metadata": {},
   "outputs": [
    {
     "data": {
      "text/plain": [
       "<Figure size 432x288 with 0 Axes>"
      ]
     },
     "metadata": {},
     "output_type": "display_data"
    }
   ],
   "source": [
    "plt.savefig('D:/Temp/NCTU/crystal/第二階段/new_alert/閥值優化/chart/DecisionTreeA11_01.pdf')"
   ]
  },
  {
   "cell_type": "code",
   "execution_count": 33,
   "metadata": {},
   "outputs": [
    {
     "data": {
      "text/plain": [
       "51531"
      ]
     },
     "execution_count": 33,
     "metadata": {},
     "output_type": "execute_result"
    }
   ],
   "source": [
    "13317+772+4053+0+386+29722+3281+0"
   ]
  },
  {
   "cell_type": "code",
   "execution_count": 34,
   "metadata": {},
   "outputs": [
    {
     "data": {
      "text/plain": [
       "103279"
      ]
     },
     "execution_count": 34,
     "metadata": {},
     "output_type": "execute_result"
    }
   ],
   "source": [
    "43589+933+5874+487+1789+47113+3454+40"
   ]
  },
  {
   "cell_type": "code",
   "execution_count": 35,
   "metadata": {},
   "outputs": [],
   "source": [
    "y_pred = clf.predict(X_test)"
   ]
  },
  {
   "cell_type": "code",
   "execution_count": 36,
   "metadata": {},
   "outputs": [
    {
     "name": "stdout",
     "output_type": "stream",
     "text": [
      "acc:  0.6127339311975547 f1:  0.01942172897196262 recall:  0.7430167597765364 precision:  0.00983946141895391 filter rate:  0.6102252083393408\n",
      "TP:  133 FP:  13384 FN:  46 TN:  21116\n"
     ]
    }
   ],
   "source": [
    "printResult(y_pred, y_test)"
   ]
  },
  {
   "cell_type": "code",
   "execution_count": 40,
   "metadata": {},
   "outputs": [
    {
     "name": "stdout",
     "output_type": "stream",
     "text": [
      "def tree(Credit_Amt, number_of_Credit, Debit_Amt, number_of_Debit):\n",
      "  if number_of_Debit <= 8.5:\n",
      "    if Debit_Amt <= 1919900.0:\n",
      "      if Credit_Amt <= 6781356.5:\n",
      "        return [[30272. 13317.]]\n",
      "      else:  # if Credit_Amt > 6781356.5\n",
      "        return [[161. 772.]]\n",
      "    else:  # if Debit_Amt > 1919900.0\n",
      "      if Credit_Amt <= 401000.0:\n",
      "        return [[1821. 4053.]]\n",
      "      else:  # if Credit_Amt > 401000.0\n",
      "        return [[487.   0.]]\n",
      "  else:  # if number_of_Debit > 8.5\n",
      "    if number_of_Debit <= 67.5:\n",
      "      if Debit_Amt <= 699510.0:\n",
      "        return [[1403.  386.]]\n",
      "      else:  # if Debit_Amt > 699510.0\n",
      "        return [[17391. 29722.]]\n",
      "    else:  # if number_of_Debit > 67.5\n",
      "      if number_of_Credit <= 7.5:\n",
      "        return [[ 173. 3281.]]\n",
      "      else:  # if number_of_Credit > 7.5\n",
      "        return [[40.  0.]]\n"
     ]
    }
   ],
   "source": [
    "tree_to_code(clf, X_train.columns)"
   ]
  },
  {
   "cell_type": "markdown",
   "metadata": {},
   "source": [
    "## TWN_A12_01"
   ]
  },
  {
   "cell_type": "code",
   "execution_count": 42,
   "metadata": {},
   "outputs": [],
   "source": [
    "DAY = 15\n",
    "FEATURE = ['Credit_Amt', 'number_of_Credit', 'Debit_Amt', 'number_of_Debit']\n",
    "PATH = \"D:/Temp/NCTU/crystal/第二階段/new_alert/日數分類_營業日/\"\n",
    "FILE = \"TWN_A12_01_day15_with_aggregated_txn_scenario_txn_type_key_營業日.csv\""
   ]
  },
  {
   "cell_type": "code",
   "execution_count": 43,
   "metadata": {},
   "outputs": [
    {
     "name": "stderr",
     "output_type": "stream",
     "text": [
      "C:\\Users\\NCTUUser2\\anaconda3\\lib\\site-packages\\IPython\\core\\interactiveshell.py:3146: DtypeWarning: Columns (5) have mixed types.Specify dtype option on import or set low_memory=False.\n",
      "  has_raised = await self.run_ast_nodes(code_ast.body, cell_name,\n"
     ]
    }
   ],
   "source": [
    "file = pd.read_csv(PATH+FILE)"
   ]
  },
  {
   "cell_type": "code",
   "execution_count": 44,
   "metadata": {},
   "outputs": [],
   "source": [
    "file['TO_SAR'] = file['TO_SAR'].replace(np.nan, 0)\n",
    "file['TO_SAR'] = file['TO_SAR'].replace('NF', 1)\n",
    "file['TO_SAR'] = file['TO_SAR'].replace('F', 1)"
   ]
  },
  {
   "cell_type": "code",
   "execution_count": 45,
   "metadata": {},
   "outputs": [],
   "source": [
    "fileID = file['alert_id'].values"
   ]
  },
  {
   "cell_type": "code",
   "execution_count": 46,
   "metadata": {},
   "outputs": [],
   "source": [
    "HighIntersection = list(set(fileID) & set(riskHighID))"
   ]
  },
  {
   "cell_type": "code",
   "execution_count": 47,
   "metadata": {},
   "outputs": [],
   "source": [
    "rowHigh = []\n",
    "rowLow = []\n",
    "for i in range(file.shape[0]):\n",
    "    if file['alert_id'][i] in HighIntersection:\n",
    "        rowHigh.append(i)\n",
    "    else:\n",
    "        rowLow.append(i)"
   ]
  },
  {
   "cell_type": "code",
   "execution_count": 48,
   "metadata": {},
   "outputs": [],
   "source": [
    "file1 = file.iloc[rowHigh] "
   ]
  },
  {
   "cell_type": "code",
   "execution_count": 49,
   "metadata": {},
   "outputs": [
    {
     "name": "stdout",
     "output_type": "stream",
     "text": [
      "Verify on time series\n",
      "shape of data: (77, 39)\n",
      "total number of TO_SAR: 0\n",
      "********************************\n",
      "time interval in train set:2019-12-11~2020-01-03\n",
      "TO_SAR in train set: 0\n",
      "TO_SAR/Total in train set 0.0\n",
      "split dataset to train, test...\n",
      "********************************\n",
      "time interval in test set:2020-01-06~2020-11-27\n",
      "TO_SAR in test set: 0\n",
      "TO_SAR/Total in test set 0.0\n",
      "********************************\n",
      "train data shape:  (46, 38)\n",
      "test data shape:  (31, 38)\n"
     ]
    }
   ],
   "source": [
    "train_set, test_set = ReadFile(file1, SAR_type)"
   ]
  },
  {
   "cell_type": "code",
   "execution_count": 50,
   "metadata": {},
   "outputs": [],
   "source": [
    "file2 = file.iloc[rowLow] "
   ]
  },
  {
   "cell_type": "code",
   "execution_count": 51,
   "metadata": {},
   "outputs": [
    {
     "name": "stdout",
     "output_type": "stream",
     "text": [
      "Verify on time series\n",
      "shape of data: (49888, 39)\n",
      "total number of TO_SAR: 241\n",
      "********************************\n",
      "time interval in train set:2019-03-04~2020-05-21\n",
      "TO_SAR in train set: 144\n",
      "TO_SAR/Total in train set 0.004810904717359348\n",
      "split dataset to train, test...\n",
      "********************************\n",
      "time interval in test set:2020-02-20~2020-12-31\n",
      "TO_SAR in test set: 97\n",
      "TO_SAR/Total in test set 0.004860693525756665\n",
      "********************************\n",
      "train data shape:  (29932, 38)\n",
      "test data shape:  (19956, 38)\n"
     ]
    }
   ],
   "source": [
    "train_set, test_set = ReadFile(file2, SAR_type)"
   ]
  },
  {
   "cell_type": "code",
   "execution_count": 52,
   "metadata": {},
   "outputs": [],
   "source": [
    "# duplication\n",
    "ratio = train_set[train_set['TO_SAR']==0].shape[0] / train_set[train_set['TO_SAR']==1].shape[0]"
   ]
  },
  {
   "cell_type": "code",
   "execution_count": 53,
   "metadata": {},
   "outputs": [],
   "source": [
    "train_set = train_set.append([train_set[train_set['TO_SAR']==1]]*(int(ratio)-1))"
   ]
  },
  {
   "cell_type": "code",
   "execution_count": 54,
   "metadata": {},
   "outputs": [],
   "source": [
    "col = [*FEATURE, 'TO_SAR']\n",
    "train_set = train_set[col]\n",
    "test_set = test_set[col]"
   ]
  },
  {
   "cell_type": "code",
   "execution_count": 55,
   "metadata": {},
   "outputs": [
    {
     "name": "stdout",
     "output_type": "stream",
     "text": [
      "(59452, 5)\n",
      "(59451, 5)\n"
     ]
    }
   ],
   "source": [
    "print(train_set.shape)\n",
    "train_set = train_set.dropna()\n",
    "print(train_set.shape)"
   ]
  },
  {
   "cell_type": "code",
   "execution_count": 56,
   "metadata": {},
   "outputs": [],
   "source": [
    "X_train = train_set.drop(['TO_SAR'], axis = 1)\n",
    "y_train = train_set['TO_SAR']"
   ]
  },
  {
   "cell_type": "code",
   "execution_count": 57,
   "metadata": {},
   "outputs": [
    {
     "name": "stdout",
     "output_type": "stream",
     "text": [
      "(19956, 5)\n",
      "(19956, 5)\n"
     ]
    }
   ],
   "source": [
    "print(test_set.shape)\n",
    "test_set = test_set.dropna()\n",
    "print(test_set.shape)"
   ]
  },
  {
   "cell_type": "code",
   "execution_count": 58,
   "metadata": {},
   "outputs": [],
   "source": [
    "X_test = test_set.drop(['TO_SAR'], axis = 1)\n",
    "y_test = test_set['TO_SAR']"
   ]
  },
  {
   "cell_type": "code",
   "execution_count": 59,
   "metadata": {},
   "outputs": [],
   "source": [
    "clf = tree.DecisionTreeClassifier(max_depth=3)\n",
    "clf = clf.fit(X_train, y_train)"
   ]
  },
  {
   "cell_type": "code",
   "execution_count": 60,
   "metadata": {},
   "outputs": [
    {
     "data": {
      "text/plain": [
       "[]"
      ]
     },
     "execution_count": 60,
     "metadata": {},
     "output_type": "execute_result"
    },
    {
     "data": {
      "image/png": "[encoded data removed]",
      "text/plain": [
       "<Figure size 1440x720 with 1 Axes>"
      ]
     },
     "metadata": {
      "needs_background": "light"
     },
     "output_type": "display_data"
    }
   ],
   "source": [
    "plt.figure(figsize=(20,10))\n",
    "tree.plot_tree(clf)\n",
    "plt.plot()"
   ]
  },
  {
   "cell_type": "code",
   "execution_count": 61,
   "metadata": {},
   "outputs": [
    {
     "name": "stdout",
     "output_type": "stream",
     "text": [
      "acc:  0.468129885748647 f1:  0.014484679665738161 recall:  0.8041237113402062 precision:  0.007308160779537149 filter rate:  0.46517338143916614\n",
      "TP:  78 FP:  10595 FN:  19 TN:  9264\n"
     ]
    }
   ],
   "source": [
    "y_pred = clf.predict(X_test)\n",
    "printResult(y_pred, y_test)"
   ]
  },
  {
   "cell_type": "code",
   "execution_count": 64,
   "metadata": {},
   "outputs": [
    {
     "name": "stdout",
     "output_type": "stream",
     "text": [
      "def tree(Credit_Amt, number_of_Credit, Debit_Amt, number_of_Debit):\n",
      "  if number_of_Debit <= 5.5:\n",
      "    if Credit_Amt <= 2829565.0:\n",
      "      if number_of_Credit <= 21.5:\n",
      "        return [[9489. 1854.]]\n",
      "      else:  # if number_of_Credit > 21.5\n",
      "        return [[2147. 1236.]]\n",
      "    else:  # if Credit_Amt > 2829565.0\n",
      "      if Debit_Amt <= 150003.5:\n",
      "        return [[2351. 3502.]]\n",
      "      else:  # if Debit_Amt > 150003.5\n",
      "        return [[649.   0.]]\n",
      "  else:  # if number_of_Debit > 5.5\n",
      "    if Credit_Amt <= 2383257.0:\n",
      "      if number_of_Debit <= 40.5:\n",
      "        return [[13369. 18746.]]\n",
      "      else:  # if number_of_Debit > 40.5\n",
      "        return [[ 799. 4326.]]\n",
      "    else:  # if Credit_Amt > 2383257.0\n",
      "      return [[983.   0.]]\n"
     ]
    }
   ],
   "source": [
    "tree_to_code(clf, X_train.columns)"
   ]
  },
  {
   "cell_type": "code",
   "execution_count": null,
   "metadata": {},
   "outputs": [],
   "source": []
  },
  {
   "cell_type": "code",
   "execution_count": null,
   "metadata": {},
   "outputs": [],
   "source": []
  }
 ],
 "metadata": {
  "kernelspec": {
   "display_name": "Python 3",
   "language": "python",
   "name": "python3"
  },
  "language_info": {
   "codemirror_mode": {
    "name": "ipython",
    "version": 3
   },
   "file_extension": ".py",
   "mimetype": "text/x-python",
   "name": "python",
   "nbconvert_exporter": "python",
   "pygments_lexer": "ipython3",
   "version": "3.8.5"
  }
 },
 "nbformat": 4,
 "nbformat_minor": 4
}
