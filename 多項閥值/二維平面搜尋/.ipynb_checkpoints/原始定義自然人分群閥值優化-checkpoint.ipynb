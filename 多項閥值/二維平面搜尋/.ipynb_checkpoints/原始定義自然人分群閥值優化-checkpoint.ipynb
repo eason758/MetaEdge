{
 "cells": [
  {
   "cell_type": "markdown",
   "metadata": {},
   "source": [
    "# 按原始分群定義分群"
   ]
  },
  {
   "cell_type": "code",
   "execution_count": 1,
   "metadata": {},
   "outputs": [],
   "source": [
    "import pandas as pd\n",
    "import matplotlib.pyplot as plt"
   ]
  },
  {
   "cell_type": "code",
   "execution_count": 2,
   "metadata": {},
   "outputs": [],
   "source": [
    "df = pd.read_csv(\"D:/NCTU/12-資料產出/NCTU/alert處理new3.csv\")"
   ]
  },
  {
   "cell_type": "code",
   "execution_count": 3,
   "metadata": {},
   "outputs": [],
   "source": [
    "def Segmentation(TYPE, score):\n",
    "    if TYPE == 'original':\n",
    "        riskHigh = df[df['Cust_Segmentation']=='PH']\n",
    "        riskLow = df[df['Cust_Segmentation']=='PNH']\n",
    "    elif TYPE =='selfDefined':\n",
    "        riskHigh = df[df['risk_score'] >= score]\n",
    "        riskLow = df[df['risk_score'] < score]\n",
    "    \n",
    "    return riskHigh, riskLow"
   ]
  },
  {
   "cell_type": "code",
   "execution_count": 4,
   "metadata": {},
   "outputs": [],
   "source": [
    "TYPE = 'original'\n",
    "score = 0\n",
    "riskHigh, riskLow = Segmentation(TYPE, score)"
   ]
  },
  {
   "cell_type": "code",
   "execution_count": 5,
   "metadata": {},
   "outputs": [
    {
     "data": {
      "text/plain": [
       "<BarContainer object of 370 artists>"
      ]
     },
     "execution_count": 5,
     "metadata": {},
     "output_type": "execute_result"
    },
    {
     "data": {
      "image/png": "[encoded data removed]",
      "text/plain": [
       "<Figure size 432x288 with 1 Axes>"
      ]
     },
     "metadata": {
      "needs_background": "light"
     },
     "output_type": "display_data"
    }
   ],
   "source": [
    "plt.bar(riskHigh['risk_score'].value_counts().index, riskHigh['risk_score'].value_counts().values)"
   ]
  },
  {
   "cell_type": "code",
   "execution_count": 61,
   "metadata": {},
   "outputs": [
    {
     "data": {
      "text/plain": [
       "<BarContainer object of 540 artists>"
      ]
     },
     "execution_count": 61,
     "metadata": {},
     "output_type": "execute_result"
    },
    {
     "data": {
      "image/png": "[encoded data removed]",
      "text/plain": [
       "<Figure size 432x288 with 1 Axes>"
      ]
     },
     "metadata": {
      "needs_background": "light"
     },
     "output_type": "display_data"
    }
   ],
   "source": [
    "plt.bar(riskLow['risk_score'].value_counts().index, riskLow['risk_score'].value_counts().values)"
   ]
  },
  {
   "cell_type": "markdown",
   "metadata": {},
   "source": [
    "### risk score切分落在124左右(original)"
   ]
  },
  {
   "cell_type": "code",
   "execution_count": 6,
   "metadata": {},
   "outputs": [],
   "source": [
    "riskHighID = riskHigh['alert_id'].values"
   ]
  },
  {
   "cell_type": "code",
   "execution_count": 7,
   "metadata": {},
   "outputs": [],
   "source": [
    "riskLowID = riskLow['alert_id'].values"
   ]
  },
  {
   "cell_type": "markdown",
   "metadata": {},
   "source": [
    "# 分群閥值"
   ]
  },
  {
   "cell_type": "code",
   "execution_count": 8,
   "metadata": {},
   "outputs": [],
   "source": [
    "%run ./function.ipynb"
   ]
  },
  {
   "cell_type": "code",
   "execution_count": 9,
   "metadata": {},
   "outputs": [],
   "source": [
    "SAR_type = 'TO_SAR'"
   ]
  },
  {
   "cell_type": "markdown",
   "metadata": {},
   "source": [
    "## TWN_A11_01"
   ]
  },
  {
   "cell_type": "code",
   "execution_count": 10,
   "metadata": {},
   "outputs": [],
   "source": [
    "DAY = 15\n",
    "FEATURE = ['Credit_Amt', 'number_of_Credit', 'Debit_Amt', 'number_of_Debit']\n",
    "PATH = \"D:/Temp/NCTU/crystal/第二階段/new_alert/日數分類_營業日/\"\n",
    "FILE = \"TWN_A11_01_day15_with_aggregated_txn_scenario_txn_type_key_營業日.csv\""
   ]
  },
  {
   "cell_type": "code",
   "execution_count": 11,
   "metadata": {},
   "outputs": [],
   "source": [
    "file = pd.read_csv(PATH+FILE)"
   ]
  },
  {
   "cell_type": "code",
   "execution_count": 12,
   "metadata": {},
   "outputs": [
    {
     "data": {
      "text/plain": [
       "(86770, 45)"
      ]
     },
     "execution_count": 12,
     "metadata": {},
     "output_type": "execute_result"
    }
   ],
   "source": [
    "file.shape"
   ]
  },
  {
   "cell_type": "code",
   "execution_count": 13,
   "metadata": {},
   "outputs": [],
   "source": [
    "file['TO_SAR'] = file['TO_SAR'].replace(np.nan, 0)\n",
    "file['TO_SAR'] = file['TO_SAR'].replace('NF', 1)\n",
    "file['TO_SAR'] = file['TO_SAR'].replace('F', 1)"
   ]
  },
  {
   "cell_type": "code",
   "execution_count": 14,
   "metadata": {},
   "outputs": [
    {
     "data": {
      "text/plain": [
       "0    86324\n",
       "1      446\n",
       "Name: TO_SAR, dtype: int64"
      ]
     },
     "execution_count": 14,
     "metadata": {},
     "output_type": "execute_result"
    }
   ],
   "source": [
    "file['TO_SAR'].value_counts()"
   ]
  },
  {
   "cell_type": "code",
   "execution_count": 15,
   "metadata": {},
   "outputs": [
    {
     "data": {
      "text/plain": [
       "(86770, 45)"
      ]
     },
     "execution_count": 15,
     "metadata": {},
     "output_type": "execute_result"
    }
   ],
   "source": [
    "file.shape"
   ]
  },
  {
   "cell_type": "code",
   "execution_count": 93,
   "metadata": {},
   "outputs": [],
   "source": [
    "fileID = file['alert_id'].values"
   ]
  },
  {
   "cell_type": "code",
   "execution_count": 94,
   "metadata": {},
   "outputs": [],
   "source": [
    "HighIntersection = list(set(fileID) & set(riskHighID))"
   ]
  },
  {
   "cell_type": "code",
   "execution_count": 95,
   "metadata": {},
   "outputs": [],
   "source": [
    "rowHigh = []\n",
    "rowLow = []\n",
    "for i in range(file.shape[0]):\n",
    "    if file['alert_id'][i] in HighIntersection:\n",
    "        rowHigh.append(i)\n",
    "    else:\n",
    "        rowLow.append(i)"
   ]
  },
  {
   "cell_type": "code",
   "execution_count": 96,
   "metadata": {},
   "outputs": [],
   "source": [
    "file1 = file.iloc[rowHigh] "
   ]
  },
  {
   "cell_type": "code",
   "execution_count": 97,
   "metadata": {},
   "outputs": [
    {
     "data": {
      "text/plain": [
       "0    75\n",
       "Name: TO_SAR, dtype: int64"
      ]
     },
     "execution_count": 97,
     "metadata": {},
     "output_type": "execute_result"
    }
   ],
   "source": [
    "file1['TO_SAR'].value_counts()"
   ]
  },
  {
   "cell_type": "code",
   "execution_count": 98,
   "metadata": {},
   "outputs": [],
   "source": [
    "file2 = file.iloc[rowLow] "
   ]
  },
  {
   "cell_type": "code",
   "execution_count": 99,
   "metadata": {},
   "outputs": [
    {
     "name": "stdout",
     "output_type": "stream",
     "text": [
      "Verify on time series\n",
      "shape of data: (86695, 39)\n",
      "total number of TO_SAR: 446\n",
      "********************************\n",
      "time interval in train set:2019-03-04~2020-04-29\n",
      "TO_SAR in train set: 267\n",
      "TO_SAR/Total in train set 0.005133035988926484\n",
      "split dataset to train, test...\n",
      "********************************\n",
      "time interval in test set:2020-02-19~2020-12-31\n",
      "TO_SAR in test set: 179\n",
      "TO_SAR/Total in test set 0.005161625191037804\n",
      "********************************\n",
      "train data shape:  (52016, 38)\n",
      "test data shape:  (34679, 38)\n"
     ]
    }
   ],
   "source": [
    "train_set, test_set = ReadFile(file2, SAR_type)"
   ]
  },
  {
   "cell_type": "code",
   "execution_count": 100,
   "metadata": {},
   "outputs": [],
   "source": [
    "train_SAR = train_set[train_set['TO_SAR']!=0]\n",
    "train_Non_SAR = train_set[train_set['TO_SAR']==0]"
   ]
  },
  {
   "cell_type": "code",
   "execution_count": 101,
   "metadata": {},
   "outputs": [],
   "source": [
    "test_SAR = test_set[test_set['TO_SAR']!=0]\n",
    "test_Non_SAR = test_set[test_set['TO_SAR']==0]"
   ]
  },
  {
   "cell_type": "markdown",
   "metadata": {},
   "source": [
    "### Search Answer"
   ]
  },
  {
   "cell_type": "code",
   "execution_count": 102,
   "metadata": {},
   "outputs": [
    {
     "name": "stdout",
     "output_type": "stream",
     "text": [
      "[0.0, 0.0, 0.0, 0.0, 0.0, 8442.999999999958, 668833.5999999999, 1074600.0, 1553043.6, 6840000.0]\n",
      "\n",
      "[0.0, 0.0, 0.0, 0.0, 0.0, 1.0, 5.0, 9.800000000000011, 17.0, 98.0]\n",
      "\n",
      "[0.0, 101719.60000000002, 945568.0, 1050000.0, 1150000.0, 1200048.0, 1392000.0, 1888417.6000000006, 2400000.0, 10600030.0]\n",
      "\n",
      "[0.0, 3.200000000000003, 6.0, 10.0, 14.0, 17.0, 20.0, 24.0, 39.80000000000001, 149.0]\n",
      "\n"
     ]
    }
   ],
   "source": [
    "number_of_credit_threshold = []\n",
    "credit_amt_threshold = []\n",
    "number_of_debit_threshold = []\n",
    "debit_amt_threshold = []\n",
    "\n",
    "# FEATURE = ['Credit_Amt', 'number_of_Credit', 'Debit_Amt', 'number_of_Debit']\n",
    "threshold_list = [credit_amt_threshold, number_of_credit_threshold, debit_amt_threshold, number_of_debit_threshold]\n",
    "\n",
    "for i in range(len(FEATURE)):\n",
    "    tmp = []\n",
    "    tmp = list(train_SAR[FEATURE[i]].values)\n",
    "    tmp.sort()\n",
    "    for j in np.linspace(10, 100, 10):\n",
    "        threshold_list[i].append(np.percentile(tmp, j))\n",
    "        \n",
    "    print(threshold_list[i])\n",
    "    print()"
   ]
  },
  {
   "cell_type": "code",
   "execution_count": 103,
   "metadata": {},
   "outputs": [],
   "source": [
    "%run ./function.ipynb"
   ]
  },
  {
   "cell_type": "code",
   "execution_count": 104,
   "metadata": {},
   "outputs": [
    {
     "name": "stdout",
     "output_type": "stream",
     "text": [
      "max val:  0.2332446844561732 number of max val:  1\n",
      "Rank: 10, countMax: 1, 100- countZero: 10\n",
      "67th, recall: 0.20224719101123595, val1: 5.0, val2: 1074600.0\n",
      "77th, recall: 0.15355805243445692, val1: 9.800000000000011, val2: 1074600.0\n",
      "68th, recall: 0.10112359550561797, val1: 5.0, val2: 1553043.6\n",
      "87th, recall: 0.0749063670411985, val1: 17.0, val2: 1074600.0\n",
      "78th, recall: 0.07116104868913857, val1: 9.800000000000011, val2: 1553043.6\n",
      "88th, recall: 0.03745318352059925, val1: 17.0, val2: 1553043.6\n",
      "79th, recall: 0.011235955056179775, val1: 9.800000000000011, val2: 6840000.0\n",
      "69th, recall: 0.011235955056179775, val1: 5.0, val2: 6840000.0\n",
      "98th, recall: 0.003745318352059925, val1: 98.0, val2: 1553043.6\n",
      "97th, recall: 0.003745318352059925, val1: 98.0, val2: 1074600.0\n",
      "********************************\n"
     ]
    }
   ],
   "source": [
    "LOGIC = \"OR\"\n",
    "default_number_of_credit  = 5\n",
    "default_credit_amt = 985500\n",
    "candidate_rule1 = Search2D(number_of_credit_threshold, credit_amt_threshold, 'number_of_Credit','Credit_Amt',\\\n",
    "                           default_number_of_credit, default_credit_amt, train_SAR, \\\n",
    "                           train_Non_SAR, train_set, LOGIC, SAR_type)"
   ]
  },
  {
   "cell_type": "code",
   "execution_count": 105,
   "metadata": {},
   "outputs": [
    {
     "name": "stdout",
     "output_type": "stream",
     "text": [
      "max val:  0.5700076793096693 number of max val:  1\n",
      "Rank: 10, countMax: 1, 100- countZero: 49\n",
      "32th, recall: 0.5543071161048689, val1: 1050000.0, val2: 6.0\n",
      "33th, recall: 0.4606741573033708, val1: 1050000.0, val2: 10.0\n",
      "42th, recall: 0.45692883895131087, val1: 1150000.0, val2: 6.0\n",
      "34th, recall: 0.4044943820224719, val1: 1050000.0, val2: 14.0\n",
      "43th, recall: 0.3707865168539326, val1: 1150000.0, val2: 10.0\n",
      "52th, recall: 0.3595505617977528, val1: 1200048.0, val2: 6.0\n",
      "35th, recall: 0.3333333333333333, val1: 1050000.0, val2: 17.0\n",
      "44th, recall: 0.3258426966292135, val1: 1150000.0, val2: 14.0\n",
      "45th, recall: 0.27715355805243447, val1: 1150000.0, val2: 17.0\n",
      "53th, recall: 0.27340823970037453, val1: 1200048.0, val2: 10.0\n",
      "********************************\n"
     ]
    }
   ],
   "source": [
    "LOGIC = \"OR\"\n",
    "default_debit_amt = 985500\n",
    "default_number_of_debit  = 5\n",
    "\n",
    "candidate_rule2 = Search2D(debit_amt_threshold, number_of_debit_threshold, 'Debit_Amt','number_of_Debit' , default_debit_amt,\\\n",
    "                           default_number_of_debit , train_SAR, train_Non_SAR, train_set, LOGIC, SAR_type)"
   ]
  },
  {
   "cell_type": "code",
   "execution_count": 106,
   "metadata": {},
   "outputs": [],
   "source": [
    "candidate_rule1 = [[ceil(x), ceil(y)] for [x,y] in candidate_rule1]\n",
    "candidate_rule2 = [[ceil(x), ceil(y)] for [x,y] in candidate_rule2]"
   ]
  },
  {
   "cell_type": "code",
   "execution_count": 107,
   "metadata": {},
   "outputs": [],
   "source": [
    "# apply on testing set\n",
    "results = pd.DataFrame(columns = ['number_of_Credit','Credit_Amt',\\\n",
    "                                  'Debit_Amt','number_of_Debit','SAR', 'Non SAR','newSAM=1_SAR=1(TP)','newSAM=1_SAR=0(FP)',\\\n",
    "                                  'newSAM=0_SAR=1(FN)', 'newSAM=0_SAR=0(TN)', 'recall','filter rate'])\n",
    "\n",
    "for thre1, thre2 in candidate_rule1:\n",
    "    for thre3, thre4 in candidate_rule2:\n",
    "        idx = list(set(test_set[test_set['number_of_Credit']>=thre1].index) & set(test_set[test_set['Credit_Amt']>=thre2].index))\n",
    "        idx1 = list(set(test_set[test_set['Debit_Amt']>=thre3].index) & set(test_set[test_set['number_of_Debit']>=thre4].index))\n",
    "        new_SAM_1_rule1 = test_set.iloc[idx]\n",
    "        new_SAM_1_rule2 = test_set.iloc[idx1]\n",
    "\n",
    "        new_SAM_1 = new_SAM_1_rule1.append(new_SAM_1_rule2)\n",
    "        new_SAM_1 = new_SAM_1.drop_duplicates()\n",
    "        new_SAM_0 = test_set.drop(index = new_SAM_1.index)\n",
    "\n",
    "        if (new_SAM_0.shape[0]+new_SAM_1.shape[0])!=test_set.shape[0]:\n",
    "            raise ValueError(\"new SAM 0 and new SAM 1 overlapped!\")\n",
    "            \n",
    "        TP = new_SAM_1[new_SAM_1['TO_SAR']!=0].shape[0]\n",
    "        TN = new_SAM_0[new_SAM_0['TO_SAR']==0].shape[0]\n",
    "        FP = new_SAM_1[new_SAM_1['TO_SAR']==0].shape[0]\n",
    "        FN = new_SAM_0[new_SAM_0['TO_SAR']!=0].shape[0]\n",
    "        total = test_set.shape[0]\n",
    "        results = results.append({'number_of_Credit':int(thre1),'Credit_Amt':thre2,  \\\n",
    "                                  'Debit_Amt':thre3, 'number_of_Debit':thre4, 'SAR':test_set[test_set['TO_SAR']!=0].shape[0], \\\n",
    "                                  'Non SAR':test_set[test_set['TO_SAR']==0].shape[0],\\\n",
    "                                  'newSAM=1_SAR=1(TP)':TP, 'newSAM=1_SAR=0(FP)':FP, 'newSAM=0_SAR=1(FN)':FN,\\\n",
    "                                  'newSAM=0_SAR=0(TN)':TN, 'recall': str(round(TP/(TP+FN), 4)),\\\n",
    "                                  'filter rate':str((round((TN+FN)/total, 4)))}, ignore_index = True)\n"
   ]
  },
  {
   "cell_type": "code",
   "execution_count": 112,
   "metadata": {},
   "outputs": [
    {
     "data": {
      "text/html": [
       "<div>\n",
       "<style scoped>\n",
       "    .dataframe tbody tr th:only-of-type {\n",
       "        vertical-align: middle;\n",
       "    }\n",
       "\n",
       "    .dataframe tbody tr th {\n",
       "        vertical-align: top;\n",
       "    }\n",
       "\n",
       "    .dataframe thead th {\n",
       "        text-align: right;\n",
       "    }\n",
       "</style>\n",
       "<table border=\"1\" class=\"dataframe\">\n",
       "  <thead>\n",
       "    <tr style=\"text-align: right;\">\n",
       "      <th></th>\n",
       "      <th>number_of_Credit</th>\n",
       "      <th>Credit_Amt</th>\n",
       "      <th>Debit_Amt</th>\n",
       "      <th>number_of_Debit</th>\n",
       "      <th>SAR</th>\n",
       "      <th>Non SAR</th>\n",
       "      <th>newSAM=1_SAR=1(TP)</th>\n",
       "      <th>newSAM=1_SAR=0(FP)</th>\n",
       "      <th>newSAM=0_SAR=1(FN)</th>\n",
       "      <th>newSAM=0_SAR=0(TN)</th>\n",
       "      <th>recall</th>\n",
       "      <th>filter rate</th>\n",
       "    </tr>\n",
       "  </thead>\n",
       "  <tbody>\n",
       "    <tr>\n",
       "      <th>99</th>\n",
       "      <td>5</td>\n",
       "      <td>1074600</td>\n",
       "      <td>1050000</td>\n",
       "      <td>6</td>\n",
       "      <td>179</td>\n",
       "      <td>34500</td>\n",
       "      <td>141</td>\n",
       "      <td>24493</td>\n",
       "      <td>38</td>\n",
       "      <td>10007</td>\n",
       "      <td>0.7877</td>\n",
       "      <td>0.2897</td>\n",
       "    </tr>\n",
       "    <tr>\n",
       "      <th>79</th>\n",
       "      <td>5</td>\n",
       "      <td>1553044</td>\n",
       "      <td>1050000</td>\n",
       "      <td>6</td>\n",
       "      <td>179</td>\n",
       "      <td>34500</td>\n",
       "      <td>131</td>\n",
       "      <td>18462</td>\n",
       "      <td>48</td>\n",
       "      <td>16038</td>\n",
       "      <td>0.7318</td>\n",
       "      <td>0.4639</td>\n",
       "    </tr>\n",
       "    <tr>\n",
       "      <th>89</th>\n",
       "      <td>10</td>\n",
       "      <td>1074600</td>\n",
       "      <td>1050000</td>\n",
       "      <td>6</td>\n",
       "      <td>179</td>\n",
       "      <td>34500</td>\n",
       "      <td>127</td>\n",
       "      <td>19523</td>\n",
       "      <td>52</td>\n",
       "      <td>14977</td>\n",
       "      <td>0.7095</td>\n",
       "      <td>0.4334</td>\n",
       "    </tr>\n",
       "    <tr>\n",
       "      <th>59</th>\n",
       "      <td>10</td>\n",
       "      <td>1553044</td>\n",
       "      <td>1050000</td>\n",
       "      <td>6</td>\n",
       "      <td>179</td>\n",
       "      <td>34500</td>\n",
       "      <td>122</td>\n",
       "      <td>15991</td>\n",
       "      <td>57</td>\n",
       "      <td>18509</td>\n",
       "      <td>0.6816</td>\n",
       "      <td>0.5354</td>\n",
       "    </tr>\n",
       "    <tr>\n",
       "      <th>69</th>\n",
       "      <td>17</td>\n",
       "      <td>1074600</td>\n",
       "      <td>1050000</td>\n",
       "      <td>6</td>\n",
       "      <td>179</td>\n",
       "      <td>34500</td>\n",
       "      <td>122</td>\n",
       "      <td>15739</td>\n",
       "      <td>57</td>\n",
       "      <td>18761</td>\n",
       "      <td>0.6816</td>\n",
       "      <td>0.5426</td>\n",
       "    </tr>\n",
       "    <tr>\n",
       "      <th>97</th>\n",
       "      <td>5</td>\n",
       "      <td>1074600</td>\n",
       "      <td>1150000</td>\n",
       "      <td>6</td>\n",
       "      <td>179</td>\n",
       "      <td>34500</td>\n",
       "      <td>121</td>\n",
       "      <td>22574</td>\n",
       "      <td>58</td>\n",
       "      <td>11926</td>\n",
       "      <td>0.676</td>\n",
       "      <td>0.3456</td>\n",
       "    </tr>\n",
       "    <tr>\n",
       "      <th>49</th>\n",
       "      <td>17</td>\n",
       "      <td>1553044</td>\n",
       "      <td>1050000</td>\n",
       "      <td>6</td>\n",
       "      <td>179</td>\n",
       "      <td>34500</td>\n",
       "      <td>119</td>\n",
       "      <td>13982</td>\n",
       "      <td>60</td>\n",
       "      <td>20518</td>\n",
       "      <td>0.6648</td>\n",
       "      <td>0.5934</td>\n",
       "    </tr>\n",
       "    <tr>\n",
       "      <th>9</th>\n",
       "      <td>98</td>\n",
       "      <td>1074600</td>\n",
       "      <td>1050000</td>\n",
       "      <td>6</td>\n",
       "      <td>179</td>\n",
       "      <td>34500</td>\n",
       "      <td>115</td>\n",
       "      <td>11912</td>\n",
       "      <td>64</td>\n",
       "      <td>22588</td>\n",
       "      <td>0.6425</td>\n",
       "      <td>0.6532</td>\n",
       "    </tr>\n",
       "    <tr>\n",
       "      <th>39</th>\n",
       "      <td>10</td>\n",
       "      <td>6840000</td>\n",
       "      <td>1050000</td>\n",
       "      <td>6</td>\n",
       "      <td>179</td>\n",
       "      <td>34500</td>\n",
       "      <td>115</td>\n",
       "      <td>11748</td>\n",
       "      <td>64</td>\n",
       "      <td>22752</td>\n",
       "      <td>0.6425</td>\n",
       "      <td>0.6579</td>\n",
       "    </tr>\n",
       "    <tr>\n",
       "      <th>29</th>\n",
       "      <td>5</td>\n",
       "      <td>6840000</td>\n",
       "      <td>1050000</td>\n",
       "      <td>6</td>\n",
       "      <td>179</td>\n",
       "      <td>34500</td>\n",
       "      <td>115</td>\n",
       "      <td>11815</td>\n",
       "      <td>64</td>\n",
       "      <td>22685</td>\n",
       "      <td>0.6425</td>\n",
       "      <td>0.656</td>\n",
       "    </tr>\n",
       "  </tbody>\n",
       "</table>\n",
       "</div>"
      ],
      "text/plain": [
       "   number_of_Credit Credit_Amt Debit_Amt number_of_Debit  SAR Non SAR  \\\n",
       "99                5    1074600   1050000               6  179   34500   \n",
       "79                5    1553044   1050000               6  179   34500   \n",
       "89               10    1074600   1050000               6  179   34500   \n",
       "59               10    1553044   1050000               6  179   34500   \n",
       "69               17    1074600   1050000               6  179   34500   \n",
       "97                5    1074600   1150000               6  179   34500   \n",
       "49               17    1553044   1050000               6  179   34500   \n",
       "9                98    1074600   1050000               6  179   34500   \n",
       "39               10    6840000   1050000               6  179   34500   \n",
       "29                5    6840000   1050000               6  179   34500   \n",
       "\n",
       "   newSAM=1_SAR=1(TP) newSAM=1_SAR=0(FP) newSAM=0_SAR=1(FN)  \\\n",
       "99                141              24493                 38   \n",
       "79                131              18462                 48   \n",
       "89                127              19523                 52   \n",
       "59                122              15991                 57   \n",
       "69                122              15739                 57   \n",
       "97                121              22574                 58   \n",
       "49                119              13982                 60   \n",
       "9                 115              11912                 64   \n",
       "39                115              11748                 64   \n",
       "29                115              11815                 64   \n",
       "\n",
       "   newSAM=0_SAR=0(TN)  recall filter rate  \n",
       "99              10007  0.7877      0.2897  \n",
       "79              16038  0.7318      0.4639  \n",
       "89              14977  0.7095      0.4334  \n",
       "59              18509  0.6816      0.5354  \n",
       "69              18761  0.6816      0.5426  \n",
       "97              11926   0.676      0.3456  \n",
       "49              20518  0.6648      0.5934  \n",
       "9               22588  0.6425      0.6532  \n",
       "39              22752  0.6425      0.6579  \n",
       "29              22685  0.6425       0.656  "
      ]
     },
     "execution_count": 112,
     "metadata": {},
     "output_type": "execute_result"
    }
   ],
   "source": [
    "results = results.sort_values(by='recall', ascending=False).drop_duplicates()[:10]\n",
    "results "
   ]
  },
  {
   "cell_type": "markdown",
   "metadata": {},
   "source": [
    "## TWN_A12_01"
   ]
  },
  {
   "cell_type": "code",
   "execution_count": 87,
   "metadata": {},
   "outputs": [],
   "source": [
    "DAY = 15\n",
    "FEATURE = ['Credit_Amt', 'number_of_Credit', 'Debit_Amt','number_of_Debit']\n",
    "PATH = \"D:/Temp/NCTU/crystal/第二階段/new_alert/日數分類_營業日/\"\n",
    "FILE = \"TWN_A12_01_day15_with_aggregated_txn_scenario_txn_type_key_營業日.csv\""
   ]
  },
  {
   "cell_type": "code",
   "execution_count": 88,
   "metadata": {},
   "outputs": [
    {
     "name": "stderr",
     "output_type": "stream",
     "text": [
      "C:\\Users\\NCTUUser2\\anaconda3\\lib\\site-packages\\IPython\\core\\interactiveshell.py:3146: DtypeWarning: Columns (5) have mixed types.Specify dtype option on import or set low_memory=False.\n",
      "  has_raised = await self.run_ast_nodes(code_ast.body, cell_name,\n"
     ]
    }
   ],
   "source": [
    "file = pd.read_csv(PATH+FILE)"
   ]
  },
  {
   "cell_type": "code",
   "execution_count": 89,
   "metadata": {},
   "outputs": [],
   "source": [
    "file['TO_SAR'] = file['TO_SAR'].replace(np.nan, 0)\n",
    "file['TO_SAR'] = file['TO_SAR'].replace('NF', 1)\n",
    "file['TO_SAR'] = file['TO_SAR'].replace('F', 1)"
   ]
  },
  {
   "cell_type": "code",
   "execution_count": 90,
   "metadata": {},
   "outputs": [
    {
     "data": {
      "text/plain": [
       "0    49724\n",
       "1      241\n",
       "Name: TO_SAR, dtype: int64"
      ]
     },
     "execution_count": 90,
     "metadata": {},
     "output_type": "execute_result"
    }
   ],
   "source": [
    "file['TO_SAR'].value_counts()"
   ]
  },
  {
   "cell_type": "code",
   "execution_count": 91,
   "metadata": {},
   "outputs": [],
   "source": [
    "fileID = file['alert_id'].values"
   ]
  },
  {
   "cell_type": "code",
   "execution_count": 21,
   "metadata": {},
   "outputs": [
    {
     "ename": "NameError",
     "evalue": "name 'riskHighID' is not defined",
     "output_type": "error",
     "traceback": [
      "\u001b[1;31m---------------------------------------------------------------------------\u001b[0m",
      "\u001b[1;31mNameError\u001b[0m                                 Traceback (most recent call last)",
      "\u001b[1;32m<ipython-input-21-16cb239273a0>\u001b[0m in \u001b[0;36m<module>\u001b[1;34m\u001b[0m\n\u001b[1;32m----> 1\u001b[1;33m \u001b[0mHighIntersection\u001b[0m \u001b[1;33m=\u001b[0m \u001b[0mlist\u001b[0m\u001b[1;33m(\u001b[0m\u001b[0mset\u001b[0m\u001b[1;33m(\u001b[0m\u001b[0mfileID\u001b[0m\u001b[1;33m)\u001b[0m \u001b[1;33m&\u001b[0m \u001b[0mset\u001b[0m\u001b[1;33m(\u001b[0m\u001b[0mriskHighID\u001b[0m\u001b[1;33m)\u001b[0m\u001b[1;33m)\u001b[0m\u001b[1;33m\u001b[0m\u001b[1;33m\u001b[0m\u001b[0m\n\u001b[0m",
      "\u001b[1;31mNameError\u001b[0m: name 'riskHighID' is not defined"
     ]
    }
   ],
   "source": [
    "HighIntersection = list(set(fileID) & set(riskHighID))"
   ]
  },
  {
   "cell_type": "code",
   "execution_count": 93,
   "metadata": {},
   "outputs": [],
   "source": [
    "rowHigh = []\n",
    "rowLow = []\n",
    "for i in range(file.shape[0]):\n",
    "    if file['alert_id'][i] in HighIntersection:\n",
    "        rowHigh.append(i)\n",
    "    else:\n",
    "        rowLow.append(i)"
   ]
  },
  {
   "cell_type": "code",
   "execution_count": 94,
   "metadata": {},
   "outputs": [],
   "source": [
    "file1 = file.iloc[rowHigh]"
   ]
  },
  {
   "cell_type": "code",
   "execution_count": 95,
   "metadata": {},
   "outputs": [
    {
     "data": {
      "text/plain": [
       "0    77\n",
       "Name: TO_SAR, dtype: int64"
      ]
     },
     "execution_count": 95,
     "metadata": {},
     "output_type": "execute_result"
    }
   ],
   "source": [
    "file1['TO_SAR'].value_counts()"
   ]
  },
  {
   "cell_type": "code",
   "execution_count": 96,
   "metadata": {},
   "outputs": [],
   "source": [
    "file2 = file.iloc[rowLow]"
   ]
  },
  {
   "cell_type": "code",
   "execution_count": 97,
   "metadata": {},
   "outputs": [
    {
     "data": {
      "text/plain": [
       "0    49647\n",
       "1      241\n",
       "Name: TO_SAR, dtype: int64"
      ]
     },
     "execution_count": 97,
     "metadata": {},
     "output_type": "execute_result"
    }
   ],
   "source": [
    "file2['TO_SAR'].value_counts()"
   ]
  },
  {
   "cell_type": "code",
   "execution_count": 98,
   "metadata": {},
   "outputs": [
    {
     "name": "stdout",
     "output_type": "stream",
     "text": [
      "Verify on time series\n",
      "shape of data: (49888, 39)\n",
      "total number of TO_SAR: 241\n",
      "********************************\n",
      "time interval in train set:2019-03-04~2020-05-21\n",
      "TO_SAR in train set: 144\n",
      "TO_SAR/Total in train set 0.004810904717359348\n",
      "split dataset to train, test...\n",
      "********************************\n",
      "time interval in test set:2020-02-20~2020-12-31\n",
      "TO_SAR in test set: 97\n",
      "TO_SAR/Total in test set 0.004860693525756665\n",
      "********************************\n",
      "train data shape:  (29932, 38)\n",
      "test data shape:  (19956, 38)\n"
     ]
    }
   ],
   "source": [
    "train_set, test_set = ReadFile(file2, SAR_type)"
   ]
  },
  {
   "cell_type": "code",
   "execution_count": 99,
   "metadata": {},
   "outputs": [],
   "source": [
    "train_SAR = train_set[train_set['TO_SAR']!=0]\n",
    "train_Non_SAR = train_set[train_set['TO_SAR']==0]"
   ]
  },
  {
   "cell_type": "code",
   "execution_count": 100,
   "metadata": {},
   "outputs": [],
   "source": [
    "test_SAR = test_set[test_set['TO_SAR']!=0]\n",
    "test_Non_SAR = test_set[test_set['TO_SAR']==0]"
   ]
  },
  {
   "cell_type": "markdown",
   "metadata": {},
   "source": [
    "### Search Answer"
   ]
  },
  {
   "cell_type": "code",
   "execution_count": 101,
   "metadata": {},
   "outputs": [
    {
     "name": "stdout",
     "output_type": "stream",
     "text": [
      "[0.0, 0.0, 0.0, 0.0, 0.0, 482502.99999999977, 1121800.0, 1702000.0000000005, 2883400.0000000005, 14459232.0]\n",
      "\n",
      "[0.0, 0.0, 0.0, 0.0, 0.0, 2.0, 7.0, 12.400000000000006, 24.0, 98.0]\n",
      "\n",
      "[0.0, 130000.00000000007, 1077054.0, 1379120.0, 1566836.5, 1888440.5999999996, 2194150.5, 2583700.0, 3197008.5, 10600030.0]\n",
      "\n",
      "[0.0, 2.0, 7.0, 9.200000000000003, 14.0, 17.0, 21.0, 29.400000000000006, 42.0, 149.0]\n",
      "\n"
     ]
    }
   ],
   "source": [
    "number_of_credit_threshold = []\n",
    "credit_amt_threshold = []\n",
    "number_of_debit_threshold = []\n",
    "debit_amt_threshold = []\n",
    "\n",
    "# FEATURE = ['Credit_Amt', 'number_of_Credit', 'Debit_Amt', 'number_of_Debit']\n",
    "threshold_list = [credit_amt_threshold, number_of_credit_threshold, debit_amt_threshold, number_of_debit_threshold]\n",
    "\n",
    "for i in range(len(FEATURE)):\n",
    "    tmp = []\n",
    "    tmp = list(train_SAR[FEATURE[i]].values)\n",
    "    tmp.sort()\n",
    "    for j in np.linspace(10, 100, 10):\n",
    "        threshold_list[i].append(np.percentile(tmp, j))\n",
    "        \n",
    "    print(threshold_list[i])\n",
    "    print()"
   ]
  },
  {
   "cell_type": "code",
   "execution_count": 102,
   "metadata": {},
   "outputs": [
    {
     "name": "stdout",
     "output_type": "stream",
     "text": [
      "max val:  0.18882497594927491 number of max val:  1\n",
      "67th, recall: 0.1597222222222222, val1: 7.0, val2: 1702000.0000000005\n",
      "77th, recall: 0.10416666666666667, val1: 12.400000000000006, val2: 1702000.0000000005\n",
      "68th, recall: 0.09027777777777778, val1: 7.0, val2: 2883400.0000000005\n",
      "78th, recall: 0.06944444444444445, val1: 12.400000000000006, val2: 2883400.0000000005\n",
      "87th, recall: 0.06944444444444445, val1: 24.0, val2: 1702000.0000000005\n",
      "88th, recall: 0.034722222222222224, val1: 24.0, val2: 2883400.0000000005\n",
      "98th, recall: 0.006944444444444444, val1: 98.0, val2: 2883400.0000000005\n",
      "97th, recall: 0.006944444444444444, val1: 98.0, val2: 1702000.0000000005\n",
      "********************************\n"
     ]
    }
   ],
   "source": [
    "LOGIC = 'OR'\n",
    "default_number_of_credit  = 6\n",
    "default_credit_amt = 1311700\n",
    "candidate_rule1 = Search2D(number_of_credit_threshold, credit_amt_threshold, 'number_of_Credit','Credit_Amt' ,\\\n",
    "                           default_number_of_credit, default_credit_amt, train_SAR, train_Non_SAR, train_set, LOGIC, SAR_type)"
   ]
  },
  {
   "cell_type": "code",
   "execution_count": 103,
   "metadata": {},
   "outputs": [
    {
     "name": "stdout",
     "output_type": "stream",
     "text": [
      "max val:  0.5562848487477376 number of max val:  1\n",
      "23th, recall: 0.5347222222222222, val1: 7.0, val2: 1379120.0\n",
      "24th, recall: 0.4513888888888889, val1: 7.0, val2: 1566836.5\n",
      "33th, recall: 0.4305555555555556, val1: 9.200000000000003, val2: 1379120.0\n",
      "43th, recall: 0.3819444444444444, val1: 14.0, val2: 1379120.0\n",
      "25th, recall: 0.3541666666666667, val1: 7.0, val2: 1888440.5999999996\n",
      "53th, recall: 0.3472222222222222, val1: 17.0, val2: 1379120.0\n",
      "34th, recall: 0.3472222222222222, val1: 9.200000000000003, val2: 1566836.5\n",
      "44th, recall: 0.3055555555555556, val1: 14.0, val2: 1566836.5\n",
      "54th, recall: 0.2847222222222222, val1: 17.0, val2: 1566836.5\n",
      "63th, recall: 0.2777777777777778, val1: 21.0, val2: 1379120.0\n",
      "********************************\n"
     ]
    }
   ],
   "source": [
    "LOGIC = 'OR'\n",
    "default_debit_amt = 1311700\n",
    "default_number_of_debit  = 6\n",
    "candidate_rule2 = Search2D(number_of_debit_threshold, debit_amt_threshold, 'number_of_Debit','Debit_Amt',\\\n",
    "                           default_number_of_debit, default_debit_amt, train_SAR, train_Non_SAR, train_set, LOGIC, SAR_type)"
   ]
  },
  {
   "cell_type": "code",
   "execution_count": 104,
   "metadata": {},
   "outputs": [],
   "source": [
    "candidate_rule1 = [[ceil(x), ceil(y)] for [x,y] in candidate_rule1]\n",
    "candidate_rule2 = [[ceil(x), ceil(y)] for [x,y] in candidate_rule2]"
   ]
  },
  {
   "cell_type": "code",
   "execution_count": 105,
   "metadata": {},
   "outputs": [],
   "source": [
    "# apply on testing set\n",
    "results = pd.DataFrame(columns = ['number_of_Credit','Credit_Amt',\\\n",
    "                                  'number_of_Debit','Debit_Amt','SAR', 'Non SAR','newSAM=1_SAR=1(TP)','newSAM=1_SAR=0(FP)',\\\n",
    "                                  'newSAM=0_SAR=1(FN)', 'newSAM=0_SAR=0(TN)', 'recall','filter rate'])\n",
    "for thre1, thre2 in candidate_rule1:\n",
    "    for thre3, thre4 in candidate_rule2:\n",
    "       \n",
    "        idx = list(set(test_set[test_set['number_of_Credit']>=thre1].index) & set(test_set[test_set['Credit_Amt']>=thre2].index))\n",
    "        idx1 = list(set(test_set[test_set['number_of_Debit']>=thre3].index) & set(test_set[test_set['Debit_Amt']>=thre4].index))\n",
    "        new_SAM_1_rule1 = test_set.iloc[idx]\n",
    "        new_SAM_1_rule2 = test_set.iloc[idx1]\n",
    "\n",
    "        new_SAM_1 = new_SAM_1_rule1.append(new_SAM_1_rule2)\n",
    "        new_SAM_1 = new_SAM_1.drop_duplicates()\n",
    "        new_SAM_0 = test_set.drop(index = new_SAM_1.index)\n",
    "\n",
    "        if (new_SAM_0.shape[0]+new_SAM_1.shape[0])!=test_set.shape[0]:\n",
    "            raise ValueError(\"new SAM 0 and new SAM 1 overlapped!\")\n",
    "            \n",
    "        TP = new_SAM_1[new_SAM_1['TO_SAR']!=0].shape[0]\n",
    "        TN = new_SAM_0[new_SAM_0['TO_SAR']==0].shape[0]\n",
    "        FP = new_SAM_1[new_SAM_1['TO_SAR']==0].shape[0]\n",
    "        FN = new_SAM_0[new_SAM_0['TO_SAR']!=0].shape[0]\n",
    "        total = test_set.shape[0]\n",
    "        results = results.append({'number_of_Credit':int(thre1),'Credit_Amt':thre2,  \\\n",
    "                                  'number_of_Debit':thre3, 'Debit_Amt':thre4, 'SAR':test_set[test_set['TO_SAR']!=0].shape[0], \\\n",
    "                                  'Non SAR':test_set[test_set['TO_SAR']==0].shape[0],\\\n",
    "                                  'newSAM=1_SAR=1(TP)':TP, 'newSAM=1_SAR=0(FP)':FP, 'newSAM=0_SAR=1(FN)':FN,\\\n",
    "                                  'newSAM=0_SAR=0(TN)':TN, 'recall': str(round(TP/(TP+FN), 4)),\\\n",
    "                                  'filter rate':str((round((TN+FN)/total, 4)))}, ignore_index = True)\n"
   ]
  },
  {
   "cell_type": "code",
   "execution_count": 106,
   "metadata": {},
   "outputs": [
    {
     "data": {
      "text/html": [
       "<div>\n",
       "<style scoped>\n",
       "    .dataframe tbody tr th:only-of-type {\n",
       "        vertical-align: middle;\n",
       "    }\n",
       "\n",
       "    .dataframe tbody tr th {\n",
       "        vertical-align: top;\n",
       "    }\n",
       "\n",
       "    .dataframe thead th {\n",
       "        text-align: right;\n",
       "    }\n",
       "</style>\n",
       "<table border=\"1\" class=\"dataframe\">\n",
       "  <thead>\n",
       "    <tr style=\"text-align: right;\">\n",
       "      <th></th>\n",
       "      <th>number_of_Credit</th>\n",
       "      <th>Credit_Amt</th>\n",
       "      <th>number_of_Debit</th>\n",
       "      <th>Debit_Amt</th>\n",
       "      <th>SAR</th>\n",
       "      <th>Non SAR</th>\n",
       "      <th>newSAM=1_SAR=1(TP)</th>\n",
       "      <th>newSAM=1_SAR=0(FP)</th>\n",
       "      <th>newSAM=0_SAR=1(FN)</th>\n",
       "      <th>newSAM=0_SAR=0(TN)</th>\n",
       "      <th>recall</th>\n",
       "      <th>filter rate</th>\n",
       "    </tr>\n",
       "  </thead>\n",
       "  <tbody>\n",
       "    <tr>\n",
       "      <th>79</th>\n",
       "      <td>7</td>\n",
       "      <td>1702001</td>\n",
       "      <td>7</td>\n",
       "      <td>1379120</td>\n",
       "      <td>97</td>\n",
       "      <td>19859</td>\n",
       "      <td>71</td>\n",
       "      <td>12186</td>\n",
       "      <td>26</td>\n",
       "      <td>7673</td>\n",
       "      <td>0.732</td>\n",
       "      <td>0.3858</td>\n",
       "    </tr>\n",
       "    <tr>\n",
       "      <th>69</th>\n",
       "      <td>13</td>\n",
       "      <td>1702001</td>\n",
       "      <td>7</td>\n",
       "      <td>1379120</td>\n",
       "      <td>97</td>\n",
       "      <td>19859</td>\n",
       "      <td>66</td>\n",
       "      <td>10097</td>\n",
       "      <td>31</td>\n",
       "      <td>9762</td>\n",
       "      <td>0.6804</td>\n",
       "      <td>0.4907</td>\n",
       "    </tr>\n",
       "    <tr>\n",
       "      <th>59</th>\n",
       "      <td>7</td>\n",
       "      <td>2883401</td>\n",
       "      <td>7</td>\n",
       "      <td>1379120</td>\n",
       "      <td>97</td>\n",
       "      <td>19859</td>\n",
       "      <td>64</td>\n",
       "      <td>8166</td>\n",
       "      <td>33</td>\n",
       "      <td>11693</td>\n",
       "      <td>0.6598</td>\n",
       "      <td>0.5876</td>\n",
       "    </tr>\n",
       "    <tr>\n",
       "      <th>39</th>\n",
       "      <td>24</td>\n",
       "      <td>1702001</td>\n",
       "      <td>7</td>\n",
       "      <td>1379120</td>\n",
       "      <td>97</td>\n",
       "      <td>19859</td>\n",
       "      <td>63</td>\n",
       "      <td>8032</td>\n",
       "      <td>34</td>\n",
       "      <td>11827</td>\n",
       "      <td>0.6495</td>\n",
       "      <td>0.5944</td>\n",
       "    </tr>\n",
       "    <tr>\n",
       "      <th>49</th>\n",
       "      <td>13</td>\n",
       "      <td>2883401</td>\n",
       "      <td>7</td>\n",
       "      <td>1379120</td>\n",
       "      <td>97</td>\n",
       "      <td>19859</td>\n",
       "      <td>62</td>\n",
       "      <td>7671</td>\n",
       "      <td>35</td>\n",
       "      <td>12188</td>\n",
       "      <td>0.6392</td>\n",
       "      <td>0.6125</td>\n",
       "    </tr>\n",
       "    <tr>\n",
       "      <th>29</th>\n",
       "      <td>24</td>\n",
       "      <td>2883401</td>\n",
       "      <td>7</td>\n",
       "      <td>1379120</td>\n",
       "      <td>97</td>\n",
       "      <td>19859</td>\n",
       "      <td>62</td>\n",
       "      <td>6959</td>\n",
       "      <td>35</td>\n",
       "      <td>12900</td>\n",
       "      <td>0.6392</td>\n",
       "      <td>0.6482</td>\n",
       "    </tr>\n",
       "    <tr>\n",
       "      <th>19</th>\n",
       "      <td>98</td>\n",
       "      <td>2883401</td>\n",
       "      <td>7</td>\n",
       "      <td>1379120</td>\n",
       "      <td>97</td>\n",
       "      <td>19859</td>\n",
       "      <td>61</td>\n",
       "      <td>6267</td>\n",
       "      <td>36</td>\n",
       "      <td>13592</td>\n",
       "      <td>0.6289</td>\n",
       "      <td>0.6829</td>\n",
       "    </tr>\n",
       "    <tr>\n",
       "      <th>9</th>\n",
       "      <td>98</td>\n",
       "      <td>1702001</td>\n",
       "      <td>7</td>\n",
       "      <td>1379120</td>\n",
       "      <td>97</td>\n",
       "      <td>19859</td>\n",
       "      <td>61</td>\n",
       "      <td>6384</td>\n",
       "      <td>36</td>\n",
       "      <td>13475</td>\n",
       "      <td>0.6289</td>\n",
       "      <td>0.677</td>\n",
       "    </tr>\n",
       "    <tr>\n",
       "      <th>77</th>\n",
       "      <td>7</td>\n",
       "      <td>1702001</td>\n",
       "      <td>10</td>\n",
       "      <td>1379120</td>\n",
       "      <td>97</td>\n",
       "      <td>19859</td>\n",
       "      <td>57</td>\n",
       "      <td>10741</td>\n",
       "      <td>40</td>\n",
       "      <td>9118</td>\n",
       "      <td>0.5876</td>\n",
       "      <td>0.4589</td>\n",
       "    </tr>\n",
       "    <tr>\n",
       "      <th>78</th>\n",
       "      <td>7</td>\n",
       "      <td>1702001</td>\n",
       "      <td>7</td>\n",
       "      <td>1566837</td>\n",
       "      <td>97</td>\n",
       "      <td>19859</td>\n",
       "      <td>56</td>\n",
       "      <td>10681</td>\n",
       "      <td>41</td>\n",
       "      <td>9178</td>\n",
       "      <td>0.5773</td>\n",
       "      <td>0.462</td>\n",
       "    </tr>\n",
       "  </tbody>\n",
       "</table>\n",
       "</div>"
      ],
      "text/plain": [
       "   number_of_Credit Credit_Amt number_of_Debit Debit_Amt SAR Non SAR  \\\n",
       "79                7    1702001               7   1379120  97   19859   \n",
       "69               13    1702001               7   1379120  97   19859   \n",
       "59                7    2883401               7   1379120  97   19859   \n",
       "39               24    1702001               7   1379120  97   19859   \n",
       "49               13    2883401               7   1379120  97   19859   \n",
       "29               24    2883401               7   1379120  97   19859   \n",
       "19               98    2883401               7   1379120  97   19859   \n",
       "9                98    1702001               7   1379120  97   19859   \n",
       "77                7    1702001              10   1379120  97   19859   \n",
       "78                7    1702001               7   1566837  97   19859   \n",
       "\n",
       "   newSAM=1_SAR=1(TP) newSAM=1_SAR=0(FP) newSAM=0_SAR=1(FN)  \\\n",
       "79                 71              12186                 26   \n",
       "69                 66              10097                 31   \n",
       "59                 64               8166                 33   \n",
       "39                 63               8032                 34   \n",
       "49                 62               7671                 35   \n",
       "29                 62               6959                 35   \n",
       "19                 61               6267                 36   \n",
       "9                  61               6384                 36   \n",
       "77                 57              10741                 40   \n",
       "78                 56              10681                 41   \n",
       "\n",
       "   newSAM=0_SAR=0(TN)  recall filter rate  \n",
       "79               7673   0.732      0.3858  \n",
       "69               9762  0.6804      0.4907  \n",
       "59              11693  0.6598      0.5876  \n",
       "39              11827  0.6495      0.5944  \n",
       "49              12188  0.6392      0.6125  \n",
       "29              12900  0.6392      0.6482  \n",
       "19              13592  0.6289      0.6829  \n",
       "9               13475  0.6289       0.677  \n",
       "77               9118  0.5876      0.4589  \n",
       "78               9178  0.5773       0.462  "
      ]
     },
     "execution_count": 106,
     "metadata": {},
     "output_type": "execute_result"
    }
   ],
   "source": [
    "results = results.sort_values(by='recall', ascending=False).drop_duplicates()[:10]\n",
    "results"
   ]
  },
  {
   "cell_type": "markdown",
   "metadata": {},
   "source": [
    "## TWN_A13_01"
   ]
  },
  {
   "cell_type": "code",
   "execution_count": 107,
   "metadata": {},
   "outputs": [],
   "source": [
    "DAY = 15\n",
    "FEATURE = ['Credit_Amt', 'number_of_Credit', 'Debit_Amt','number_of_Debit']\n",
    "PATH = \"D:/Temp/NCTU/crystal/第二階段/new_alert/日數分類_營業日/\"\n",
    "FILE = \"TWN_A13_01_day15_with_aggregated_txn_scenario_txn_type_key_營業日.csv\""
   ]
  },
  {
   "cell_type": "code",
   "execution_count": 108,
   "metadata": {},
   "outputs": [],
   "source": [
    "file = pd.read_csv(PATH+FILE)"
   ]
  },
  {
   "cell_type": "code",
   "execution_count": 109,
   "metadata": {},
   "outputs": [],
   "source": [
    "file['TO_SAR'] = file['TO_SAR'].replace(np.nan, 0)\n",
    "file['TO_SAR'] = file['TO_SAR'].replace('NF', 1)\n",
    "file['TO_SAR'] = file['TO_SAR'].replace('F', 1)"
   ]
  },
  {
   "cell_type": "code",
   "execution_count": 110,
   "metadata": {},
   "outputs": [],
   "source": [
    "fileID = file['alert_id'].values"
   ]
  },
  {
   "cell_type": "code",
   "execution_count": 111,
   "metadata": {},
   "outputs": [],
   "source": [
    "HighIntersection = list(set(fileID) & set(riskHighID))"
   ]
  },
  {
   "cell_type": "code",
   "execution_count": 112,
   "metadata": {},
   "outputs": [],
   "source": [
    "rowHigh = []\n",
    "rowLow = []\n",
    "for i in range(file.shape[0]):\n",
    "    if file['alert_id'][i] in HighIntersection:\n",
    "        rowHigh.append(i)\n",
    "    else:\n",
    "        rowLow.append(i)"
   ]
  },
  {
   "cell_type": "code",
   "execution_count": 113,
   "metadata": {},
   "outputs": [],
   "source": [
    "file1 = file.iloc[rowHigh]"
   ]
  },
  {
   "cell_type": "code",
   "execution_count": 114,
   "metadata": {},
   "outputs": [
    {
     "data": {
      "text/plain": [
       "0    378\n",
       "1      8\n",
       "Name: TO_SAR, dtype: int64"
      ]
     },
     "execution_count": 114,
     "metadata": {},
     "output_type": "execute_result"
    }
   ],
   "source": [
    "file1['TO_SAR'].value_counts()"
   ]
  },
  {
   "cell_type": "code",
   "execution_count": 115,
   "metadata": {},
   "outputs": [
    {
     "name": "stdout",
     "output_type": "stream",
     "text": [
      "Verify on time series\n",
      "shape of data: (386, 39)\n",
      "total number of TO_SAR: 8\n",
      "********************************\n",
      "time interval in train set:2019-03-04~2020-01-13\n",
      "TO_SAR in train set: 4\n",
      "TO_SAR/Total in train set 0.017391304347826087\n",
      "split dataset to train, test...\n",
      "********************************\n",
      "time interval in test set:2019-10-03~2020-12-31\n",
      "TO_SAR in test set: 4\n",
      "TO_SAR/Total in test set 0.02564102564102564\n",
      "********************************\n",
      "train data shape:  (230, 38)\n",
      "test data shape:  (156, 38)\n"
     ]
    }
   ],
   "source": [
    "train_set, test_set = ReadFile(file1, SAR_type)"
   ]
  },
  {
   "cell_type": "code",
   "execution_count": 116,
   "metadata": {},
   "outputs": [],
   "source": [
    "train_SAR = train_set[train_set['TO_SAR']!=0]\n",
    "train_Non_SAR = train_set[train_set['TO_SAR']==0]"
   ]
  },
  {
   "cell_type": "code",
   "execution_count": 117,
   "metadata": {},
   "outputs": [],
   "source": [
    "test_SAR = test_set[test_set['TO_SAR']!=0]\n",
    "test_Non_SAR = test_set[test_set['TO_SAR']==0]"
   ]
  },
  {
   "cell_type": "markdown",
   "metadata": {},
   "source": [
    "### Search Answer"
   ]
  },
  {
   "cell_type": "code",
   "execution_count": 118,
   "metadata": {},
   "outputs": [
    {
     "name": "stdout",
     "output_type": "stream",
     "text": [
      "[0.0, 0.0, 0.0, 41600.00000000004, 104000.0, 166399.99999999997, 457989.09999999916, 1207956.400000001, 1957923.7000000004, 2707891.0]\n",
      "\n",
      "[0.0, 0.0, 0.0, 0.20000000000000018, 0.5, 0.7999999999999998, 2.1999999999999957, 5.800000000000004, 9.400000000000002, 13.0]\n",
      "\n",
      "[750000.0, 870000.0, 990000.0, 1304000.0000000002, 1715000.0, 2125999.9999999995, 2425800.0, 2503200.0, 2580600.0, 2658000.0]\n",
      "\n",
      "[2.3, 2.6, 2.9, 3.6000000000000005, 4.5, 5.3999999999999995, 6.1, 6.4, 6.7, 7.0]\n",
      "\n"
     ]
    }
   ],
   "source": [
    "number_of_credit_threshold = []\n",
    "credit_amt_threshold = []\n",
    "number_of_debit_threshold = []\n",
    "debit_amt_threshold = []\n",
    "threshold_list = [credit_amt_threshold, number_of_credit_threshold, debit_amt_threshold, number_of_debit_threshold]\n",
    "for i in range(len(FEATURE)):\n",
    "    tmp = []\n",
    "    tmp = list(train_SAR[FEATURE[i]].values)\n",
    "    tmp.sort()\n",
    "    for j in np.linspace(10, 100, 10):\n",
    "        threshold_list[i].append(np.percentile(tmp, j))\n",
    "    print(threshold_list[i])\n",
    "    print()"
   ]
  },
  {
   "cell_type": "code",
   "execution_count": 119,
   "metadata": {},
   "outputs": [
    {
     "name": "stdout",
     "output_type": "stream",
     "text": [
      "max val:  0.2811682650392328 number of max val:  1\n",
      "99th, recall: 0.25, val1: 13.0, val2: 2707891.0\n",
      "98th, recall: 0.25, val1: 13.0, val2: 1957923.7000000004\n",
      "89th, recall: 0.25, val1: 9.400000000000002, val2: 2707891.0\n",
      "88th, recall: 0.25, val1: 9.400000000000002, val2: 1957923.7000000004\n",
      "79th, recall: 0.25, val1: 5.800000000000004, val2: 2707891.0\n",
      "78th, recall: 0.25, val1: 5.800000000000004, val2: 1957923.7000000004\n",
      "********************************\n"
     ]
    }
   ],
   "source": [
    "LOGIC = 'OR'\n",
    "default_number_of_credit  = 4\n",
    "default_credit_amt = 1811051\n",
    "candidate_rule1 = Search2D(number_of_credit_threshold, credit_amt_threshold, 'number_of_Credit', 'Credit_Amt',\\\n",
    "                           default_number_of_credit, default_credit_amt, train_SAR, train_Non_SAR, train_set, LOGIC, SAR_type)"
   ]
  },
  {
   "cell_type": "code",
   "execution_count": 120,
   "metadata": {},
   "outputs": [
    {
     "name": "stdout",
     "output_type": "stream",
     "text": [
      "max val:  0.5439684329199549 number of max val:  1\n",
      "55th, recall: 0.5, val1: 5.3999999999999995, val2: 2125999.9999999995\n",
      "45th, recall: 0.5, val1: 4.5, val2: 2125999.9999999995\n",
      "67th, recall: 0.25, val1: 6.1, val2: 2503200.0\n",
      "68th, recall: 0.25, val1: 6.1, val2: 2580600.0\n",
      "69th, recall: 0.25, val1: 6.1, val2: 2658000.0\n",
      "77th, recall: 0.25, val1: 6.4, val2: 2503200.0\n",
      "78th, recall: 0.25, val1: 6.4, val2: 2580600.0\n",
      "79th, recall: 0.25, val1: 6.4, val2: 2658000.0\n",
      "87th, recall: 0.25, val1: 6.7, val2: 2503200.0\n",
      "88th, recall: 0.25, val1: 6.7, val2: 2580600.0\n",
      "********************************\n"
     ]
    }
   ],
   "source": [
    "LOGIC = 'OR'\n",
    "default_number_of_debit  = 4\n",
    "default_debit_amt = 1811051\n",
    "candidate_rule2 = Search2D(number_of_debit_threshold, debit_amt_threshold, 'number_of_Debit', 'Debit_Amt',\\\n",
    "                           default_number_of_debit, default_debit_amt, train_SAR, train_Non_SAR, train_set, LOGIC, SAR_type)"
   ]
  },
  {
   "cell_type": "code",
   "execution_count": 121,
   "metadata": {},
   "outputs": [],
   "source": [
    "candidate_rule1 = [[ceil(x), ceil(y)] for [x,y] in candidate_rule1]\n",
    "candidate_rule2 = [[ceil(x), ceil(y)] for [x,y] in candidate_rule2]"
   ]
  },
  {
   "cell_type": "code",
   "execution_count": 122,
   "metadata": {},
   "outputs": [
    {
     "data": {
      "text/plain": [
       "[[6, 1957924],\n",
       " [6, 2707891],\n",
       " [10, 1957924],\n",
       " [10, 2707891],\n",
       " [13, 1957924],\n",
       " [13, 2707891]]"
      ]
     },
     "execution_count": 122,
     "metadata": {},
     "output_type": "execute_result"
    }
   ],
   "source": [
    "candidate_rule1"
   ]
  },
  {
   "cell_type": "code",
   "execution_count": 123,
   "metadata": {},
   "outputs": [
    {
     "data": {
      "text/plain": [
       "[[7, 2580600],\n",
       " [7, 2503200],\n",
       " [7, 2658000],\n",
       " [7, 2580600],\n",
       " [7, 2503200],\n",
       " [7, 2658000],\n",
       " [7, 2580600],\n",
       " [7, 2503200],\n",
       " [5, 2126000],\n",
       " [6, 2126000]]"
      ]
     },
     "execution_count": 123,
     "metadata": {},
     "output_type": "execute_result"
    }
   ],
   "source": [
    "candidate_rule2"
   ]
  },
  {
   "cell_type": "code",
   "execution_count": 124,
   "metadata": {},
   "outputs": [],
   "source": [
    "# apply on testing set\n",
    "results = pd.DataFrame(columns = ['number_of_Credit','Credit_Amt',\\\n",
    "                                  'number_of_Debit','Debit_Amt','SAR', 'Non SAR','newSAM=1_SAR=1(TP)','newSAM=1_SAR=0(FP)',\\\n",
    "                                  'newSAM=0_SAR=1(FN)', 'newSAM=0_SAR=0(TN)', 'recall','filter rate'])\n",
    "for thre1, thre2 in candidate_rule1:\n",
    "    for thre3, thre4 in candidate_rule2:\n",
    "       \n",
    "        idx = list(set(test_set[test_set['number_of_Credit']>=thre1].index) & set(test_set[test_set['Credit_Amt']>=thre2].index))\n",
    "        idx1 = list(set(test_set[test_set['number_of_Debit']>=thre3].index) & set(test_set[test_set['Debit_Amt']>=thre4].index))\n",
    "        new_SAM_1_rule1 = test_set.iloc[idx]\n",
    "        new_SAM_1_rule2 = test_set.iloc[idx1]\n",
    "\n",
    "        new_SAM_1 = new_SAM_1_rule1.append(new_SAM_1_rule2)\n",
    "        new_SAM_1 = new_SAM_1.drop_duplicates()\n",
    "        new_SAM_0 = test_set.drop(index = new_SAM_1.index)\n",
    "\n",
    "        if (new_SAM_0.shape[0]+new_SAM_1.shape[0])!=test_set.shape[0]:\n",
    "            raise ValueError(\"new SAM 0 and new SAM 1 overlapped!\")\n",
    "            \n",
    "        TP = new_SAM_1[new_SAM_1['TO_SAR']!=0].shape[0]\n",
    "        TN = new_SAM_0[new_SAM_0['TO_SAR']==0].shape[0]\n",
    "        FP = new_SAM_1[new_SAM_1['TO_SAR']==0].shape[0]\n",
    "        FN = new_SAM_0[new_SAM_0['TO_SAR']!=0].shape[0]\n",
    "        total = test_set.shape[0]\n",
    "        results = results.append({'number_of_Credit':int(thre1),'Credit_Amt':thre2,  \\\n",
    "                                  'number_of_Debit':thre3, 'Debit_Amt':thre4, 'SAR':test_set[test_set['TO_SAR']!=0].shape[0], \\\n",
    "                                  'Non SAR':test_set[test_set['TO_SAR']==0].shape[0],\\\n",
    "                                  'newSAM=1_SAR=1(TP)':TP, 'newSAM=1_SAR=0(FP)':FP, 'newSAM=0_SAR=1(FN)':FN,\\\n",
    "                                  'newSAM=0_SAR=0(TN)':TN, 'recall': str(round(TP/(TP+FN), 4)),\\\n",
    "                                  'filter rate':str((round((TN+FN)/total, 4)))}, ignore_index = True)\n"
   ]
  },
  {
   "cell_type": "code",
   "execution_count": 125,
   "metadata": {},
   "outputs": [
    {
     "data": {
      "text/html": [
       "<div>\n",
       "<style scoped>\n",
       "    .dataframe tbody tr th:only-of-type {\n",
       "        vertical-align: middle;\n",
       "    }\n",
       "\n",
       "    .dataframe tbody tr th {\n",
       "        vertical-align: top;\n",
       "    }\n",
       "\n",
       "    .dataframe thead th {\n",
       "        text-align: right;\n",
       "    }\n",
       "</style>\n",
       "<table border=\"1\" class=\"dataframe\">\n",
       "  <thead>\n",
       "    <tr style=\"text-align: right;\">\n",
       "      <th></th>\n",
       "      <th>number_of_Credit</th>\n",
       "      <th>Credit_Amt</th>\n",
       "      <th>number_of_Debit</th>\n",
       "      <th>Debit_Amt</th>\n",
       "      <th>SAR</th>\n",
       "      <th>Non SAR</th>\n",
       "      <th>newSAM=1_SAR=1(TP)</th>\n",
       "      <th>newSAM=1_SAR=0(FP)</th>\n",
       "      <th>newSAM=0_SAR=1(FN)</th>\n",
       "      <th>newSAM=0_SAR=0(TN)</th>\n",
       "      <th>recall</th>\n",
       "      <th>filter rate</th>\n",
       "    </tr>\n",
       "  </thead>\n",
       "  <tbody>\n",
       "    <tr>\n",
       "      <th>8</th>\n",
       "      <td>6</td>\n",
       "      <td>1957924</td>\n",
       "      <td>5</td>\n",
       "      <td>2126000</td>\n",
       "      <td>4</td>\n",
       "      <td>152</td>\n",
       "      <td>4</td>\n",
       "      <td>80</td>\n",
       "      <td>0</td>\n",
       "      <td>72</td>\n",
       "      <td>1.0</td>\n",
       "      <td>0.4615</td>\n",
       "    </tr>\n",
       "    <tr>\n",
       "      <th>9</th>\n",
       "      <td>6</td>\n",
       "      <td>1957924</td>\n",
       "      <td>6</td>\n",
       "      <td>2126000</td>\n",
       "      <td>4</td>\n",
       "      <td>152</td>\n",
       "      <td>4</td>\n",
       "      <td>75</td>\n",
       "      <td>0</td>\n",
       "      <td>77</td>\n",
       "      <td>1.0</td>\n",
       "      <td>0.4936</td>\n",
       "    </tr>\n",
       "    <tr>\n",
       "      <th>19</th>\n",
       "      <td>6</td>\n",
       "      <td>2707891</td>\n",
       "      <td>6</td>\n",
       "      <td>2126000</td>\n",
       "      <td>4</td>\n",
       "      <td>152</td>\n",
       "      <td>4</td>\n",
       "      <td>71</td>\n",
       "      <td>0</td>\n",
       "      <td>81</td>\n",
       "      <td>1.0</td>\n",
       "      <td>0.5192</td>\n",
       "    </tr>\n",
       "    <tr>\n",
       "      <th>18</th>\n",
       "      <td>6</td>\n",
       "      <td>2707891</td>\n",
       "      <td>5</td>\n",
       "      <td>2126000</td>\n",
       "      <td>4</td>\n",
       "      <td>152</td>\n",
       "      <td>4</td>\n",
       "      <td>76</td>\n",
       "      <td>0</td>\n",
       "      <td>76</td>\n",
       "      <td>1.0</td>\n",
       "      <td>0.4872</td>\n",
       "    </tr>\n",
       "    <tr>\n",
       "      <th>0</th>\n",
       "      <td>6</td>\n",
       "      <td>1957924</td>\n",
       "      <td>7</td>\n",
       "      <td>2580600</td>\n",
       "      <td>4</td>\n",
       "      <td>152</td>\n",
       "      <td>2</td>\n",
       "      <td>68</td>\n",
       "      <td>2</td>\n",
       "      <td>84</td>\n",
       "      <td>0.5</td>\n",
       "      <td>0.5513</td>\n",
       "    </tr>\n",
       "    <tr>\n",
       "      <th>16</th>\n",
       "      <td>6</td>\n",
       "      <td>2707891</td>\n",
       "      <td>7</td>\n",
       "      <td>2580600</td>\n",
       "      <td>4</td>\n",
       "      <td>152</td>\n",
       "      <td>2</td>\n",
       "      <td>64</td>\n",
       "      <td>2</td>\n",
       "      <td>88</td>\n",
       "      <td>0.5</td>\n",
       "      <td>0.5769</td>\n",
       "    </tr>\n",
       "    <tr>\n",
       "      <th>58</th>\n",
       "      <td>13</td>\n",
       "      <td>2707891</td>\n",
       "      <td>5</td>\n",
       "      <td>2126000</td>\n",
       "      <td>4</td>\n",
       "      <td>152</td>\n",
       "      <td>2</td>\n",
       "      <td>69</td>\n",
       "      <td>2</td>\n",
       "      <td>83</td>\n",
       "      <td>0.5</td>\n",
       "      <td>0.5449</td>\n",
       "    </tr>\n",
       "    <tr>\n",
       "      <th>49</th>\n",
       "      <td>13</td>\n",
       "      <td>1957924</td>\n",
       "      <td>6</td>\n",
       "      <td>2126000</td>\n",
       "      <td>4</td>\n",
       "      <td>152</td>\n",
       "      <td>2</td>\n",
       "      <td>65</td>\n",
       "      <td>2</td>\n",
       "      <td>87</td>\n",
       "      <td>0.5</td>\n",
       "      <td>0.5705</td>\n",
       "    </tr>\n",
       "    <tr>\n",
       "      <th>48</th>\n",
       "      <td>13</td>\n",
       "      <td>1957924</td>\n",
       "      <td>5</td>\n",
       "      <td>2126000</td>\n",
       "      <td>4</td>\n",
       "      <td>152</td>\n",
       "      <td>2</td>\n",
       "      <td>70</td>\n",
       "      <td>2</td>\n",
       "      <td>82</td>\n",
       "      <td>0.5</td>\n",
       "      <td>0.5385</td>\n",
       "    </tr>\n",
       "    <tr>\n",
       "      <th>39</th>\n",
       "      <td>10</td>\n",
       "      <td>2707891</td>\n",
       "      <td>6</td>\n",
       "      <td>2126000</td>\n",
       "      <td>4</td>\n",
       "      <td>152</td>\n",
       "      <td>2</td>\n",
       "      <td>64</td>\n",
       "      <td>2</td>\n",
       "      <td>88</td>\n",
       "      <td>0.5</td>\n",
       "      <td>0.5769</td>\n",
       "    </tr>\n",
       "  </tbody>\n",
       "</table>\n",
       "</div>"
      ],
      "text/plain": [
       "   number_of_Credit Credit_Amt number_of_Debit Debit_Amt SAR Non SAR  \\\n",
       "8                 6    1957924               5   2126000   4     152   \n",
       "9                 6    1957924               6   2126000   4     152   \n",
       "19                6    2707891               6   2126000   4     152   \n",
       "18                6    2707891               5   2126000   4     152   \n",
       "0                 6    1957924               7   2580600   4     152   \n",
       "16                6    2707891               7   2580600   4     152   \n",
       "58               13    2707891               5   2126000   4     152   \n",
       "49               13    1957924               6   2126000   4     152   \n",
       "48               13    1957924               5   2126000   4     152   \n",
       "39               10    2707891               6   2126000   4     152   \n",
       "\n",
       "   newSAM=1_SAR=1(TP) newSAM=1_SAR=0(FP) newSAM=0_SAR=1(FN)  \\\n",
       "8                   4                 80                  0   \n",
       "9                   4                 75                  0   \n",
       "19                  4                 71                  0   \n",
       "18                  4                 76                  0   \n",
       "0                   2                 68                  2   \n",
       "16                  2                 64                  2   \n",
       "58                  2                 69                  2   \n",
       "49                  2                 65                  2   \n",
       "48                  2                 70                  2   \n",
       "39                  2                 64                  2   \n",
       "\n",
       "   newSAM=0_SAR=0(TN) recall filter rate  \n",
       "8                  72    1.0      0.4615  \n",
       "9                  77    1.0      0.4936  \n",
       "19                 81    1.0      0.5192  \n",
       "18                 76    1.0      0.4872  \n",
       "0                  84    0.5      0.5513  \n",
       "16                 88    0.5      0.5769  \n",
       "58                 83    0.5      0.5449  \n",
       "49                 87    0.5      0.5705  \n",
       "48                 82    0.5      0.5385  \n",
       "39                 88    0.5      0.5769  "
      ]
     },
     "execution_count": 125,
     "metadata": {},
     "output_type": "execute_result"
    }
   ],
   "source": [
    "results = results.sort_values(by='recall', ascending=False).drop_duplicates()[:10]\n",
    "results"
   ]
  },
  {
   "cell_type": "code",
   "execution_count": 126,
   "metadata": {},
   "outputs": [],
   "source": [
    "file2 = file.iloc[rowLow] "
   ]
  },
  {
   "cell_type": "code",
   "execution_count": 127,
   "metadata": {},
   "outputs": [
    {
     "data": {
      "text/plain": [
       "0    7053\n",
       "1      60\n",
       "Name: TO_SAR, dtype: int64"
      ]
     },
     "execution_count": 127,
     "metadata": {},
     "output_type": "execute_result"
    }
   ],
   "source": [
    "file2['TO_SAR'].value_counts()"
   ]
  },
  {
   "cell_type": "code",
   "execution_count": 128,
   "metadata": {},
   "outputs": [
    {
     "name": "stdout",
     "output_type": "stream",
     "text": [
      "Verify on time series\n",
      "shape of data: (7113, 39)\n",
      "total number of TO_SAR: 60\n",
      "********************************\n",
      "time interval in train set:2019-03-04~2020-04-17\n",
      "TO_SAR in train set: 36\n",
      "TO_SAR/Total in train set 0.00843684087180689\n",
      "split dataset to train, test...\n",
      "********************************\n",
      "time interval in test set:2019-12-31~2020-12-31\n",
      "TO_SAR in test set: 24\n",
      "TO_SAR/Total in test set 0.008432888264230498\n",
      "********************************\n",
      "train data shape:  (4267, 38)\n",
      "test data shape:  (2846, 38)\n"
     ]
    }
   ],
   "source": [
    "train_set, test_set = ReadFile(file2, SAR_type)"
   ]
  },
  {
   "cell_type": "code",
   "execution_count": 129,
   "metadata": {},
   "outputs": [],
   "source": [
    "train_SAR = train_set[train_set['TO_SAR']!=0]\n",
    "train_Non_SAR = train_set[train_set['TO_SAR']==0]"
   ]
  },
  {
   "cell_type": "code",
   "execution_count": 130,
   "metadata": {},
   "outputs": [],
   "source": [
    "test_SAR = test_set[test_set['TO_SAR']!=0]\n",
    "test_Non_SAR = test_set[test_set['TO_SAR']==0]"
   ]
  },
  {
   "cell_type": "markdown",
   "metadata": {},
   "source": [
    "### Search Answer"
   ]
  },
  {
   "cell_type": "code",
   "execution_count": 131,
   "metadata": {},
   "outputs": [
    {
     "name": "stdout",
     "output_type": "stream",
     "text": [
      "[0.0, 0.0, 0.0, 0.0, 451000.0, 1350000.0, 1785000.0, 2830000.0, 3915849.0, 6840000.0]\n",
      "\n",
      "[0.0, 0.0, 0.0, 0.0, 0.5, 3.0, 4.5, 6.0, 11.0, 20.0]\n",
      "\n",
      "[0.0, 80005.0, 100000.0, 1200000.0, 1443356.0, 1600000.0, 2174750.0, 2694000.0, 3174000.0, 6421000.0]\n",
      "\n",
      "[0.0, 1.0, 1.0, 3.0, 4.0, 5.0, 6.5, 8.0, 9.5, 36.0]\n",
      "\n"
     ]
    }
   ],
   "source": [
    "number_of_credit_threshold = []\n",
    "credit_amt_threshold = []\n",
    "number_of_debit_threshold = []\n",
    "debit_amt_threshold = []\n",
    "threshold_list = [credit_amt_threshold, number_of_credit_threshold, debit_amt_threshold, number_of_debit_threshold]\n",
    "for i in range(len(FEATURE)):\n",
    "    tmp = []\n",
    "    tmp = list(train_SAR[FEATURE[i]].values)\n",
    "    tmp.sort()\n",
    "    for j in np.linspace(10, 100, 10):\n",
    "        threshold_list[i].append(np.percentile(tmp, j))\n",
    "    print(threshold_list[i])\n",
    "    print()"
   ]
  },
  {
   "cell_type": "code",
   "execution_count": 132,
   "metadata": {},
   "outputs": [
    {
     "name": "stdout",
     "output_type": "stream",
     "text": [
      "max val:  0.4405485271698686 number of max val:  1\n",
      "55th, recall: 0.4166666666666667, val1: 3.0, val2: 1350000.0\n",
      "65th, recall: 0.3055555555555556, val1: 4.5, val2: 1350000.0\n",
      "56th, recall: 0.3055555555555556, val1: 3.0, val2: 1785000.0\n",
      "66th, recall: 0.2777777777777778, val1: 4.5, val2: 1785000.0\n",
      "75th, recall: 0.25, val1: 6.0, val2: 1350000.0\n",
      "77th, recall: 0.2222222222222222, val1: 6.0, val2: 2830000.0\n",
      "67th, recall: 0.2222222222222222, val1: 4.5, val2: 2830000.0\n",
      "57th, recall: 0.2222222222222222, val1: 3.0, val2: 2830000.0\n",
      "76th, recall: 0.2222222222222222, val1: 6.0, val2: 1785000.0\n",
      "88th, recall: 0.1111111111111111, val1: 11.0, val2: 3915849.0\n",
      "********************************\n"
     ]
    }
   ],
   "source": [
    "LOGIC = 'OR'\n",
    "default_number_of_credit  = 3\n",
    "default_credit_amt = 999995\n",
    "candidate_rule1 = Search2D(number_of_credit_threshold, credit_amt_threshold, 'number_of_Credit', 'Credit_Amt',\\\n",
    "                           default_number_of_credit, default_credit_amt, train_SAR, train_Non_SAR, train_set, LOGIC, SAR_type)"
   ]
  },
  {
   "cell_type": "code",
   "execution_count": 133,
   "metadata": {},
   "outputs": [
    {
     "name": "stdout",
     "output_type": "stream",
     "text": [
      "max val:  0.5976681115412253 number of max val:  1\n",
      "33th, recall: 0.6111111111111112, val1: 3.0, val2: 1200000.0\n",
      "44th, recall: 0.5, val1: 4.0, val2: 1443356.0\n",
      "34th, recall: 0.5, val1: 3.0, val2: 1443356.0\n",
      "43th, recall: 0.5, val1: 4.0, val2: 1200000.0\n",
      "45th, recall: 0.4722222222222222, val1: 4.0, val2: 1600000.0\n",
      "35th, recall: 0.4722222222222222, val1: 3.0, val2: 1600000.0\n",
      "54th, recall: 0.4166666666666667, val1: 5.0, val2: 1443356.0\n",
      "53th, recall: 0.4166666666666667, val1: 5.0, val2: 1200000.0\n",
      "55th, recall: 0.3888888888888889, val1: 5.0, val2: 1600000.0\n",
      "56th, recall: 0.3055555555555556, val1: 5.0, val2: 2174750.0\n",
      "********************************\n"
     ]
    }
   ],
   "source": [
    "LOGIC = 'OR'\n",
    "default_number_of_debit = 3\n",
    "default_debit_amt = 999995\n",
    "candidate_rule2 = Search2D(number_of_debit_threshold, debit_amt_threshold, 'number_of_Debit', 'Debit_Amt',\\\n",
    "                           default_number_of_debit, default_debit_amt, train_SAR, train_Non_SAR, train_set, LOGIC, SAR_type)"
   ]
  },
  {
   "cell_type": "code",
   "execution_count": 134,
   "metadata": {},
   "outputs": [],
   "source": [
    "candidate_rule1 = [[ceil(x), ceil(y)] for [x,y] in candidate_rule1]\n",
    "candidate_rule2 = [[ceil(x), ceil(y)] for [x,y] in candidate_rule2]"
   ]
  },
  {
   "cell_type": "code",
   "execution_count": 135,
   "metadata": {},
   "outputs": [],
   "source": [
    "# apply on testing set\n",
    "results = pd.DataFrame(columns = ['number_of_Credit','Credit_Amt',\\\n",
    "                                  'number_of_Debit','Debit_Amt','SAR', 'Non SAR','newSAM=1_SAR=1(TP)','newSAM=1_SAR=0(FP)',\\\n",
    "                                  'newSAM=0_SAR=1(FN)', 'newSAM=0_SAR=0(TN)', 'recall','filter rate'])\n",
    "for thre1, thre2 in candidate_rule1:\n",
    "    for thre3, thre4 in candidate_rule2:\n",
    "       \n",
    "        idx = list(set(test_set[test_set['number_of_Credit']>=thre1].index) & set(test_set[test_set['Credit_Amt']>=thre2].index))\n",
    "        idx1 = list(set(test_set[test_set['number_of_Debit']>=thre3].index) & set(test_set[test_set['Debit_Amt']>=thre4].index))\n",
    "        new_SAM_1_rule1 = test_set.iloc[idx]\n",
    "        new_SAM_1_rule2 = test_set.iloc[idx1]\n",
    "\n",
    "        new_SAM_1 = new_SAM_1_rule1.append(new_SAM_1_rule2)\n",
    "        new_SAM_1 = new_SAM_1.drop_duplicates()\n",
    "        new_SAM_0 = test_set.drop(index = new_SAM_1.index)\n",
    "\n",
    "        if (new_SAM_0.shape[0]+new_SAM_1.shape[0])!=test_set.shape[0]:\n",
    "            raise ValueError(\"new SAM 0 and new SAM 1 overlapped!\")\n",
    "            \n",
    "        TP = new_SAM_1[new_SAM_1['TO_SAR']!=0].shape[0]\n",
    "        TN = new_SAM_0[new_SAM_0['TO_SAR']==0].shape[0]\n",
    "        FP = new_SAM_1[new_SAM_1['TO_SAR']==0].shape[0]\n",
    "        FN = new_SAM_0[new_SAM_0['TO_SAR']!=0].shape[0]\n",
    "        total = test_set.shape[0]\n",
    "        results = results.append({'number_of_Credit':int(thre1),'Credit_Amt':thre2,  \\\n",
    "                                  'number_of_Debit':thre3, 'Debit_Amt':thre4, 'SAR':test_set[test_set['TO_SAR']!=0].shape[0], \\\n",
    "                                  'Non SAR':test_set[test_set['TO_SAR']==0].shape[0],\\\n",
    "                                  'newSAM=1_SAR=1(TP)':TP, 'newSAM=1_SAR=0(FP)':FP, 'newSAM=0_SAR=1(FN)':FN,\\\n",
    "                                  'newSAM=0_SAR=0(TN)':TN, 'recall': str(round(TP/(TP+FN), 4)),\\\n",
    "                                  'filter rate':str((round((TN+FN)/total, 4)))}, ignore_index = True)\n"
   ]
  },
  {
   "cell_type": "code",
   "execution_count": 136,
   "metadata": {},
   "outputs": [
    {
     "data": {
      "text/html": [
       "<div>\n",
       "<style scoped>\n",
       "    .dataframe tbody tr th:only-of-type {\n",
       "        vertical-align: middle;\n",
       "    }\n",
       "\n",
       "    .dataframe tbody tr th {\n",
       "        vertical-align: top;\n",
       "    }\n",
       "\n",
       "    .dataframe thead th {\n",
       "        text-align: right;\n",
       "    }\n",
       "</style>\n",
       "<table border=\"1\" class=\"dataframe\">\n",
       "  <thead>\n",
       "    <tr style=\"text-align: right;\">\n",
       "      <th></th>\n",
       "      <th>number_of_Credit</th>\n",
       "      <th>Credit_Amt</th>\n",
       "      <th>number_of_Debit</th>\n",
       "      <th>Debit_Amt</th>\n",
       "      <th>SAR</th>\n",
       "      <th>Non SAR</th>\n",
       "      <th>newSAM=1_SAR=1(TP)</th>\n",
       "      <th>newSAM=1_SAR=0(FP)</th>\n",
       "      <th>newSAM=0_SAR=1(FN)</th>\n",
       "      <th>newSAM=0_SAR=0(TN)</th>\n",
       "      <th>recall</th>\n",
       "      <th>filter rate</th>\n",
       "    </tr>\n",
       "  </thead>\n",
       "  <tbody>\n",
       "    <tr>\n",
       "      <th>99</th>\n",
       "      <td>3</td>\n",
       "      <td>1350000</td>\n",
       "      <td>3</td>\n",
       "      <td>1200000</td>\n",
       "      <td>24</td>\n",
       "      <td>2822</td>\n",
       "      <td>23</td>\n",
       "      <td>2276</td>\n",
       "      <td>1</td>\n",
       "      <td>546</td>\n",
       "      <td>0.9583</td>\n",
       "      <td>0.1922</td>\n",
       "    </tr>\n",
       "    <tr>\n",
       "      <th>79</th>\n",
       "      <td>3</td>\n",
       "      <td>1785000</td>\n",
       "      <td>3</td>\n",
       "      <td>1200000</td>\n",
       "      <td>24</td>\n",
       "      <td>2822</td>\n",
       "      <td>22</td>\n",
       "      <td>1914</td>\n",
       "      <td>2</td>\n",
       "      <td>908</td>\n",
       "      <td>0.9167</td>\n",
       "      <td>0.3197</td>\n",
       "    </tr>\n",
       "    <tr>\n",
       "      <th>69</th>\n",
       "      <td>5</td>\n",
       "      <td>1785000</td>\n",
       "      <td>3</td>\n",
       "      <td>1200000</td>\n",
       "      <td>24</td>\n",
       "      <td>2822</td>\n",
       "      <td>22</td>\n",
       "      <td>1838</td>\n",
       "      <td>2</td>\n",
       "      <td>984</td>\n",
       "      <td>0.9167</td>\n",
       "      <td>0.3465</td>\n",
       "    </tr>\n",
       "    <tr>\n",
       "      <th>89</th>\n",
       "      <td>5</td>\n",
       "      <td>1350000</td>\n",
       "      <td>3</td>\n",
       "      <td>1200000</td>\n",
       "      <td>24</td>\n",
       "      <td>2822</td>\n",
       "      <td>22</td>\n",
       "      <td>1903</td>\n",
       "      <td>2</td>\n",
       "      <td>919</td>\n",
       "      <td>0.9167</td>\n",
       "      <td>0.3236</td>\n",
       "    </tr>\n",
       "    <tr>\n",
       "      <th>19</th>\n",
       "      <td>6</td>\n",
       "      <td>1785000</td>\n",
       "      <td>3</td>\n",
       "      <td>1200000</td>\n",
       "      <td>24</td>\n",
       "      <td>2822</td>\n",
       "      <td>21</td>\n",
       "      <td>1708</td>\n",
       "      <td>3</td>\n",
       "      <td>1114</td>\n",
       "      <td>0.875</td>\n",
       "      <td>0.3925</td>\n",
       "    </tr>\n",
       "    <tr>\n",
       "      <th>59</th>\n",
       "      <td>6</td>\n",
       "      <td>1350000</td>\n",
       "      <td>3</td>\n",
       "      <td>1200000</td>\n",
       "      <td>24</td>\n",
       "      <td>2822</td>\n",
       "      <td>21</td>\n",
       "      <td>1730</td>\n",
       "      <td>3</td>\n",
       "      <td>1092</td>\n",
       "      <td>0.875</td>\n",
       "      <td>0.3848</td>\n",
       "    </tr>\n",
       "    <tr>\n",
       "      <th>39</th>\n",
       "      <td>5</td>\n",
       "      <td>2830000</td>\n",
       "      <td>3</td>\n",
       "      <td>1200000</td>\n",
       "      <td>24</td>\n",
       "      <td>2822</td>\n",
       "      <td>20</td>\n",
       "      <td>1504</td>\n",
       "      <td>4</td>\n",
       "      <td>1318</td>\n",
       "      <td>0.8333</td>\n",
       "      <td>0.4645</td>\n",
       "    </tr>\n",
       "    <tr>\n",
       "      <th>49</th>\n",
       "      <td>6</td>\n",
       "      <td>2830000</td>\n",
       "      <td>3</td>\n",
       "      <td>1200000</td>\n",
       "      <td>24</td>\n",
       "      <td>2822</td>\n",
       "      <td>20</td>\n",
       "      <td>1495</td>\n",
       "      <td>4</td>\n",
       "      <td>1327</td>\n",
       "      <td>0.8333</td>\n",
       "      <td>0.4677</td>\n",
       "    </tr>\n",
       "    <tr>\n",
       "      <th>29</th>\n",
       "      <td>3</td>\n",
       "      <td>2830000</td>\n",
       "      <td>3</td>\n",
       "      <td>1200000</td>\n",
       "      <td>24</td>\n",
       "      <td>2822</td>\n",
       "      <td>20</td>\n",
       "      <td>1506</td>\n",
       "      <td>4</td>\n",
       "      <td>1316</td>\n",
       "      <td>0.8333</td>\n",
       "      <td>0.4638</td>\n",
       "    </tr>\n",
       "    <tr>\n",
       "      <th>9</th>\n",
       "      <td>11</td>\n",
       "      <td>3915849</td>\n",
       "      <td>3</td>\n",
       "      <td>1200000</td>\n",
       "      <td>24</td>\n",
       "      <td>2822</td>\n",
       "      <td>20</td>\n",
       "      <td>1310</td>\n",
       "      <td>4</td>\n",
       "      <td>1512</td>\n",
       "      <td>0.8333</td>\n",
       "      <td>0.5327</td>\n",
       "    </tr>\n",
       "  </tbody>\n",
       "</table>\n",
       "</div>"
      ],
      "text/plain": [
       "   number_of_Credit Credit_Amt number_of_Debit Debit_Amt SAR Non SAR  \\\n",
       "99                3    1350000               3   1200000  24    2822   \n",
       "79                3    1785000               3   1200000  24    2822   \n",
       "69                5    1785000               3   1200000  24    2822   \n",
       "89                5    1350000               3   1200000  24    2822   \n",
       "19                6    1785000               3   1200000  24    2822   \n",
       "59                6    1350000               3   1200000  24    2822   \n",
       "39                5    2830000               3   1200000  24    2822   \n",
       "49                6    2830000               3   1200000  24    2822   \n",
       "29                3    2830000               3   1200000  24    2822   \n",
       "9                11    3915849               3   1200000  24    2822   \n",
       "\n",
       "   newSAM=1_SAR=1(TP) newSAM=1_SAR=0(FP) newSAM=0_SAR=1(FN)  \\\n",
       "99                 23               2276                  1   \n",
       "79                 22               1914                  2   \n",
       "69                 22               1838                  2   \n",
       "89                 22               1903                  2   \n",
       "19                 21               1708                  3   \n",
       "59                 21               1730                  3   \n",
       "39                 20               1504                  4   \n",
       "49                 20               1495                  4   \n",
       "29                 20               1506                  4   \n",
       "9                  20               1310                  4   \n",
       "\n",
       "   newSAM=0_SAR=0(TN)  recall filter rate  \n",
       "99                546  0.9583      0.1922  \n",
       "79                908  0.9167      0.3197  \n",
       "69                984  0.9167      0.3465  \n",
       "89                919  0.9167      0.3236  \n",
       "19               1114   0.875      0.3925  \n",
       "59               1092   0.875      0.3848  \n",
       "39               1318  0.8333      0.4645  \n",
       "49               1327  0.8333      0.4677  \n",
       "29               1316  0.8333      0.4638  \n",
       "9                1512  0.8333      0.5327  "
      ]
     },
     "execution_count": 136,
     "metadata": {},
     "output_type": "execute_result"
    }
   ],
   "source": [
    "results = results.sort_values(by='recall', ascending=False).drop_duplicates()[:10]\n",
    "results"
   ]
  },
  {
   "cell_type": "markdown",
   "metadata": {},
   "source": [
    "## TWN_A15_01"
   ]
  },
  {
   "cell_type": "code",
   "execution_count": 137,
   "metadata": {},
   "outputs": [],
   "source": [
    "df1 = pd.read_csv(PATH+\"TWN_A15_01_day1_with_aggregated_txn_scenario_txn_type_key_營業日.csv\")\n",
    "df2 = pd.read_csv(PATH+\"TWN_A15_01_day5_with_aggregated_txn_scenario_txn_type_key_營業日.csv\")"
   ]
  },
  {
   "cell_type": "code",
   "execution_count": 138,
   "metadata": {},
   "outputs": [],
   "source": [
    "df2['Debit_Amt_1Day'] = df1['Debit_Amt']"
   ]
  },
  {
   "cell_type": "code",
   "execution_count": 139,
   "metadata": {},
   "outputs": [],
   "source": [
    "df2.to_csv(PATH+\"TWN_A15_01_with_aggregated_txn_scenario_txn_type_key_營業日.csv\", index=False)"
   ]
  },
  {
   "cell_type": "code",
   "execution_count": 140,
   "metadata": {},
   "outputs": [],
   "source": [
    "DAY = [1, 5]\n",
    "FEATURE = ['Credit_Amt', 'Debit_Amt_1Day', 'debit/credit']\n",
    "PATH = \"D:/Temp/NCTU/crystal/第二階段/new_alert/日數分類_營業日/\"\n",
    "FILE = \"TWN_A15_01_with_aggregated_txn_scenario_txn_type_key_營業日.csv\""
   ]
  },
  {
   "cell_type": "code",
   "execution_count": 141,
   "metadata": {},
   "outputs": [],
   "source": [
    "file = pd.read_csv(PATH+FILE)"
   ]
  },
  {
   "cell_type": "code",
   "execution_count": 142,
   "metadata": {},
   "outputs": [
    {
     "data": {
      "text/plain": [
       "(12530, 44)"
      ]
     },
     "execution_count": 142,
     "metadata": {},
     "output_type": "execute_result"
    }
   ],
   "source": [
    "file.shape"
   ]
  },
  {
   "cell_type": "code",
   "execution_count": 143,
   "metadata": {},
   "outputs": [],
   "source": [
    "file['TO_SAR'] = file['TO_SAR'].replace(np.nan, 0)\n",
    "file['TO_SAR'] = file['TO_SAR'].replace('NF', 1)\n",
    "file['TO_SAR'] = file['TO_SAR'].replace('F', 1)"
   ]
  },
  {
   "cell_type": "code",
   "execution_count": 144,
   "metadata": {},
   "outputs": [
    {
     "data": {
      "text/plain": [
       "0    12505\n",
       "1       25\n",
       "Name: TO_SAR, dtype: int64"
      ]
     },
     "execution_count": 144,
     "metadata": {},
     "output_type": "execute_result"
    }
   ],
   "source": [
    "file['TO_SAR'].value_counts()"
   ]
  },
  {
   "cell_type": "code",
   "execution_count": 145,
   "metadata": {},
   "outputs": [],
   "source": [
    "fileID = file['alert_id'].values"
   ]
  },
  {
   "cell_type": "code",
   "execution_count": 146,
   "metadata": {},
   "outputs": [],
   "source": [
    "HighIntersection = list(set(fileID) & set(riskHighID))"
   ]
  },
  {
   "cell_type": "code",
   "execution_count": 147,
   "metadata": {},
   "outputs": [],
   "source": [
    "rowHigh = []\n",
    "rowLow = []\n",
    "for i in range(file.shape[0]):\n",
    "    if file['alert_id'][i] in HighIntersection:\n",
    "        rowHigh.append(i)\n",
    "    else:\n",
    "        rowLow.append(i)"
   ]
  },
  {
   "cell_type": "code",
   "execution_count": 148,
   "metadata": {},
   "outputs": [],
   "source": [
    "file1 = file.iloc[rowHigh]"
   ]
  },
  {
   "cell_type": "code",
   "execution_count": 149,
   "metadata": {},
   "outputs": [
    {
     "data": {
      "text/plain": [
       "0    73\n",
       "1     1\n",
       "Name: TO_SAR, dtype: int64"
      ]
     },
     "execution_count": 149,
     "metadata": {},
     "output_type": "execute_result"
    }
   ],
   "source": [
    "file1['TO_SAR'].value_counts() # TO_SAR=1 只有一筆"
   ]
  },
  {
   "cell_type": "code",
   "execution_count": 150,
   "metadata": {},
   "outputs": [],
   "source": [
    "file2 = file.iloc[rowLow]"
   ]
  },
  {
   "cell_type": "code",
   "execution_count": 151,
   "metadata": {},
   "outputs": [
    {
     "data": {
      "text/plain": [
       "0    12432\n",
       "1       24\n",
       "Name: TO_SAR, dtype: int64"
      ]
     },
     "execution_count": 151,
     "metadata": {},
     "output_type": "execute_result"
    }
   ],
   "source": [
    "file2['TO_SAR'].value_counts()"
   ]
  },
  {
   "cell_type": "code",
   "execution_count": 152,
   "metadata": {},
   "outputs": [
    {
     "name": "stdout",
     "output_type": "stream",
     "text": [
      "Verify on time series\n",
      "shape of data: (12456, 38)\n",
      "total number of TO_SAR: 24\n",
      "********************************\n",
      "time interval in train set:2020-02-17~2020-12-11\n",
      "TO_SAR in train set: 14\n",
      "TO_SAR/Total in train set 0.0018734109460725277\n",
      "split dataset to train, test...\n",
      "********************************\n",
      "time interval in test set:2020-09-01~2020-12-31\n",
      "TO_SAR in test set: 10\n",
      "TO_SAR/Total in test set 0.002006823198876179\n",
      "********************************\n",
      "train data shape:  (7473, 37)\n",
      "test data shape:  (4983, 37)\n"
     ]
    }
   ],
   "source": [
    "train_set, test_set = ReadFile(file2, SAR_type)"
   ]
  },
  {
   "cell_type": "code",
   "execution_count": 153,
   "metadata": {},
   "outputs": [],
   "source": [
    "train_SAR = train_set[train_set['TO_SAR']!=0]\n",
    "train_Non_SAR = train_set[train_set['TO_SAR']==0]"
   ]
  },
  {
   "cell_type": "code",
   "execution_count": 154,
   "metadata": {},
   "outputs": [],
   "source": [
    "test_SAR = test_set[test_set['TO_SAR']!=0]\n",
    "test_Non_SAR = test_set[test_set['TO_SAR']==0]"
   ]
  },
  {
   "cell_type": "markdown",
   "metadata": {},
   "source": [
    "### Search Answer"
   ]
  },
  {
   "cell_type": "code",
   "execution_count": 155,
   "metadata": {},
   "outputs": [
    {
     "name": "stdout",
     "output_type": "stream",
     "text": [
      "[835271.0, 1015200.0, 1151400.0, 1229600.0, 1350180.0, 1622472.8, 1892405.9999999998, 3223620.000000001, 5550000.000000002, 39258714.0]\n",
      "\n",
      "[721000.0, 846548.0, 989848.0, 1035642.0, 1120015.0, 1662008.0, 2039999.9999999998, 3240000.000000001, 5550000.000000002, 39258714.0]\n",
      "\n",
      "[0.8761025802362744, 0.96541358915608, 0.9911163185162613, 0.9987336234751071, 0.9999896142433233, 1.0, 1.0, 1.0080919413919414, 1.420250841143433, 2.0]\n",
      "\n"
     ]
    }
   ],
   "source": [
    "debit_amt_1day_threshold = []\n",
    "credit_amt_threshold = []\n",
    "ratio_threshold = []\n",
    "threshold_list = [credit_amt_threshold, debit_amt_1day_threshold,  ratio_threshold]\n",
    "\n",
    "for i in range(len(FEATURE)):\n",
    "    tmp = []\n",
    "    tmp = list(train_SAR[FEATURE[i]].values)\n",
    "    tmp.sort()\n",
    "    for j in np.linspace(10, 100, 10):\n",
    "        threshold_list[i].append(np.percentile(tmp, j))\n",
    "    print(threshold_list[i])\n",
    "    print()"
   ]
  },
  {
   "cell_type": "code",
   "execution_count": 156,
   "metadata": {},
   "outputs": [
    {
     "name": "stdout",
     "output_type": "stream",
     "text": [
      "max val:  0.7857142857142857 number of max val:  2\n",
      "0th, recall: 0.7857142857142857, val1: 721000.0, val2: 835271.0\n",
      "10th, recall: 0.7857142857142857, val1: 846548.0, val2: 835271.0\n",
      "1th, recall: 0.7142857142857143, val1: 721000.0, val2: 1015200.0\n",
      "11th, recall: 0.7142857142857143, val1: 846548.0, val2: 1015200.0\n",
      "20th, recall: 0.7142857142857143, val1: 989848.0, val2: 835271.0\n",
      "21th, recall: 0.7142857142857143, val1: 989848.0, val2: 1015200.0\n",
      "2th, recall: 0.6428571428571429, val1: 721000.0, val2: 1151400.0\n",
      "12th, recall: 0.6428571428571429, val1: 846548.0, val2: 1151400.0\n",
      "22th, recall: 0.6428571428571429, val1: 989848.0, val2: 1151400.0\n",
      "30th, recall: 0.5714285714285714, val1: 1035642.0, val2: 835271.0\n",
      "********************************\n"
     ]
    }
   ],
   "source": [
    "LOGIC = 'AND'\n",
    "default_debit_amt_1day = 387219\n",
    "default_credit_amt = 387219\n",
    "candidate_rule1 = Search2D(debit_amt_1day_threshold, credit_amt_threshold, 'Debit_Amt_1Day', 'Credit_Amt',\\\n",
    "                           default_debit_amt_1day, default_credit_amt, train_SAR, train_Non_SAR, train_set, LOGIC, SAR_type)"
   ]
  },
  {
   "cell_type": "code",
   "execution_count": 157,
   "metadata": {},
   "outputs": [
    {
     "name": "stdout",
     "output_type": "stream",
     "text": [
      "0.8571428571428571\n",
      "0.7857142857142857\n",
      "0.7142857142857143\n",
      "0.5714285714285714\n",
      "0.5\n",
      "0.5\n",
      "0.5\n",
      "0.21428571428571427\n",
      "0.14285714285714285\n",
      "0.07142857142857142\n",
      "recall [0.8571428571428571, 0.7857142857142857, 0.7142857142857143, 0.5714285714285714, 0.5, 0.5, 0.5, 0.21428571428571427, 0.14285714285714285, 0.07142857142857142, 0, 0, 0, 0, 0, 0, 0, 0, 0]\n",
      "max val:  0.8571428571428571 number of max val:  1\n",
      "number of zero: 9\n",
      "0th, recall: 0.8571428571428571 , val: 0.8761025802362744\n",
      "1th, recall: 0.7857142857142857 , val: 0.96541358915608\n",
      "2th, recall: 0.7142857142857143 , val: 0.9911163185162613\n",
      "3th, recall: 0.5714285714285714 , val: 0.9987336234751071\n",
      "4th, recall: 0.5 , val: 0.9999896142433233\n",
      "5th, recall: 0.5 , val: 1.0\n",
      "6th, recall: 0.5 , val: 1.0\n",
      "7th, recall: 0.21428571428571427 , val: 1.0080919413919414\n",
      "8th, recall: 0.14285714285714285 , val: 1.420250841143433\n",
      "9th, recall: 0.07142857142857142 , val: 2.0\n"
     ]
    }
   ],
   "source": [
    "LOGIC = 'AND'\n",
    "default_ratio = 0.75\n",
    "candidate_rule2 = Search1D(ratio_threshold, 'debit/credit', default_ratio, train_SAR, train_Non_SAR, train_set, LOGIC, SAR_type)"
   ]
  },
  {
   "cell_type": "code",
   "execution_count": 158,
   "metadata": {},
   "outputs": [],
   "source": [
    "candidate_rule1 = [[ceil(x), ceil(y)] for [x,y] in candidate_rule1]"
   ]
  },
  {
   "cell_type": "code",
   "execution_count": 159,
   "metadata": {},
   "outputs": [],
   "source": [
    "# apply on testing set\n",
    "results = pd.DataFrame(columns = ['Debit_Amt_1Day','Credit_Amt',\\\n",
    "                                  'debit/credit','SAR', 'Non SAR','newSAM=1_SAR=1(TP)','newSAM=1_SAR=0(FP)',\\\n",
    "                                  'newSAM=0_SAR=1(FN)', 'newSAM=0_SAR=0(TN)', 'recall','filter rate'])\n",
    "for thre1, thre2 in candidate_rule1:\n",
    "    for thre3 in candidate_rule2:\n",
    "        idx1 = set(test_set[test_set['Debit_Amt_1Day']>=thre1].index) & set(test_set[test_set['Credit_Amt']>=thre2].index)\n",
    "        idx2 = set(test_set[test_set['debit/credit']>=thre3].index)\n",
    "\n",
    "        idx = list(idx1 &idx2)\n",
    "\n",
    "        new_SAM_1_rule = test_set.iloc[idx]\n",
    "\n",
    "        new_SAM_1 = new_SAM_1_rule\n",
    "        new_SAM_0 = test_set.drop(index = new_SAM_1.index)\n",
    "\n",
    "        if (new_SAM_0.shape[0]+new_SAM_1.shape[0])!=test_set.shape[0]:\n",
    "            raise ValueError(\"new SAM 0 and new SAM 1 overlapped!\")\n",
    "        TP = new_SAM_1[new_SAM_1['TO_SAR']!=0].shape[0]\n",
    "        TN = new_SAM_0[new_SAM_0['TO_SAR']==0].shape[0]\n",
    "        FP = new_SAM_1[new_SAM_1['TO_SAR']==0].shape[0]\n",
    "        FN = new_SAM_0[new_SAM_0['TO_SAR']!=0].shape[0]\n",
    "        total = test_set.shape[0]\n",
    "        results = results.append({'Debit_Amt_1Day':thre1,'Credit_Amt':thre2,  \\\n",
    "                                  'debit/credit':thre3, \\\n",
    "                                  'SAR':test_set[test_set['TO_SAR']!=0].shape[0], \\\n",
    "                                  'Non SAR':test_set[test_set['TO_SAR']==0].shape[0],\\\n",
    "                                  'newSAM=1_SAR=1(TP)':TP, 'newSAM=1_SAR=0(FP)':FP, 'newSAM=0_SAR=1(FN)':FN,\\\n",
    "                                  'newSAM=0_SAR=0(TN)':TN, 'recall': str(round(TP/(TP+FN), 4)),\\\n",
    "                                  'filter rate':str((round((TN+FN)/total, 4)))}, ignore_index = True)\n"
   ]
  },
  {
   "cell_type": "code",
   "execution_count": 160,
   "metadata": {},
   "outputs": [
    {
     "data": {
      "text/html": [
       "<div>\n",
       "<style scoped>\n",
       "    .dataframe tbody tr th:only-of-type {\n",
       "        vertical-align: middle;\n",
       "    }\n",
       "\n",
       "    .dataframe tbody tr th {\n",
       "        vertical-align: top;\n",
       "    }\n",
       "\n",
       "    .dataframe thead th {\n",
       "        text-align: right;\n",
       "    }\n",
       "</style>\n",
       "<table border=\"1\" class=\"dataframe\">\n",
       "  <thead>\n",
       "    <tr style=\"text-align: right;\">\n",
       "      <th></th>\n",
       "      <th>Debit_Amt_1Day</th>\n",
       "      <th>Credit_Amt</th>\n",
       "      <th>debit/credit</th>\n",
       "      <th>SAR</th>\n",
       "      <th>Non SAR</th>\n",
       "      <th>newSAM=1_SAR=1(TP)</th>\n",
       "      <th>newSAM=1_SAR=0(FP)</th>\n",
       "      <th>newSAM=0_SAR=1(FN)</th>\n",
       "      <th>newSAM=0_SAR=0(TN)</th>\n",
       "      <th>recall</th>\n",
       "      <th>filter rate</th>\n",
       "    </tr>\n",
       "  </thead>\n",
       "  <tbody>\n",
       "    <tr>\n",
       "      <th>18</th>\n",
       "      <td>989848</td>\n",
       "      <td>1151400</td>\n",
       "      <td>0.965414</td>\n",
       "      <td>10</td>\n",
       "      <td>4973</td>\n",
       "      <td>9</td>\n",
       "      <td>1685</td>\n",
       "      <td>1</td>\n",
       "      <td>3288</td>\n",
       "      <td>0.9</td>\n",
       "      <td>0.66</td>\n",
       "    </tr>\n",
       "    <tr>\n",
       "      <th>28</th>\n",
       "      <td>846548</td>\n",
       "      <td>1151400</td>\n",
       "      <td>0.965414</td>\n",
       "      <td>10</td>\n",
       "      <td>4973</td>\n",
       "      <td>9</td>\n",
       "      <td>1685</td>\n",
       "      <td>1</td>\n",
       "      <td>3288</td>\n",
       "      <td>0.9</td>\n",
       "      <td>0.66</td>\n",
       "    </tr>\n",
       "    <tr>\n",
       "      <th>38</th>\n",
       "      <td>721000</td>\n",
       "      <td>1151400</td>\n",
       "      <td>0.965414</td>\n",
       "      <td>10</td>\n",
       "      <td>4973</td>\n",
       "      <td>9</td>\n",
       "      <td>1685</td>\n",
       "      <td>1</td>\n",
       "      <td>3288</td>\n",
       "      <td>0.9</td>\n",
       "      <td>0.66</td>\n",
       "    </tr>\n",
       "    <tr>\n",
       "      <th>8</th>\n",
       "      <td>1035642</td>\n",
       "      <td>835271</td>\n",
       "      <td>0.965414</td>\n",
       "      <td>10</td>\n",
       "      <td>4973</td>\n",
       "      <td>9</td>\n",
       "      <td>1797</td>\n",
       "      <td>1</td>\n",
       "      <td>3176</td>\n",
       "      <td>0.9</td>\n",
       "      <td>0.6376</td>\n",
       "    </tr>\n",
       "    <tr>\n",
       "      <th>78</th>\n",
       "      <td>721000</td>\n",
       "      <td>1015200</td>\n",
       "      <td>0.965414</td>\n",
       "      <td>10</td>\n",
       "      <td>4973</td>\n",
       "      <td>9</td>\n",
       "      <td>1816</td>\n",
       "      <td>1</td>\n",
       "      <td>3157</td>\n",
       "      <td>0.9</td>\n",
       "      <td>0.6338</td>\n",
       "    </tr>\n",
       "    <tr>\n",
       "      <th>48</th>\n",
       "      <td>989848</td>\n",
       "      <td>1015200</td>\n",
       "      <td>0.965414</td>\n",
       "      <td>10</td>\n",
       "      <td>4973</td>\n",
       "      <td>9</td>\n",
       "      <td>1816</td>\n",
       "      <td>1</td>\n",
       "      <td>3157</td>\n",
       "      <td>0.9</td>\n",
       "      <td>0.6338</td>\n",
       "    </tr>\n",
       "    <tr>\n",
       "      <th>68</th>\n",
       "      <td>846548</td>\n",
       "      <td>1015200</td>\n",
       "      <td>0.965414</td>\n",
       "      <td>10</td>\n",
       "      <td>4973</td>\n",
       "      <td>9</td>\n",
       "      <td>1816</td>\n",
       "      <td>1</td>\n",
       "      <td>3157</td>\n",
       "      <td>0.9</td>\n",
       "      <td>0.6338</td>\n",
       "    </tr>\n",
       "    <tr>\n",
       "      <th>19</th>\n",
       "      <td>989848</td>\n",
       "      <td>1151400</td>\n",
       "      <td>0.876103</td>\n",
       "      <td>10</td>\n",
       "      <td>4973</td>\n",
       "      <td>9</td>\n",
       "      <td>1877</td>\n",
       "      <td>1</td>\n",
       "      <td>3096</td>\n",
       "      <td>0.9</td>\n",
       "      <td>0.6215</td>\n",
       "    </tr>\n",
       "    <tr>\n",
       "      <th>29</th>\n",
       "      <td>846548</td>\n",
       "      <td>1151400</td>\n",
       "      <td>0.876103</td>\n",
       "      <td>10</td>\n",
       "      <td>4973</td>\n",
       "      <td>9</td>\n",
       "      <td>1877</td>\n",
       "      <td>1</td>\n",
       "      <td>3096</td>\n",
       "      <td>0.9</td>\n",
       "      <td>0.6215</td>\n",
       "    </tr>\n",
       "    <tr>\n",
       "      <th>39</th>\n",
       "      <td>721000</td>\n",
       "      <td>1151400</td>\n",
       "      <td>0.876103</td>\n",
       "      <td>10</td>\n",
       "      <td>4973</td>\n",
       "      <td>9</td>\n",
       "      <td>1877</td>\n",
       "      <td>1</td>\n",
       "      <td>3096</td>\n",
       "      <td>0.9</td>\n",
       "      <td>0.6215</td>\n",
       "    </tr>\n",
       "  </tbody>\n",
       "</table>\n",
       "</div>"
      ],
      "text/plain": [
       "   Debit_Amt_1Day Credit_Amt  debit/credit SAR Non SAR newSAM=1_SAR=1(TP)  \\\n",
       "18         989848    1151400      0.965414  10    4973                  9   \n",
       "28         846548    1151400      0.965414  10    4973                  9   \n",
       "38         721000    1151400      0.965414  10    4973                  9   \n",
       "8         1035642     835271      0.965414  10    4973                  9   \n",
       "78         721000    1015200      0.965414  10    4973                  9   \n",
       "48         989848    1015200      0.965414  10    4973                  9   \n",
       "68         846548    1015200      0.965414  10    4973                  9   \n",
       "19         989848    1151400      0.876103  10    4973                  9   \n",
       "29         846548    1151400      0.876103  10    4973                  9   \n",
       "39         721000    1151400      0.876103  10    4973                  9   \n",
       "\n",
       "   newSAM=1_SAR=0(FP) newSAM=0_SAR=1(FN) newSAM=0_SAR=0(TN) recall filter rate  \n",
       "18               1685                  1               3288    0.9        0.66  \n",
       "28               1685                  1               3288    0.9        0.66  \n",
       "38               1685                  1               3288    0.9        0.66  \n",
       "8                1797                  1               3176    0.9      0.6376  \n",
       "78               1816                  1               3157    0.9      0.6338  \n",
       "48               1816                  1               3157    0.9      0.6338  \n",
       "68               1816                  1               3157    0.9      0.6338  \n",
       "19               1877                  1               3096    0.9      0.6215  \n",
       "29               1877                  1               3096    0.9      0.6215  \n",
       "39               1877                  1               3096    0.9      0.6215  "
      ]
     },
     "execution_count": 160,
     "metadata": {},
     "output_type": "execute_result"
    }
   ],
   "source": [
    "results[results['recall']>='0.9'].sort_values(by=['filter rate'], ascending=False)[:10]"
   ]
  },
  {
   "cell_type": "code",
   "execution_count": null,
   "metadata": {},
   "outputs": [],
   "source": []
  }
 ],
 "metadata": {
  "kernelspec": {
   "display_name": "Python 3",
   "language": "python",
   "name": "python3"
  },
  "language_info": {
   "codemirror_mode": {
    "name": "ipython",
    "version": 3
   },
   "file_extension": ".py",
   "mimetype": "text/x-python",
   "name": "python",
   "nbconvert_exporter": "python",
   "pygments_lexer": "ipython3",
   "version": "3.8.5"
  }
 },
 "nbformat": 4,
 "nbformat_minor": 4
}
