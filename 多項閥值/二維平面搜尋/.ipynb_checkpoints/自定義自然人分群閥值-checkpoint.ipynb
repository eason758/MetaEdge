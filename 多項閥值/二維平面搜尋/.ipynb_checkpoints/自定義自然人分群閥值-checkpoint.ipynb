{
 "cells": [
  {
   "cell_type": "markdown",
   "metadata": {},
   "source": [
    "# 按自定義分群"
   ]
  },
  {
   "cell_type": "code",
   "execution_count": 395,
   "metadata": {},
   "outputs": [],
   "source": [
    "import pandas as pd\n",
    "import matplotlib.pyplot as plt"
   ]
  },
  {
   "cell_type": "code",
   "execution_count": 396,
   "metadata": {},
   "outputs": [],
   "source": [
    "df = pd.read_csv(\"D:/NCTU/12-資料產出/NCTU/alert處理new3.csv\")"
   ]
  },
  {
   "cell_type": "code",
   "execution_count": 397,
   "metadata": {},
   "outputs": [],
   "source": [
    "def Segmentation(TYPE, score):\n",
    "    if TYPE == 'original':\n",
    "        riskHigh = df[df['Cust_Segmentation']=='PH']\n",
    "        riskLow = df[df['Cust_Segmentation']=='PNH']\n",
    "    elif TYPE =='selfDefined':\n",
    "        riskHigh = df[df['risk_score'] >= score]\n",
    "        riskLow = df[df['risk_score'] < score]\n",
    "    \n",
    "    return riskHigh, riskLow"
   ]
  },
  {
   "cell_type": "code",
   "execution_count": 398,
   "metadata": {},
   "outputs": [],
   "source": [
    "TYPE = 'selfDefined'\n",
    "score = 80\n",
    "riskHigh, riskLow = Segmentation(TYPE, score)"
   ]
  },
  {
   "cell_type": "code",
   "execution_count": 399,
   "metadata": {},
   "outputs": [
    {
     "data": {
      "text/plain": [
       "<BarContainer object of 680 artists>"
      ]
     },
     "execution_count": 399,
     "metadata": {},
     "output_type": "execute_result"
    },
    {
     "data": {
      "image/png": "[encoded data removed]",
      "text/plain": [
       "<Figure size 432x288 with 1 Axes>"
      ]
     },
     "metadata": {
      "needs_background": "light"
     },
     "output_type": "display_data"
    }
   ],
   "source": [
    "plt.bar(riskHigh['risk_score'].value_counts().index, riskHigh['risk_score'].value_counts().values)"
   ]
  },
  {
   "cell_type": "code",
   "execution_count": 400,
   "metadata": {},
   "outputs": [
    {
     "data": {
      "text/plain": [
       "<BarContainer object of 180 artists>"
      ]
     },
     "execution_count": 400,
     "metadata": {},
     "output_type": "execute_result"
    },
    {
     "data": {
      "image/png": "[encoded data removed]",
      "text/plain": [
       "<Figure size 432x288 with 1 Axes>"
      ]
     },
     "metadata": {
      "needs_background": "light"
     },
     "output_type": "display_data"
    }
   ],
   "source": [
    "plt.bar(riskLow['risk_score'].value_counts().index, riskLow['risk_score'].value_counts().values)"
   ]
  },
  {
   "cell_type": "markdown",
   "metadata": {},
   "source": [
    "### risk score切分落在124左右(original)"
   ]
  },
  {
   "cell_type": "code",
   "execution_count": 401,
   "metadata": {},
   "outputs": [],
   "source": [
    "riskHighID = riskHigh['alert_id'].values"
   ]
  },
  {
   "cell_type": "code",
   "execution_count": 402,
   "metadata": {},
   "outputs": [],
   "source": [
    "riskLowID = riskLow['alert_id'].values"
   ]
  },
  {
   "cell_type": "markdown",
   "metadata": {},
   "source": [
    "# 分群閥值"
   ]
  },
  {
   "cell_type": "code",
   "execution_count": 403,
   "metadata": {},
   "outputs": [],
   "source": [
    "%run ./function.ipynb"
   ]
  },
  {
   "cell_type": "code",
   "execution_count": 404,
   "metadata": {},
   "outputs": [],
   "source": [
    "SAR_type = 'TO_SAR'"
   ]
  },
  {
   "cell_type": "markdown",
   "metadata": {},
   "source": [
    "## TWN_A11_01"
   ]
  },
  {
   "cell_type": "code",
   "execution_count": 405,
   "metadata": {},
   "outputs": [],
   "source": [
    "DAY = 15\n",
    "FEATURE = ['Credit_Amt', 'number_of_Credit', 'Debit_Amt', 'number_of_Debit']\n",
    "PATH = \"D:/Temp/NCTU/crystal/第二階段/new_alert/日數分類_營業日/\"\n",
    "FILE = \"TWN_A11_01_day15_with_aggregated_txn_scenario_txn_type_key_營業日.csv\""
   ]
  },
  {
   "cell_type": "code",
   "execution_count": 406,
   "metadata": {},
   "outputs": [],
   "source": [
    "file = pd.read_csv(PATH+FILE)"
   ]
  },
  {
   "cell_type": "code",
   "execution_count": 407,
   "metadata": {},
   "outputs": [],
   "source": [
    "file['TO_SAR'] = file['TO_SAR'].replace(np.nan, 0)\n",
    "file['TO_SAR'] = file['TO_SAR'].replace('NF', 1)\n",
    "file['TO_SAR'] = file['TO_SAR'].replace('F', 1)"
   ]
  },
  {
   "cell_type": "code",
   "execution_count": 408,
   "metadata": {},
   "outputs": [
    {
     "data": {
      "text/plain": [
       "0    86324\n",
       "1      446\n",
       "Name: TO_SAR, dtype: int64"
      ]
     },
     "execution_count": 408,
     "metadata": {},
     "output_type": "execute_result"
    }
   ],
   "source": [
    "file['TO_SAR'].value_counts()"
   ]
  },
  {
   "cell_type": "code",
   "execution_count": 409,
   "metadata": {},
   "outputs": [
    {
     "data": {
      "text/plain": [
       "(86770, 45)"
      ]
     },
     "execution_count": 409,
     "metadata": {},
     "output_type": "execute_result"
    }
   ],
   "source": [
    "file.shape"
   ]
  },
  {
   "cell_type": "code",
   "execution_count": 410,
   "metadata": {},
   "outputs": [],
   "source": [
    "fileID = file['alert_id'].values"
   ]
  },
  {
   "cell_type": "code",
   "execution_count": 411,
   "metadata": {},
   "outputs": [],
   "source": [
    "HighIntersection = list(set(fileID) & set(riskHighID))"
   ]
  },
  {
   "cell_type": "code",
   "execution_count": 412,
   "metadata": {},
   "outputs": [],
   "source": [
    "rowHigh = []\n",
    "rowLow = []\n",
    "for i in range(file.shape[0]):\n",
    "    if file['alert_id'][i] in HighIntersection:\n",
    "        rowHigh.append(i)\n",
    "    else:\n",
    "        rowLow.append(i)"
   ]
  },
  {
   "cell_type": "code",
   "execution_count": 413,
   "metadata": {},
   "outputs": [],
   "source": [
    "file1 = file.iloc[rowHigh] "
   ]
  },
  {
   "cell_type": "code",
   "execution_count": 414,
   "metadata": {},
   "outputs": [
    {
     "data": {
      "text/plain": [
       "0    40135\n",
       "1      188\n",
       "Name: TO_SAR, dtype: int64"
      ]
     },
     "execution_count": 414,
     "metadata": {},
     "output_type": "execute_result"
    }
   ],
   "source": [
    "file1['TO_SAR'].value_counts()"
   ]
  },
  {
   "cell_type": "code",
   "execution_count": 415,
   "metadata": {},
   "outputs": [
    {
     "name": "stdout",
     "output_type": "stream",
     "text": [
      "Verify on time series\n",
      "shape of data: (40323, 39)\n",
      "total number of TO_SAR: 188\n",
      "********************************\n",
      "time interval in train set:2019-03-04~2020-02-18\n",
      "TO_SAR in train set: 112\n",
      "TO_SAR/Total in train set 0.004629438267267391\n",
      "split dataset to train, test...\n",
      "********************************\n",
      "time interval in test set:2020-02-18~2020-12-31\n",
      "TO_SAR in test set: 76\n",
      "TO_SAR/Total in test set 0.004711717296962182\n",
      "********************************\n",
      "train data shape:  (24193, 38)\n",
      "test data shape:  (16130, 38)\n"
     ]
    }
   ],
   "source": [
    "train_set, test_set = ReadFile(file1, SAR_type)"
   ]
  },
  {
   "cell_type": "code",
   "execution_count": 416,
   "metadata": {},
   "outputs": [],
   "source": [
    "train_SAR = train_set[train_set['TO_SAR']!=0]\n",
    "train_Non_SAR = train_set[train_set['TO_SAR']==0]"
   ]
  },
  {
   "cell_type": "code",
   "execution_count": 417,
   "metadata": {},
   "outputs": [],
   "source": [
    "test_SAR = test_set[test_set['TO_SAR']!=0]\n",
    "test_Non_SAR = test_set[test_set['TO_SAR']==0]"
   ]
  },
  {
   "cell_type": "markdown",
   "metadata": {},
   "source": [
    "### Search Answer"
   ]
  },
  {
   "cell_type": "code",
   "execution_count": 418,
   "metadata": {},
   "outputs": [
    {
     "name": "stdout",
     "output_type": "stream",
     "text": [
      "[0.0, 0.0, 0.0, 0.0, 0.0, 207999.9999999987, 957999.9999999995, 1300800.0, 2196200.000000001, 6840000.0]\n",
      "\n",
      "[0.0, 0.0, 0.0, 0.0, 0.0, 3.5999999999999943, 6.699999999999989, 13.0, 16.900000000000006, 31.0]\n",
      "\n",
      "[0.0, 80005.0, 774110.9999999998, 984378.0, 1050000.0, 1131340.0, 1200000.0, 1354800.0, 1488618.0, 10550015.0]\n",
      "\n",
      "[0.0, 1.0, 7.299999999999997, 10.0, 12.0, 15.0, 17.69999999999999, 20.0, 38.80000000000001, 100.0]\n",
      "\n"
     ]
    }
   ],
   "source": [
    "number_of_credit_threshold = []\n",
    "credit_amt_threshold = []\n",
    "number_of_debit_threshold = []\n",
    "debit_amt_threshold = []\n",
    "threshold_list = [credit_amt_threshold, number_of_credit_threshold, debit_amt_threshold, number_of_debit_threshold]\n",
    "\n",
    "for i in range(len(FEATURE)):\n",
    "    tmp = []\n",
    "    tmp = list(train_SAR[FEATURE[i]].values)\n",
    "    tmp.sort()\n",
    "    for j in np.linspace(10, 100, 10):\n",
    "        threshold_list[i].append(np.percentile(tmp, j))\n",
    "    print(threshold_list[i])\n",
    "    print()"
   ]
  },
  {
   "cell_type": "code",
   "execution_count": 419,
   "metadata": {},
   "outputs": [
    {
     "name": "stdout",
     "output_type": "stream",
     "text": [
      "max val:  0.21049704006567482 number of max val:  1\n",
      "67th, recall: 0.17857142857142858, val1: 6.699999999999989, val2: 1300800.0\n",
      "77th, recall: 0.14285714285714285, val1: 13.0, val2: 1300800.0\n",
      "68th, recall: 0.08928571428571429, val1: 6.699999999999989, val2: 2196200.000000001\n",
      "78th, recall: 0.05357142857142857, val1: 13.0, val2: 2196200.000000001\n",
      "87th, recall: 0.05357142857142857, val1: 16.900000000000006, val2: 1300800.0\n",
      "79th, recall: 0.026785714285714284, val1: 13.0, val2: 6840000.0\n",
      "69th, recall: 0.026785714285714284, val1: 6.699999999999989, val2: 6840000.0\n",
      "88th, recall: 0.026785714285714284, val1: 16.900000000000006, val2: 2196200.000000001\n",
      "98th, recall: 0.008928571428571428, val1: 31.0, val2: 2196200.000000001\n",
      "97th, recall: 0.008928571428571428, val1: 31.0, val2: 1300800.0\n",
      "********************************\n"
     ]
    }
   ],
   "source": [
    "LOGIC = \"OR\"\n",
    "default_number_of_credit = 5\n",
    "default_credit_amt = 985500\n",
    "candidate_rule1 = Search2D(number_of_credit_threshold, credit_amt_threshold, 'number_of_Credit','Credit_Amt',\\\n",
    "                           default_number_of_credit, default_credit_amt, train_SAR, train_Non_SAR, train_set, LOGIC, SAR_type)"
   ]
  },
  {
   "cell_type": "code",
   "execution_count": 420,
   "metadata": {},
   "outputs": [
    {
     "name": "stdout",
     "output_type": "stream",
     "text": [
      "max val:  0.5130253269170201 number of max val:  1\n",
      "42th, recall: 0.48214285714285715, val1: 1050000.0, val2: 7.299999999999997\n",
      "43th, recall: 0.4107142857142857, val1: 1050000.0, val2: 10.0\n",
      "44th, recall: 0.38392857142857145, val1: 1050000.0, val2: 12.0\n",
      "52th, recall: 0.375, val1: 1131340.0, val2: 7.299999999999997\n",
      "62th, recall: 0.33035714285714285, val1: 1200000.0, val2: 7.299999999999997\n",
      "45th, recall: 0.30357142857142855, val1: 1050000.0, val2: 15.0\n",
      "53th, recall: 0.30357142857142855, val1: 1131340.0, val2: 10.0\n",
      "54th, recall: 0.2857142857142857, val1: 1131340.0, val2: 12.0\n",
      "63th, recall: 0.25892857142857145, val1: 1200000.0, val2: 10.0\n",
      "64th, recall: 0.24107142857142858, val1: 1200000.0, val2: 12.0\n",
      "********************************\n"
     ]
    }
   ],
   "source": [
    "LOGIC = \"OR\"\n",
    "default_number_of_debit = 5\n",
    "default_debit_amt = 985500\n",
    "candidate_rule2 = Search2D(debit_amt_threshold, number_of_debit_threshold, 'Debit_Amt','number_of_Debit',\\\n",
    "                           default_debit_amt,default_number_of_debit,  train_SAR, train_Non_SAR, train_set, LOGIC, SAR_type)"
   ]
  },
  {
   "cell_type": "code",
   "execution_count": 421,
   "metadata": {},
   "outputs": [],
   "source": [
    "candidate_rule1 = [[ceil(x), ceil(y)] for [x,y] in candidate_rule1]\n",
    "candidate_rule2 = [[ceil(x), ceil(y)] for [x,y] in candidate_rule2]"
   ]
  },
  {
   "cell_type": "code",
   "execution_count": 424,
   "metadata": {},
   "outputs": [],
   "source": [
    "# apply on testing set\n",
    "results = pd.DataFrame(columns = ['number_of_Credit','Credit_Amt',\\\n",
    "                                  'Debit_Amt','number_of_Debit','SAR', 'Non SAR','newSAM=1_SAR=1(TP)','newSAM=1_SAR=0(FP)',\\\n",
    "                                  'newSAM=0_SAR=1(FN)', 'newSAM=0_SAR=0(TN)', 'recall','filter rate'])\n",
    "for thre1, thre2 in candidate_rule1:\n",
    "    for thre3, thre4 in candidate_rule2:\n",
    "       \n",
    "        idx = list(set(test_set[test_set['number_of_Credit']>=thre1].index) & set(test_set[test_set['Credit_Amt']>=thre2].index))\n",
    "        idx1 = list(set(test_set[test_set['Debit_Amt']>=thre3].index) & set(test_set[test_set['number_of_Debit']>=thre4].index))\n",
    "        new_SAM_1_rule1 = test_set.iloc[idx]\n",
    "        new_SAM_1_rule2 = test_set.iloc[idx1]\n",
    "\n",
    "        new_SAM_1 = new_SAM_1_rule1.append(new_SAM_1_rule2)\n",
    "        new_SAM_1 = new_SAM_1.drop_duplicates()\n",
    "        new_SAM_0 = test_set.drop(index = new_SAM_1.index)\n",
    "\n",
    "        if (new_SAM_0.shape[0]+new_SAM_1.shape[0])!=test_set.shape[0]:\n",
    "            raise ValueError(\"new SAM 0 and new SAM 1 overlapped!\")\n",
    "            \n",
    "        TP = new_SAM_1[new_SAM_1['TO_SAR']!=0].shape[0]\n",
    "        TN = new_SAM_0[new_SAM_0['TO_SAR']==0].shape[0]\n",
    "        FP = new_SAM_1[new_SAM_1['TO_SAR']==0].shape[0]\n",
    "        FN = new_SAM_0[new_SAM_0['TO_SAR']!=0].shape[0]\n",
    "        total = test_set.shape[0]\n",
    "        results = results.append({'number_of_Credit':int(thre1),'Credit_Amt':thre2,  \\\n",
    "                                  'Debit_Amt':thre3, 'number_of_Debit':thre4, 'SAR':test_set[test_set['TO_SAR']!=0].shape[0], \\\n",
    "                                  'Non SAR':test_set[test_set['TO_SAR']==0].shape[0],\\\n",
    "                                  'newSAM=1_SAR=1(TP)':TP, 'newSAM=1_SAR=0(FP)':FP, 'newSAM=0_SAR=1(FN)':FN,\\\n",
    "                                  'newSAM=0_SAR=0(TN)':TN, 'recall': str(round(TP/(TP+FN), 4)),\\\n",
    "                                  'filter rate':str((round((TN+FN)/total, 4)))}, ignore_index = True)\n"
   ]
  },
  {
   "cell_type": "code",
   "execution_count": 425,
   "metadata": {},
   "outputs": [
    {
     "data": {
      "text/html": [
       "<div>\n",
       "<style scoped>\n",
       "    .dataframe tbody tr th:only-of-type {\n",
       "        vertical-align: middle;\n",
       "    }\n",
       "\n",
       "    .dataframe tbody tr th {\n",
       "        vertical-align: top;\n",
       "    }\n",
       "\n",
       "    .dataframe thead th {\n",
       "        text-align: right;\n",
       "    }\n",
       "</style>\n",
       "<table border=\"1\" class=\"dataframe\">\n",
       "  <thead>\n",
       "    <tr style=\"text-align: right;\">\n",
       "      <th></th>\n",
       "      <th>number_of_Credit</th>\n",
       "      <th>Credit_Amt</th>\n",
       "      <th>Debit_Amt</th>\n",
       "      <th>number_of_Debit</th>\n",
       "      <th>SAR</th>\n",
       "      <th>Non SAR</th>\n",
       "      <th>newSAM=1_SAR=1(TP)</th>\n",
       "      <th>newSAM=1_SAR=0(FP)</th>\n",
       "      <th>newSAM=0_SAR=1(FN)</th>\n",
       "      <th>newSAM=0_SAR=0(TN)</th>\n",
       "      <th>recall</th>\n",
       "      <th>filter rate</th>\n",
       "    </tr>\n",
       "  </thead>\n",
       "  <tbody>\n",
       "    <tr>\n",
       "      <th>99</th>\n",
       "      <td>7</td>\n",
       "      <td>1300800</td>\n",
       "      <td>1050000</td>\n",
       "      <td>8</td>\n",
       "      <td>76</td>\n",
       "      <td>16054</td>\n",
       "      <td>51</td>\n",
       "      <td>8460</td>\n",
       "      <td>25</td>\n",
       "      <td>7594</td>\n",
       "      <td>0.6711</td>\n",
       "      <td>0.4723</td>\n",
       "    </tr>\n",
       "    <tr>\n",
       "      <th>96</th>\n",
       "      <td>7</td>\n",
       "      <td>1300800</td>\n",
       "      <td>1131340</td>\n",
       "      <td>8</td>\n",
       "      <td>76</td>\n",
       "      <td>16054</td>\n",
       "      <td>45</td>\n",
       "      <td>7825</td>\n",
       "      <td>31</td>\n",
       "      <td>8229</td>\n",
       "      <td>0.5921</td>\n",
       "      <td>0.5121</td>\n",
       "    </tr>\n",
       "    <tr>\n",
       "      <th>98</th>\n",
       "      <td>7</td>\n",
       "      <td>1300800</td>\n",
       "      <td>1050000</td>\n",
       "      <td>10</td>\n",
       "      <td>76</td>\n",
       "      <td>16054</td>\n",
       "      <td>44</td>\n",
       "      <td>7934</td>\n",
       "      <td>32</td>\n",
       "      <td>8120</td>\n",
       "      <td>0.5789</td>\n",
       "      <td>0.5054</td>\n",
       "    </tr>\n",
       "    <tr>\n",
       "      <th>89</th>\n",
       "      <td>13</td>\n",
       "      <td>1300800</td>\n",
       "      <td>1050000</td>\n",
       "      <td>8</td>\n",
       "      <td>76</td>\n",
       "      <td>16054</td>\n",
       "      <td>44</td>\n",
       "      <td>7093</td>\n",
       "      <td>32</td>\n",
       "      <td>8961</td>\n",
       "      <td>0.5789</td>\n",
       "      <td>0.5575</td>\n",
       "    </tr>\n",
       "    <tr>\n",
       "      <th>59</th>\n",
       "      <td>17</td>\n",
       "      <td>1300800</td>\n",
       "      <td>1050000</td>\n",
       "      <td>8</td>\n",
       "      <td>76</td>\n",
       "      <td>16054</td>\n",
       "      <td>42</td>\n",
       "      <td>6146</td>\n",
       "      <td>34</td>\n",
       "      <td>9908</td>\n",
       "      <td>0.5526</td>\n",
       "      <td>0.6164</td>\n",
       "    </tr>\n",
       "    <tr>\n",
       "      <th>95</th>\n",
       "      <td>7</td>\n",
       "      <td>1300800</td>\n",
       "      <td>1200000</td>\n",
       "      <td>8</td>\n",
       "      <td>76</td>\n",
       "      <td>16054</td>\n",
       "      <td>41</td>\n",
       "      <td>7415</td>\n",
       "      <td>35</td>\n",
       "      <td>8639</td>\n",
       "      <td>0.5395</td>\n",
       "      <td>0.5378</td>\n",
       "    </tr>\n",
       "    <tr>\n",
       "      <th>79</th>\n",
       "      <td>7</td>\n",
       "      <td>2196201</td>\n",
       "      <td>1050000</td>\n",
       "      <td>8</td>\n",
       "      <td>76</td>\n",
       "      <td>16054</td>\n",
       "      <td>41</td>\n",
       "      <td>5999</td>\n",
       "      <td>35</td>\n",
       "      <td>10055</td>\n",
       "      <td>0.5395</td>\n",
       "      <td>0.6255</td>\n",
       "    </tr>\n",
       "    <tr>\n",
       "      <th>9</th>\n",
       "      <td>31</td>\n",
       "      <td>1300800</td>\n",
       "      <td>1050000</td>\n",
       "      <td>8</td>\n",
       "      <td>76</td>\n",
       "      <td>16054</td>\n",
       "      <td>41</td>\n",
       "      <td>5050</td>\n",
       "      <td>35</td>\n",
       "      <td>11004</td>\n",
       "      <td>0.5395</td>\n",
       "      <td>0.6844</td>\n",
       "    </tr>\n",
       "    <tr>\n",
       "      <th>29</th>\n",
       "      <td>17</td>\n",
       "      <td>2196201</td>\n",
       "      <td>1050000</td>\n",
       "      <td>8</td>\n",
       "      <td>76</td>\n",
       "      <td>16054</td>\n",
       "      <td>40</td>\n",
       "      <td>5128</td>\n",
       "      <td>36</td>\n",
       "      <td>10926</td>\n",
       "      <td>0.5263</td>\n",
       "      <td>0.6796</td>\n",
       "    </tr>\n",
       "    <tr>\n",
       "      <th>69</th>\n",
       "      <td>13</td>\n",
       "      <td>2196201</td>\n",
       "      <td>1050000</td>\n",
       "      <td>8</td>\n",
       "      <td>76</td>\n",
       "      <td>16054</td>\n",
       "      <td>40</td>\n",
       "      <td>5510</td>\n",
       "      <td>36</td>\n",
       "      <td>10544</td>\n",
       "      <td>0.5263</td>\n",
       "      <td>0.6559</td>\n",
       "    </tr>\n",
       "  </tbody>\n",
       "</table>\n",
       "</div>"
      ],
      "text/plain": [
       "   number_of_Credit Credit_Amt Debit_Amt number_of_Debit SAR Non SAR  \\\n",
       "99                7    1300800   1050000               8  76   16054   \n",
       "96                7    1300800   1131340               8  76   16054   \n",
       "98                7    1300800   1050000              10  76   16054   \n",
       "89               13    1300800   1050000               8  76   16054   \n",
       "59               17    1300800   1050000               8  76   16054   \n",
       "95                7    1300800   1200000               8  76   16054   \n",
       "79                7    2196201   1050000               8  76   16054   \n",
       "9                31    1300800   1050000               8  76   16054   \n",
       "29               17    2196201   1050000               8  76   16054   \n",
       "69               13    2196201   1050000               8  76   16054   \n",
       "\n",
       "   newSAM=1_SAR=1(TP) newSAM=1_SAR=0(FP) newSAM=0_SAR=1(FN)  \\\n",
       "99                 51               8460                 25   \n",
       "96                 45               7825                 31   \n",
       "98                 44               7934                 32   \n",
       "89                 44               7093                 32   \n",
       "59                 42               6146                 34   \n",
       "95                 41               7415                 35   \n",
       "79                 41               5999                 35   \n",
       "9                  41               5050                 35   \n",
       "29                 40               5128                 36   \n",
       "69                 40               5510                 36   \n",
       "\n",
       "   newSAM=0_SAR=0(TN)  recall filter rate  \n",
       "99               7594  0.6711      0.4723  \n",
       "96               8229  0.5921      0.5121  \n",
       "98               8120  0.5789      0.5054  \n",
       "89               8961  0.5789      0.5575  \n",
       "59               9908  0.5526      0.6164  \n",
       "95               8639  0.5395      0.5378  \n",
       "79              10055  0.5395      0.6255  \n",
       "9               11004  0.5395      0.6844  \n",
       "29              10926  0.5263      0.6796  \n",
       "69              10544  0.5263      0.6559  "
      ]
     },
     "execution_count": 425,
     "metadata": {},
     "output_type": "execute_result"
    }
   ],
   "source": [
    "results = results.sort_values(by='recall', ascending=False)[:10].drop_duplicates()\n",
    "results"
   ]
  },
  {
   "cell_type": "code",
   "execution_count": 426,
   "metadata": {},
   "outputs": [],
   "source": [
    "file2 = file.iloc[rowLow] "
   ]
  },
  {
   "cell_type": "code",
   "execution_count": 427,
   "metadata": {},
   "outputs": [
    {
     "name": "stdout",
     "output_type": "stream",
     "text": [
      "Verify on time series\n",
      "shape of data: (46447, 39)\n",
      "total number of TO_SAR: 258\n",
      "********************************\n",
      "time interval in train set:2019-03-04~2020-05-12\n",
      "TO_SAR in train set: 154\n",
      "TO_SAR/Total in train set 0.00552624968600854\n",
      "split dataset to train, test...\n",
      "********************************\n",
      "time interval in test set:2020-02-19~2020-12-31\n",
      "TO_SAR in test set: 104\n",
      "TO_SAR/Total in test set 0.005597416576964478\n",
      "********************************\n",
      "train data shape:  (27867, 38)\n",
      "test data shape:  (18580, 38)\n"
     ]
    }
   ],
   "source": [
    "train_set, test_set = ReadFile(file2, SAR_type)"
   ]
  },
  {
   "cell_type": "code",
   "execution_count": 428,
   "metadata": {},
   "outputs": [],
   "source": [
    "train_SAR = train_set[train_set['TO_SAR']!=0]\n",
    "train_Non_SAR = train_set[train_set['TO_SAR']==0]"
   ]
  },
  {
   "cell_type": "code",
   "execution_count": 429,
   "metadata": {},
   "outputs": [],
   "source": [
    "test_SAR = test_set[test_set['TO_SAR']!=0]\n",
    "test_Non_SAR = test_set[test_set['TO_SAR']==0]"
   ]
  },
  {
   "cell_type": "markdown",
   "metadata": {},
   "source": [
    "### Search Answer"
   ]
  },
  {
   "cell_type": "code",
   "execution_count": 430,
   "metadata": {},
   "outputs": [
    {
     "name": "stdout",
     "output_type": "stream",
     "text": [
      "[0.0, 0.0, 0.0, 0.0, 0.0, 0.0, 408199.99999999953, 1007024.8000000003, 1257820.0000000007, 6785000.0]\n",
      "\n",
      "[0.0, 0.0, 0.0, 0.0, 0.0, 0.0, 2.0, 7.0, 17.400000000000034, 98.0]\n",
      "\n",
      "[1300.0000000000007, 845187.0, 1026414.0, 1116627.2, 1200117.5, 1466008.0, 1832009.0, 2196181.0, 2625000.000000001, 10600030.0]\n",
      "\n",
      "[1.0, 5.0, 6.899999999999999, 11.0, 16.0, 19.0, 22.0, 29.400000000000006, 40.10000000000005, 149.0]\n",
      "\n"
     ]
    }
   ],
   "source": [
    "number_of_credit_threshold = []\n",
    "credit_amt_threshold = []\n",
    "number_of_debit_threshold = []\n",
    "debit_amt_threshold = []\n",
    "threshold_list = [credit_amt_threshold, number_of_credit_threshold, debit_amt_threshold, number_of_debit_threshold]\n",
    "\n",
    "for i in range(len(FEATURE)):\n",
    "    tmp = []\n",
    "    tmp = list(train_SAR[FEATURE[i]].values)\n",
    "    tmp.sort()\n",
    "    for j in np.linspace(10, 100, 10):\n",
    "        threshold_list[i].append(np.percentile(tmp, j))\n",
    "    print(threshold_list[i])\n",
    "    print()"
   ]
  },
  {
   "cell_type": "code",
   "execution_count": 431,
   "metadata": {},
   "outputs": [
    {
     "name": "stdout",
     "output_type": "stream",
     "text": [
      "max val:  0.19911493037960762 number of max val:  1\n",
      "77th, recall: 0.16883116883116883, val1: 7.0, val2: 1007024.8000000003\n",
      "87th, recall: 0.09090909090909091, val1: 17.400000000000034, val2: 1007024.8000000003\n",
      "78th, recall: 0.07792207792207792, val1: 7.0, val2: 1257820.0000000007\n",
      "88th, recall: 0.05194805194805195, val1: 17.400000000000034, val2: 1257820.0000000007\n",
      "79th, recall: 0.006493506493506494, val1: 7.0, val2: 6785000.0\n",
      "98th, recall: 0.006493506493506494, val1: 98.0, val2: 1257820.0000000007\n",
      "97th, recall: 0.006493506493506494, val1: 98.0, val2: 1007024.8000000003\n",
      "********************************\n"
     ]
    }
   ],
   "source": [
    "LOGIC = \"OR\"\n",
    "default_number_of_credit = 5\n",
    "default_credit_amt = 985500\n",
    "candidate_rule1 = Search2D(number_of_credit_threshold, credit_amt_threshold, 'number_of_Credit','Credit_Amt',\\\n",
    "                           default_number_of_credit, default_credit_amt, train_SAR, train_Non_SAR, train_set, LOGIC, SAR_type)"
   ]
  },
  {
   "cell_type": "code",
   "execution_count": 432,
   "metadata": {},
   "outputs": [
    {
     "name": "stdout",
     "output_type": "stream",
     "text": [
      "max val:  0.6657805921739401 number of max val:  1\n",
      "21th, recall: 0.6948051948051948, val1: 1026414.0, val2: 5.0\n",
      "31th, recall: 0.5909090909090909, val1: 1116627.2, val2: 5.0\n",
      "22th, recall: 0.5714285714285714, val1: 1026414.0, val2: 6.899999999999999\n",
      "23th, recall: 0.5064935064935064, val1: 1026414.0, val2: 11.0\n",
      "41th, recall: 0.4935064935064935, val1: 1200117.5, val2: 5.0\n",
      "32th, recall: 0.4805194805194805, val1: 1116627.2, val2: 6.899999999999999\n",
      "24th, recall: 0.43506493506493504, val1: 1026414.0, val2: 16.0\n",
      "33th, recall: 0.43506493506493504, val1: 1116627.2, val2: 11.0\n",
      "51th, recall: 0.3961038961038961, val1: 1466008.0, val2: 5.0\n",
      "34th, recall: 0.38311688311688313, val1: 1116627.2, val2: 16.0\n",
      "********************************\n"
     ]
    }
   ],
   "source": [
    "LOGIC = \"OR\"\n",
    "default_number_of_debit = 5\n",
    "default_debit_amt = 985500\n",
    "candidate_rule2 = Search2D(debit_amt_threshold, number_of_debit_threshold, 'Debit_Amt','number_of_Debit',\\\n",
    "                           default_debit_amt, default_number_of_debit, train_SAR, train_Non_SAR, train_set, LOGIC, SAR_type)"
   ]
  },
  {
   "cell_type": "code",
   "execution_count": 433,
   "metadata": {},
   "outputs": [],
   "source": [
    "candidate_rule1 = [[ceil(x), ceil(y)] for [x,y] in candidate_rule1]\n",
    "candidate_rule2 = [[ceil(x), ceil(y)] for [x,y] in candidate_rule2]"
   ]
  },
  {
   "cell_type": "code",
   "execution_count": 434,
   "metadata": {},
   "outputs": [],
   "source": [
    "# apply on testing set\n",
    "results = pd.DataFrame(columns = ['number_of_Credit','Credit_Amt',\\\n",
    "                                  'Debit_Amt','number_of_Debit','SAR', 'Non SAR','newSAM=1_SAR=1(TP)','newSAM=1_SAR=0(FP)',\\\n",
    "                                  'newSAM=0_SAR=1(FN)', 'newSAM=0_SAR=0(TN)', 'recall','filter rate'])\n",
    "for thre1, thre2 in candidate_rule1:\n",
    "    for thre3, thre4 in candidate_rule2:\n",
    "       \n",
    "        idx = list(set(test_set[test_set['number_of_Credit']>=thre1].index) & set(test_set[test_set['Credit_Amt']>=thre2].index))\n",
    "        idx1 = list(set(test_set[test_set['Debit_Amt']>=thre3].index) & set(test_set[test_set['number_of_Debit']>=thre4].index))\n",
    "        new_SAM_1_rule1 = test_set.iloc[idx]\n",
    "        new_SAM_1_rule2 = test_set.iloc[idx1]\n",
    "\n",
    "        new_SAM_1 = new_SAM_1_rule1.append(new_SAM_1_rule2)\n",
    "        new_SAM_1 = new_SAM_1.drop_duplicates()\n",
    "        new_SAM_0 = test_set.drop(index = new_SAM_1.index)\n",
    "\n",
    "        if (new_SAM_0.shape[0]+new_SAM_1.shape[0])!=test_set.shape[0]:\n",
    "            raise ValueError(\"new SAM 0 and new SAM 1 overlapped!\")\n",
    "            \n",
    "        TP = new_SAM_1[new_SAM_1['TO_SAR']!=0].shape[0]\n",
    "        TN = new_SAM_0[new_SAM_0['TO_SAR']==0].shape[0]\n",
    "        FP = new_SAM_1[new_SAM_1['TO_SAR']==0].shape[0]\n",
    "        FN = new_SAM_0[new_SAM_0['TO_SAR']!=0].shape[0]\n",
    "        total = test_set.shape[0]\n",
    "        results = results.append({'number_of_Credit':int(thre1),'Credit_Amt':thre2,  \\\n",
    "                                  'Debit_Amt':thre3, 'number_of_Debit':thre4, 'SAR':test_set[test_set['TO_SAR']!=0].shape[0], \\\n",
    "                                  'Non SAR':test_set[test_set['TO_SAR']==0].shape[0],\\\n",
    "                                  'newSAM=1_SAR=1(TP)':TP, 'newSAM=1_SAR=0(FP)':FP, 'newSAM=0_SAR=1(FN)':FN,\\\n",
    "                                  'newSAM=0_SAR=0(TN)':TN, 'recall': str(round(TP/(TP+FN), 4)),\\\n",
    "                                  'filter rate':str((round((TN+FN)/total, 4)))}, ignore_index = True)\n"
   ]
  },
  {
   "cell_type": "code",
   "execution_count": 435,
   "metadata": {},
   "outputs": [
    {
     "data": {
      "text/html": [
       "<div>\n",
       "<style scoped>\n",
       "    .dataframe tbody tr th:only-of-type {\n",
       "        vertical-align: middle;\n",
       "    }\n",
       "\n",
       "    .dataframe tbody tr th {\n",
       "        vertical-align: top;\n",
       "    }\n",
       "\n",
       "    .dataframe thead th {\n",
       "        text-align: right;\n",
       "    }\n",
       "</style>\n",
       "<table border=\"1\" class=\"dataframe\">\n",
       "  <thead>\n",
       "    <tr style=\"text-align: right;\">\n",
       "      <th></th>\n",
       "      <th>number_of_Credit</th>\n",
       "      <th>Credit_Amt</th>\n",
       "      <th>Debit_Amt</th>\n",
       "      <th>number_of_Debit</th>\n",
       "      <th>SAR</th>\n",
       "      <th>Non SAR</th>\n",
       "      <th>newSAM=1_SAR=1(TP)</th>\n",
       "      <th>newSAM=1_SAR=0(FP)</th>\n",
       "      <th>newSAM=0_SAR=1(FN)</th>\n",
       "      <th>newSAM=0_SAR=0(TN)</th>\n",
       "      <th>recall</th>\n",
       "      <th>filter rate</th>\n",
       "    </tr>\n",
       "  </thead>\n",
       "  <tbody>\n",
       "    <tr>\n",
       "      <th>69</th>\n",
       "      <td>7</td>\n",
       "      <td>1007025</td>\n",
       "      <td>1026414</td>\n",
       "      <td>5</td>\n",
       "      <td>104</td>\n",
       "      <td>18476</td>\n",
       "      <td>82</td>\n",
       "      <td>12771</td>\n",
       "      <td>22</td>\n",
       "      <td>5705</td>\n",
       "      <td>0.7885</td>\n",
       "      <td>0.3082</td>\n",
       "    </tr>\n",
       "    <tr>\n",
       "      <th>49</th>\n",
       "      <td>7</td>\n",
       "      <td>1257821</td>\n",
       "      <td>1026414</td>\n",
       "      <td>5</td>\n",
       "      <td>104</td>\n",
       "      <td>18476</td>\n",
       "      <td>81</td>\n",
       "      <td>11197</td>\n",
       "      <td>23</td>\n",
       "      <td>7279</td>\n",
       "      <td>0.7788</td>\n",
       "      <td>0.393</td>\n",
       "    </tr>\n",
       "    <tr>\n",
       "      <th>39</th>\n",
       "      <td>18</td>\n",
       "      <td>1257821</td>\n",
       "      <td>1026414</td>\n",
       "      <td>5</td>\n",
       "      <td>104</td>\n",
       "      <td>18476</td>\n",
       "      <td>78</td>\n",
       "      <td>9094</td>\n",
       "      <td>26</td>\n",
       "      <td>9382</td>\n",
       "      <td>0.75</td>\n",
       "      <td>0.5064</td>\n",
       "    </tr>\n",
       "    <tr>\n",
       "      <th>59</th>\n",
       "      <td>18</td>\n",
       "      <td>1007025</td>\n",
       "      <td>1026414</td>\n",
       "      <td>5</td>\n",
       "      <td>104</td>\n",
       "      <td>18476</td>\n",
       "      <td>78</td>\n",
       "      <td>9457</td>\n",
       "      <td>26</td>\n",
       "      <td>9019</td>\n",
       "      <td>0.75</td>\n",
       "      <td>0.4868</td>\n",
       "    </tr>\n",
       "    <tr>\n",
       "      <th>68</th>\n",
       "      <td>7</td>\n",
       "      <td>1007025</td>\n",
       "      <td>1116628</td>\n",
       "      <td>5</td>\n",
       "      <td>104</td>\n",
       "      <td>18476</td>\n",
       "      <td>74</td>\n",
       "      <td>11520</td>\n",
       "      <td>30</td>\n",
       "      <td>6956</td>\n",
       "      <td>0.7115</td>\n",
       "      <td>0.376</td>\n",
       "    </tr>\n",
       "    <tr>\n",
       "      <th>9</th>\n",
       "      <td>98</td>\n",
       "      <td>1007025</td>\n",
       "      <td>1026414</td>\n",
       "      <td>5</td>\n",
       "      <td>104</td>\n",
       "      <td>18476</td>\n",
       "      <td>74</td>\n",
       "      <td>7718</td>\n",
       "      <td>30</td>\n",
       "      <td>10758</td>\n",
       "      <td>0.7115</td>\n",
       "      <td>0.5806</td>\n",
       "    </tr>\n",
       "    <tr>\n",
       "      <th>29</th>\n",
       "      <td>7</td>\n",
       "      <td>6785000</td>\n",
       "      <td>1026414</td>\n",
       "      <td>5</td>\n",
       "      <td>104</td>\n",
       "      <td>18476</td>\n",
       "      <td>74</td>\n",
       "      <td>7558</td>\n",
       "      <td>30</td>\n",
       "      <td>10918</td>\n",
       "      <td>0.7115</td>\n",
       "      <td>0.5892</td>\n",
       "    </tr>\n",
       "    <tr>\n",
       "      <th>19</th>\n",
       "      <td>98</td>\n",
       "      <td>1257821</td>\n",
       "      <td>1026414</td>\n",
       "      <td>5</td>\n",
       "      <td>104</td>\n",
       "      <td>18476</td>\n",
       "      <td>74</td>\n",
       "      <td>7708</td>\n",
       "      <td>30</td>\n",
       "      <td>10768</td>\n",
       "      <td>0.7115</td>\n",
       "      <td>0.5812</td>\n",
       "    </tr>\n",
       "    <tr>\n",
       "      <th>48</th>\n",
       "      <td>7</td>\n",
       "      <td>1257821</td>\n",
       "      <td>1116628</td>\n",
       "      <td>5</td>\n",
       "      <td>104</td>\n",
       "      <td>18476</td>\n",
       "      <td>73</td>\n",
       "      <td>9938</td>\n",
       "      <td>31</td>\n",
       "      <td>8538</td>\n",
       "      <td>0.7019</td>\n",
       "      <td>0.4612</td>\n",
       "    </tr>\n",
       "    <tr>\n",
       "      <th>67</th>\n",
       "      <td>7</td>\n",
       "      <td>1007025</td>\n",
       "      <td>1026414</td>\n",
       "      <td>7</td>\n",
       "      <td>104</td>\n",
       "      <td>18476</td>\n",
       "      <td>71</td>\n",
       "      <td>11195</td>\n",
       "      <td>33</td>\n",
       "      <td>7281</td>\n",
       "      <td>0.6827</td>\n",
       "      <td>0.3936</td>\n",
       "    </tr>\n",
       "  </tbody>\n",
       "</table>\n",
       "</div>"
      ],
      "text/plain": [
       "   number_of_Credit Credit_Amt Debit_Amt number_of_Debit  SAR Non SAR  \\\n",
       "69                7    1007025   1026414               5  104   18476   \n",
       "49                7    1257821   1026414               5  104   18476   \n",
       "39               18    1257821   1026414               5  104   18476   \n",
       "59               18    1007025   1026414               5  104   18476   \n",
       "68                7    1007025   1116628               5  104   18476   \n",
       "9                98    1007025   1026414               5  104   18476   \n",
       "29                7    6785000   1026414               5  104   18476   \n",
       "19               98    1257821   1026414               5  104   18476   \n",
       "48                7    1257821   1116628               5  104   18476   \n",
       "67                7    1007025   1026414               7  104   18476   \n",
       "\n",
       "   newSAM=1_SAR=1(TP) newSAM=1_SAR=0(FP) newSAM=0_SAR=1(FN)  \\\n",
       "69                 82              12771                 22   \n",
       "49                 81              11197                 23   \n",
       "39                 78               9094                 26   \n",
       "59                 78               9457                 26   \n",
       "68                 74              11520                 30   \n",
       "9                  74               7718                 30   \n",
       "29                 74               7558                 30   \n",
       "19                 74               7708                 30   \n",
       "48                 73               9938                 31   \n",
       "67                 71              11195                 33   \n",
       "\n",
       "   newSAM=0_SAR=0(TN)  recall filter rate  \n",
       "69               5705  0.7885      0.3082  \n",
       "49               7279  0.7788       0.393  \n",
       "39               9382    0.75      0.5064  \n",
       "59               9019    0.75      0.4868  \n",
       "68               6956  0.7115       0.376  \n",
       "9               10758  0.7115      0.5806  \n",
       "29              10918  0.7115      0.5892  \n",
       "19              10768  0.7115      0.5812  \n",
       "48               8538  0.7019      0.4612  \n",
       "67               7281  0.6827      0.3936  "
      ]
     },
     "execution_count": 435,
     "metadata": {},
     "output_type": "execute_result"
    }
   ],
   "source": [
    "results = results.sort_values(by='recall', ascending=False)[:10].drop_duplicates()\n",
    "results"
   ]
  },
  {
   "cell_type": "markdown",
   "metadata": {},
   "source": [
    "## TWN_A12_01"
   ]
  },
  {
   "cell_type": "code",
   "execution_count": 436,
   "metadata": {},
   "outputs": [],
   "source": [
    "DAY = 15\n",
    "FEATURE = ['Credit_Amt', 'number_of_Credit', 'Debit_Amt','number_of_Debit']\n",
    "PATH = \"D:/Temp/NCTU/crystal/第二階段/new_alert/日數分類_營業日/\"\n",
    "FILE = \"TWN_A12_01_day15_with_aggregated_txn_scenario_txn_type_key_營業日.csv\""
   ]
  },
  {
   "cell_type": "code",
   "execution_count": 437,
   "metadata": {},
   "outputs": [
    {
     "name": "stderr",
     "output_type": "stream",
     "text": [
      "C:\\Users\\NCTUUser2\\anaconda3\\lib\\site-packages\\IPython\\core\\interactiveshell.py:3146: DtypeWarning: Columns (5) have mixed types.Specify dtype option on import or set low_memory=False.\n",
      "  has_raised = await self.run_ast_nodes(code_ast.body, cell_name,\n"
     ]
    }
   ],
   "source": [
    "file = pd.read_csv(PATH+FILE)"
   ]
  },
  {
   "cell_type": "code",
   "execution_count": 438,
   "metadata": {},
   "outputs": [],
   "source": [
    "file['TO_SAR'] = file['TO_SAR'].replace(np.nan, 0)\n",
    "file['TO_SAR'] = file['TO_SAR'].replace('NF', 1)\n",
    "file['TO_SAR'] = file['TO_SAR'].replace('F', 1)"
   ]
  },
  {
   "cell_type": "code",
   "execution_count": 439,
   "metadata": {},
   "outputs": [
    {
     "data": {
      "text/plain": [
       "0    49724\n",
       "1      241\n",
       "Name: TO_SAR, dtype: int64"
      ]
     },
     "execution_count": 439,
     "metadata": {},
     "output_type": "execute_result"
    }
   ],
   "source": [
    "file['TO_SAR'].value_counts()"
   ]
  },
  {
   "cell_type": "code",
   "execution_count": 440,
   "metadata": {},
   "outputs": [],
   "source": [
    "fileID = file['alert_id'].values"
   ]
  },
  {
   "cell_type": "code",
   "execution_count": 441,
   "metadata": {},
   "outputs": [],
   "source": [
    "HighIntersection = list(set(fileID) & set(riskHighID))"
   ]
  },
  {
   "cell_type": "code",
   "execution_count": 442,
   "metadata": {},
   "outputs": [],
   "source": [
    "rowHigh = []\n",
    "rowLow = []\n",
    "for i in range(file.shape[0]):\n",
    "    if file['alert_id'][i] in HighIntersection:\n",
    "        rowHigh.append(i)\n",
    "    else:\n",
    "        rowLow.append(i)"
   ]
  },
  {
   "cell_type": "code",
   "execution_count": 443,
   "metadata": {},
   "outputs": [],
   "source": [
    "file1 = file.iloc[rowHigh]"
   ]
  },
  {
   "cell_type": "code",
   "execution_count": 444,
   "metadata": {},
   "outputs": [
    {
     "data": {
      "text/plain": [
       "0    24032\n",
       "1      102\n",
       "Name: TO_SAR, dtype: int64"
      ]
     },
     "execution_count": 444,
     "metadata": {},
     "output_type": "execute_result"
    }
   ],
   "source": [
    "file1['TO_SAR'].value_counts()"
   ]
  },
  {
   "cell_type": "code",
   "execution_count": 445,
   "metadata": {},
   "outputs": [
    {
     "name": "stdout",
     "output_type": "stream",
     "text": [
      "Verify on time series\n",
      "shape of data: (24134, 39)\n",
      "total number of TO_SAR: 102\n",
      "********************************\n",
      "time interval in train set:2019-03-04~2020-06-11\n",
      "TO_SAR in train set: 61\n",
      "TO_SAR/Total in train set 0.004212707182320442\n",
      "split dataset to train, test...\n",
      "********************************\n",
      "time interval in test set:2020-02-21~2020-12-31\n",
      "TO_SAR in test set: 41\n",
      "TO_SAR/Total in test set 0.004246944271804433\n",
      "********************************\n",
      "train data shape:  (14480, 38)\n",
      "test data shape:  (9654, 38)\n"
     ]
    }
   ],
   "source": [
    "train_set, test_set = ReadFile(file1, SAR_type)"
   ]
  },
  {
   "cell_type": "code",
   "execution_count": 446,
   "metadata": {},
   "outputs": [],
   "source": [
    "train_SAR = train_set[train_set['TO_SAR']!=0]\n",
    "train_Non_SAR = train_set[train_set['TO_SAR']==0]"
   ]
  },
  {
   "cell_type": "code",
   "execution_count": 447,
   "metadata": {},
   "outputs": [],
   "source": [
    "test_SAR = test_set[test_set['TO_SAR']!=0]\n",
    "test_Non_SAR = test_set[test_set['TO_SAR']==0]"
   ]
  },
  {
   "cell_type": "markdown",
   "metadata": {},
   "source": [
    "### Search Answer"
   ]
  },
  {
   "cell_type": "code",
   "execution_count": 448,
   "metadata": {},
   "outputs": [
    {
     "name": "stdout",
     "output_type": "stream",
     "text": [
      "[0.0, 0.0, 0.0, 0.0, 20000.0, 1376000.0, 1750000.0, 2380514.0, 5108000.0, 14459232.0]\n",
      "\n",
      "[0.0, 0.0, 0.0, 0.0, 1.0, 7.0, 12.0, 14.0, 24.0, 66.0]\n",
      "\n",
      "[0.0, 42000.0, 110000.0, 956035.0, 1200000.0, 1356645.0, 1390000.0, 1966655.0, 2318790.0, 10550015.0]\n",
      "\n",
      "[0.0, 1.0, 2.0, 7.0, 9.0, 11.0, 15.0, 18.0, 21.0, 41.0]\n",
      "\n"
     ]
    }
   ],
   "source": [
    "number_of_credit_threshold = []\n",
    "credit_amt_threshold = []\n",
    "number_of_debit_threshold = []\n",
    "debit_amt_threshold = []\n",
    "threshold_list = [credit_amt_threshold, number_of_credit_threshold, debit_amt_threshold, number_of_debit_threshold]\n",
    "for i in range(len(FEATURE)):\n",
    "    tmp = []\n",
    "    tmp = list(train_SAR[FEATURE[i]].values)\n",
    "    tmp.sort()\n",
    "    for j in np.linspace(10, 100, 10):\n",
    "        threshold_list[i].append(np.percentile(tmp, j))\n",
    "    print(threshold_list[i])\n",
    "    print()"
   ]
  },
  {
   "cell_type": "code",
   "execution_count": 449,
   "metadata": {},
   "outputs": [
    {
     "name": "stdout",
     "output_type": "stream",
     "text": [
      "max val:  0.37255839456661666 number of max val:  1\n",
      "55th, recall: 0.3442622950819672, val1: 7.0, val2: 1376000.0\n",
      "65th, recall: 0.2786885245901639, val1: 12.0, val2: 1376000.0\n",
      "56th, recall: 0.2459016393442623, val1: 7.0, val2: 1750000.0\n",
      "66th, recall: 0.19672131147540983, val1: 12.0, val2: 1750000.0\n",
      "75th, recall: 0.19672131147540983, val1: 14.0, val2: 1376000.0\n",
      "57th, recall: 0.18032786885245902, val1: 7.0, val2: 2380514.0\n",
      "76th, recall: 0.16393442622950818, val1: 14.0, val2: 1750000.0\n",
      "67th, recall: 0.14754098360655737, val1: 12.0, val2: 2380514.0\n",
      "77th, recall: 0.11475409836065574, val1: 14.0, val2: 2380514.0\n",
      "86th, recall: 0.09836065573770492, val1: 24.0, val2: 1750000.0\n",
      "********************************\n"
     ]
    }
   ],
   "source": [
    "LOGIC='OR'\n",
    "default_number_of_credit = 6\n",
    "default_credit_amt = 1311700\n",
    "candidate_rule1 = Search2D(number_of_credit_threshold, credit_amt_threshold, 'number_of_Credit','Credit_Amt',\\\n",
    "                           default_number_of_credit, default_credit_amt, train_SAR, train_Non_SAR, train_set, LOGIC, SAR_type)"
   ]
  },
  {
   "cell_type": "code",
   "execution_count": 450,
   "metadata": {},
   "outputs": [
    {
     "name": "stdout",
     "output_type": "stream",
     "text": [
      "max val:  0.41211331730232525 number of max val:  1\n",
      "35th, recall: 0.3770491803278688, val1: 7.0, val2: 1356645.0\n",
      "36th, recall: 0.32786885245901637, val1: 7.0, val2: 1390000.0\n",
      "45th, recall: 0.29508196721311475, val1: 9.0, val2: 1356645.0\n",
      "46th, recall: 0.2459016393442623, val1: 9.0, val2: 1390000.0\n",
      "37th, recall: 0.19672131147540983, val1: 7.0, val2: 1966655.0\n",
      "55th, recall: 0.19672131147540983, val1: 11.0, val2: 1356645.0\n",
      "65th, recall: 0.18032786885245902, val1: 15.0, val2: 1356645.0\n",
      "66th, recall: 0.14754098360655737, val1: 15.0, val2: 1390000.0\n",
      "56th, recall: 0.14754098360655737, val1: 11.0, val2: 1390000.0\n",
      "38th, recall: 0.11475409836065574, val1: 7.0, val2: 2318790.0\n",
      "********************************\n"
     ]
    }
   ],
   "source": [
    "LOGIC='OR'\n",
    "default_number_of_debit = 6\n",
    "default_debit_amt = 1311700\n",
    "candidate_rule2 = Search2D(number_of_debit_threshold, debit_amt_threshold, 'number_of_Debit', 'Debit_Amt',\\\n",
    "                           default_number_of_debit, default_debit_amt, train_SAR, train_Non_SAR, train_set, LOGIC, SAR_type)"
   ]
  },
  {
   "cell_type": "code",
   "execution_count": 451,
   "metadata": {},
   "outputs": [],
   "source": [
    "candidate_rule1 = [[ceil(x), ceil(y)] for [x,y] in candidate_rule1]\n",
    "candidate_rule2 = [[ceil(x), ceil(y)] for [x,y] in candidate_rule2]"
   ]
  },
  {
   "cell_type": "code",
   "execution_count": 452,
   "metadata": {},
   "outputs": [],
   "source": [
    "# apply on testing set\n",
    "results = pd.DataFrame(columns = ['number_of_Credit','Credit_Amt',\\\n",
    "                                  'number_of_Debit','Debit_Amt','SAR', 'Non SAR','newSAM=1_SAR=1(TP)','newSAM=1_SAR=0(FP)',\\\n",
    "                                  'newSAM=0_SAR=1(FN)', 'newSAM=0_SAR=0(TN)', 'recall','filter rate'])\n",
    "for thre1, thre2 in candidate_rule1:\n",
    "    for thre3, thre4 in candidate_rule2:\n",
    "       \n",
    "        idx = list(set(test_set[test_set['number_of_Credit']>=thre1].index) & set(test_set[test_set['Credit_Amt']>=thre2].index))\n",
    "        idx1 = list(set(test_set[test_set['number_of_Debit']>=thre3].index) & set(test_set[test_set['Debit_Amt']>=thre4].index))\n",
    "        new_SAM_1_rule1 = test_set.iloc[idx]\n",
    "        new_SAM_1_rule2 = test_set.iloc[idx1]\n",
    "\n",
    "        new_SAM_1 = new_SAM_1_rule1.append(new_SAM_1_rule2)\n",
    "        new_SAM_1 = new_SAM_1.drop_duplicates()\n",
    "        new_SAM_0 = test_set.drop(index = new_SAM_1.index)\n",
    "\n",
    "        if (new_SAM_0.shape[0]+new_SAM_1.shape[0])!=test_set.shape[0]:\n",
    "            raise ValueError(\"new SAM 0 and new SAM 1 overlapped!\")\n",
    "            \n",
    "        TP = new_SAM_1[new_SAM_1['TO_SAR']!=0].shape[0]\n",
    "        TN = new_SAM_0[new_SAM_0['TO_SAR']==0].shape[0]\n",
    "        FP = new_SAM_1[new_SAM_1['TO_SAR']==0].shape[0]\n",
    "        FN = new_SAM_0[new_SAM_0['TO_SAR']!=0].shape[0]\n",
    "        total = test_set.shape[0]\n",
    "        results = results.append({'number_of_Credit':int(thre1),'Credit_Amt':thre2,  \\\n",
    "                                  'number_of_Debit':thre3, 'Debit_Amt':thre4, 'SAR':test_set[test_set['TO_SAR']!=0].shape[0], \\\n",
    "                                  'Non SAR':test_set[test_set['TO_SAR']==0].shape[0],\\\n",
    "                                  'newSAM=1_SAR=1(TP)':TP, 'newSAM=1_SAR=0(FP)':FP, 'newSAM=0_SAR=1(FN)':FN,\\\n",
    "                                  'newSAM=0_SAR=0(TN)':TN, 'recall': str(round(TP/(TP+FN), 4)),\\\n",
    "                                  'filter rate':str((round((TN+FN)/total, 4)))}, ignore_index = True)\n"
   ]
  },
  {
   "cell_type": "code",
   "execution_count": 453,
   "metadata": {},
   "outputs": [
    {
     "data": {
      "text/html": [
       "<div>\n",
       "<style scoped>\n",
       "    .dataframe tbody tr th:only-of-type {\n",
       "        vertical-align: middle;\n",
       "    }\n",
       "\n",
       "    .dataframe tbody tr th {\n",
       "        vertical-align: top;\n",
       "    }\n",
       "\n",
       "    .dataframe thead th {\n",
       "        text-align: right;\n",
       "    }\n",
       "</style>\n",
       "<table border=\"1\" class=\"dataframe\">\n",
       "  <thead>\n",
       "    <tr style=\"text-align: right;\">\n",
       "      <th></th>\n",
       "      <th>number_of_Credit</th>\n",
       "      <th>Credit_Amt</th>\n",
       "      <th>number_of_Debit</th>\n",
       "      <th>Debit_Amt</th>\n",
       "      <th>SAR</th>\n",
       "      <th>Non SAR</th>\n",
       "      <th>newSAM=1_SAR=1(TP)</th>\n",
       "      <th>newSAM=1_SAR=0(FP)</th>\n",
       "      <th>newSAM=0_SAR=1(FN)</th>\n",
       "      <th>newSAM=0_SAR=0(TN)</th>\n",
       "      <th>recall</th>\n",
       "      <th>filter rate</th>\n",
       "    </tr>\n",
       "  </thead>\n",
       "  <tbody>\n",
       "    <tr>\n",
       "      <th>99</th>\n",
       "      <td>7</td>\n",
       "      <td>1376000</td>\n",
       "      <td>7</td>\n",
       "      <td>1356645</td>\n",
       "      <td>41</td>\n",
       "      <td>9613</td>\n",
       "      <td>33</td>\n",
       "      <td>7272</td>\n",
       "      <td>8</td>\n",
       "      <td>2341</td>\n",
       "      <td>0.8049</td>\n",
       "      <td>0.2433</td>\n",
       "    </tr>\n",
       "    <tr>\n",
       "      <th>98</th>\n",
       "      <td>7</td>\n",
       "      <td>1376000</td>\n",
       "      <td>7</td>\n",
       "      <td>1390000</td>\n",
       "      <td>41</td>\n",
       "      <td>9613</td>\n",
       "      <td>32</td>\n",
       "      <td>7156</td>\n",
       "      <td>9</td>\n",
       "      <td>2457</td>\n",
       "      <td>0.7805</td>\n",
       "      <td>0.2554</td>\n",
       "    </tr>\n",
       "    <tr>\n",
       "      <th>79</th>\n",
       "      <td>7</td>\n",
       "      <td>1750000</td>\n",
       "      <td>7</td>\n",
       "      <td>1356645</td>\n",
       "      <td>41</td>\n",
       "      <td>9613</td>\n",
       "      <td>30</td>\n",
       "      <td>5987</td>\n",
       "      <td>11</td>\n",
       "      <td>3626</td>\n",
       "      <td>0.7317</td>\n",
       "      <td>0.3767</td>\n",
       "    </tr>\n",
       "    <tr>\n",
       "      <th>78</th>\n",
       "      <td>7</td>\n",
       "      <td>1750000</td>\n",
       "      <td>7</td>\n",
       "      <td>1390000</td>\n",
       "      <td>41</td>\n",
       "      <td>9613</td>\n",
       "      <td>29</td>\n",
       "      <td>5867</td>\n",
       "      <td>12</td>\n",
       "      <td>3746</td>\n",
       "      <td>0.7073</td>\n",
       "      <td>0.3893</td>\n",
       "    </tr>\n",
       "    <tr>\n",
       "      <th>97</th>\n",
       "      <td>7</td>\n",
       "      <td>1376000</td>\n",
       "      <td>9</td>\n",
       "      <td>1356645</td>\n",
       "      <td>41</td>\n",
       "      <td>9613</td>\n",
       "      <td>28</td>\n",
       "      <td>6861</td>\n",
       "      <td>13</td>\n",
       "      <td>2752</td>\n",
       "      <td>0.6829</td>\n",
       "      <td>0.2864</td>\n",
       "    </tr>\n",
       "    <tr>\n",
       "      <th>69</th>\n",
       "      <td>12</td>\n",
       "      <td>1750000</td>\n",
       "      <td>7</td>\n",
       "      <td>1356645</td>\n",
       "      <td>41</td>\n",
       "      <td>9613</td>\n",
       "      <td>27</td>\n",
       "      <td>5153</td>\n",
       "      <td>14</td>\n",
       "      <td>4460</td>\n",
       "      <td>0.6585</td>\n",
       "      <td>0.4634</td>\n",
       "    </tr>\n",
       "    <tr>\n",
       "      <th>59</th>\n",
       "      <td>14</td>\n",
       "      <td>1376000</td>\n",
       "      <td>7</td>\n",
       "      <td>1356645</td>\n",
       "      <td>41</td>\n",
       "      <td>9613</td>\n",
       "      <td>27</td>\n",
       "      <td>5536</td>\n",
       "      <td>14</td>\n",
       "      <td>4077</td>\n",
       "      <td>0.6585</td>\n",
       "      <td>0.4238</td>\n",
       "    </tr>\n",
       "    <tr>\n",
       "      <th>96</th>\n",
       "      <td>7</td>\n",
       "      <td>1376000</td>\n",
       "      <td>9</td>\n",
       "      <td>1390000</td>\n",
       "      <td>41</td>\n",
       "      <td>9613</td>\n",
       "      <td>27</td>\n",
       "      <td>6764</td>\n",
       "      <td>14</td>\n",
       "      <td>2849</td>\n",
       "      <td>0.6585</td>\n",
       "      <td>0.2966</td>\n",
       "    </tr>\n",
       "    <tr>\n",
       "      <th>89</th>\n",
       "      <td>12</td>\n",
       "      <td>1376000</td>\n",
       "      <td>7</td>\n",
       "      <td>1356645</td>\n",
       "      <td>41</td>\n",
       "      <td>9613</td>\n",
       "      <td>27</td>\n",
       "      <td>5985</td>\n",
       "      <td>14</td>\n",
       "      <td>3628</td>\n",
       "      <td>0.6585</td>\n",
       "      <td>0.3773</td>\n",
       "    </tr>\n",
       "    <tr>\n",
       "      <th>39</th>\n",
       "      <td>14</td>\n",
       "      <td>1750000</td>\n",
       "      <td>7</td>\n",
       "      <td>1356645</td>\n",
       "      <td>41</td>\n",
       "      <td>9613</td>\n",
       "      <td>27</td>\n",
       "      <td>4828</td>\n",
       "      <td>14</td>\n",
       "      <td>4785</td>\n",
       "      <td>0.6585</td>\n",
       "      <td>0.4971</td>\n",
       "    </tr>\n",
       "  </tbody>\n",
       "</table>\n",
       "</div>"
      ],
      "text/plain": [
       "   number_of_Credit Credit_Amt number_of_Debit Debit_Amt SAR Non SAR  \\\n",
       "99                7    1376000               7   1356645  41    9613   \n",
       "98                7    1376000               7   1390000  41    9613   \n",
       "79                7    1750000               7   1356645  41    9613   \n",
       "78                7    1750000               7   1390000  41    9613   \n",
       "97                7    1376000               9   1356645  41    9613   \n",
       "69               12    1750000               7   1356645  41    9613   \n",
       "59               14    1376000               7   1356645  41    9613   \n",
       "96                7    1376000               9   1390000  41    9613   \n",
       "89               12    1376000               7   1356645  41    9613   \n",
       "39               14    1750000               7   1356645  41    9613   \n",
       "\n",
       "   newSAM=1_SAR=1(TP) newSAM=1_SAR=0(FP) newSAM=0_SAR=1(FN)  \\\n",
       "99                 33               7272                  8   \n",
       "98                 32               7156                  9   \n",
       "79                 30               5987                 11   \n",
       "78                 29               5867                 12   \n",
       "97                 28               6861                 13   \n",
       "69                 27               5153                 14   \n",
       "59                 27               5536                 14   \n",
       "96                 27               6764                 14   \n",
       "89                 27               5985                 14   \n",
       "39                 27               4828                 14   \n",
       "\n",
       "   newSAM=0_SAR=0(TN)  recall filter rate  \n",
       "99               2341  0.8049      0.2433  \n",
       "98               2457  0.7805      0.2554  \n",
       "79               3626  0.7317      0.3767  \n",
       "78               3746  0.7073      0.3893  \n",
       "97               2752  0.6829      0.2864  \n",
       "69               4460  0.6585      0.4634  \n",
       "59               4077  0.6585      0.4238  \n",
       "96               2849  0.6585      0.2966  \n",
       "89               3628  0.6585      0.3773  \n",
       "39               4785  0.6585      0.4971  "
      ]
     },
     "execution_count": 453,
     "metadata": {},
     "output_type": "execute_result"
    }
   ],
   "source": [
    "results = results.sort_values(by='recall', ascending=False).drop_duplicates()[:10]\n",
    "results"
   ]
  },
  {
   "cell_type": "code",
   "execution_count": 454,
   "metadata": {},
   "outputs": [],
   "source": [
    "file2 = file.iloc[rowLow]"
   ]
  },
  {
   "cell_type": "code",
   "execution_count": 455,
   "metadata": {},
   "outputs": [
    {
     "name": "stdout",
     "output_type": "stream",
     "text": [
      "Verify on time series\n",
      "shape of data: (25831, 39)\n",
      "total number of TO_SAR: 139\n",
      "********************************\n",
      "time interval in train set:2019-03-04~2020-04-29\n",
      "TO_SAR in train set: 83\n",
      "TO_SAR/Total in train set 0.005355529745773648\n",
      "split dataset to train, test...\n",
      "********************************\n",
      "time interval in test set:2020-02-19~2020-12-31\n",
      "TO_SAR in test set: 56\n",
      "TO_SAR/Total in test set 0.00541952966224717\n",
      "********************************\n",
      "train data shape:  (15498, 38)\n",
      "test data shape:  (10333, 38)\n"
     ]
    }
   ],
   "source": [
    "train_set, test_set = ReadFile(file2, SAR_type)"
   ]
  },
  {
   "cell_type": "code",
   "execution_count": 456,
   "metadata": {},
   "outputs": [],
   "source": [
    "train_SAR = train_set[train_set['TO_SAR']!=0]\n",
    "train_Non_SAR = train_set[train_set['TO_SAR']==0]"
   ]
  },
  {
   "cell_type": "code",
   "execution_count": 457,
   "metadata": {},
   "outputs": [],
   "source": [
    "test_SAR = test_set[test_set['TO_SAR']!=0]\n",
    "test_Non_SAR = test_set[test_set['TO_SAR']==0]"
   ]
  },
  {
   "cell_type": "code",
   "execution_count": 458,
   "metadata": {},
   "outputs": [
    {
     "name": "stdout",
     "output_type": "stream",
     "text": [
      "[0.0, 0.0, 0.0, 0.0, 0.0, 201778.9999999989, 798607.3999999997, 1400123.2000000002, 2019462.1999999993, 6785000.0]\n",
      "\n",
      "[0.0, 0.0, 0.0, 0.0, 0.0, 1.0, 3.0, 8.0, 24.0, 98.0]\n",
      "\n",
      "[1200.0000000000011, 980707.0000000007, 1542000.0, 1770106.0000000005, 1950000.0, 2196911.0, 2481907.4, 2956040.0000000014, 3235804.0, 10600030.0]\n",
      "\n",
      "[1.0, 6.0, 9.599999999999998, 14.0, 18.0, 23.199999999999996, 30.4, 42.0, 48.39999999999999, 149.0]\n",
      "\n"
     ]
    }
   ],
   "source": [
    "number_of_credit_threshold = []\n",
    "credit_amt_threshold = []\n",
    "number_of_debit_threshold = []\n",
    "debit_amt_threshold = []\n",
    "threshold_list = [credit_amt_threshold, number_of_credit_threshold, debit_amt_threshold, number_of_debit_threshold]\n",
    "for i in range(len(FEATURE)):\n",
    "    tmp = []\n",
    "    tmp = list(train_SAR[FEATURE[i]].values)\n",
    "    tmp.sort()\n",
    "    for j in np.linspace(10, 100, 10):\n",
    "        threshold_list[i].append(np.percentile(tmp, j))\n",
    "    print(threshold_list[i])\n",
    "    print()"
   ]
  },
  {
   "cell_type": "code",
   "execution_count": 459,
   "metadata": {},
   "outputs": [
    {
     "name": "stdout",
     "output_type": "stream",
     "text": [
      "max val:  0.17143283598591433 number of max val:  1\n",
      "77th, recall: 0.14457831325301204, val1: 8.0, val2: 1400123.2000000002\n",
      "78th, recall: 0.08433734939759036, val1: 8.0, val2: 2019462.1999999993\n",
      "87th, recall: 0.07228915662650602, val1: 24.0, val2: 1400123.2000000002\n",
      "88th, recall: 0.04819277108433735, val1: 24.0, val2: 2019462.1999999993\n",
      "79th, recall: 0.012048192771084338, val1: 8.0, val2: 6785000.0\n",
      "98th, recall: 0.012048192771084338, val1: 98.0, val2: 2019462.1999999993\n",
      "97th, recall: 0.012048192771084338, val1: 98.0, val2: 1400123.2000000002\n",
      "********************************\n"
     ]
    }
   ],
   "source": [
    "LOGIC='OR'\n",
    "default_credit_amt = 1311700\n",
    "default_number_of_credit = 6\n",
    "candidate_rule1 = Search2D(number_of_credit_threshold, credit_amt_threshold, 'number_of_Credit','Credit_Amt',\\\n",
    "                           default_number_of_credit, default_credit_amt, train_SAR, train_Non_SAR, train_set, LOGIC, SAR_type)"
   ]
  },
  {
   "cell_type": "code",
   "execution_count": 460,
   "metadata": {},
   "outputs": [
    {
     "name": "stdout",
     "output_type": "stream",
     "text": [
      "max val:  0.696983743887547 number of max val:  1\n",
      "12th, recall: 0.6987951807228916, val1: 6.0, val2: 1542000.0\n",
      "13th, recall: 0.6024096385542169, val1: 6.0, val2: 1770106.0000000005\n",
      "22th, recall: 0.5542168674698795, val1: 9.599999999999998, val2: 1542000.0\n",
      "14th, recall: 0.5060240963855421, val1: 6.0, val2: 1950000.0\n",
      "32th, recall: 0.4939759036144578, val1: 14.0, val2: 1542000.0\n",
      "23th, recall: 0.4819277108433735, val1: 9.599999999999998, val2: 1770106.0000000005\n",
      "42th, recall: 0.4457831325301205, val1: 18.0, val2: 1542000.0\n",
      "33th, recall: 0.42168674698795183, val1: 14.0, val2: 1770106.0000000005\n",
      "15th, recall: 0.39759036144578314, val1: 6.0, val2: 2196911.0\n",
      "43th, recall: 0.3855421686746988, val1: 18.0, val2: 1770106.0000000005\n",
      "********************************\n"
     ]
    }
   ],
   "source": [
    "LOGIC = 'OR'\n",
    "default_debit_amt = 1311700\n",
    "default_number_of_debit = 6\n",
    "candidate_rule2 = Search2D(number_of_debit_threshold, debit_amt_threshold, 'number_of_Debit','Debit_Amt', \\\n",
    "                           default_number_of_debit, default_debit_amt, train_SAR, train_Non_SAR, train_set, LOGIC, SAR_type)"
   ]
  },
  {
   "cell_type": "code",
   "execution_count": 461,
   "metadata": {},
   "outputs": [],
   "source": [
    "candidate_rule1 = [[ceil(x), ceil(y)] for [x,y] in candidate_rule1]\n",
    "candidate_rule2 = [[ceil(x), ceil(y)] for [x,y] in candidate_rule2]"
   ]
  },
  {
   "cell_type": "code",
   "execution_count": 462,
   "metadata": {},
   "outputs": [],
   "source": [
    "# apply on testing set\n",
    "results = pd.DataFrame(columns = ['number_of_Credit','Credit_Amt',\\\n",
    "                                  'number_of_Debit','Debit_Amt','SAR', 'Non SAR','newSAM=1_SAR=1(TP)','newSAM=1_SAR=0(FP)',\\\n",
    "                                  'newSAM=0_SAR=1(FN)', 'newSAM=0_SAR=0(TN)', 'recall','filter rate'])\n",
    "for thre1, thre2 in candidate_rule1:\n",
    "    for thre3, thre4 in candidate_rule2:\n",
    "       \n",
    "        idx = list(set(test_set[test_set['number_of_Credit']>=thre1].index) & set(test_set[test_set['Credit_Amt']>=thre2].index))\n",
    "        idx1 = list(set(test_set[test_set['number_of_Debit']>=thre3].index) & set(test_set[test_set['Debit_Amt']>=thre4].index))\n",
    "        new_SAM_1_rule1 = test_set.iloc[idx]\n",
    "        new_SAM_1_rule2 = test_set.iloc[idx1]\n",
    "\n",
    "        new_SAM_1 = new_SAM_1_rule1.append(new_SAM_1_rule2)\n",
    "        new_SAM_1 = new_SAM_1.drop_duplicates()\n",
    "        new_SAM_0 = test_set.drop(index = new_SAM_1.index)\n",
    "\n",
    "        if (new_SAM_0.shape[0]+new_SAM_1.shape[0])!=test_set.shape[0]:\n",
    "            raise ValueError(\"new SAM 0 and new SAM 1 overlapped!\")\n",
    "            \n",
    "        TP = new_SAM_1[new_SAM_1['TO_SAR']!=0].shape[0]\n",
    "        TN = new_SAM_0[new_SAM_0['TO_SAR']==0].shape[0]\n",
    "        FP = new_SAM_1[new_SAM_1['TO_SAR']==0].shape[0]\n",
    "        FN = new_SAM_0[new_SAM_0['TO_SAR']!=0].shape[0]\n",
    "        total = test_set.shape[0]\n",
    "        results = results.append({'number_of_Credit':int(thre1),'Credit_Amt':thre2,  \\\n",
    "                                  'number_of_Debit':thre3, 'Debit_Amt':thre4, 'SAR':test_set[test_set['TO_SAR']!=0].shape[0], \\\n",
    "                                  'Non SAR':test_set[test_set['TO_SAR']==0].shape[0],\\\n",
    "                                  'newSAM=1_SAR=1(TP)':TP, 'newSAM=1_SAR=0(FP)':FP, 'newSAM=0_SAR=1(FN)':FN,\\\n",
    "                                  'newSAM=0_SAR=0(TN)':TN, 'recall': str(round(TP/(TP+FN), 4)),\\\n",
    "                                  'filter rate':str((round((TN+FN)/total, 4)))}, ignore_index = True)\n"
   ]
  },
  {
   "cell_type": "code",
   "execution_count": 463,
   "metadata": {},
   "outputs": [
    {
     "data": {
      "text/html": [
       "<div>\n",
       "<style scoped>\n",
       "    .dataframe tbody tr th:only-of-type {\n",
       "        vertical-align: middle;\n",
       "    }\n",
       "\n",
       "    .dataframe tbody tr th {\n",
       "        vertical-align: top;\n",
       "    }\n",
       "\n",
       "    .dataframe thead th {\n",
       "        text-align: right;\n",
       "    }\n",
       "</style>\n",
       "<table border=\"1\" class=\"dataframe\">\n",
       "  <thead>\n",
       "    <tr style=\"text-align: right;\">\n",
       "      <th></th>\n",
       "      <th>number_of_Credit</th>\n",
       "      <th>Credit_Amt</th>\n",
       "      <th>number_of_Debit</th>\n",
       "      <th>Debit_Amt</th>\n",
       "      <th>SAR</th>\n",
       "      <th>Non SAR</th>\n",
       "      <th>newSAM=1_SAR=1(TP)</th>\n",
       "      <th>newSAM=1_SAR=0(FP)</th>\n",
       "      <th>newSAM=0_SAR=1(FN)</th>\n",
       "      <th>newSAM=0_SAR=0(TN)</th>\n",
       "      <th>recall</th>\n",
       "      <th>filter rate</th>\n",
       "    </tr>\n",
       "  </thead>\n",
       "  <tbody>\n",
       "    <tr>\n",
       "      <th>69</th>\n",
       "      <td>8</td>\n",
       "      <td>1400124</td>\n",
       "      <td>6</td>\n",
       "      <td>1542000</td>\n",
       "      <td>56</td>\n",
       "      <td>10277</td>\n",
       "      <td>36</td>\n",
       "      <td>6363</td>\n",
       "      <td>20</td>\n",
       "      <td>3914</td>\n",
       "      <td>0.6429</td>\n",
       "      <td>0.3807</td>\n",
       "    </tr>\n",
       "    <tr>\n",
       "      <th>59</th>\n",
       "      <td>8</td>\n",
       "      <td>2019463</td>\n",
       "      <td>6</td>\n",
       "      <td>1542000</td>\n",
       "      <td>56</td>\n",
       "      <td>10277</td>\n",
       "      <td>35</td>\n",
       "      <td>4989</td>\n",
       "      <td>21</td>\n",
       "      <td>5288</td>\n",
       "      <td>0.625</td>\n",
       "      <td>0.5138</td>\n",
       "    </tr>\n",
       "    <tr>\n",
       "      <th>49</th>\n",
       "      <td>24</td>\n",
       "      <td>1400124</td>\n",
       "      <td>6</td>\n",
       "      <td>1542000</td>\n",
       "      <td>56</td>\n",
       "      <td>10277</td>\n",
       "      <td>33</td>\n",
       "      <td>4050</td>\n",
       "      <td>23</td>\n",
       "      <td>6227</td>\n",
       "      <td>0.5893</td>\n",
       "      <td>0.6049</td>\n",
       "    </tr>\n",
       "    <tr>\n",
       "      <th>39</th>\n",
       "      <td>24</td>\n",
       "      <td>2019463</td>\n",
       "      <td>6</td>\n",
       "      <td>1542000</td>\n",
       "      <td>56</td>\n",
       "      <td>10277</td>\n",
       "      <td>33</td>\n",
       "      <td>3692</td>\n",
       "      <td>23</td>\n",
       "      <td>6585</td>\n",
       "      <td>0.5893</td>\n",
       "      <td>0.6395</td>\n",
       "    </tr>\n",
       "    <tr>\n",
       "      <th>29</th>\n",
       "      <td>8</td>\n",
       "      <td>6785000</td>\n",
       "      <td>6</td>\n",
       "      <td>1542000</td>\n",
       "      <td>56</td>\n",
       "      <td>10277</td>\n",
       "      <td>33</td>\n",
       "      <td>2921</td>\n",
       "      <td>23</td>\n",
       "      <td>7356</td>\n",
       "      <td>0.5893</td>\n",
       "      <td>0.7141</td>\n",
       "    </tr>\n",
       "    <tr>\n",
       "      <th>9</th>\n",
       "      <td>98</td>\n",
       "      <td>1400124</td>\n",
       "      <td>6</td>\n",
       "      <td>1542000</td>\n",
       "      <td>56</td>\n",
       "      <td>10277</td>\n",
       "      <td>33</td>\n",
       "      <td>3042</td>\n",
       "      <td>23</td>\n",
       "      <td>7235</td>\n",
       "      <td>0.5893</td>\n",
       "      <td>0.7024</td>\n",
       "    </tr>\n",
       "    <tr>\n",
       "      <th>68</th>\n",
       "      <td>8</td>\n",
       "      <td>1400124</td>\n",
       "      <td>6</td>\n",
       "      <td>1770107</td>\n",
       "      <td>56</td>\n",
       "      <td>10277</td>\n",
       "      <td>33</td>\n",
       "      <td>5591</td>\n",
       "      <td>23</td>\n",
       "      <td>4686</td>\n",
       "      <td>0.5893</td>\n",
       "      <td>0.4557</td>\n",
       "    </tr>\n",
       "    <tr>\n",
       "      <th>19</th>\n",
       "      <td>98</td>\n",
       "      <td>2019463</td>\n",
       "      <td>6</td>\n",
       "      <td>1542000</td>\n",
       "      <td>56</td>\n",
       "      <td>10277</td>\n",
       "      <td>33</td>\n",
       "      <td>2906</td>\n",
       "      <td>23</td>\n",
       "      <td>7371</td>\n",
       "      <td>0.5893</td>\n",
       "      <td>0.7156</td>\n",
       "    </tr>\n",
       "    <tr>\n",
       "      <th>58</th>\n",
       "      <td>8</td>\n",
       "      <td>2019463</td>\n",
       "      <td>6</td>\n",
       "      <td>1770107</td>\n",
       "      <td>56</td>\n",
       "      <td>10277</td>\n",
       "      <td>32</td>\n",
       "      <td>4207</td>\n",
       "      <td>24</td>\n",
       "      <td>6070</td>\n",
       "      <td>0.5714</td>\n",
       "      <td>0.5898</td>\n",
       "    </tr>\n",
       "    <tr>\n",
       "      <th>66</th>\n",
       "      <td>8</td>\n",
       "      <td>1400124</td>\n",
       "      <td>6</td>\n",
       "      <td>1950000</td>\n",
       "      <td>56</td>\n",
       "      <td>10277</td>\n",
       "      <td>30</td>\n",
       "      <td>5207</td>\n",
       "      <td>26</td>\n",
       "      <td>5070</td>\n",
       "      <td>0.5357</td>\n",
       "      <td>0.4932</td>\n",
       "    </tr>\n",
       "  </tbody>\n",
       "</table>\n",
       "</div>"
      ],
      "text/plain": [
       "   number_of_Credit Credit_Amt number_of_Debit Debit_Amt SAR Non SAR  \\\n",
       "69                8    1400124               6   1542000  56   10277   \n",
       "59                8    2019463               6   1542000  56   10277   \n",
       "49               24    1400124               6   1542000  56   10277   \n",
       "39               24    2019463               6   1542000  56   10277   \n",
       "29                8    6785000               6   1542000  56   10277   \n",
       "9                98    1400124               6   1542000  56   10277   \n",
       "68                8    1400124               6   1770107  56   10277   \n",
       "19               98    2019463               6   1542000  56   10277   \n",
       "58                8    2019463               6   1770107  56   10277   \n",
       "66                8    1400124               6   1950000  56   10277   \n",
       "\n",
       "   newSAM=1_SAR=1(TP) newSAM=1_SAR=0(FP) newSAM=0_SAR=1(FN)  \\\n",
       "69                 36               6363                 20   \n",
       "59                 35               4989                 21   \n",
       "49                 33               4050                 23   \n",
       "39                 33               3692                 23   \n",
       "29                 33               2921                 23   \n",
       "9                  33               3042                 23   \n",
       "68                 33               5591                 23   \n",
       "19                 33               2906                 23   \n",
       "58                 32               4207                 24   \n",
       "66                 30               5207                 26   \n",
       "\n",
       "   newSAM=0_SAR=0(TN)  recall filter rate  \n",
       "69               3914  0.6429      0.3807  \n",
       "59               5288   0.625      0.5138  \n",
       "49               6227  0.5893      0.6049  \n",
       "39               6585  0.5893      0.6395  \n",
       "29               7356  0.5893      0.7141  \n",
       "9                7235  0.5893      0.7024  \n",
       "68               4686  0.5893      0.4557  \n",
       "19               7371  0.5893      0.7156  \n",
       "58               6070  0.5714      0.5898  \n",
       "66               5070  0.5357      0.4932  "
      ]
     },
     "execution_count": 463,
     "metadata": {},
     "output_type": "execute_result"
    }
   ],
   "source": [
    "results = results.sort_values(by='recall', ascending=False).drop_duplicates()[:10]\n",
    "results"
   ]
  },
  {
   "cell_type": "markdown",
   "metadata": {},
   "source": [
    "## TWN_A13_01"
   ]
  },
  {
   "cell_type": "code",
   "execution_count": 464,
   "metadata": {},
   "outputs": [],
   "source": [
    "DAY = 15\n",
    "FEATURE = ['Credit_Amt', 'number_of_Credit', 'Debit_Amt','number_of_Debit']\n",
    "PATH = \"D:/Temp/NCTU/crystal/第二階段/new_alert/日數分類_營業日/\"\n",
    "FILE = \"TWN_A13_01_day15_with_aggregated_txn_scenario_txn_type_key_營業日.csv\""
   ]
  },
  {
   "cell_type": "code",
   "execution_count": 465,
   "metadata": {},
   "outputs": [],
   "source": [
    "file = pd.read_csv(PATH+FILE)"
   ]
  },
  {
   "cell_type": "code",
   "execution_count": 466,
   "metadata": {},
   "outputs": [],
   "source": [
    "file['TO_SAR'] = file['TO_SAR'].replace(np.nan, 0)\n",
    "file['TO_SAR'] = file['TO_SAR'].replace('NF', 1)\n",
    "file['TO_SAR'] = file['TO_SAR'].replace('F', 1)"
   ]
  },
  {
   "cell_type": "code",
   "execution_count": 467,
   "metadata": {},
   "outputs": [],
   "source": [
    "fileID = file['alert_id'].values"
   ]
  },
  {
   "cell_type": "code",
   "execution_count": 468,
   "metadata": {},
   "outputs": [],
   "source": [
    "HighIntersection = list(set(fileID) & set(riskHighID))"
   ]
  },
  {
   "cell_type": "code",
   "execution_count": 469,
   "metadata": {},
   "outputs": [],
   "source": [
    "rowHigh = []\n",
    "rowLow = []\n",
    "for i in range(file.shape[0]):\n",
    "    if file['alert_id'][i] in HighIntersection:\n",
    "        rowHigh.append(i)\n",
    "    else:\n",
    "        rowLow.append(i)"
   ]
  },
  {
   "cell_type": "code",
   "execution_count": 483,
   "metadata": {},
   "outputs": [],
   "source": [
    "file2 = file.iloc[rowLow] "
   ]
  },
  {
   "cell_type": "code",
   "execution_count": 484,
   "metadata": {},
   "outputs": [
    {
     "data": {
      "text/plain": [
       "0    5159\n",
       "1      37\n",
       "Name: TO_SAR, dtype: int64"
      ]
     },
     "execution_count": 484,
     "metadata": {},
     "output_type": "execute_result"
    }
   ],
   "source": [
    "file2['TO_SAR'].value_counts()"
   ]
  },
  {
   "cell_type": "code",
   "execution_count": 485,
   "metadata": {},
   "outputs": [
    {
     "name": "stdout",
     "output_type": "stream",
     "text": [
      "Verify on time series\n",
      "shape of data: (5196, 39)\n",
      "total number of TO_SAR: 37\n",
      "********************************\n",
      "time interval in train set:2019-03-04~2020-05-11\n",
      "TO_SAR in train set: 22\n",
      "TO_SAR/Total in train set 0.007058068655758742\n",
      "split dataset to train, test...\n",
      "********************************\n",
      "time interval in test set:2020-04-17~2020-12-31\n",
      "TO_SAR in test set: 15\n",
      "TO_SAR/Total in test set 0.007215007215007215\n",
      "********************************\n",
      "train data shape:  (3117, 38)\n",
      "test data shape:  (2079, 38)\n"
     ]
    }
   ],
   "source": [
    "train_set, test_set = ReadFile(file2, SAR_type)"
   ]
  },
  {
   "cell_type": "code",
   "execution_count": 486,
   "metadata": {},
   "outputs": [],
   "source": [
    "train_SAR = train_set[train_set['TO_SAR']!=0]\n",
    "train_Non_SAR = train_set[train_set['TO_SAR']==0]"
   ]
  },
  {
   "cell_type": "code",
   "execution_count": 487,
   "metadata": {},
   "outputs": [],
   "source": [
    "test_SAR = test_set[test_set['TO_SAR']!=0]\n",
    "test_Non_SAR = test_set[test_set['TO_SAR']==0]"
   ]
  },
  {
   "cell_type": "markdown",
   "metadata": {},
   "source": [
    "### Search Answer"
   ]
  },
  {
   "cell_type": "code",
   "execution_count": 488,
   "metadata": {},
   "outputs": [
    {
     "name": "stdout",
     "output_type": "stream",
     "text": [
      "[0.0, 0.0, 0.0, 0.0, 0.0, 541199.9999999997, 1215599.9999999998, 1516087.2000000002, 1695000.0000000002, 3913000.0]\n",
      "\n",
      "[0.0, 0.0, 0.0, 0.0, 0.0, 0.5999999999999996, 3.0, 3.0, 5.800000000000004, 8.0]\n",
      "\n",
      "[0.0, 116578.80000000002, 1350000.0, 1452006.0, 1800000.0, 2140500.0, 2340000.0, 2755900.0, 3227400.0000000005, 6421000.0]\n",
      "\n",
      "[0.0, 1.4000000000000004, 3.0, 4.4, 5.0, 6.0, 7.0, 8.600000000000001, 27.500000000000032, 36.0]\n",
      "\n"
     ]
    }
   ],
   "source": [
    "number_of_credit_threshold = []\n",
    "credit_amt_threshold = []\n",
    "number_of_debit_threshold = []\n",
    "debit_amt_threshold = []\n",
    "threshold_list = [credit_amt_threshold, number_of_credit_threshold, debit_amt_threshold, number_of_debit_threshold]\n",
    "for i in range(len(FEATURE)):\n",
    "    tmp = []\n",
    "    tmp = list(train_SAR[FEATURE[i]].values)\n",
    "    tmp.sort()\n",
    "    for j in np.linspace(10, 100, 10):\n",
    "        threshold_list[i].append(np.percentile(tmp, j))\n",
    "    print(threshold_list[i])\n",
    "    print()"
   ]
  },
  {
   "cell_type": "code",
   "execution_count": 489,
   "metadata": {},
   "outputs": [
    {
     "name": "stdout",
     "output_type": "stream",
     "text": [
      "max val:  0.30215538725245866 number of max val:  2\n",
      "66th, recall: 0.2727272727272727, val1: 3.0, val2: 1215599.9999999998\n",
      "76th, recall: 0.2727272727272727, val1: 3.0, val2: 1215599.9999999998\n",
      "67th, recall: 0.18181818181818182, val1: 3.0, val2: 1516087.2000000002\n",
      "77th, recall: 0.18181818181818182, val1: 3.0, val2: 1516087.2000000002\n",
      "87th, recall: 0.13636363636363635, val1: 5.800000000000004, val2: 1516087.2000000002\n",
      "86th, recall: 0.13636363636363635, val1: 5.800000000000004, val2: 1215599.9999999998\n",
      "68th, recall: 0.13636363636363635, val1: 3.0, val2: 1695000.0000000002\n",
      "78th, recall: 0.13636363636363635, val1: 3.0, val2: 1695000.0000000002\n",
      "88th, recall: 0.09090909090909091, val1: 5.800000000000004, val2: 1695000.0000000002\n",
      "99th, recall: 0.045454545454545456, val1: 8.0, val2: 3913000.0\n",
      "********************************\n"
     ]
    }
   ],
   "source": [
    "LOGIC = 'OR'\n",
    "default_credit_amt = 999995\n",
    "default_number_of_credit = 3\n",
    "candidate_rule1 = Search2D(number_of_credit_threshold, credit_amt_threshold, 'number_of_Credit','Credit_Amt',\\\n",
    "                           default_number_of_credit, default_credit_amt, train_SAR, train_Non_SAR, train_set, LOGIC, SAR_type)"
   ]
  },
  {
   "cell_type": "code",
   "execution_count": 490,
   "metadata": {},
   "outputs": [
    {
     "name": "stdout",
     "output_type": "stream",
     "text": [
      "max val:  0.6986072423398331 number of max val:  1\n",
      "22th, recall: 0.7272727272727273, val1: 3.0, val2: 1350000.0\n",
      "23th, recall: 0.5909090909090909, val1: 3.0, val2: 1452006.0\n",
      "33th, recall: 0.5454545454545454, val1: 4.4, val2: 1452006.0\n",
      "43th, recall: 0.5454545454545454, val1: 5.0, val2: 1452006.0\n",
      "32th, recall: 0.5454545454545454, val1: 4.4, val2: 1350000.0\n",
      "42th, recall: 0.5454545454545454, val1: 5.0, val2: 1350000.0\n",
      "34th, recall: 0.5, val1: 4.4, val2: 1800000.0\n",
      "44th, recall: 0.5, val1: 5.0, val2: 1800000.0\n",
      "24th, recall: 0.5, val1: 3.0, val2: 1800000.0\n",
      "35th, recall: 0.4090909090909091, val1: 4.4, val2: 2140500.0\n",
      "********************************\n"
     ]
    }
   ],
   "source": [
    "LOGIC='OR'\n",
    "default_debit_amt = 999995\n",
    "default_number_of_debit = 3\n",
    "candidate_rule2 = Search2D(number_of_debit_threshold, debit_amt_threshold, 'number_of_Debit','Debit_Amt', \\\n",
    "                           default_number_of_debit, default_debit_amt, train_SAR, train_Non_SAR, train_set, LOGIC, SAR_type)"
   ]
  },
  {
   "cell_type": "code",
   "execution_count": 491,
   "metadata": {},
   "outputs": [],
   "source": [
    "candidate_rule1 = [[ceil(x), ceil(y)] for [x,y] in candidate_rule1]\n",
    "candidate_rule2 = [[ceil(x), ceil(y)] for [x,y] in candidate_rule2]"
   ]
  },
  {
   "cell_type": "code",
   "execution_count": 492,
   "metadata": {},
   "outputs": [],
   "source": [
    "# apply on testing set\n",
    "results = pd.DataFrame(columns = ['number_of_Credit','Credit_Amt',\\\n",
    "                                  'number_of_Debit','Debit_Amt','SAR', 'Non SAR','newSAM=1_SAR=1(TP)','newSAM=1_SAR=0(FP)',\\\n",
    "                                  'newSAM=0_SAR=1(FN)', 'newSAM=0_SAR=0(TN)', 'recall','filter rate'])\n",
    "for thre1, thre2 in candidate_rule1:\n",
    "    for thre3, thre4 in candidate_rule2:\n",
    "       \n",
    "        idx = list(set(test_set[test_set['number_of_Credit']>=thre1].index) & set(test_set[test_set['Credit_Amt']>=thre2].index))\n",
    "        idx1 = list(set(test_set[test_set['number_of_Debit']>=thre3].index) & set(test_set[test_set['Debit_Amt']>=thre4].index))\n",
    "        new_SAM_1_rule1 = test_set.iloc[idx]\n",
    "        new_SAM_1_rule2 = test_set.iloc[idx1]\n",
    "\n",
    "        new_SAM_1 = new_SAM_1_rule1.append(new_SAM_1_rule2)\n",
    "        new_SAM_1 = new_SAM_1.drop_duplicates()\n",
    "        new_SAM_0 = test_set.drop(index = new_SAM_1.index)\n",
    "\n",
    "        if (new_SAM_0.shape[0]+new_SAM_1.shape[0])!=test_set.shape[0]:\n",
    "            raise ValueError(\"new SAM 0 and new SAM 1 overlapped!\")\n",
    "            \n",
    "        TP = new_SAM_1[new_SAM_1['TO_SAR']!=0].shape[0]\n",
    "        TN = new_SAM_0[new_SAM_0['TO_SAR']==0].shape[0]\n",
    "        FP = new_SAM_1[new_SAM_1['TO_SAR']==0].shape[0]\n",
    "        FN = new_SAM_0[new_SAM_0['TO_SAR']!=0].shape[0]\n",
    "        total = test_set.shape[0]\n",
    "        results = results.append({'number_of_Credit':int(thre1),'Credit_Amt':thre2,  \\\n",
    "                                  'number_of_Debit':thre3, 'Debit_Amt':thre4, 'SAR':test_set[test_set['TO_SAR']!=0].shape[0], \\\n",
    "                                  'Non SAR':test_set[test_set['TO_SAR']==0].shape[0],\\\n",
    "                                  'newSAM=1_SAR=1(TP)':TP, 'newSAM=1_SAR=0(FP)':FP, 'newSAM=0_SAR=1(FN)':FN,\\\n",
    "                                  'newSAM=0_SAR=0(TN)':TN, 'recall': str(round(TP/(TP+FN), 4)),\\\n",
    "                                  'filter rate':str((round((TN+FN)/total, 4)))}, ignore_index = True)\n"
   ]
  },
  {
   "cell_type": "code",
   "execution_count": 493,
   "metadata": {},
   "outputs": [
    {
     "data": {
      "text/html": [
       "<div>\n",
       "<style scoped>\n",
       "    .dataframe tbody tr th:only-of-type {\n",
       "        vertical-align: middle;\n",
       "    }\n",
       "\n",
       "    .dataframe tbody tr th {\n",
       "        vertical-align: top;\n",
       "    }\n",
       "\n",
       "    .dataframe thead th {\n",
       "        text-align: right;\n",
       "    }\n",
       "</style>\n",
       "<table border=\"1\" class=\"dataframe\">\n",
       "  <thead>\n",
       "    <tr style=\"text-align: right;\">\n",
       "      <th></th>\n",
       "      <th>number_of_Credit</th>\n",
       "      <th>Credit_Amt</th>\n",
       "      <th>number_of_Debit</th>\n",
       "      <th>Debit_Amt</th>\n",
       "      <th>SAR</th>\n",
       "      <th>Non SAR</th>\n",
       "      <th>newSAM=1_SAR=1(TP)</th>\n",
       "      <th>newSAM=1_SAR=0(FP)</th>\n",
       "      <th>newSAM=0_SAR=1(FN)</th>\n",
       "      <th>newSAM=0_SAR=0(TN)</th>\n",
       "      <th>recall</th>\n",
       "      <th>filter rate</th>\n",
       "    </tr>\n",
       "  </thead>\n",
       "  <tbody>\n",
       "    <tr>\n",
       "      <th>99</th>\n",
       "      <td>3</td>\n",
       "      <td>1215600</td>\n",
       "      <td>3</td>\n",
       "      <td>1350000</td>\n",
       "      <td>15</td>\n",
       "      <td>2064</td>\n",
       "      <td>14</td>\n",
       "      <td>1627</td>\n",
       "      <td>1</td>\n",
       "      <td>437</td>\n",
       "      <td>0.9333</td>\n",
       "      <td>0.2107</td>\n",
       "    </tr>\n",
       "    <tr>\n",
       "      <th>69</th>\n",
       "      <td>3</td>\n",
       "      <td>1516088</td>\n",
       "      <td>3</td>\n",
       "      <td>1350000</td>\n",
       "      <td>15</td>\n",
       "      <td>2064</td>\n",
       "      <td>14</td>\n",
       "      <td>1368</td>\n",
       "      <td>1</td>\n",
       "      <td>696</td>\n",
       "      <td>0.9333</td>\n",
       "      <td>0.3353</td>\n",
       "    </tr>\n",
       "    <tr>\n",
       "      <th>29</th>\n",
       "      <td>3</td>\n",
       "      <td>1695001</td>\n",
       "      <td>3</td>\n",
       "      <td>1350000</td>\n",
       "      <td>15</td>\n",
       "      <td>2064</td>\n",
       "      <td>13</td>\n",
       "      <td>1296</td>\n",
       "      <td>2</td>\n",
       "      <td>768</td>\n",
       "      <td>0.8667</td>\n",
       "      <td>0.3704</td>\n",
       "    </tr>\n",
       "    <tr>\n",
       "      <th>49</th>\n",
       "      <td>6</td>\n",
       "      <td>1215600</td>\n",
       "      <td>3</td>\n",
       "      <td>1350000</td>\n",
       "      <td>15</td>\n",
       "      <td>2064</td>\n",
       "      <td>12</td>\n",
       "      <td>1142</td>\n",
       "      <td>3</td>\n",
       "      <td>922</td>\n",
       "      <td>0.8</td>\n",
       "      <td>0.4449</td>\n",
       "    </tr>\n",
       "    <tr>\n",
       "      <th>9</th>\n",
       "      <td>8</td>\n",
       "      <td>3913000</td>\n",
       "      <td>3</td>\n",
       "      <td>1350000</td>\n",
       "      <td>15</td>\n",
       "      <td>2064</td>\n",
       "      <td>12</td>\n",
       "      <td>909</td>\n",
       "      <td>3</td>\n",
       "      <td>1155</td>\n",
       "      <td>0.8</td>\n",
       "      <td>0.557</td>\n",
       "    </tr>\n",
       "    <tr>\n",
       "      <th>59</th>\n",
       "      <td>6</td>\n",
       "      <td>1516088</td>\n",
       "      <td>3</td>\n",
       "      <td>1350000</td>\n",
       "      <td>15</td>\n",
       "      <td>2064</td>\n",
       "      <td>12</td>\n",
       "      <td>1141</td>\n",
       "      <td>3</td>\n",
       "      <td>923</td>\n",
       "      <td>0.8</td>\n",
       "      <td>0.4454</td>\n",
       "    </tr>\n",
       "    <tr>\n",
       "      <th>19</th>\n",
       "      <td>6</td>\n",
       "      <td>1695001</td>\n",
       "      <td>3</td>\n",
       "      <td>1350000</td>\n",
       "      <td>15</td>\n",
       "      <td>2064</td>\n",
       "      <td>12</td>\n",
       "      <td>1132</td>\n",
       "      <td>3</td>\n",
       "      <td>932</td>\n",
       "      <td>0.8</td>\n",
       "      <td>0.4497</td>\n",
       "    </tr>\n",
       "    <tr>\n",
       "      <th>91</th>\n",
       "      <td>3</td>\n",
       "      <td>1215600</td>\n",
       "      <td>3</td>\n",
       "      <td>1800000</td>\n",
       "      <td>15</td>\n",
       "      <td>2064</td>\n",
       "      <td>11</td>\n",
       "      <td>1326</td>\n",
       "      <td>4</td>\n",
       "      <td>738</td>\n",
       "      <td>0.7333</td>\n",
       "      <td>0.3569</td>\n",
       "    </tr>\n",
       "    <tr>\n",
       "      <th>71</th>\n",
       "      <td>3</td>\n",
       "      <td>1516088</td>\n",
       "      <td>3</td>\n",
       "      <td>1800000</td>\n",
       "      <td>15</td>\n",
       "      <td>2064</td>\n",
       "      <td>11</td>\n",
       "      <td>1067</td>\n",
       "      <td>4</td>\n",
       "      <td>997</td>\n",
       "      <td>0.7333</td>\n",
       "      <td>0.4815</td>\n",
       "    </tr>\n",
       "    <tr>\n",
       "      <th>68</th>\n",
       "      <td>3</td>\n",
       "      <td>1516088</td>\n",
       "      <td>3</td>\n",
       "      <td>1452006</td>\n",
       "      <td>15</td>\n",
       "      <td>2064</td>\n",
       "      <td>11</td>\n",
       "      <td>1214</td>\n",
       "      <td>4</td>\n",
       "      <td>850</td>\n",
       "      <td>0.7333</td>\n",
       "      <td>0.4108</td>\n",
       "    </tr>\n",
       "  </tbody>\n",
       "</table>\n",
       "</div>"
      ],
      "text/plain": [
       "   number_of_Credit Credit_Amt number_of_Debit Debit_Amt SAR Non SAR  \\\n",
       "99                3    1215600               3   1350000  15    2064   \n",
       "69                3    1516088               3   1350000  15    2064   \n",
       "29                3    1695001               3   1350000  15    2064   \n",
       "49                6    1215600               3   1350000  15    2064   \n",
       "9                 8    3913000               3   1350000  15    2064   \n",
       "59                6    1516088               3   1350000  15    2064   \n",
       "19                6    1695001               3   1350000  15    2064   \n",
       "91                3    1215600               3   1800000  15    2064   \n",
       "71                3    1516088               3   1800000  15    2064   \n",
       "68                3    1516088               3   1452006  15    2064   \n",
       "\n",
       "   newSAM=1_SAR=1(TP) newSAM=1_SAR=0(FP) newSAM=0_SAR=1(FN)  \\\n",
       "99                 14               1627                  1   \n",
       "69                 14               1368                  1   \n",
       "29                 13               1296                  2   \n",
       "49                 12               1142                  3   \n",
       "9                  12                909                  3   \n",
       "59                 12               1141                  3   \n",
       "19                 12               1132                  3   \n",
       "91                 11               1326                  4   \n",
       "71                 11               1067                  4   \n",
       "68                 11               1214                  4   \n",
       "\n",
       "   newSAM=0_SAR=0(TN)  recall filter rate  \n",
       "99                437  0.9333      0.2107  \n",
       "69                696  0.9333      0.3353  \n",
       "29                768  0.8667      0.3704  \n",
       "49                922     0.8      0.4449  \n",
       "9                1155     0.8       0.557  \n",
       "59                923     0.8      0.4454  \n",
       "19                932     0.8      0.4497  \n",
       "91                738  0.7333      0.3569  \n",
       "71                997  0.7333      0.4815  \n",
       "68                850  0.7333      0.4108  "
      ]
     },
     "execution_count": 493,
     "metadata": {},
     "output_type": "execute_result"
    }
   ],
   "source": [
    "results = results.sort_values(by='recall', ascending=False).drop_duplicates()[:10]\n",
    "results"
   ]
  },
  {
   "cell_type": "markdown",
   "metadata": {},
   "source": [
    "## TWN_A15_01"
   ]
  },
  {
   "cell_type": "code",
   "execution_count": 494,
   "metadata": {},
   "outputs": [],
   "source": [
    "DAY = [1, 5]\n",
    "FEATURE = ['Credit_Amt', 'Debit_Amt_1Day', 'debit/credit']\n",
    "PATH = \"D:/Temp/NCTU/crystal/第二階段/new_alert/日數分類_營業日/\"\n",
    "FILE = \"TWN_A15_01_with_aggregated_txn_scenario_txn_type_key_營業日.csv\""
   ]
  },
  {
   "cell_type": "code",
   "execution_count": 495,
   "metadata": {},
   "outputs": [],
   "source": [
    "file = pd.read_csv(PATH+FILE)"
   ]
  },
  {
   "cell_type": "code",
   "execution_count": 496,
   "metadata": {},
   "outputs": [
    {
     "data": {
      "text/plain": [
       "(12530, 44)"
      ]
     },
     "execution_count": 496,
     "metadata": {},
     "output_type": "execute_result"
    }
   ],
   "source": [
    "file.shape"
   ]
  },
  {
   "cell_type": "code",
   "execution_count": 497,
   "metadata": {},
   "outputs": [],
   "source": [
    "file['TO_SAR'] = file['TO_SAR'].replace(np.nan, 0)\n",
    "file['TO_SAR'] = file['TO_SAR'].replace('NF', 1)\n",
    "file['TO_SAR'] = file['TO_SAR'].replace('F', 1)"
   ]
  },
  {
   "cell_type": "code",
   "execution_count": 498,
   "metadata": {},
   "outputs": [
    {
     "data": {
      "text/plain": [
       "0    12505\n",
       "1       25\n",
       "Name: TO_SAR, dtype: int64"
      ]
     },
     "execution_count": 498,
     "metadata": {},
     "output_type": "execute_result"
    }
   ],
   "source": [
    "file['TO_SAR'].value_counts()"
   ]
  },
  {
   "cell_type": "code",
   "execution_count": 499,
   "metadata": {},
   "outputs": [],
   "source": [
    "fileID = file['alert_id'].values"
   ]
  },
  {
   "cell_type": "code",
   "execution_count": 500,
   "metadata": {},
   "outputs": [],
   "source": [
    "HighIntersection = list(set(fileID) & set(riskHighID))"
   ]
  },
  {
   "cell_type": "code",
   "execution_count": 501,
   "metadata": {},
   "outputs": [],
   "source": [
    "rowHigh = []\n",
    "rowLow = []\n",
    "for i in range(file.shape[0]):\n",
    "    if file['alert_id'][i] in HighIntersection:\n",
    "        rowHigh.append(i)\n",
    "    else:\n",
    "        rowLow.append(i)"
   ]
  },
  {
   "cell_type": "code",
   "execution_count": 502,
   "metadata": {},
   "outputs": [],
   "source": [
    "file1 = file.iloc[rowHigh]"
   ]
  },
  {
   "cell_type": "code",
   "execution_count": 503,
   "metadata": {},
   "outputs": [
    {
     "data": {
      "text/plain": [
       "0    1789\n",
       "1       4\n",
       "Name: TO_SAR, dtype: int64"
      ]
     },
     "execution_count": 503,
     "metadata": {},
     "output_type": "execute_result"
    }
   ],
   "source": [
    "file1['TO_SAR'].value_counts() "
   ]
  },
  {
   "cell_type": "code",
   "execution_count": 513,
   "metadata": {},
   "outputs": [],
   "source": [
    "file2 = file.iloc[rowLow]"
   ]
  },
  {
   "cell_type": "code",
   "execution_count": 514,
   "metadata": {},
   "outputs": [
    {
     "name": "stdout",
     "output_type": "stream",
     "text": [
      "Verify on time series\n",
      "shape of data: (10737, 38)\n",
      "total number of TO_SAR: 21\n",
      "********************************\n",
      "time interval in train set:2020-02-17~2020-12-11\n",
      "TO_SAR in train set: 12\n",
      "TO_SAR/Total in train set 0.0018630647414997672\n",
      "split dataset to train, test...\n",
      "********************************\n",
      "time interval in test set:2020-08-31~2020-12-31\n",
      "TO_SAR in test set: 9\n",
      "TO_SAR/Total in test set 0.002094972067039106\n",
      "********************************\n",
      "train data shape:  (6441, 37)\n",
      "test data shape:  (4296, 37)\n"
     ]
    }
   ],
   "source": [
    "train_set, test_set = ReadFile(file2, SAR_type)"
   ]
  },
  {
   "cell_type": "code",
   "execution_count": 515,
   "metadata": {},
   "outputs": [],
   "source": [
    "train_SAR = train_set[train_set['TO_SAR']!=0]\n",
    "train_Non_SAR = train_set[train_set['TO_SAR']==0]"
   ]
  },
  {
   "cell_type": "code",
   "execution_count": 516,
   "metadata": {},
   "outputs": [],
   "source": [
    "test_SAR = test_set[test_set['TO_SAR']!=0]\n",
    "test_Non_SAR = test_set[test_set['TO_SAR']==0]"
   ]
  },
  {
   "cell_type": "markdown",
   "metadata": {},
   "source": [
    "### Search Answer"
   ]
  },
  {
   "cell_type": "code",
   "execution_count": 517,
   "metadata": {},
   "outputs": [
    {
     "name": "stdout",
     "output_type": "stream",
     "text": [
      "[925800.0, 1166400.0, 1244400.0, 1349744.0, 1521180.5, 1779424.4, 2212601.9999999995, 4074540.0000000014, 5850000.0, 39258714.0]\n",
      "\n",
      "[719758.0, 918084.0, 1006683.5, 1073227.0, 1470005.0, 1916004.0, 2280000.0, 4080000.0000000014, 5850000.0, 39258714.0]\n",
      "\n",
      "[0.855963344630015, 0.9772897881991744, 0.9946907426597582, 0.9990450247279921, 0.9999896142433233, 1.0, 1.0, 1.0, 1.5325195665564697, 2.0]\n",
      "\n"
     ]
    }
   ],
   "source": [
    "debit_amt_1day_threshold = []\n",
    "credit_amt_threshold = []\n",
    "ratio_threshold = []\n",
    "threshold_list = [credit_amt_threshold, debit_amt_1day_threshold,  ratio_threshold]\n",
    "\n",
    "for i in range(len(FEATURE)):\n",
    "    tmp = []\n",
    "    tmp = list(train_SAR[FEATURE[i]].values)\n",
    "    tmp.sort()\n",
    "    for j in np.linspace(10, 100, 10):\n",
    "        threshold_list[i].append(np.percentile(tmp, j))\n",
    "    print(threshold_list[i])\n",
    "    print()"
   ]
  },
  {
   "cell_type": "code",
   "execution_count": 518,
   "metadata": {},
   "outputs": [
    {
     "name": "stdout",
     "output_type": "stream",
     "text": [
      "max val:  0.75 number of max val:  2\n",
      "0th, recall: 0.75, val1: 719758.0, val2: 925800.0\n",
      "10th, recall: 0.75, val1: 918084.0, val2: 925800.0\n",
      "1th, recall: 0.6666666666666666, val1: 719758.0, val2: 1166400.0\n",
      "11th, recall: 0.6666666666666666, val1: 918084.0, val2: 1166400.0\n",
      "20th, recall: 0.6666666666666666, val1: 1006683.5, val2: 925800.0\n",
      "2th, recall: 0.5833333333333334, val1: 719758.0, val2: 1244400.0\n",
      "12th, recall: 0.5833333333333334, val1: 918084.0, val2: 1244400.0\n",
      "21th, recall: 0.5833333333333334, val1: 1006683.5, val2: 1166400.0\n",
      "30th, recall: 0.5833333333333334, val1: 1073227.0, val2: 925800.0\n",
      "3th, recall: 0.5, val1: 719758.0, val2: 1349744.0\n",
      "********************************\n"
     ]
    }
   ],
   "source": [
    "LOGIC = 'AND'\n",
    "default_debit_amt_1Day = 387219\n",
    "default_credit_amt = 387219\n",
    "candidate_rule1 = Search2D(debit_amt_1day_threshold, credit_amt_threshold, 'Debit_Amt_1Day','Credit_Amt',\\\n",
    "                           default_debit_amt_1Day, default_credit_amt, train_SAR, train_Non_SAR, train_set, LOGIC, SAR_type)"
   ]
  },
  {
   "cell_type": "code",
   "execution_count": 519,
   "metadata": {},
   "outputs": [
    {
     "name": "stdout",
     "output_type": "stream",
     "text": [
      "0.8333333333333334\n",
      "0.75\n",
      "0.6666666666666666\n",
      "0.5833333333333334\n",
      "0.5\n",
      "0.5\n",
      "0.5\n",
      "0.5\n",
      "0.16666666666666666\n",
      "0.08333333333333333\n",
      "recall [0.8333333333333334, 0.75, 0.6666666666666666, 0.5833333333333334, 0.5, 0.5, 0.5, 0.5, 0.16666666666666666, 0.08333333333333333, 0, 0, 0, 0, 0, 0, 0, 0, 0]\n",
      "max val:  0.8333333333333334 number of max val:  1\n",
      "number of zero: 9\n",
      "0th, recall: 0.8333333333333334 , val: 0.855963344630015\n",
      "1th, recall: 0.75 , val: 0.9772897881991744\n",
      "2th, recall: 0.6666666666666666 , val: 0.9946907426597582\n",
      "3th, recall: 0.5833333333333334 , val: 0.9990450247279921\n",
      "4th, recall: 0.5 , val: 0.9999896142433233\n",
      "5th, recall: 0.5 , val: 1.0\n",
      "6th, recall: 0.5 , val: 1.0\n",
      "7th, recall: 0.5 , val: 1.0\n",
      "8th, recall: 0.16666666666666666 , val: 1.5325195665564697\n",
      "9th, recall: 0.08333333333333333 , val: 2.0\n"
     ]
    }
   ],
   "source": [
    "LOGIC = 'AND'\n",
    "default_ratio = 0.75\n",
    "candidate_rule2 = Search1D(ratio_threshold, 'debit/credit', default_ratio, train_SAR, train_Non_SAR, train_set, LOGIC, SAR_type)"
   ]
  },
  {
   "cell_type": "code",
   "execution_count": 520,
   "metadata": {},
   "outputs": [],
   "source": [
    "candidate_rule1 = [[ceil(x), ceil(y)] for [x,y] in candidate_rule1]"
   ]
  },
  {
   "cell_type": "code",
   "execution_count": 521,
   "metadata": {},
   "outputs": [],
   "source": [
    "# apply on testing set\n",
    "results = pd.DataFrame(columns = ['Debit_Amt_1Day','Credit_Amt',\\\n",
    "                                  'debit/credit','SAR', 'Non SAR','newSAM=1_SAR=1(TP)','newSAM=1_SAR=0(FP)',\\\n",
    "                                  'newSAM=0_SAR=1(FN)', 'newSAM=0_SAR=0(TN)', 'recall','filter rate'])\n",
    "for thre1, thre2 in candidate_rule1:\n",
    "    for thre3 in candidate_rule2:\n",
    "        idx1 = set(test_set[test_set['Debit_Amt_1Day']>=thre1].index) & set(test_set[test_set['Credit_Amt']>=thre2].index)\n",
    "        idx2 = set(test_set[test_set['debit/credit']>=thre3].index)\n",
    "\n",
    "        idx = list(idx1 &idx2)\n",
    "\n",
    "        new_SAM_1_rule = test_set.iloc[idx]\n",
    "\n",
    "        new_SAM_1 = new_SAM_1_rule\n",
    "        new_SAM_0 = test_set.drop(index = new_SAM_1.index)\n",
    "\n",
    "        if (new_SAM_0.shape[0]+new_SAM_1.shape[0])!=test_set.shape[0]:\n",
    "            raise ValueError(\"new SAM 0 and new SAM 1 overlapped!\")\n",
    "        TP = new_SAM_1[new_SAM_1['TO_SAR']!=0].shape[0]\n",
    "        TN = new_SAM_0[new_SAM_0['TO_SAR']==0].shape[0]\n",
    "        FP = new_SAM_1[new_SAM_1['TO_SAR']==0].shape[0]\n",
    "        FN = new_SAM_0[new_SAM_0['TO_SAR']!=0].shape[0]\n",
    "        total = test_set.shape[0]\n",
    "        results = results.append({'Debit_Amt_1Day':thre1,'Credit_Amt':thre2,  \\\n",
    "                                  'debit/credit':thre3, \\\n",
    "                                  'SAR':test_set[test_set['TO_SAR']!=0].shape[0], \\\n",
    "                                  'Non SAR':test_set[test_set['TO_SAR']==0].shape[0],\\\n",
    "                                  'newSAM=1_SAR=1(TP)':TP, 'newSAM=1_SAR=0(FP)':FP, 'newSAM=0_SAR=1(FN)':FN,\\\n",
    "                                  'newSAM=0_SAR=0(TN)':TN, 'recall': str(round(TP/(TP+FN), 4)),\\\n",
    "                                  'filter rate':str((round((TN+FN)/total, 4)))}, ignore_index = True)\n"
   ]
  },
  {
   "cell_type": "code",
   "execution_count": 522,
   "metadata": {},
   "outputs": [
    {
     "data": {
      "text/html": [
       "<div>\n",
       "<style scoped>\n",
       "    .dataframe tbody tr th:only-of-type {\n",
       "        vertical-align: middle;\n",
       "    }\n",
       "\n",
       "    .dataframe tbody tr th {\n",
       "        vertical-align: top;\n",
       "    }\n",
       "\n",
       "    .dataframe thead th {\n",
       "        text-align: right;\n",
       "    }\n",
       "</style>\n",
       "<table border=\"1\" class=\"dataframe\">\n",
       "  <thead>\n",
       "    <tr style=\"text-align: right;\">\n",
       "      <th></th>\n",
       "      <th>Debit_Amt_1Day</th>\n",
       "      <th>Credit_Amt</th>\n",
       "      <th>debit/credit</th>\n",
       "      <th>SAR</th>\n",
       "      <th>Non SAR</th>\n",
       "      <th>newSAM=1_SAR=1(TP)</th>\n",
       "      <th>newSAM=1_SAR=0(FP)</th>\n",
       "      <th>newSAM=0_SAR=1(FN)</th>\n",
       "      <th>newSAM=0_SAR=0(TN)</th>\n",
       "      <th>recall</th>\n",
       "      <th>filter rate</th>\n",
       "    </tr>\n",
       "  </thead>\n",
       "  <tbody>\n",
       "    <tr>\n",
       "      <th>99</th>\n",
       "      <td>719758</td>\n",
       "      <td>925800</td>\n",
       "      <td>0.855963</td>\n",
       "      <td>9</td>\n",
       "      <td>4287</td>\n",
       "      <td>8</td>\n",
       "      <td>2256</td>\n",
       "      <td>1</td>\n",
       "      <td>2031</td>\n",
       "      <td>0.8889</td>\n",
       "      <td>0.473</td>\n",
       "    </tr>\n",
       "    <tr>\n",
       "      <th>69</th>\n",
       "      <td>918084</td>\n",
       "      <td>1166400</td>\n",
       "      <td>0.855963</td>\n",
       "      <td>9</td>\n",
       "      <td>4287</td>\n",
       "      <td>8</td>\n",
       "      <td>1695</td>\n",
       "      <td>1</td>\n",
       "      <td>2592</td>\n",
       "      <td>0.8889</td>\n",
       "      <td>0.6036</td>\n",
       "    </tr>\n",
       "    <tr>\n",
       "      <th>29</th>\n",
       "      <td>1006684</td>\n",
       "      <td>1166400</td>\n",
       "      <td>0.855963</td>\n",
       "      <td>9</td>\n",
       "      <td>4287</td>\n",
       "      <td>8</td>\n",
       "      <td>1691</td>\n",
       "      <td>1</td>\n",
       "      <td>2596</td>\n",
       "      <td>0.8889</td>\n",
       "      <td>0.6045</td>\n",
       "    </tr>\n",
       "    <tr>\n",
       "      <th>79</th>\n",
       "      <td>719758</td>\n",
       "      <td>1166400</td>\n",
       "      <td>0.855963</td>\n",
       "      <td>9</td>\n",
       "      <td>4287</td>\n",
       "      <td>8</td>\n",
       "      <td>1695</td>\n",
       "      <td>1</td>\n",
       "      <td>2592</td>\n",
       "      <td>0.8889</td>\n",
       "      <td>0.6036</td>\n",
       "    </tr>\n",
       "    <tr>\n",
       "      <th>59</th>\n",
       "      <td>1006684</td>\n",
       "      <td>925800</td>\n",
       "      <td>0.855963</td>\n",
       "      <td>9</td>\n",
       "      <td>4287</td>\n",
       "      <td>8</td>\n",
       "      <td>1884</td>\n",
       "      <td>1</td>\n",
       "      <td>2403</td>\n",
       "      <td>0.8889</td>\n",
       "      <td>0.5596</td>\n",
       "    </tr>\n",
       "    <tr>\n",
       "      <th>49</th>\n",
       "      <td>719758</td>\n",
       "      <td>1244400</td>\n",
       "      <td>0.855963</td>\n",
       "      <td>9</td>\n",
       "      <td>4287</td>\n",
       "      <td>8</td>\n",
       "      <td>1641</td>\n",
       "      <td>1</td>\n",
       "      <td>2646</td>\n",
       "      <td>0.8889</td>\n",
       "      <td>0.6162</td>\n",
       "    </tr>\n",
       "    <tr>\n",
       "      <th>89</th>\n",
       "      <td>918084</td>\n",
       "      <td>925800</td>\n",
       "      <td>0.855963</td>\n",
       "      <td>9</td>\n",
       "      <td>4287</td>\n",
       "      <td>8</td>\n",
       "      <td>2224</td>\n",
       "      <td>1</td>\n",
       "      <td>2063</td>\n",
       "      <td>0.8889</td>\n",
       "      <td>0.4804</td>\n",
       "    </tr>\n",
       "    <tr>\n",
       "      <th>19</th>\n",
       "      <td>1073227</td>\n",
       "      <td>925800</td>\n",
       "      <td>0.855963</td>\n",
       "      <td>9</td>\n",
       "      <td>4287</td>\n",
       "      <td>8</td>\n",
       "      <td>1763</td>\n",
       "      <td>1</td>\n",
       "      <td>2524</td>\n",
       "      <td>0.8889</td>\n",
       "      <td>0.5878</td>\n",
       "    </tr>\n",
       "    <tr>\n",
       "      <th>9</th>\n",
       "      <td>719758</td>\n",
       "      <td>1349744</td>\n",
       "      <td>0.855963</td>\n",
       "      <td>9</td>\n",
       "      <td>4287</td>\n",
       "      <td>8</td>\n",
       "      <td>1583</td>\n",
       "      <td>1</td>\n",
       "      <td>2704</td>\n",
       "      <td>0.8889</td>\n",
       "      <td>0.6297</td>\n",
       "    </tr>\n",
       "    <tr>\n",
       "      <th>39</th>\n",
       "      <td>918084</td>\n",
       "      <td>1244400</td>\n",
       "      <td>0.855963</td>\n",
       "      <td>9</td>\n",
       "      <td>4287</td>\n",
       "      <td>8</td>\n",
       "      <td>1641</td>\n",
       "      <td>1</td>\n",
       "      <td>2646</td>\n",
       "      <td>0.8889</td>\n",
       "      <td>0.6162</td>\n",
       "    </tr>\n",
       "  </tbody>\n",
       "</table>\n",
       "</div>"
      ],
      "text/plain": [
       "   Debit_Amt_1Day Credit_Amt  debit/credit SAR Non SAR newSAM=1_SAR=1(TP)  \\\n",
       "99         719758     925800      0.855963   9    4287                  8   \n",
       "69         918084    1166400      0.855963   9    4287                  8   \n",
       "29        1006684    1166400      0.855963   9    4287                  8   \n",
       "79         719758    1166400      0.855963   9    4287                  8   \n",
       "59        1006684     925800      0.855963   9    4287                  8   \n",
       "49         719758    1244400      0.855963   9    4287                  8   \n",
       "89         918084     925800      0.855963   9    4287                  8   \n",
       "19        1073227     925800      0.855963   9    4287                  8   \n",
       "9          719758    1349744      0.855963   9    4287                  8   \n",
       "39         918084    1244400      0.855963   9    4287                  8   \n",
       "\n",
       "   newSAM=1_SAR=0(FP) newSAM=0_SAR=1(FN) newSAM=0_SAR=0(TN)  recall  \\\n",
       "99               2256                  1               2031  0.8889   \n",
       "69               1695                  1               2592  0.8889   \n",
       "29               1691                  1               2596  0.8889   \n",
       "79               1695                  1               2592  0.8889   \n",
       "59               1884                  1               2403  0.8889   \n",
       "49               1641                  1               2646  0.8889   \n",
       "89               2224                  1               2063  0.8889   \n",
       "19               1763                  1               2524  0.8889   \n",
       "9                1583                  1               2704  0.8889   \n",
       "39               1641                  1               2646  0.8889   \n",
       "\n",
       "   filter rate  \n",
       "99       0.473  \n",
       "69      0.6036  \n",
       "29      0.6045  \n",
       "79      0.6036  \n",
       "59      0.5596  \n",
       "49      0.6162  \n",
       "89      0.4804  \n",
       "19      0.5878  \n",
       "9       0.6297  \n",
       "39      0.6162  "
      ]
     },
     "execution_count": 522,
     "metadata": {},
     "output_type": "execute_result"
    }
   ],
   "source": [
    "results = results.sort_values(by='recall', ascending=False)[:10]\n",
    "results"
   ]
  }
 ],
 "metadata": {
  "kernelspec": {
   "display_name": "Python 3",
   "language": "python",
   "name": "python3"
  },
  "language_info": {
   "codemirror_mode": {
    "name": "ipython",
    "version": 3
   },
   "file_extension": ".py",
   "mimetype": "text/x-python",
   "name": "python",
   "nbconvert_exporter": "python",
   "pygments_lexer": "ipython3",
   "version": "3.8.5"
  }
 },
 "nbformat": 4,
 "nbformat_minor": 4
}
