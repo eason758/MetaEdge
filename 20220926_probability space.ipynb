{
 "cells": [
  {
   "cell_type": "code",
   "execution_count": 9,
   "id": "817f4e23-5eff-4511-825b-e81f9d50b229",
   "metadata": {},
   "outputs": [],
   "source": [
    "%run ./function.ipynb"
   ]
  },
  {
   "cell_type": "code",
   "execution_count": 10,
   "id": "a710efed-f854-48a5-900b-32d8d80c75e1",
   "metadata": {},
   "outputs": [],
   "source": [
    "from mpl_toolkits import mplot3d\n",
    "import warnings # to supress the furturewarning\n",
    "warnings.simplefilter(action='ignore', category=FutureWarning)"
   ]
  },
  {
   "cell_type": "code",
   "execution_count": 11,
   "id": "58a58a5e-5f8a-4cec-a395-16049140d3f2",
   "metadata": {},
   "outputs": [
    {
     "data": {
      "text/plain": [
       "Index(['alert_id', 'run_date', 'primary_entity_level_code',\n",
       "       'primary_entity_number', 'scenario_name', 'TO_SAR', 'Acct_No',\n",
       "       'Cust_No', 'Cust_Key', 'Cust_Segmentation', 'Cust_Typ_Cd', 'Cust_Id_Id',\n",
       "       'Cust_Id_Typ_Desc', 'Cust_Id_State_Cd', 'Cust_Dt_Of_Birth',\n",
       "       'Cust_Sts_Desc', 'Street_Postal_Cd', 'Street_Cntry_Cd',\n",
       "       'Mailing_Postal_Cd', 'Mailing_Cntry_Cd', 'Residence_Cntry_Cd',\n",
       "       'Citizenship_Cntry_Cd', 'Org_Cntry_Of_Buz_Cd', 'Empl_No', 'Ocup_Code',\n",
       "       'job_title_code', 'Lst_Cont_Dt', 'Politically_Exposed_Pers_Ind',\n",
       "       'Non_Prft_Org_Ind', 'Cust_Since_Dt', 'Lst_Susp_Actv_Rpt_Dt',\n",
       "       'Extnl_Cust_Ind', 'Negative_News_Ind', 'Prim_Br_No', 'Obu_Ind',\n",
       "       'Riskclass_Cd', 'risk_score', 'last_risk_assessment_date',\n",
       "       'change_current_ind', 'change_begin_date', 'change_end_date',\n",
       "       'Credit_Amt', 'number_of_Credit', 'Debit_Amt', 'number_of_Debit'],\n",
       "      dtype='object')"
      ]
     },
     "execution_count": 11,
     "metadata": {},
     "output_type": "execute_result"
    }
   ],
   "source": [
    "PATH = 'D:/Temp/NCTU/crystal/第二階段/new_alert/日數分類_營業日/'\n",
    "FILE = 'TWN_A11_01_day15_with_aggregated_txn_scenario_txn_type_key_營業日.csv'\n",
    "df = pd.read_csv(PATH + FILE)\n",
    "df.columns"
   ]
  },
  {
   "cell_type": "code",
   "execution_count": 12,
   "id": "c59a0a23-e810-4af8-9261-cd6a97b75a48",
   "metadata": {},
   "outputs": [],
   "source": [
    "df['TO_SAR'] = df['TO_SAR'].replace(np.nan, 0)\n",
    "df['TO_SAR'] = df['TO_SAR'].replace('F', 1)\n",
    "df['TO_SAR'] = df['TO_SAR'].replace('NF', 1)"
   ]
  },
  {
   "cell_type": "code",
   "execution_count": 13,
   "id": "158e1188-0840-41af-8a71-33f1cd732841",
   "metadata": {},
   "outputs": [
    {
     "name": "stdout",
     "output_type": "stream",
     "text": [
      "Verify on time series\n",
      "shape of data: (86770, 39)\n",
      "total number of TO_SAR: 446\n",
      "********************************\n",
      "time interval in train set:2019-03-04~2020-04-29\n",
      "TO_SAR in train set: 267\n",
      "TO_SAR/Total in train set 0.005128599143312653\n",
      "split dataset to train, test...\n",
      "********************************\n",
      "time interval in test set:2020-02-19~2020-12-31\n",
      "TO_SAR in test set: 179\n",
      "TO_SAR/Total in test set 0.0051571638479933155\n",
      "********************************\n",
      "train data shape:  (52061, 38)\n",
      "test data shape:  (34709, 38)\n"
     ]
    }
   ],
   "source": [
    "SAR_type = 'TO_SAR'\n",
    "train_set, test_set = ReadFile(df, SAR_type)"
   ]
  },
  {
   "cell_type": "code",
   "execution_count": 14,
   "id": "cd889a15-4823-408b-9a2e-9a10ffbc22db",
   "metadata": {},
   "outputs": [],
   "source": [
    "SAR = train_set[train_set.TO_SAR!= 0]\n",
    "Non_SAR = train_set[train_set.TO_SAR== 0]"
   ]
  },
  {
   "cell_type": "code",
   "execution_count": null,
   "id": "eba36b6a-262f-4fce-b21a-7b187ccf4fd4",
   "metadata": {},
   "outputs": [
    {
     "name": "stdout",
     "output_type": "stream",
     "text": [
      "len of median: 17787\n",
      "len of median: 218\n"
     ]
    }
   ],
   "source": [
    "credit_amt_median = SplitMedian(train_set, 'Credit_Amt')\n",
    "number_credit_amt_median = SplitMedian(train_set, 'number_of_Credit')"
   ]
  },
  {
   "cell_type": "code",
   "execution_count": 15,
   "id": "3ec1285f-f38a-4370-9e35-b837c4d3d308",
   "metadata": {},
   "outputs": [],
   "source": [
    "# credit_amt_median = np.percentile(credit_amt_median, np.linspace(10, 100, 50))\n",
    "# number_of_credit_median = np.percentile(number_amt_median, np.linspace(10, 100, 50))"
   ]
  },
  {
   "cell_type": "code",
   "execution_count": null,
   "id": "638792d7-f39d-4970-9a53-2ed75d5141c7",
   "metadata": {},
   "outputs": [],
   "source": [
    "ent = pd.DataFrame(columns= ['credit_amt_median', 'number_of_credit_median', 'prob0', 'prob1'])\n",
    "father_entropy = Entropy(train_set, 'TO_SAR')\n",
    "total_cnt = train_set.shape[0]\n",
    "for i in range(len(credit_amt_median)):\n",
    "    for j in range(len(number_credit_amt_median)):\n",
    "        thre1 = credit_amt_median[i]\n",
    "        thre2 = number_credit_amt_median[j]\n",
    "        \n",
    "        idx1 = set(train_set[train_set['Credit_Amt'] >= thre1].index)\n",
    "        idx2 = set(train_set[train_set['number_of_Credit'] >= thre2].index)\n",
    "        \n",
    "        idx = list(idx1 & idx2)\n",
    "        new_sam_1 = train_set.iloc[idx]\n",
    "        new_sam_0 = train_set.drop(index= new_sam_1.index)\n",
    "        \n",
    "        prob0 = len(new_sam_0) / total_cnt\n",
    "        prob1 = len(new_sam_1) / total_cnt\n",
    "        \n",
    "        ent = ent.append({'credit_amt_median': thre1, 'number_of_credit_median': thre2, 'prob0': prob0, 'prob1': prob1}, ignore_index= True)"
   ]
  },
  {
   "cell_type": "code",
   "execution_count": null,
   "id": "3b7f674a-e4cc-40a4-8001-7f9425e82c84",
   "metadata": {},
   "outputs": [],
   "source": []
  }
 ],
 "metadata": {
  "kernelspec": {
   "display_name": "tf2",
   "language": "python",
   "name": "tensorflow"
  },
  "language_info": {
   "codemirror_mode": {
    "name": "ipython",
    "version": 3
   },
   "file_extension": ".py",
   "mimetype": "text/x-python",
   "name": "python",
   "nbconvert_exporter": "python",
   "pygments_lexer": "ipython3",
   "version": "3.8.13"
  }
 },
 "nbformat": 4,
 "nbformat_minor": 5
}
