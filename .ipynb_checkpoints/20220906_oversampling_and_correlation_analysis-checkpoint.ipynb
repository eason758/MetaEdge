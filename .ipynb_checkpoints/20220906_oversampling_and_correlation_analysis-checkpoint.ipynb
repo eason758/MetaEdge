{
 "cells": [
  {
   "cell_type": "code",
   "execution_count": 1,
   "metadata": {},
   "outputs": [],
   "source": [
    "%run ./function.ipynb"
   ]
  },
  {
   "cell_type": "code",
   "execution_count": 2,
   "metadata": {},
   "outputs": [
    {
     "data": {
      "text/plain": [
       "Index(['alert_id', 'run_date', 'primary_entity_level_code',\n",
       "       'primary_entity_number', 'scenario_name', 'TO_SAR', 'Acct_No',\n",
       "       'Cust_No', 'Cust_Key', 'Cust_Segmentation', 'Cust_Typ_Cd', 'Cust_Id_Id',\n",
       "       'Cust_Id_Typ_Desc', 'Cust_Id_State_Cd', 'Cust_Dt_Of_Birth',\n",
       "       'Cust_Sts_Desc', 'Street_Postal_Cd', 'Street_Cntry_Cd',\n",
       "       'Mailing_Postal_Cd', 'Mailing_Cntry_Cd', 'Residence_Cntry_Cd',\n",
       "       'Citizenship_Cntry_Cd', 'Org_Cntry_Of_Buz_Cd', 'Empl_No', 'Ocup_Code',\n",
       "       'job_title_code', 'Lst_Cont_Dt', 'Politically_Exposed_Pers_Ind',\n",
       "       'Non_Prft_Org_Ind', 'Cust_Since_Dt', 'Lst_Susp_Actv_Rpt_Dt',\n",
       "       'Extnl_Cust_Ind', 'Negative_News_Ind', 'Prim_Br_No', 'Obu_Ind',\n",
       "       'Riskclass_Cd', 'risk_score', 'last_risk_assessment_date',\n",
       "       'change_current_ind', 'change_begin_date', 'change_end_date',\n",
       "       'Credit_Amt', 'number_of_Credit', 'Debit_Amt', 'number_of_Debit'],\n",
       "      dtype='object')"
      ]
     },
     "execution_count": 2,
     "metadata": {},
     "output_type": "execute_result"
    }
   ],
   "source": [
    "PATH = 'D:/Temp/NCTU/crystal/第二階段/new_alert/日數分類_營業日/'\n",
    "FILE = 'TWN_A11_01_day15_with_aggregated_txn_scenario_txn_type_key_營業日.csv'\n",
    "df = pd.read_csv(PATH + FILE)\n",
    "df.columns"
   ]
  },
  {
   "cell_type": "code",
   "execution_count": 3,
   "metadata": {},
   "outputs": [],
   "source": [
    "df['TO_SAR'] = df['TO_SAR'].replace(np.nan, 0)\n",
    "df['TO_SAR'] = df['TO_SAR'].replace('F', 1)\n",
    "df['TO_SAR'] = df['TO_SAR'].replace('NF', 1)"
   ]
  },
  {
   "cell_type": "code",
   "execution_count": 4,
   "metadata": {},
   "outputs": [
    {
     "data": {
      "text/plain": [
       "0    86324\n",
       "1      446\n",
       "Name: TO_SAR, dtype: int64"
      ]
     },
     "execution_count": 4,
     "metadata": {},
     "output_type": "execute_result"
    }
   ],
   "source": [
    "df['TO_SAR'].value_counts()"
   ]
  },
  {
   "cell_type": "code",
   "execution_count": 5,
   "metadata": {},
   "outputs": [
    {
     "data": {
      "text/plain": [
       "(86770, 45)"
      ]
     },
     "execution_count": 5,
     "metadata": {},
     "output_type": "execute_result"
    }
   ],
   "source": [
    "df.shape"
   ]
  },
  {
   "cell_type": "code",
   "execution_count": 6,
   "metadata": {},
   "outputs": [
    {
     "name": "stdout",
     "output_type": "stream",
     "text": [
      "Verify on time series\n",
      "shape of data: (86770, 39)\n",
      "total number of TO_SAR: 446\n",
      "********************************\n",
      "time interval in train set:2019-03-04~2020-04-29\n",
      "TO_SAR in train set: 267\n",
      "TO_SAR/Total in train set 0.005128599143312653\n",
      "split dataset to train, test...\n",
      "********************************\n",
      "time interval in test set:2020-02-19~2020-12-31\n",
      "TO_SAR in test set: 179\n",
      "TO_SAR/Total in test set 0.0051571638479933155\n",
      "********************************\n",
      "train data shape:  (52061, 38)\n",
      "test data shape:  (34709, 38)\n"
     ]
    }
   ],
   "source": [
    "SAR_type = 'TO_SAR'\n",
    "train_set, test_set = ReadFile(df, SAR_type)"
   ]
  },
  {
   "cell_type": "code",
   "execution_count": 7,
   "metadata": {},
   "outputs": [],
   "source": [
    "SAR = train_set[train_set.TO_SAR!= 0]\n",
    "Non_SAR = train_set[train_set.TO_SAR== 0]"
   ]
  },
  {
   "cell_type": "markdown",
   "metadata": {},
   "source": [
    "## 分析 information gain 和 recall and filter rate 的關係"
   ]
  },
  {
   "cell_type": "markdown",
   "metadata": {
    "jp-MarkdownHeadingCollapsed": true,
    "tags": []
   },
   "source": [
    "### hreshold: 現金存款累積>=&1101_amount元"
   ]
  },
  {
   "cell_type": "code",
   "execution_count": 8,
   "metadata": {},
   "outputs": [],
   "source": [
    "import seaborn as sns"
   ]
  },
  {
   "cell_type": "code",
   "execution_count": 9,
   "metadata": {},
   "outputs": [
    {
     "name": "stdout",
     "output_type": "stream",
     "text": [
      "len of median: 17787\n"
     ]
    }
   ],
   "source": [
    "median = SplitMedian(train_set, 'Credit_Amt')"
   ]
  },
  {
   "cell_type": "code",
   "execution_count": 10,
   "metadata": {},
   "outputs": [
    {
     "data": {
      "text/plain": [
       "<AxesSubplot:xlabel='Credit_Amt'>"
      ]
     },
     "execution_count": 10,
     "metadata": {},
     "output_type": "execute_result"
    },
    {
     "data": {
      "image/png": "[encoded data removed]",
      "text/plain": [
       "<Figure size 640x480 with 1 Axes>"
      ]
     },
     "metadata": {},
     "output_type": "display_data"
    }
   ],
   "source": [
    "sns.boxplot(x= train_set['Credit_Amt'])"
   ]
  },
  {
   "cell_type": "code",
   "execution_count": 11,
   "metadata": {},
   "outputs": [],
   "source": [
    "# credit 存款, 小於等於{金額}留下, SAR=0 Credit_Amt值較大, upper bound\n",
    "# train set\n",
    "results = pd.DataFrame(columns = ['Credit_Amt', 'information gain','SAR', 'Non SAR','newSAM=1_SAR=1(TP)','newSAM=1_SAR=0(FP)',\\\n",
    "                                  'newSAM=0_SAR=1(FN)', 'newSAM=0_SAR=0(TN)', 'recall','filter rate'])\n",
    "\n",
    "father_entropy = Entropy(train_set, 'TO_SAR')\n",
    "for thre in median:\n",
    "#     new_SAM_1 = train_set[train_set['Credit_Amt']<= thre]\n",
    "#     new_SAM_0 = train_set[train_set['Credit_Amt']> thre]\n",
    "    \n",
    "    new_SAM_1 = train_set[train_set['Credit_Amt'] > thre]\n",
    "    new_SAM_0 = train_set[train_set['Credit_Amt']<= thre]\n",
    "    \n",
    "    TP = new_SAM_1[new_SAM_1['TO_SAR']!= 0].shape[0]\n",
    "    TN = new_SAM_0[new_SAM_0['TO_SAR']== 0].shape[0]\n",
    "    FP = new_SAM_1[new_SAM_1['TO_SAR']== 0].shape[0]\n",
    "    FN = new_SAM_0[new_SAM_0['TO_SAR']!= 0].shape[0]\n",
    "    total = train_set.shape[0]\n",
    "    \n",
    "    condition_entropy0 = Entropy(new_SAM_0, 'TO_SAR') * (len(new_SAM_0) / total)\n",
    "    condition_entropy1 = Entropy(new_SAM_1, 'TO_SAR') * (len(new_SAM_1) / total)\n",
    "    information_gain = father_entropy - (condition_entropy0 + condition_entropy1)\n",
    "    \n",
    "    results = results.append({'Credit_Amt':thre, 'information gain': information_gain, 'SAR':SAR.shape[0], \\\n",
    "                              'Non SAR':Non_SAR.shape[0],\\\n",
    "                              'newSAM=1_SAR=1(TP)':TP, 'newSAM=1_SAR=0(FP)':FP, 'newSAM=0_SAR=1(FN)':FN,\\\n",
    "                              'newSAM=0_SAR=0(TN)':TN, 'recall': str(round(TP/(TP+FN), 4)),\\\n",
    "                              'filter rate':str((round((TN+FN)/total, 4)))}, ignore_index = True)\n",
    "\n",
    "results = results.sort_values(by= 'information gain', ascending= False)"
   ]
  },
  {
   "cell_type": "code",
   "execution_count": 13,
   "metadata": {},
   "outputs": [],
   "source": [
    "results['recall'] = results['recall'].astype('float')\n",
    "results['filter rate'] = results['filter rate'].astype('float')"
   ]
  },
  {
   "cell_type": "code",
   "execution_count": 14,
   "metadata": {},
   "outputs": [
    {
     "data": {
      "text/html": [
       "<div>\n",
       "<style scoped>\n",
       "    .dataframe tbody tr th:only-of-type {\n",
       "        vertical-align: middle;\n",
       "    }\n",
       "\n",
       "    .dataframe tbody tr th {\n",
       "        vertical-align: top;\n",
       "    }\n",
       "\n",
       "    .dataframe thead th {\n",
       "        text-align: right;\n",
       "    }\n",
       "</style>\n",
       "<table border=\"1\" class=\"dataframe\">\n",
       "  <thead>\n",
       "    <tr style=\"text-align: right;\">\n",
       "      <th></th>\n",
       "      <th>Credit_Amt</th>\n",
       "      <th>information gain</th>\n",
       "      <th>SAR</th>\n",
       "      <th>Non SAR</th>\n",
       "      <th>newSAM=1_SAR=1(TP)</th>\n",
       "      <th>newSAM=1_SAR=0(FP)</th>\n",
       "      <th>newSAM=0_SAR=1(FN)</th>\n",
       "      <th>newSAM=0_SAR=0(TN)</th>\n",
       "      <th>recall</th>\n",
       "      <th>filter rate</th>\n",
       "    </tr>\n",
       "  </thead>\n",
       "  <tbody>\n",
       "  </tbody>\n",
       "</table>\n",
       "</div>"
      ],
      "text/plain": [
       "Empty DataFrame\n",
       "Columns: [Credit_Amt, information gain, SAR, Non SAR, newSAM=1_SAR=1(TP), newSAM=1_SAR=0(FP), newSAM=0_SAR=1(FN), newSAM=0_SAR=0(TN), recall, filter rate]\n",
       "Index: []"
      ]
     },
     "execution_count": 14,
     "metadata": {},
     "output_type": "execute_result"
    }
   ],
   "source": [
    "results['recall'] = results['recall'].astype('float')\n",
    "results[results['recall']>0.9].sort_values(by= 'information gain', ascending= False)"
   ]
  },
  {
   "cell_type": "code",
   "execution_count": 15,
   "metadata": {},
   "outputs": [
    {
     "data": {
      "text/html": [
       "<div>\n",
       "<style scoped>\n",
       "    .dataframe tbody tr th:only-of-type {\n",
       "        vertical-align: middle;\n",
       "    }\n",
       "\n",
       "    .dataframe tbody tr th {\n",
       "        vertical-align: top;\n",
       "    }\n",
       "\n",
       "    .dataframe thead th {\n",
       "        text-align: right;\n",
       "    }\n",
       "</style>\n",
       "<table border=\"1\" class=\"dataframe\">\n",
       "  <thead>\n",
       "    <tr style=\"text-align: right;\">\n",
       "      <th></th>\n",
       "      <th>Credit_Amt</th>\n",
       "      <th>information gain</th>\n",
       "      <th>recall</th>\n",
       "      <th>filter rate</th>\n",
       "    </tr>\n",
       "  </thead>\n",
       "  <tbody>\n",
       "    <tr>\n",
       "      <th>Credit_Amt</th>\n",
       "      <td>1.000000</td>\n",
       "      <td>-0.684741</td>\n",
       "      <td>-0.676717</td>\n",
       "      <td>0.714078</td>\n",
       "    </tr>\n",
       "    <tr>\n",
       "      <th>information gain</th>\n",
       "      <td>-0.684741</td>\n",
       "      <td>1.000000</td>\n",
       "      <td>0.906222</td>\n",
       "      <td>-0.964898</td>\n",
       "    </tr>\n",
       "    <tr>\n",
       "      <th>recall</th>\n",
       "      <td>-0.676717</td>\n",
       "      <td>0.906222</td>\n",
       "      <td>1.000000</td>\n",
       "      <td>-0.983944</td>\n",
       "    </tr>\n",
       "    <tr>\n",
       "      <th>filter rate</th>\n",
       "      <td>0.714078</td>\n",
       "      <td>-0.964898</td>\n",
       "      <td>-0.983944</td>\n",
       "      <td>1.000000</td>\n",
       "    </tr>\n",
       "  </tbody>\n",
       "</table>\n",
       "</div>"
      ],
      "text/plain": [
       "                  Credit_Amt  information gain    recall  filter rate\n",
       "Credit_Amt          1.000000         -0.684741 -0.676717     0.714078\n",
       "information gain   -0.684741          1.000000  0.906222    -0.964898\n",
       "recall             -0.676717          0.906222  1.000000    -0.983944\n",
       "filter rate         0.714078         -0.964898 -0.983944     1.000000"
      ]
     },
     "execution_count": 15,
     "metadata": {},
     "output_type": "execute_result"
    }
   ],
   "source": [
    "results['filter rate'] = results['filter rate'].astype('float')\n",
    "results.loc[:, ['Credit_Amt' ,'information gain', 'recall', 'filter rate']].corr()"
   ]
  },
  {
   "cell_type": "code",
   "execution_count": 110,
   "metadata": {},
   "outputs": [
    {
     "data": {
      "text/plain": [
       "<AxesSubplot:xlabel='TO_SAR', ylabel='Credit_Amt'>"
      ]
     },
     "execution_count": 110,
     "metadata": {},
     "output_type": "execute_result"
    },
    {
     "data": {
      "image/png": "[encoded data removed]",
      "text/plain": [
       "<Figure size 432x288 with 1 Axes>"
      ]
     },
     "metadata": {
      "needs_background": "light"
     },
     "output_type": "display_data"
    }
   ],
   "source": [
    "sns.boxplot(x= train_set['TO_SAR'], y= train_set['Credit_Amt'])"
   ]
  },
  {
   "cell_type": "code",
   "execution_count": 26,
   "metadata": {},
   "outputs": [
    {
     "data": {
      "text/html": [
       "<div>\n",
       "<style scoped>\n",
       "    .dataframe tbody tr th:only-of-type {\n",
       "        vertical-align: middle;\n",
       "    }\n",
       "\n",
       "    .dataframe tbody tr th {\n",
       "        vertical-align: top;\n",
       "    }\n",
       "\n",
       "    .dataframe thead th {\n",
       "        text-align: right;\n",
       "    }\n",
       "</style>\n",
       "<table border=\"1\" class=\"dataframe\">\n",
       "  <thead>\n",
       "    <tr style=\"text-align: right;\">\n",
       "      <th></th>\n",
       "      <th>Credit_Amt</th>\n",
       "      <th>information gain</th>\n",
       "      <th>SAR</th>\n",
       "      <th>Non SAR</th>\n",
       "      <th>newSAM=1_SAR=1(TP)</th>\n",
       "      <th>newSAM=1_SAR=0(FP)</th>\n",
       "      <th>newSAM=0_SAR=1(FN)</th>\n",
       "      <th>newSAM=0_SAR=0(TN)</th>\n",
       "      <th>recall</th>\n",
       "      <th>filter rate</th>\n",
       "    </tr>\n",
       "  </thead>\n",
       "  <tbody>\n",
       "    <tr>\n",
       "      <th>17126</th>\n",
       "      <td>5461310.00</td>\n",
       "      <td>1.424894e-07</td>\n",
       "      <td>267</td>\n",
       "      <td>51794</td>\n",
       "      <td>4</td>\n",
       "      <td>776</td>\n",
       "      <td>263</td>\n",
       "      <td>51017</td>\n",
       "      <td>0.0150</td>\n",
       "      <td>0.9850</td>\n",
       "    </tr>\n",
       "    <tr>\n",
       "      <th>17127</th>\n",
       "      <td>5463102.50</td>\n",
       "      <td>1.425685e-07</td>\n",
       "      <td>267</td>\n",
       "      <td>51794</td>\n",
       "      <td>4</td>\n",
       "      <td>775</td>\n",
       "      <td>263</td>\n",
       "      <td>51018</td>\n",
       "      <td>0.0150</td>\n",
       "      <td>0.9850</td>\n",
       "    </tr>\n",
       "    <tr>\n",
       "      <th>17125</th>\n",
       "      <td>5460457.50</td>\n",
       "      <td>1.425962e-07</td>\n",
       "      <td>267</td>\n",
       "      <td>51794</td>\n",
       "      <td>4</td>\n",
       "      <td>777</td>\n",
       "      <td>263</td>\n",
       "      <td>51016</td>\n",
       "      <td>0.0150</td>\n",
       "      <td>0.9850</td>\n",
       "    </tr>\n",
       "    <tr>\n",
       "      <th>17128</th>\n",
       "      <td>5464750.00</td>\n",
       "      <td>1.428340e-07</td>\n",
       "      <td>267</td>\n",
       "      <td>51794</td>\n",
       "      <td>4</td>\n",
       "      <td>774</td>\n",
       "      <td>263</td>\n",
       "      <td>51019</td>\n",
       "      <td>0.0150</td>\n",
       "      <td>0.9850</td>\n",
       "    </tr>\n",
       "    <tr>\n",
       "      <th>17124</th>\n",
       "      <td>5455000.00</td>\n",
       "      <td>1.428885e-07</td>\n",
       "      <td>267</td>\n",
       "      <td>51794</td>\n",
       "      <td>4</td>\n",
       "      <td>778</td>\n",
       "      <td>263</td>\n",
       "      <td>51015</td>\n",
       "      <td>0.0150</td>\n",
       "      <td>0.9850</td>\n",
       "    </tr>\n",
       "    <tr>\n",
       "      <th>...</th>\n",
       "      <td>...</td>\n",
       "      <td>...</td>\n",
       "      <td>...</td>\n",
       "      <td>...</td>\n",
       "      <td>...</td>\n",
       "      <td>...</td>\n",
       "      <td>...</td>\n",
       "      <td>...</td>\n",
       "      <td>...</td>\n",
       "      <td>...</td>\n",
       "    </tr>\n",
       "    <tr>\n",
       "      <th>3617</th>\n",
       "      <td>994174.00</td>\n",
       "      <td>8.848869e-04</td>\n",
       "      <td>267</td>\n",
       "      <td>51794</td>\n",
       "      <td>61</td>\n",
       "      <td>24086</td>\n",
       "      <td>206</td>\n",
       "      <td>27707</td>\n",
       "      <td>0.2285</td>\n",
       "      <td>0.5362</td>\n",
       "    </tr>\n",
       "    <tr>\n",
       "      <th>3616</th>\n",
       "      <td>994100.00</td>\n",
       "      <td>8.850221e-04</td>\n",
       "      <td>267</td>\n",
       "      <td>51794</td>\n",
       "      <td>61</td>\n",
       "      <td>24087</td>\n",
       "      <td>206</td>\n",
       "      <td>27706</td>\n",
       "      <td>0.2285</td>\n",
       "      <td>0.5361</td>\n",
       "    </tr>\n",
       "    <tr>\n",
       "      <th>3615</th>\n",
       "      <td>994050.26</td>\n",
       "      <td>8.851573e-04</td>\n",
       "      <td>267</td>\n",
       "      <td>51794</td>\n",
       "      <td>61</td>\n",
       "      <td>24088</td>\n",
       "      <td>206</td>\n",
       "      <td>27705</td>\n",
       "      <td>0.2285</td>\n",
       "      <td>0.5361</td>\n",
       "    </tr>\n",
       "    <tr>\n",
       "      <th>3614</th>\n",
       "      <td>994035.76</td>\n",
       "      <td>8.852925e-04</td>\n",
       "      <td>267</td>\n",
       "      <td>51794</td>\n",
       "      <td>61</td>\n",
       "      <td>24089</td>\n",
       "      <td>206</td>\n",
       "      <td>27704</td>\n",
       "      <td>0.2285</td>\n",
       "      <td>0.5361</td>\n",
       "    </tr>\n",
       "    <tr>\n",
       "      <th>3613</th>\n",
       "      <td>994015.50</td>\n",
       "      <td>8.854277e-04</td>\n",
       "      <td>267</td>\n",
       "      <td>51794</td>\n",
       "      <td>61</td>\n",
       "      <td>24090</td>\n",
       "      <td>206</td>\n",
       "      <td>27703</td>\n",
       "      <td>0.2285</td>\n",
       "      <td>0.5361</td>\n",
       "    </tr>\n",
       "  </tbody>\n",
       "</table>\n",
       "<p>17787 rows × 10 columns</p>\n",
       "</div>"
      ],
      "text/plain": [
       "       Credit_Amt  information gain  SAR Non SAR newSAM=1_SAR=1(TP)  \\\n",
       "17126  5461310.00      1.424894e-07  267   51794                  4   \n",
       "17127  5463102.50      1.425685e-07  267   51794                  4   \n",
       "17125  5460457.50      1.425962e-07  267   51794                  4   \n",
       "17128  5464750.00      1.428340e-07  267   51794                  4   \n",
       "17124  5455000.00      1.428885e-07  267   51794                  4   \n",
       "...           ...               ...  ...     ...                ...   \n",
       "3617    994174.00      8.848869e-04  267   51794                 61   \n",
       "3616    994100.00      8.850221e-04  267   51794                 61   \n",
       "3615    994050.26      8.851573e-04  267   51794                 61   \n",
       "3614    994035.76      8.852925e-04  267   51794                 61   \n",
       "3613    994015.50      8.854277e-04  267   51794                 61   \n",
       "\n",
       "      newSAM=1_SAR=0(FP) newSAM=0_SAR=1(FN) newSAM=0_SAR=0(TN)  recall  \\\n",
       "17126                776                263              51017  0.0150   \n",
       "17127                775                263              51018  0.0150   \n",
       "17125                777                263              51016  0.0150   \n",
       "17128                774                263              51019  0.0150   \n",
       "17124                778                263              51015  0.0150   \n",
       "...                  ...                ...                ...     ...   \n",
       "3617               24086                206              27707  0.2285   \n",
       "3616               24087                206              27706  0.2285   \n",
       "3615               24088                206              27705  0.2285   \n",
       "3614               24089                206              27704  0.2285   \n",
       "3613               24090                206              27703  0.2285   \n",
       "\n",
       "       filter rate  \n",
       "17126       0.9850  \n",
       "17127       0.9850  \n",
       "17125       0.9850  \n",
       "17128       0.9850  \n",
       "17124       0.9850  \n",
       "...            ...  \n",
       "3617        0.5362  \n",
       "3616        0.5361  \n",
       "3615        0.5361  \n",
       "3614        0.5361  \n",
       "3613        0.5361  \n",
       "\n",
       "[17787 rows x 10 columns]"
      ]
     },
     "execution_count": 26,
     "metadata": {},
     "output_type": "execute_result"
    }
   ],
   "source": [
    "results.sort_values(by= 'information gain')"
   ]
  },
  {
   "cell_type": "code",
   "execution_count": 25,
   "metadata": {},
   "outputs": [
    {
     "data": {
      "text/plain": [
       "<AxesSubplot:xlabel='Credit_Amt', ylabel='information gain'>"
      ]
     },
     "execution_count": 25,
     "metadata": {},
     "output_type": "execute_result"
    },
    {
     "data": {
      "image/png": "[encoded data removed]",
      "text/plain": [
       "<Figure size 432x288 with 1 Axes>"
      ]
     },
     "metadata": {
      "needs_background": "light"
     },
     "output_type": "display_data"
    }
   ],
   "source": [
    "sns.scatterplot(x= results.loc[results['Credit_Amt']<2e6, 'Credit_Amt'], y= results['information gain'])"
   ]
  },
  {
   "cell_type": "code",
   "execution_count": 17,
   "metadata": {},
   "outputs": [
    {
     "data": {
      "image/png": "[encoded data removed]",
      "text/plain": [
       "<Figure size 432x288 with 1 Axes>"
      ]
     },
     "metadata": {
      "needs_background": "light"
     },
     "output_type": "display_data"
    }
   ],
   "source": [
    "sns.scatterplot(x= results['Credit_Amt'], y= results['information gain'])\n",
    "#plt.savefig('C:/Users/NCTUUser2/Desktop/threshold_information_gain.png')\n",
    "plt.show()"
   ]
  },
  {
   "cell_type": "code",
   "execution_count": 18,
   "metadata": {},
   "outputs": [
    {
     "data": {
      "image/png": "[encoded data removed]",
      "text/plain": [
       "<Figure size 432x288 with 1 Axes>"
      ]
     },
     "metadata": {
      "needs_background": "light"
     },
     "output_type": "display_data"
    }
   ],
   "source": [
    "sns.scatterplot(x= results['Credit_Amt'], y= results['recall'])\n",
    "plt.savefig('C:/Users/NCTUUser2/Desktop/threshold_recall.png')\n",
    "plt.show()"
   ]
  },
  {
   "cell_type": "code",
   "execution_count": 81,
   "metadata": {},
   "outputs": [
    {
     "data": {
      "image/png": "[encoded data removed]",
      "text/plain": [
       "<Figure size 432x288 with 1 Axes>"
      ]
     },
     "metadata": {
      "needs_background": "light"
     },
     "output_type": "display_data"
    }
   ],
   "source": [
    "sns.scatterplot(x= results['Credit_Amt'], y= results['filter rate'])\n",
    "plt.savefig('C:/Users/NCTUUser2/Desktop/threshold_filter_rate.png')\n",
    "plt.show()"
   ]
  },
  {
   "cell_type": "code",
   "execution_count": 82,
   "metadata": {},
   "outputs": [
    {
     "data": {
      "image/png": "[encoded data removed]",
      "text/plain": [
       "<Figure size 432x288 with 1 Axes>"
      ]
     },
     "metadata": {
      "needs_background": "light"
     },
     "output_type": "display_data"
    }
   ],
   "source": [
    "sns.scatterplot(x= results['information gain'], y= results['recall'])\n",
    "plt.savefig('C:/Users/NCTUUser2/Desktop/information_gain_recall.png')\n",
    "plt.show()"
   ]
  },
  {
   "cell_type": "code",
   "execution_count": 83,
   "metadata": {},
   "outputs": [
    {
     "data": {
      "image/png": "[encoded data removed]",
      "text/plain": [
       "<Figure size 432x288 with 1 Axes>"
      ]
     },
     "metadata": {
      "needs_background": "light"
     },
     "output_type": "display_data"
    }
   ],
   "source": [
    "sns.scatterplot(x= results['information gain'], y= results['filter rate'])\n",
    "plt.savefig('C:/Users/NCTUUser2/Desktop/information_gain_filter_rate.png')\n",
    "plt.show()"
   ]
  },
  {
   "cell_type": "code",
   "execution_count": 84,
   "metadata": {},
   "outputs": [
    {
     "data": {
      "image/png": "[encoded data removed]",
      "text/plain": [
       "<Figure size 432x288 with 1 Axes>"
      ]
     },
     "metadata": {
      "needs_background": "light"
     },
     "output_type": "display_data"
    }
   ],
   "source": [
    "sns.scatterplot(x= results['recall'], y= results['filter rate'])\n",
    "plt.savefig('C:/Users/NCTUUser2/Desktop/recall_filter_rate.png')\n",
    "plt.show()"
   ]
  },
  {
   "cell_type": "code",
   "execution_count": 16,
   "metadata": {},
   "outputs": [
    {
     "data": {
      "text/plain": [
       "<AxesSubplot:xlabel='information gain'>"
      ]
     },
     "execution_count": 16,
     "metadata": {},
     "output_type": "execute_result"
    },
    {
     "data": {
      "image/png": "[encoded data removed]",
      "text/plain": [
       "<Figure size 432x288 with 1 Axes>"
      ]
     },
     "metadata": {
      "needs_background": "light"
     },
     "output_type": "display_data"
    }
   ],
   "source": [
    "sns.boxplot(x = results['information gain'])"
   ]
  },
  {
   "cell_type": "code",
   "execution_count": 17,
   "metadata": {},
   "outputs": [
    {
     "data": {
      "text/plain": [
       "<AxesSubplot:xlabel='information gain', ylabel='Count'>"
      ]
     },
     "execution_count": 17,
     "metadata": {},
     "output_type": "execute_result"
    },
    {
     "data": {
      "image/png": "[encoded data removed]",
      "text/plain": [
       "<Figure size 432x288 with 1 Axes>"
      ]
     },
     "metadata": {
      "needs_background": "light"
     },
     "output_type": "display_data"
    }
   ],
   "source": [
    "sns.histplot(x= results['information gain'])"
   ]
  },
  {
   "cell_type": "code",
   "execution_count": 21,
   "metadata": {},
   "outputs": [
    {
     "data": {
      "text/plain": [
       "<AxesSubplot:xlabel='recall', ylabel='information gain'>"
      ]
     },
     "execution_count": 21,
     "metadata": {},
     "output_type": "execute_result"
    },
    {
     "data": {
      "image/png": "[encoded data removed]",
      "text/plain": [
       "<Figure size 432x288 with 1 Axes>"
      ]
     },
     "metadata": {
      "needs_background": "light"
     },
     "output_type": "display_data"
    }
   ],
   "source": [
    "sns.scatterplot(x= 'recall', y= 'information gain', data= results)"
   ]
  },
  {
   "cell_type": "code",
   "execution_count": 22,
   "metadata": {},
   "outputs": [
    {
     "data": {
      "text/plain": [
       "<AxesSubplot:xlabel='recall', ylabel='information gain'>"
      ]
     },
     "execution_count": 22,
     "metadata": {},
     "output_type": "execute_result"
    },
    {
     "data": {
      "image/png": "[encoded data removed]",
      "text/plain": [
       "<Figure size 432x288 with 1 Axes>"
      ]
     },
     "metadata": {
      "needs_background": "light"
     },
     "output_type": "display_data"
    }
   ],
   "source": [
    "data = results[results['recall']> 0.9]\n",
    "sns.scatterplot(x= 'recall', y= 'information gain', data = data)"
   ]
  },
  {
   "cell_type": "code",
   "execution_count": 19,
   "metadata": {},
   "outputs": [
    {
     "data": {
      "text/plain": [
       "<AxesSubplot:xlabel='filter rate', ylabel='information gain'>"
      ]
     },
     "execution_count": 19,
     "metadata": {},
     "output_type": "execute_result"
    },
    {
     "data": {
      "image/png": "[encoded data removed]",
      "text/plain": [
       "<Figure size 432x288 with 1 Axes>"
      ]
     },
     "metadata": {
      "needs_background": "light"
     },
     "output_type": "display_data"
    }
   ],
   "source": [
    "sns.scatterplot(x = 'filter rate', y= 'information gain', data= results)"
   ]
  },
  {
   "cell_type": "code",
   "execution_count": 20,
   "metadata": {},
   "outputs": [
    {
     "data": {
      "text/plain": [
       "<AxesSubplot:xlabel='recall', ylabel='filter rate'>"
      ]
     },
     "execution_count": 20,
     "metadata": {},
     "output_type": "execute_result"
    },
    {
     "data": {
      "image/png": "[encoded data removed]",
      "text/plain": [
       "<Figure size 432x288 with 1 Axes>"
      ]
     },
     "metadata": {
      "needs_background": "light"
     },
     "output_type": "display_data"
    }
   ],
   "source": [
    "sns.scatterplot(x= 'recall', y= 'filter rate', data= results)"
   ]
  },
  {
   "cell_type": "code",
   "execution_count": 21,
   "metadata": {},
   "outputs": [
    {
     "data": {
      "text/plain": [
       "<AxesSubplot:xlabel='recall', ylabel='filter rate'>"
      ]
     },
     "execution_count": 21,
     "metadata": {},
     "output_type": "execute_result"
    },
    {
     "data": {
      "image/png": "[encoded data removed]",
      "text/plain": [
       "<Figure size 432x288 with 1 Axes>"
      ]
     },
     "metadata": {
      "needs_background": "light"
     },
     "output_type": "display_data"
    }
   ],
   "source": [
    "data = results[results['recall']> 0.9]\n",
    "sns.scatterplot(x= 'recall', y= 'filter rate', data= results)"
   ]
  },
  {
   "cell_type": "code",
   "execution_count": 61,
   "metadata": {},
   "outputs": [
    {
     "data": {
      "text/plain": [
       "<AxesSubplot:xlabel='threshold', ylabel='recall'>"
      ]
     },
     "execution_count": 61,
     "metadata": {},
     "output_type": "execute_result"
    },
    {
     "data": {
      "image/png": "[encoded data removed]",
      "text/plain": [
       "<Figure size 432x288 with 1 Axes>"
      ]
     },
     "metadata": {
      "needs_background": "light"
     },
     "output_type": "display_data"
    }
   ],
   "source": [
    "#sns.scatterplot(x= 'threshold', y= 'information gain', data= data)\n",
    "sns.scatterplot(x= 'threshold', y= 'recall', data= data)\n",
    "sns.scatterplot(x= 'threshold', y= 'filter rate', data= data)"
   ]
  },
  {
   "cell_type": "code",
   "execution_count": 53,
   "metadata": {},
   "outputs": [],
   "source": [
    "feature = 'Credit_Amt'\n",
    "label = 1\n",
    "day = 15"
   ]
  },
  {
   "cell_type": "code",
   "execution_count": 58,
   "metadata": {},
   "outputs": [
    {
     "data": {
      "image/png": "[encoded data removed]",
      "text/plain": [
       "<Figure size 360x360 with 1 Axes>"
      ]
     },
     "metadata": {
      "needs_background": "light"
     },
     "output_type": "display_data"
    }
   ],
   "source": [
    "plt.figure(figsize= (5, 5))\n",
    "plt.scatter(data['threshold'], data['information gain'])\n",
    "#plt.scatter(data['threshold'], data['filter rate'], c= 'g')\n",
    "plt.title('distribution of {} of SAR={} in past {} days'.format(feature, label, day))\n",
    "plt.xlabel(\"{} in past {} days\".format(feature, day))\n",
    "plt.ylabel('number of data')\n",
    "plt.show()"
   ]
  },
  {
   "cell_type": "markdown",
   "metadata": {
    "jp-MarkdownHeadingCollapsed": true,
    "tags": []
   },
   "source": [
    "### threshold: 現金存款累計次數>=&1101_trans_num次"
   ]
  },
  {
   "cell_type": "code",
   "execution_count": 18,
   "metadata": {},
   "outputs": [
    {
     "name": "stdout",
     "output_type": "stream",
     "text": [
      "len of median: 218\n"
     ]
    }
   ],
   "source": [
    "median = SplitMedian(train_set, 'number_of_Credit')"
   ]
  },
  {
   "cell_type": "code",
   "execution_count": 19,
   "metadata": {},
   "outputs": [
    {
     "data": {
      "text/html": [
       "<div>\n",
       "<style scoped>\n",
       "    .dataframe tbody tr th:only-of-type {\n",
       "        vertical-align: middle;\n",
       "    }\n",
       "\n",
       "    .dataframe tbody tr th {\n",
       "        vertical-align: top;\n",
       "    }\n",
       "\n",
       "    .dataframe thead th {\n",
       "        text-align: right;\n",
       "    }\n",
       "</style>\n",
       "<table border=\"1\" class=\"dataframe\">\n",
       "  <thead>\n",
       "    <tr style=\"text-align: right;\">\n",
       "      <th></th>\n",
       "      <th>threshold</th>\n",
       "      <th>information gain</th>\n",
       "      <th>SAR</th>\n",
       "      <th>Non SAR</th>\n",
       "      <th>newSAM=1_SAR=1(TP)</th>\n",
       "      <th>newSAM=1_SAR=0(FP)</th>\n",
       "      <th>newSAM=0_SAR=1(FN)</th>\n",
       "      <th>newSAM=0_SAR=0(TN)</th>\n",
       "      <th>recall</th>\n",
       "      <th>filter rate</th>\n",
       "    </tr>\n",
       "  </thead>\n",
       "  <tbody>\n",
       "    <tr>\n",
       "      <th>0</th>\n",
       "      <td>0.5</td>\n",
       "      <td>8.311732e-04</td>\n",
       "      <td>267</td>\n",
       "      <td>51794</td>\n",
       "      <td>109</td>\n",
       "      <td>33269</td>\n",
       "      <td>158</td>\n",
       "      <td>18524</td>\n",
       "      <td>0.4082</td>\n",
       "      <td>0.3588</td>\n",
       "    </tr>\n",
       "    <tr>\n",
       "      <th>3</th>\n",
       "      <td>3.5</td>\n",
       "      <td>7.456811e-04</td>\n",
       "      <td>267</td>\n",
       "      <td>51794</td>\n",
       "      <td>85</td>\n",
       "      <td>28050</td>\n",
       "      <td>182</td>\n",
       "      <td>23743</td>\n",
       "      <td>0.3184</td>\n",
       "      <td>0.4596</td>\n",
       "    </tr>\n",
       "    <tr>\n",
       "      <th>2</th>\n",
       "      <td>2.5</td>\n",
       "      <td>6.961608e-04</td>\n",
       "      <td>267</td>\n",
       "      <td>51794</td>\n",
       "      <td>92</td>\n",
       "      <td>29045</td>\n",
       "      <td>175</td>\n",
       "      <td>22748</td>\n",
       "      <td>0.3446</td>\n",
       "      <td>0.4403</td>\n",
       "    </tr>\n",
       "    <tr>\n",
       "      <th>1</th>\n",
       "      <td>1.5</td>\n",
       "      <td>6.601159e-04</td>\n",
       "      <td>267</td>\n",
       "      <td>51794</td>\n",
       "      <td>100</td>\n",
       "      <td>30305</td>\n",
       "      <td>167</td>\n",
       "      <td>21488</td>\n",
       "      <td>0.3745</td>\n",
       "      <td>0.416</td>\n",
       "    </tr>\n",
       "    <tr>\n",
       "      <th>4</th>\n",
       "      <td>4.5</td>\n",
       "      <td>6.397640e-04</td>\n",
       "      <td>267</td>\n",
       "      <td>51794</td>\n",
       "      <td>83</td>\n",
       "      <td>26782</td>\n",
       "      <td>184</td>\n",
       "      <td>25011</td>\n",
       "      <td>0.3109</td>\n",
       "      <td>0.484</td>\n",
       "    </tr>\n",
       "    <tr>\n",
       "      <th>...</th>\n",
       "      <td>...</td>\n",
       "      <td>...</td>\n",
       "      <td>...</td>\n",
       "      <td>...</td>\n",
       "      <td>...</td>\n",
       "      <td>...</td>\n",
       "      <td>...</td>\n",
       "      <td>...</td>\n",
       "      <td>...</td>\n",
       "      <td>...</td>\n",
       "    </tr>\n",
       "    <tr>\n",
       "      <th>213</th>\n",
       "      <td>829.5</td>\n",
       "      <td>9.974799e-07</td>\n",
       "      <td>267</td>\n",
       "      <td>51794</td>\n",
       "      <td>0</td>\n",
       "      <td>6</td>\n",
       "      <td>267</td>\n",
       "      <td>51787</td>\n",
       "      <td>0.0</td>\n",
       "      <td>0.9999</td>\n",
       "    </tr>\n",
       "    <tr>\n",
       "      <th>214</th>\n",
       "      <td>835.0</td>\n",
       "      <td>8.549745e-07</td>\n",
       "      <td>267</td>\n",
       "      <td>51794</td>\n",
       "      <td>0</td>\n",
       "      <td>5</td>\n",
       "      <td>267</td>\n",
       "      <td>51788</td>\n",
       "      <td>0.0</td>\n",
       "      <td>0.9999</td>\n",
       "    </tr>\n",
       "    <tr>\n",
       "      <th>215</th>\n",
       "      <td>837.0</td>\n",
       "      <td>7.124719e-07</td>\n",
       "      <td>267</td>\n",
       "      <td>51794</td>\n",
       "      <td>0</td>\n",
       "      <td>4</td>\n",
       "      <td>267</td>\n",
       "      <td>51789</td>\n",
       "      <td>0.0</td>\n",
       "      <td>0.9999</td>\n",
       "    </tr>\n",
       "    <tr>\n",
       "      <th>216</th>\n",
       "      <td>840.5</td>\n",
       "      <td>4.274749e-07</td>\n",
       "      <td>267</td>\n",
       "      <td>51794</td>\n",
       "      <td>0</td>\n",
       "      <td>2</td>\n",
       "      <td>267</td>\n",
       "      <td>51791</td>\n",
       "      <td>0.0</td>\n",
       "      <td>0.9999</td>\n",
       "    </tr>\n",
       "    <tr>\n",
       "      <th>217</th>\n",
       "      <td>847.5</td>\n",
       "      <td>2.849805e-07</td>\n",
       "      <td>267</td>\n",
       "      <td>51794</td>\n",
       "      <td>0</td>\n",
       "      <td>1</td>\n",
       "      <td>267</td>\n",
       "      <td>51792</td>\n",
       "      <td>0.0</td>\n",
       "      <td>1.0</td>\n",
       "    </tr>\n",
       "  </tbody>\n",
       "</table>\n",
       "<p>218 rows × 10 columns</p>\n",
       "</div>"
      ],
      "text/plain": [
       "     threshold  information gain  SAR Non SAR newSAM=1_SAR=1(TP)  \\\n",
       "0          0.5      8.311732e-04  267   51794                109   \n",
       "3          3.5      7.456811e-04  267   51794                 85   \n",
       "2          2.5      6.961608e-04  267   51794                 92   \n",
       "1          1.5      6.601159e-04  267   51794                100   \n",
       "4          4.5      6.397640e-04  267   51794                 83   \n",
       "..         ...               ...  ...     ...                ...   \n",
       "213      829.5      9.974799e-07  267   51794                  0   \n",
       "214      835.0      8.549745e-07  267   51794                  0   \n",
       "215      837.0      7.124719e-07  267   51794                  0   \n",
       "216      840.5      4.274749e-07  267   51794                  0   \n",
       "217      847.5      2.849805e-07  267   51794                  0   \n",
       "\n",
       "    newSAM=1_SAR=0(FP) newSAM=0_SAR=1(FN) newSAM=0_SAR=0(TN)  recall  \\\n",
       "0                33269                158              18524  0.4082   \n",
       "3                28050                182              23743  0.3184   \n",
       "2                29045                175              22748  0.3446   \n",
       "1                30305                167              21488  0.3745   \n",
       "4                26782                184              25011  0.3109   \n",
       "..                 ...                ...                ...     ...   \n",
       "213                  6                267              51787     0.0   \n",
       "214                  5                267              51788     0.0   \n",
       "215                  4                267              51789     0.0   \n",
       "216                  2                267              51791     0.0   \n",
       "217                  1                267              51792     0.0   \n",
       "\n",
       "    filter rate  \n",
       "0        0.3588  \n",
       "3        0.4596  \n",
       "2        0.4403  \n",
       "1         0.416  \n",
       "4         0.484  \n",
       "..          ...  \n",
       "213      0.9999  \n",
       "214      0.9999  \n",
       "215      0.9999  \n",
       "216      0.9999  \n",
       "217         1.0  \n",
       "\n",
       "[218 rows x 10 columns]"
      ]
     },
     "metadata": {},
     "output_type": "display_data"
    }
   ],
   "source": [
    "# Credit 提款金額 小於等於{金額}留下, SAR=0 number_of_Cebit值較大, upper bound\n",
    "# train set\n",
    "\n",
    "results = pd.DataFrame(columns = ['threshold', 'information gain','SAR', 'Non SAR','newSAM=1_SAR=1(TP)','newSAM=1_SAR=0(FP)',\\\n",
    "                                  'newSAM=0_SAR=1(FN)', 'newSAM=0_SAR=0(TN)', 'recall','filter rate'])\n",
    "\n",
    "father_entropy = Entropy(train_set, 'TO_SAR')\n",
    "for thre in median:\n",
    "    new_SAM_1 = train_set[train_set['number_of_Credit']> thre]\n",
    "    new_SAM_0 = train_set[train_set['number_of_Credit']<= thre]\n",
    "    TP = new_SAM_1[new_SAM_1['TO_SAR']!= 0].shape[0]\n",
    "    TN = new_SAM_0[new_SAM_0['TO_SAR']== 0].shape[0]\n",
    "    FP = new_SAM_1[new_SAM_1['TO_SAR']== 0].shape[0]\n",
    "    FN = new_SAM_0[new_SAM_0['TO_SAR']!= 0].shape[0]\n",
    "    total = train_set.shape[0]\n",
    "    \n",
    "    condition_entropy0 = Entropy(new_SAM_0, 'TO_SAR') * (len(new_SAM_0) / total)\n",
    "    condition_entropy1 = Entropy(new_SAM_1, 'TO_SAR') * (len(new_SAM_1) / total)\n",
    "    information_gain = father_entropy - (condition_entropy0 + condition_entropy1)\n",
    "    \n",
    "    results = results.append({'threshold':thre, 'information gain': information_gain, 'SAR':SAR.shape[0], \\\n",
    "                              'Non SAR':Non_SAR.shape[0],\\\n",
    "                              'newSAM=1_SAR=1(TP)':TP, 'newSAM=1_SAR=0(FP)':FP, 'newSAM=0_SAR=1(FN)':FN,\\\n",
    "                              'newSAM=0_SAR=0(TN)':TN, 'recall': str(round(TP/(TP+FN), 4)),\\\n",
    "                              'filter rate':str((round((TN+FN)/total, 4)))}, ignore_index = True)\n",
    "\n",
    "results = results.sort_values(by= 'information gain', ascending= False)\n",
    "\n",
    "display(results)"
   ]
  },
  {
   "cell_type": "code",
   "execution_count": 20,
   "metadata": {},
   "outputs": [
    {
     "data": {
      "text/html": [
       "<div>\n",
       "<style scoped>\n",
       "    .dataframe tbody tr th:only-of-type {\n",
       "        vertical-align: middle;\n",
       "    }\n",
       "\n",
       "    .dataframe tbody tr th {\n",
       "        vertical-align: top;\n",
       "    }\n",
       "\n",
       "    .dataframe thead th {\n",
       "        text-align: right;\n",
       "    }\n",
       "</style>\n",
       "<table border=\"1\" class=\"dataframe\">\n",
       "  <thead>\n",
       "    <tr style=\"text-align: right;\">\n",
       "      <th></th>\n",
       "      <th>threshold</th>\n",
       "      <th>information gain</th>\n",
       "      <th>SAR</th>\n",
       "      <th>Non SAR</th>\n",
       "      <th>newSAM=1_SAR=1(TP)</th>\n",
       "      <th>newSAM=1_SAR=0(FP)</th>\n",
       "      <th>newSAM=0_SAR=1(FN)</th>\n",
       "      <th>newSAM=0_SAR=0(TN)</th>\n",
       "      <th>recall</th>\n",
       "      <th>filter rate</th>\n",
       "    </tr>\n",
       "  </thead>\n",
       "  <tbody>\n",
       "  </tbody>\n",
       "</table>\n",
       "</div>"
      ],
      "text/plain": [
       "Empty DataFrame\n",
       "Columns: [threshold, information gain, SAR, Non SAR, newSAM=1_SAR=1(TP), newSAM=1_SAR=0(FP), newSAM=0_SAR=1(FN), newSAM=0_SAR=0(TN), recall, filter rate]\n",
       "Index: []"
      ]
     },
     "execution_count": 20,
     "metadata": {},
     "output_type": "execute_result"
    }
   ],
   "source": [
    "results['recall'] = results['recall'].astype('float')\n",
    "results[results['recall']>0.9].sort_values(by= 'information gain', ascending= False)"
   ]
  },
  {
   "cell_type": "code",
   "execution_count": 21,
   "metadata": {},
   "outputs": [
    {
     "data": {
      "text/html": [
       "<div>\n",
       "<style scoped>\n",
       "    .dataframe tbody tr th:only-of-type {\n",
       "        vertical-align: middle;\n",
       "    }\n",
       "\n",
       "    .dataframe tbody tr th {\n",
       "        vertical-align: top;\n",
       "    }\n",
       "\n",
       "    .dataframe thead th {\n",
       "        text-align: right;\n",
       "    }\n",
       "</style>\n",
       "<table border=\"1\" class=\"dataframe\">\n",
       "  <thead>\n",
       "    <tr style=\"text-align: right;\">\n",
       "      <th></th>\n",
       "      <th>threshold</th>\n",
       "      <th>information gain</th>\n",
       "      <th>recall</th>\n",
       "      <th>filter rate</th>\n",
       "    </tr>\n",
       "  </thead>\n",
       "  <tbody>\n",
       "    <tr>\n",
       "      <th>threshold</th>\n",
       "      <td>1.000000</td>\n",
       "      <td>-0.277096</td>\n",
       "      <td>-0.303179</td>\n",
       "      <td>0.310735</td>\n",
       "    </tr>\n",
       "    <tr>\n",
       "      <th>information gain</th>\n",
       "      <td>-0.277096</td>\n",
       "      <td>1.000000</td>\n",
       "      <td>0.923839</td>\n",
       "      <td>-0.944465</td>\n",
       "    </tr>\n",
       "    <tr>\n",
       "      <th>recall</th>\n",
       "      <td>-0.303179</td>\n",
       "      <td>0.923839</td>\n",
       "      <td>1.000000</td>\n",
       "      <td>-0.997617</td>\n",
       "    </tr>\n",
       "    <tr>\n",
       "      <th>filter rate</th>\n",
       "      <td>0.310735</td>\n",
       "      <td>-0.944465</td>\n",
       "      <td>-0.997617</td>\n",
       "      <td>1.000000</td>\n",
       "    </tr>\n",
       "  </tbody>\n",
       "</table>\n",
       "</div>"
      ],
      "text/plain": [
       "                  threshold  information gain    recall  filter rate\n",
       "threshold          1.000000         -0.277096 -0.303179     0.310735\n",
       "information gain  -0.277096          1.000000  0.923839    -0.944465\n",
       "recall            -0.303179          0.923839  1.000000    -0.997617\n",
       "filter rate        0.310735         -0.944465 -0.997617     1.000000"
      ]
     },
     "execution_count": 21,
     "metadata": {},
     "output_type": "execute_result"
    }
   ],
   "source": [
    "results['filter rate'] = results['filter rate'].astype('float')\n",
    "results.loc[:, ['threshold', 'information gain', 'recall', 'filter rate']].corr()"
   ]
  },
  {
   "cell_type": "code",
   "execution_count": 26,
   "metadata": {},
   "outputs": [
    {
     "data": {
      "text/plain": [
       "<AxesSubplot:xlabel='information gain'>"
      ]
     },
     "execution_count": 26,
     "metadata": {},
     "output_type": "execute_result"
    },
    {
     "data": {
      "image/png": "[encoded data removed]",
      "text/plain": [
       "<Figure size 432x288 with 1 Axes>"
      ]
     },
     "metadata": {
      "needs_background": "light"
     },
     "output_type": "display_data"
    }
   ],
   "source": [
    "sns.boxplot(x = results['information gain'])"
   ]
  },
  {
   "cell_type": "code",
   "execution_count": 27,
   "metadata": {},
   "outputs": [
    {
     "data": {
      "text/plain": [
       "<AxesSubplot:xlabel='information gain', ylabel='Count'>"
      ]
     },
     "execution_count": 27,
     "metadata": {},
     "output_type": "execute_result"
    },
    {
     "data": {
      "image/png": "[encoded data removed]",
      "text/plain": [
       "<Figure size 432x288 with 1 Axes>"
      ]
     },
     "metadata": {
      "needs_background": "light"
     },
     "output_type": "display_data"
    }
   ],
   "source": [
    "sns.histplot(x= results['information gain'])"
   ]
  },
  {
   "cell_type": "code",
   "execution_count": 28,
   "metadata": {},
   "outputs": [
    {
     "data": {
      "text/plain": [
       "<AxesSubplot:xlabel='recall', ylabel='information gain'>"
      ]
     },
     "execution_count": 28,
     "metadata": {},
     "output_type": "execute_result"
    },
    {
     "data": {
      "image/png": "[encoded data removed]",
      "text/plain": [
       "<Figure size 432x288 with 1 Axes>"
      ]
     },
     "metadata": {
      "needs_background": "light"
     },
     "output_type": "display_data"
    }
   ],
   "source": [
    "data = results[results['recall']> 0.9]\n",
    "sns.scatterplot(x= 'recall', y= 'information gain', data = data)"
   ]
  },
  {
   "cell_type": "code",
   "execution_count": 29,
   "metadata": {},
   "outputs": [
    {
     "data": {
      "text/plain": [
       "<AxesSubplot:xlabel='filter rate', ylabel='information gain'>"
      ]
     },
     "execution_count": 29,
     "metadata": {},
     "output_type": "execute_result"
    },
    {
     "data": {
      "image/png": "[encoded data removed]",
      "text/plain": [
       "<Figure size 432x288 with 1 Axes>"
      ]
     },
     "metadata": {
      "needs_background": "light"
     },
     "output_type": "display_data"
    }
   ],
   "source": [
    "sns.scatterplot(x = 'filter rate', y= 'information gain', data= results)"
   ]
  },
  {
   "cell_type": "code",
   "execution_count": 30,
   "metadata": {},
   "outputs": [
    {
     "data": {
      "text/plain": [
       "<AxesSubplot:xlabel='recall', ylabel='filter rate'>"
      ]
     },
     "execution_count": 30,
     "metadata": {},
     "output_type": "execute_result"
    },
    {
     "data": {
      "image/png": "[encoded data removed]",
      "text/plain": [
       "<Figure size 432x288 with 1 Axes>"
      ]
     },
     "metadata": {
      "needs_background": "light"
     },
     "output_type": "display_data"
    }
   ],
   "source": [
    "sns.scatterplot(x= 'recall', y= 'filter rate', data= results)"
   ]
  },
  {
   "cell_type": "code",
   "execution_count": 31,
   "metadata": {},
   "outputs": [
    {
     "data": {
      "text/plain": [
       "<AxesSubplot:xlabel='recall', ylabel='filter rate'>"
      ]
     },
     "execution_count": 31,
     "metadata": {},
     "output_type": "execute_result"
    },
    {
     "data": {
      "image/png": "[encoded data removed]",
      "text/plain": [
       "<Figure size 432x288 with 1 Axes>"
      ]
     },
     "metadata": {
      "needs_background": "light"
     },
     "output_type": "display_data"
    }
   ],
   "source": [
    "data = results[results['recall']> 0.9]\n",
    "sns.scatterplot(x= 'recall', y= 'filter rate', data= results)"
   ]
  },
  {
   "cell_type": "markdown",
   "metadata": {
    "jp-MarkdownHeadingCollapsed": true,
    "tags": []
   },
   "source": [
    "### threshold: 現金提款累積>=&1101_amount元"
   ]
  },
  {
   "cell_type": "code",
   "execution_count": 22,
   "metadata": {},
   "outputs": [
    {
     "name": "stdout",
     "output_type": "stream",
     "text": [
      "len of median: 14527\n"
     ]
    }
   ],
   "source": [
    "median = SplitMedian(train_set, 'Debit_Amt')"
   ]
  },
  {
   "cell_type": "code",
   "execution_count": 23,
   "metadata": {},
   "outputs": [
    {
     "data": {
      "text/html": [
       "<div>\n",
       "<style scoped>\n",
       "    .dataframe tbody tr th:only-of-type {\n",
       "        vertical-align: middle;\n",
       "    }\n",
       "\n",
       "    .dataframe tbody tr th {\n",
       "        vertical-align: top;\n",
       "    }\n",
       "\n",
       "    .dataframe thead th {\n",
       "        text-align: right;\n",
       "    }\n",
       "</style>\n",
       "<table border=\"1\" class=\"dataframe\">\n",
       "  <thead>\n",
       "    <tr style=\"text-align: right;\">\n",
       "      <th></th>\n",
       "      <th>threshold</th>\n",
       "      <th>information gain</th>\n",
       "      <th>SAR</th>\n",
       "      <th>Non SAR</th>\n",
       "      <th>newSAM=1_SAR=1(TP)</th>\n",
       "      <th>newSAM=1_SAR=0(FP)</th>\n",
       "      <th>newSAM=0_SAR=1(FN)</th>\n",
       "      <th>newSAM=0_SAR=0(TN)</th>\n",
       "      <th>recall</th>\n",
       "      <th>filter rate</th>\n",
       "    </tr>\n",
       "  </thead>\n",
       "  <tbody>\n",
       "    <tr>\n",
       "      <th>2965</th>\n",
       "      <td>699510.0</td>\n",
       "      <td>1.052532e-03</td>\n",
       "      <td>267</td>\n",
       "      <td>51794</td>\n",
       "      <td>206</td>\n",
       "      <td>26521</td>\n",
       "      <td>61</td>\n",
       "      <td>25272</td>\n",
       "      <td>0.7715</td>\n",
       "      <td>0.4866</td>\n",
       "    </tr>\n",
       "    <tr>\n",
       "      <th>2964</th>\n",
       "      <td>698787.5</td>\n",
       "      <td>1.052385e-03</td>\n",
       "      <td>267</td>\n",
       "      <td>51794</td>\n",
       "      <td>206</td>\n",
       "      <td>26522</td>\n",
       "      <td>61</td>\n",
       "      <td>25271</td>\n",
       "      <td>0.7715</td>\n",
       "      <td>0.4866</td>\n",
       "    </tr>\n",
       "    <tr>\n",
       "      <th>2963</th>\n",
       "      <td>698411.0</td>\n",
       "      <td>1.052237e-03</td>\n",
       "      <td>267</td>\n",
       "      <td>51794</td>\n",
       "      <td>206</td>\n",
       "      <td>26523</td>\n",
       "      <td>61</td>\n",
       "      <td>25270</td>\n",
       "      <td>0.7715</td>\n",
       "      <td>0.4866</td>\n",
       "    </tr>\n",
       "    <tr>\n",
       "      <th>2962</th>\n",
       "      <td>698173.5</td>\n",
       "      <td>1.051942e-03</td>\n",
       "      <td>267</td>\n",
       "      <td>51794</td>\n",
       "      <td>206</td>\n",
       "      <td>26525</td>\n",
       "      <td>61</td>\n",
       "      <td>25268</td>\n",
       "      <td>0.7715</td>\n",
       "      <td>0.4865</td>\n",
       "    </tr>\n",
       "    <tr>\n",
       "      <th>2961</th>\n",
       "      <td>697126.0</td>\n",
       "      <td>1.051794e-03</td>\n",
       "      <td>267</td>\n",
       "      <td>51794</td>\n",
       "      <td>206</td>\n",
       "      <td>26526</td>\n",
       "      <td>61</td>\n",
       "      <td>25267</td>\n",
       "      <td>0.7715</td>\n",
       "      <td>0.4865</td>\n",
       "    </tr>\n",
       "    <tr>\n",
       "      <th>...</th>\n",
       "      <td>...</td>\n",
       "      <td>...</td>\n",
       "      <td>...</td>\n",
       "      <td>...</td>\n",
       "      <td>...</td>\n",
       "      <td>...</td>\n",
       "      <td>...</td>\n",
       "      <td>...</td>\n",
       "      <td>...</td>\n",
       "      <td>...</td>\n",
       "    </tr>\n",
       "    <tr>\n",
       "      <th>13374</th>\n",
       "      <td>3220045.0</td>\n",
       "      <td>1.631904e-07</td>\n",
       "      <td>267</td>\n",
       "      <td>51794</td>\n",
       "      <td>8</td>\n",
       "      <td>1531</td>\n",
       "      <td>259</td>\n",
       "      <td>50262</td>\n",
       "      <td>0.03</td>\n",
       "      <td>0.9704</td>\n",
       "    </tr>\n",
       "    <tr>\n",
       "      <th>13373</th>\n",
       "      <td>3220027.5</td>\n",
       "      <td>1.612444e-07</td>\n",
       "      <td>267</td>\n",
       "      <td>51794</td>\n",
       "      <td>8</td>\n",
       "      <td>1532</td>\n",
       "      <td>259</td>\n",
       "      <td>50261</td>\n",
       "      <td>0.03</td>\n",
       "      <td>0.9704</td>\n",
       "    </tr>\n",
       "    <tr>\n",
       "      <th>13372</th>\n",
       "      <td>3220012.5</td>\n",
       "      <td>1.593952e-07</td>\n",
       "      <td>267</td>\n",
       "      <td>51794</td>\n",
       "      <td>8</td>\n",
       "      <td>1533</td>\n",
       "      <td>259</td>\n",
       "      <td>50260</td>\n",
       "      <td>0.03</td>\n",
       "      <td>0.9704</td>\n",
       "    </tr>\n",
       "    <tr>\n",
       "      <th>13371</th>\n",
       "      <td>3220005.0</td>\n",
       "      <td>1.576427e-07</td>\n",
       "      <td>267</td>\n",
       "      <td>51794</td>\n",
       "      <td>8</td>\n",
       "      <td>1534</td>\n",
       "      <td>259</td>\n",
       "      <td>50259</td>\n",
       "      <td>0.03</td>\n",
       "      <td>0.9704</td>\n",
       "    </tr>\n",
       "    <tr>\n",
       "      <th>13370</th>\n",
       "      <td>3219510.0</td>\n",
       "      <td>1.503258e-07</td>\n",
       "      <td>267</td>\n",
       "      <td>51794</td>\n",
       "      <td>8</td>\n",
       "      <td>1539</td>\n",
       "      <td>259</td>\n",
       "      <td>50254</td>\n",
       "      <td>0.03</td>\n",
       "      <td>0.9703</td>\n",
       "    </tr>\n",
       "  </tbody>\n",
       "</table>\n",
       "<p>14527 rows × 10 columns</p>\n",
       "</div>"
      ],
      "text/plain": [
       "       threshold  information gain  SAR Non SAR newSAM=1_SAR=1(TP)  \\\n",
       "2965    699510.0      1.052532e-03  267   51794                206   \n",
       "2964    698787.5      1.052385e-03  267   51794                206   \n",
       "2963    698411.0      1.052237e-03  267   51794                206   \n",
       "2962    698173.5      1.051942e-03  267   51794                206   \n",
       "2961    697126.0      1.051794e-03  267   51794                206   \n",
       "...          ...               ...  ...     ...                ...   \n",
       "13374  3220045.0      1.631904e-07  267   51794                  8   \n",
       "13373  3220027.5      1.612444e-07  267   51794                  8   \n",
       "13372  3220012.5      1.593952e-07  267   51794                  8   \n",
       "13371  3220005.0      1.576427e-07  267   51794                  8   \n",
       "13370  3219510.0      1.503258e-07  267   51794                  8   \n",
       "\n",
       "      newSAM=1_SAR=0(FP) newSAM=0_SAR=1(FN) newSAM=0_SAR=0(TN)  recall  \\\n",
       "2965               26521                 61              25272  0.7715   \n",
       "2964               26522                 61              25271  0.7715   \n",
       "2963               26523                 61              25270  0.7715   \n",
       "2962               26525                 61              25268  0.7715   \n",
       "2961               26526                 61              25267  0.7715   \n",
       "...                  ...                ...                ...     ...   \n",
       "13374               1531                259              50262    0.03   \n",
       "13373               1532                259              50261    0.03   \n",
       "13372               1533                259              50260    0.03   \n",
       "13371               1534                259              50259    0.03   \n",
       "13370               1539                259              50254    0.03   \n",
       "\n",
       "      filter rate  \n",
       "2965       0.4866  \n",
       "2964       0.4866  \n",
       "2963       0.4866  \n",
       "2962       0.4865  \n",
       "2961       0.4865  \n",
       "...           ...  \n",
       "13374      0.9704  \n",
       "13373      0.9704  \n",
       "13372      0.9704  \n",
       "13371      0.9704  \n",
       "13370      0.9703  \n",
       "\n",
       "[14527 rows x 10 columns]"
      ]
     },
     "metadata": {},
     "output_type": "display_data"
    }
   ],
   "source": [
    "# train set\n",
    "results = pd.DataFrame(columns = ['threshold', 'information gain','SAR', 'Non SAR','newSAM=1_SAR=1(TP)','newSAM=1_SAR=0(FP)',\\\n",
    "                                  'newSAM=0_SAR=1(FN)', 'newSAM=0_SAR=0(TN)', 'recall','filter rate'])\n",
    "\n",
    "father_entropy = Entropy(train_set, 'TO_SAR')\n",
    "for thre in median:\n",
    "    new_SAM_1 = train_set[train_set['Debit_Amt']> thre]\n",
    "    new_SAM_0 = train_set[train_set['Debit_Amt']<=thre]\n",
    "    TP = new_SAM_1[new_SAM_1['TO_SAR']!= 0].shape[0]\n",
    "    TN = new_SAM_0[new_SAM_0['TO_SAR']== 0].shape[0]\n",
    "    FP = new_SAM_1[new_SAM_1['TO_SAR']== 0].shape[0]\n",
    "    FN = new_SAM_0[new_SAM_0['TO_SAR']!= 0].shape[0]\n",
    "    total = train_set.shape[0]\n",
    "    \n",
    "    if len(new_SAM_0) == 0 or len(new_SAM_1) == 0:\n",
    "        continue\n",
    "    \n",
    "    condition_entropy0 = Entropy(new_SAM_0, 'TO_SAR') * (len(new_SAM_0) / total)\n",
    "    condition_entropy1 = Entropy(new_SAM_1, 'TO_SAR') * (len(new_SAM_1) / total)\n",
    "    information_gain = father_entropy - (condition_entropy0 + condition_entropy1)\n",
    "    \n",
    "    results = results.append({'threshold':thre, 'information gain': information_gain, 'SAR':SAR.shape[0], \\\n",
    "                              'Non SAR':Non_SAR.shape[0],\\\n",
    "                              'newSAM=1_SAR=1(TP)':TP, 'newSAM=1_SAR=0(FP)':FP, 'newSAM=0_SAR=1(FN)':FN,\\\n",
    "                              'newSAM=0_SAR=0(TN)':TN, 'recall': str(round(TP/(TP+FN), 4)),\\\n",
    "                              'filter rate':str((round((TN+FN)/total, 4)))}, ignore_index = True)\n",
    "\n",
    "results = results.sort_values(by= 'information gain', ascending= False)\n",
    "\n",
    "display(results)"
   ]
  },
  {
   "cell_type": "code",
   "execution_count": 24,
   "metadata": {},
   "outputs": [
    {
     "data": {
      "text/html": [
       "<div>\n",
       "<style scoped>\n",
       "    .dataframe tbody tr th:only-of-type {\n",
       "        vertical-align: middle;\n",
       "    }\n",
       "\n",
       "    .dataframe tbody tr th {\n",
       "        vertical-align: top;\n",
       "    }\n",
       "\n",
       "    .dataframe thead th {\n",
       "        text-align: right;\n",
       "    }\n",
       "</style>\n",
       "<table border=\"1\" class=\"dataframe\">\n",
       "  <thead>\n",
       "    <tr style=\"text-align: right;\">\n",
       "      <th></th>\n",
       "      <th>threshold</th>\n",
       "      <th>information gain</th>\n",
       "      <th>SAR</th>\n",
       "      <th>Non SAR</th>\n",
       "      <th>newSAM=1_SAR=1(TP)</th>\n",
       "      <th>newSAM=1_SAR=0(FP)</th>\n",
       "      <th>newSAM=0_SAR=1(FN)</th>\n",
       "      <th>newSAM=0_SAR=0(TN)</th>\n",
       "      <th>recall</th>\n",
       "      <th>filter rate</th>\n",
       "    </tr>\n",
       "  </thead>\n",
       "  <tbody>\n",
       "  </tbody>\n",
       "</table>\n",
       "</div>"
      ],
      "text/plain": [
       "Empty DataFrame\n",
       "Columns: [threshold, information gain, SAR, Non SAR, newSAM=1_SAR=1(TP), newSAM=1_SAR=0(FP), newSAM=0_SAR=1(FN), newSAM=0_SAR=0(TN), recall, filter rate]\n",
       "Index: []"
      ]
     },
     "execution_count": 24,
     "metadata": {},
     "output_type": "execute_result"
    }
   ],
   "source": [
    "results['recall'] = results['recall'].astype('float')\n",
    "results[results['recall']>0.9].sort_values(by= 'information gain', ascending= False)"
   ]
  },
  {
   "cell_type": "code",
   "execution_count": 25,
   "metadata": {},
   "outputs": [
    {
     "data": {
      "text/html": [
       "<div>\n",
       "<style scoped>\n",
       "    .dataframe tbody tr th:only-of-type {\n",
       "        vertical-align: middle;\n",
       "    }\n",
       "\n",
       "    .dataframe tbody tr th {\n",
       "        vertical-align: top;\n",
       "    }\n",
       "\n",
       "    .dataframe thead th {\n",
       "        text-align: right;\n",
       "    }\n",
       "</style>\n",
       "<table border=\"1\" class=\"dataframe\">\n",
       "  <thead>\n",
       "    <tr style=\"text-align: right;\">\n",
       "      <th></th>\n",
       "      <th>threshold</th>\n",
       "      <th>information gain</th>\n",
       "      <th>recall</th>\n",
       "      <th>filter rate</th>\n",
       "    </tr>\n",
       "  </thead>\n",
       "  <tbody>\n",
       "    <tr>\n",
       "      <th>threshold</th>\n",
       "      <td>1.000000</td>\n",
       "      <td>-0.346483</td>\n",
       "      <td>-0.432698</td>\n",
       "      <td>0.429277</td>\n",
       "    </tr>\n",
       "    <tr>\n",
       "      <th>information gain</th>\n",
       "      <td>-0.346483</td>\n",
       "      <td>1.000000</td>\n",
       "      <td>0.924085</td>\n",
       "      <td>-0.891039</td>\n",
       "    </tr>\n",
       "    <tr>\n",
       "      <th>recall</th>\n",
       "      <td>-0.432698</td>\n",
       "      <td>0.924085</td>\n",
       "      <td>1.000000</td>\n",
       "      <td>-0.995079</td>\n",
       "    </tr>\n",
       "    <tr>\n",
       "      <th>filter rate</th>\n",
       "      <td>0.429277</td>\n",
       "      <td>-0.891039</td>\n",
       "      <td>-0.995079</td>\n",
       "      <td>1.000000</td>\n",
       "    </tr>\n",
       "  </tbody>\n",
       "</table>\n",
       "</div>"
      ],
      "text/plain": [
       "                  threshold  information gain    recall  filter rate\n",
       "threshold          1.000000         -0.346483 -0.432698     0.429277\n",
       "information gain  -0.346483          1.000000  0.924085    -0.891039\n",
       "recall            -0.432698          0.924085  1.000000    -0.995079\n",
       "filter rate        0.429277         -0.891039 -0.995079     1.000000"
      ]
     },
     "execution_count": 25,
     "metadata": {},
     "output_type": "execute_result"
    }
   ],
   "source": [
    "results['filter rate'] = results['filter rate'].astype('float')\n",
    "results.loc[:, ['threshold', 'information gain', 'recall', 'filter rate']].corr()"
   ]
  },
  {
   "cell_type": "code",
   "execution_count": 43,
   "metadata": {},
   "outputs": [
    {
     "data": {
      "text/plain": [
       "<AxesSubplot:xlabel='information gain'>"
      ]
     },
     "execution_count": 43,
     "metadata": {},
     "output_type": "execute_result"
    },
    {
     "data": {
      "image/png": "[encoded data removed]",
      "text/plain": [
       "<Figure size 432x288 with 1 Axes>"
      ]
     },
     "metadata": {
      "needs_background": "light"
     },
     "output_type": "display_data"
    }
   ],
   "source": [
    "sns.boxplot(x = results['information gain'])"
   ]
  },
  {
   "cell_type": "code",
   "execution_count": 44,
   "metadata": {},
   "outputs": [
    {
     "data": {
      "text/plain": [
       "<AxesSubplot:xlabel='information gain', ylabel='Count'>"
      ]
     },
     "execution_count": 44,
     "metadata": {},
     "output_type": "execute_result"
    },
    {
     "data": {
      "image/png": "[encoded data removed]",
      "text/plain": [
       "<Figure size 432x288 with 1 Axes>"
      ]
     },
     "metadata": {
      "needs_background": "light"
     },
     "output_type": "display_data"
    }
   ],
   "source": [
    "sns.histplot(x= results['information gain'])"
   ]
  },
  {
   "cell_type": "code",
   "execution_count": 45,
   "metadata": {},
   "outputs": [
    {
     "data": {
      "text/plain": [
       "<AxesSubplot:xlabel='recall', ylabel='information gain'>"
      ]
     },
     "execution_count": 45,
     "metadata": {},
     "output_type": "execute_result"
    },
    {
     "data": {
      "image/png": "[encoded data removed]",
      "text/plain": [
       "<Figure size 432x288 with 1 Axes>"
      ]
     },
     "metadata": {
      "needs_background": "light"
     },
     "output_type": "display_data"
    }
   ],
   "source": [
    "data = results[results['recall']> 0.9]\n",
    "sns.scatterplot(x= 'recall', y= 'information gain', data = data)"
   ]
  },
  {
   "cell_type": "code",
   "execution_count": 46,
   "metadata": {},
   "outputs": [
    {
     "data": {
      "text/plain": [
       "<AxesSubplot:xlabel='filter rate', ylabel='information gain'>"
      ]
     },
     "execution_count": 46,
     "metadata": {},
     "output_type": "execute_result"
    },
    {
     "data": {
      "image/png": "[encoded data removed]",
      "text/plain": [
       "<Figure size 432x288 with 1 Axes>"
      ]
     },
     "metadata": {
      "needs_background": "light"
     },
     "output_type": "display_data"
    }
   ],
   "source": [
    "sns.scatterplot(x = 'filter rate', y= 'information gain', data= results)"
   ]
  },
  {
   "cell_type": "code",
   "execution_count": 47,
   "metadata": {},
   "outputs": [
    {
     "data": {
      "text/plain": [
       "<AxesSubplot:xlabel='recall', ylabel='filter rate'>"
      ]
     },
     "execution_count": 47,
     "metadata": {},
     "output_type": "execute_result"
    },
    {
     "data": {
      "image/png": "[encoded data removed]",
      "text/plain": [
       "<Figure size 432x288 with 1 Axes>"
      ]
     },
     "metadata": {
      "needs_background": "light"
     },
     "output_type": "display_data"
    }
   ],
   "source": [
    "sns.scatterplot(x= 'recall', y= 'filter rate', data= results)"
   ]
  },
  {
   "cell_type": "code",
   "execution_count": 48,
   "metadata": {},
   "outputs": [
    {
     "data": {
      "text/plain": [
       "<AxesSubplot:xlabel='recall', ylabel='filter rate'>"
      ]
     },
     "execution_count": 48,
     "metadata": {},
     "output_type": "execute_result"
    },
    {
     "data": {
      "image/png": "[encoded data removed]",
      "text/plain": [
       "<Figure size 432x288 with 1 Axes>"
      ]
     },
     "metadata": {
      "needs_background": "light"
     },
     "output_type": "display_data"
    }
   ],
   "source": [
    "data = results[results['recall']> 0.9]\n",
    "sns.scatterplot(x= 'recall', y= 'filter rate', data= results)"
   ]
  },
  {
   "cell_type": "code",
   "execution_count": null,
   "metadata": {},
   "outputs": [],
   "source": [
    "sns.scatterplot(x= 'recall', y= 'filter rate', data= results)"
   ]
  },
  {
   "cell_type": "code",
   "execution_count": null,
   "metadata": {},
   "outputs": [],
   "source": [
    "data = results[results['recall']> 0.9]\n",
    "sns.scatterplot(x= 'recall', y= 'filter rate', data= results)"
   ]
  },
  {
   "cell_type": "markdown",
   "metadata": {
    "tags": []
   },
   "source": [
    "### threshold: 現金提款累計次數>=&1101_trans_num次"
   ]
  },
  {
   "cell_type": "code",
   "execution_count": 26,
   "metadata": {},
   "outputs": [
    {
     "name": "stdout",
     "output_type": "stream",
     "text": [
      "len of median: 154\n"
     ]
    }
   ],
   "source": [
    "median = SplitMedian(train_set, 'number_of_Debit')"
   ]
  },
  {
   "cell_type": "code",
   "execution_count": 28,
   "metadata": {},
   "outputs": [
    {
     "data": {
      "text/html": [
       "<div>\n",
       "<style scoped>\n",
       "    .dataframe tbody tr th:only-of-type {\n",
       "        vertical-align: middle;\n",
       "    }\n",
       "\n",
       "    .dataframe tbody tr th {\n",
       "        vertical-align: top;\n",
       "    }\n",
       "\n",
       "    .dataframe thead th {\n",
       "        text-align: right;\n",
       "    }\n",
       "</style>\n",
       "<table border=\"1\" class=\"dataframe\">\n",
       "  <thead>\n",
       "    <tr style=\"text-align: right;\">\n",
       "      <th></th>\n",
       "      <th>threshold</th>\n",
       "      <th>information gain</th>\n",
       "      <th>SAR</th>\n",
       "      <th>Non SAR</th>\n",
       "      <th>newSAM=1_SAR=1(TP)</th>\n",
       "      <th>newSAM=1_SAR=0(FP)</th>\n",
       "      <th>newSAM=0_SAR=1(FN)</th>\n",
       "      <th>newSAM=0_SAR=0(TN)</th>\n",
       "      <th>recall</th>\n",
       "      <th>filter rate</th>\n",
       "    </tr>\n",
       "  </thead>\n",
       "  <tbody>\n",
       "    <tr>\n",
       "      <th>14</th>\n",
       "      <td>14.5</td>\n",
       "      <td>1.231346e-03</td>\n",
       "      <td>267</td>\n",
       "      <td>51794</td>\n",
       "      <td>132</td>\n",
       "      <td>11851</td>\n",
       "      <td>135</td>\n",
       "      <td>39942</td>\n",
       "      <td>0.4944</td>\n",
       "      <td>0.7698</td>\n",
       "    </tr>\n",
       "    <tr>\n",
       "      <th>13</th>\n",
       "      <td>13.5</td>\n",
       "      <td>1.220228e-03</td>\n",
       "      <td>267</td>\n",
       "      <td>51794</td>\n",
       "      <td>138</td>\n",
       "      <td>12841</td>\n",
       "      <td>129</td>\n",
       "      <td>38952</td>\n",
       "      <td>0.5169</td>\n",
       "      <td>0.7507</td>\n",
       "    </tr>\n",
       "    <tr>\n",
       "      <th>8</th>\n",
       "      <td>8.5</td>\n",
       "      <td>1.189441e-03</td>\n",
       "      <td>267</td>\n",
       "      <td>51794</td>\n",
       "      <td>173</td>\n",
       "      <td>19015</td>\n",
       "      <td>94</td>\n",
       "      <td>32778</td>\n",
       "      <td>0.6479</td>\n",
       "      <td>0.6314</td>\n",
       "    </tr>\n",
       "    <tr>\n",
       "      <th>9</th>\n",
       "      <td>9.5</td>\n",
       "      <td>1.169935e-03</td>\n",
       "      <td>267</td>\n",
       "      <td>51794</td>\n",
       "      <td>164</td>\n",
       "      <td>17489</td>\n",
       "      <td>103</td>\n",
       "      <td>34304</td>\n",
       "      <td>0.6142</td>\n",
       "      <td>0.6609</td>\n",
       "    </tr>\n",
       "    <tr>\n",
       "      <th>12</th>\n",
       "      <td>12.5</td>\n",
       "      <td>1.163119e-03</td>\n",
       "      <td>267</td>\n",
       "      <td>51794</td>\n",
       "      <td>143</td>\n",
       "      <td>13934</td>\n",
       "      <td>124</td>\n",
       "      <td>37859</td>\n",
       "      <td>0.5356</td>\n",
       "      <td>0.7296</td>\n",
       "    </tr>\n",
       "    <tr>\n",
       "      <th>...</th>\n",
       "      <td>...</td>\n",
       "      <td>...</td>\n",
       "      <td>...</td>\n",
       "      <td>...</td>\n",
       "      <td>...</td>\n",
       "      <td>...</td>\n",
       "      <td>...</td>\n",
       "      <td>...</td>\n",
       "      <td>...</td>\n",
       "      <td>...</td>\n",
       "    </tr>\n",
       "    <tr>\n",
       "      <th>149</th>\n",
       "      <td>166.5</td>\n",
       "      <td>1.567529e-06</td>\n",
       "      <td>267</td>\n",
       "      <td>51794</td>\n",
       "      <td>0</td>\n",
       "      <td>10</td>\n",
       "      <td>267</td>\n",
       "      <td>51783</td>\n",
       "      <td>0.0</td>\n",
       "      <td>0.9998</td>\n",
       "    </tr>\n",
       "    <tr>\n",
       "      <th>150</th>\n",
       "      <td>167.5</td>\n",
       "      <td>1.282499e-06</td>\n",
       "      <td>267</td>\n",
       "      <td>51794</td>\n",
       "      <td>0</td>\n",
       "      <td>8</td>\n",
       "      <td>267</td>\n",
       "      <td>51785</td>\n",
       "      <td>0.0</td>\n",
       "      <td>0.9998</td>\n",
       "    </tr>\n",
       "    <tr>\n",
       "      <th>151</th>\n",
       "      <td>170.5</td>\n",
       "      <td>5.699720e-07</td>\n",
       "      <td>267</td>\n",
       "      <td>51794</td>\n",
       "      <td>0</td>\n",
       "      <td>3</td>\n",
       "      <td>267</td>\n",
       "      <td>51790</td>\n",
       "      <td>0.0</td>\n",
       "      <td>0.9999</td>\n",
       "    </tr>\n",
       "    <tr>\n",
       "      <th>152</th>\n",
       "      <td>174.5</td>\n",
       "      <td>4.274749e-07</td>\n",
       "      <td>267</td>\n",
       "      <td>51794</td>\n",
       "      <td>0</td>\n",
       "      <td>2</td>\n",
       "      <td>267</td>\n",
       "      <td>51791</td>\n",
       "      <td>0.0</td>\n",
       "      <td>0.9999</td>\n",
       "    </tr>\n",
       "    <tr>\n",
       "      <th>153</th>\n",
       "      <td>177.5</td>\n",
       "      <td>2.849805e-07</td>\n",
       "      <td>267</td>\n",
       "      <td>51794</td>\n",
       "      <td>0</td>\n",
       "      <td>1</td>\n",
       "      <td>267</td>\n",
       "      <td>51792</td>\n",
       "      <td>0.0</td>\n",
       "      <td>1.0</td>\n",
       "    </tr>\n",
       "  </tbody>\n",
       "</table>\n",
       "<p>154 rows × 10 columns</p>\n",
       "</div>"
      ],
      "text/plain": [
       "     threshold  information gain  SAR Non SAR newSAM=1_SAR=1(TP)  \\\n",
       "14        14.5      1.231346e-03  267   51794                132   \n",
       "13        13.5      1.220228e-03  267   51794                138   \n",
       "8          8.5      1.189441e-03  267   51794                173   \n",
       "9          9.5      1.169935e-03  267   51794                164   \n",
       "12        12.5      1.163119e-03  267   51794                143   \n",
       "..         ...               ...  ...     ...                ...   \n",
       "149      166.5      1.567529e-06  267   51794                  0   \n",
       "150      167.5      1.282499e-06  267   51794                  0   \n",
       "151      170.5      5.699720e-07  267   51794                  0   \n",
       "152      174.5      4.274749e-07  267   51794                  0   \n",
       "153      177.5      2.849805e-07  267   51794                  0   \n",
       "\n",
       "    newSAM=1_SAR=0(FP) newSAM=0_SAR=1(FN) newSAM=0_SAR=0(TN)  recall  \\\n",
       "14               11851                135              39942  0.4944   \n",
       "13               12841                129              38952  0.5169   \n",
       "8                19015                 94              32778  0.6479   \n",
       "9                17489                103              34304  0.6142   \n",
       "12               13934                124              37859  0.5356   \n",
       "..                 ...                ...                ...     ...   \n",
       "149                 10                267              51783     0.0   \n",
       "150                  8                267              51785     0.0   \n",
       "151                  3                267              51790     0.0   \n",
       "152                  2                267              51791     0.0   \n",
       "153                  1                267              51792     0.0   \n",
       "\n",
       "    filter rate  \n",
       "14       0.7698  \n",
       "13       0.7507  \n",
       "8        0.6314  \n",
       "9        0.6609  \n",
       "12       0.7296  \n",
       "..          ...  \n",
       "149      0.9998  \n",
       "150      0.9998  \n",
       "151      0.9999  \n",
       "152      0.9999  \n",
       "153         1.0  \n",
       "\n",
       "[154 rows x 10 columns]"
      ]
     },
     "metadata": {},
     "output_type": "display_data"
    }
   ],
   "source": [
    "# train set\n",
    "results = pd.DataFrame(columns = ['threshold', 'information gain','SAR', 'Non SAR','newSAM=1_SAR=1(TP)','newSAM=1_SAR=0(FP)',\\\n",
    "                                  'newSAM=0_SAR=1(FN)', 'newSAM=0_SAR=0(TN)', 'recall','filter rate'])\n",
    "\n",
    "father_entropy = Entropy(train_set, 'TO_SAR')\n",
    "for thre in median:\n",
    "    new_SAM_1 = train_set[train_set['number_of_Debit']> thre]\n",
    "    new_SAM_0 = train_set[train_set['number_of_Debit']<= thre]\n",
    "    TP = new_SAM_1[new_SAM_1['TO_SAR']!= 0].shape[0]\n",
    "    TN = new_SAM_0[new_SAM_0['TO_SAR']== 0].shape[0]\n",
    "    FP = new_SAM_1[new_SAM_1['TO_SAR']== 0].shape[0]\n",
    "    FN = new_SAM_0[new_SAM_0['TO_SAR']!= 0].shape[0]\n",
    "    total = train_set.shape[0]\n",
    "    \n",
    "    if len(new_SAM_0) == 0 or len(new_SAM_1) == 0:\n",
    "        continue    \n",
    "    \n",
    "    condition_entropy0 = Entropy(new_SAM_0, 'TO_SAR') * (len(new_SAM_0) / total)\n",
    "    condition_entropy1 = Entropy(new_SAM_1, 'TO_SAR') * (len(new_SAM_1) / total)\n",
    "    information_gain = father_entropy - (condition_entropy0 + condition_entropy1)\n",
    "    \n",
    "    results = results.append({'threshold':thre, 'information gain': information_gain, 'SAR':SAR.shape[0], \\\n",
    "                              'Non SAR':Non_SAR.shape[0],\\\n",
    "                              'newSAM=1_SAR=1(TP)':TP, 'newSAM=1_SAR=0(FP)':FP, 'newSAM=0_SAR=1(FN)':FN,\\\n",
    "                              'newSAM=0_SAR=0(TN)':TN, 'recall': str(round(TP/(TP+FN), 4)),\\\n",
    "                              'filter rate':str((round((TN+FN)/total, 4)))}, ignore_index = True)\n",
    "\n",
    "results = results.sort_values(by= 'information gain', ascending= False)\n",
    "\n",
    "display(results)"
   ]
  },
  {
   "cell_type": "code",
   "execution_count": 29,
   "metadata": {},
   "outputs": [
    {
     "data": {
      "text/html": [
       "<div>\n",
       "<style scoped>\n",
       "    .dataframe tbody tr th:only-of-type {\n",
       "        vertical-align: middle;\n",
       "    }\n",
       "\n",
       "    .dataframe tbody tr th {\n",
       "        vertical-align: top;\n",
       "    }\n",
       "\n",
       "    .dataframe thead th {\n",
       "        text-align: right;\n",
       "    }\n",
       "</style>\n",
       "<table border=\"1\" class=\"dataframe\">\n",
       "  <thead>\n",
       "    <tr style=\"text-align: right;\">\n",
       "      <th></th>\n",
       "      <th>threshold</th>\n",
       "      <th>information gain</th>\n",
       "      <th>SAR</th>\n",
       "      <th>Non SAR</th>\n",
       "      <th>newSAM=1_SAR=1(TP)</th>\n",
       "      <th>newSAM=1_SAR=0(FP)</th>\n",
       "      <th>newSAM=0_SAR=1(FN)</th>\n",
       "      <th>newSAM=0_SAR=0(TN)</th>\n",
       "      <th>recall</th>\n",
       "      <th>filter rate</th>\n",
       "    </tr>\n",
       "  </thead>\n",
       "  <tbody>\n",
       "  </tbody>\n",
       "</table>\n",
       "</div>"
      ],
      "text/plain": [
       "Empty DataFrame\n",
       "Columns: [threshold, information gain, SAR, Non SAR, newSAM=1_SAR=1(TP), newSAM=1_SAR=0(FP), newSAM=0_SAR=1(FN), newSAM=0_SAR=0(TN), recall, filter rate]\n",
       "Index: []"
      ]
     },
     "execution_count": 29,
     "metadata": {},
     "output_type": "execute_result"
    }
   ],
   "source": [
    "results['recall'] = results['recall'].astype('float')\n",
    "results[results['recall']>0.9].sort_values(by= 'information gain', ascending= False)"
   ]
  },
  {
   "cell_type": "code",
   "execution_count": 30,
   "metadata": {},
   "outputs": [
    {
     "data": {
      "text/html": [
       "<div>\n",
       "<style scoped>\n",
       "    .dataframe tbody tr th:only-of-type {\n",
       "        vertical-align: middle;\n",
       "    }\n",
       "\n",
       "    .dataframe tbody tr th {\n",
       "        vertical-align: top;\n",
       "    }\n",
       "\n",
       "    .dataframe thead th {\n",
       "        text-align: right;\n",
       "    }\n",
       "</style>\n",
       "<table border=\"1\" class=\"dataframe\">\n",
       "  <thead>\n",
       "    <tr style=\"text-align: right;\">\n",
       "      <th></th>\n",
       "      <th>threshold</th>\n",
       "      <th>information gain</th>\n",
       "      <th>recall</th>\n",
       "      <th>filter rate</th>\n",
       "    </tr>\n",
       "  </thead>\n",
       "  <tbody>\n",
       "    <tr>\n",
       "      <th>threshold</th>\n",
       "      <td>1.000000</td>\n",
       "      <td>-0.812624</td>\n",
       "      <td>-0.714116</td>\n",
       "      <td>0.606258</td>\n",
       "    </tr>\n",
       "    <tr>\n",
       "      <th>information gain</th>\n",
       "      <td>-0.812624</td>\n",
       "      <td>1.000000</td>\n",
       "      <td>0.660930</td>\n",
       "      <td>-0.534469</td>\n",
       "    </tr>\n",
       "    <tr>\n",
       "      <th>recall</th>\n",
       "      <td>-0.714116</td>\n",
       "      <td>0.660930</td>\n",
       "      <td>1.000000</td>\n",
       "      <td>-0.978245</td>\n",
       "    </tr>\n",
       "    <tr>\n",
       "      <th>filter rate</th>\n",
       "      <td>0.606258</td>\n",
       "      <td>-0.534469</td>\n",
       "      <td>-0.978245</td>\n",
       "      <td>1.000000</td>\n",
       "    </tr>\n",
       "  </tbody>\n",
       "</table>\n",
       "</div>"
      ],
      "text/plain": [
       "                  threshold  information gain    recall  filter rate\n",
       "threshold          1.000000         -0.812624 -0.714116     0.606258\n",
       "information gain  -0.812624          1.000000  0.660930    -0.534469\n",
       "recall            -0.714116          0.660930  1.000000    -0.978245\n",
       "filter rate        0.606258         -0.534469 -0.978245     1.000000"
      ]
     },
     "execution_count": 30,
     "metadata": {},
     "output_type": "execute_result"
    }
   ],
   "source": [
    "results['filter rate'] = results['filter rate'].astype('float')\n",
    "results.loc[:, ['threshold', 'information gain', 'recall', 'filter rate']].corr()"
   ]
  },
  {
   "cell_type": "code",
   "execution_count": 53,
   "metadata": {},
   "outputs": [
    {
     "data": {
      "text/plain": [
       "<AxesSubplot:xlabel='information gain'>"
      ]
     },
     "execution_count": 53,
     "metadata": {},
     "output_type": "execute_result"
    },
    {
     "data": {
      "image/png": "[encoded data removed]",
      "text/plain": [
       "<Figure size 432x288 with 1 Axes>"
      ]
     },
     "metadata": {
      "needs_background": "light"
     },
     "output_type": "display_data"
    }
   ],
   "source": [
    "sns.boxplot(x = results['information gain'])"
   ]
  },
  {
   "cell_type": "code",
   "execution_count": 54,
   "metadata": {},
   "outputs": [
    {
     "data": {
      "text/plain": [
       "<AxesSubplot:xlabel='information gain', ylabel='Count'>"
      ]
     },
     "execution_count": 54,
     "metadata": {},
     "output_type": "execute_result"
    },
    {
     "data": {
      "image/png": "[encoded data removed]",
      "text/plain": [
       "<Figure size 432x288 with 1 Axes>"
      ]
     },
     "metadata": {
      "needs_background": "light"
     },
     "output_type": "display_data"
    }
   ],
   "source": [
    "sns.histplot(x= results['information gain'])"
   ]
  },
  {
   "cell_type": "code",
   "execution_count": 55,
   "metadata": {},
   "outputs": [
    {
     "data": {
      "text/plain": [
       "<AxesSubplot:xlabel='recall', ylabel='information gain'>"
      ]
     },
     "execution_count": 55,
     "metadata": {},
     "output_type": "execute_result"
    },
    {
     "data": {
      "image/png": "[encoded data removed]",
      "text/plain": [
       "<Figure size 432x288 with 1 Axes>"
      ]
     },
     "metadata": {
      "needs_background": "light"
     },
     "output_type": "display_data"
    }
   ],
   "source": [
    "data = results[results['recall']> 0.9]\n",
    "sns.scatterplot(x= 'recall', y= 'information gain', data = data)"
   ]
  },
  {
   "cell_type": "code",
   "execution_count": 56,
   "metadata": {},
   "outputs": [
    {
     "data": {
      "text/plain": [
       "<AxesSubplot:xlabel='filter rate', ylabel='information gain'>"
      ]
     },
     "execution_count": 56,
     "metadata": {},
     "output_type": "execute_result"
    },
    {
     "data": {
      "image/png": "[encoded data removed]",
      "text/plain": [
       "<Figure size 432x288 with 1 Axes>"
      ]
     },
     "metadata": {
      "needs_background": "light"
     },
     "output_type": "display_data"
    }
   ],
   "source": [
    "sns.scatterplot(x = 'filter rate', y= 'information gain', data= results)"
   ]
  },
  {
   "cell_type": "code",
   "execution_count": 57,
   "metadata": {},
   "outputs": [
    {
     "data": {
      "text/plain": [
       "<AxesSubplot:xlabel='recall', ylabel='filter rate'>"
      ]
     },
     "execution_count": 57,
     "metadata": {},
     "output_type": "execute_result"
    },
    {
     "data": {
      "image/png": "[encoded data removed]",
      "text/plain": [
       "<Figure size 432x288 with 1 Axes>"
      ]
     },
     "metadata": {
      "needs_background": "light"
     },
     "output_type": "display_data"
    }
   ],
   "source": [
    "sns.scatterplot(x= 'recall', y= 'filter rate', data= results)"
   ]
  },
  {
   "cell_type": "code",
   "execution_count": 58,
   "metadata": {},
   "outputs": [
    {
     "data": {
      "text/plain": [
       "<AxesSubplot:xlabel='recall', ylabel='filter rate'>"
      ]
     },
     "execution_count": 58,
     "metadata": {},
     "output_type": "execute_result"
    },
    {
     "data": {
      "image/png": "[encoded data removed]",
      "text/plain": [
       "<Figure size 432x288 with 1 Axes>"
      ]
     },
     "metadata": {
      "needs_background": "light"
     },
     "output_type": "display_data"
    }
   ],
   "source": [
    "data = results[results['recall']> 0.9]\n",
    "sns.scatterplot(x= 'recall', y= 'filter rate', data= results)"
   ]
  },
  {
   "cell_type": "markdown",
   "metadata": {},
   "source": [
    "## Oversampling "
   ]
  },
  {
   "cell_type": "code",
   "execution_count": 8,
   "metadata": {},
   "outputs": [
    {
     "name": "stdout",
     "output_type": "stream",
     "text": [
      "number of SAR: 267\n",
      "number of Non_SAR: 51794\n",
      "Non_SAR / SAR: 193.98501872659176\n"
     ]
    }
   ],
   "source": [
    "print(f'number of SAR: {len(SAR)}')\n",
    "print(f'number of Non_SAR: {len(Non_SAR)}')\n",
    "print(f'Non_SAR / SAR: {len(Non_SAR) / len(SAR)}')"
   ]
  },
  {
   "cell_type": "code",
   "execution_count": 9,
   "metadata": {},
   "outputs": [],
   "source": [
    "# oversampling \n",
    "Res_rate = int(round(len(Non_SAR) / len(SAR)))\n",
    "temp = train_set[train_set.TO_SAR!= 0]\n",
    "i=0\n",
    "while i < Res_rate:\n",
    "    SAR = SAR.append(temp)\n",
    "    #print(i, SAR.shape)\n",
    "    i += 1"
   ]
  },
  {
   "cell_type": "code",
   "execution_count": 11,
   "metadata": {},
   "outputs": [
    {
     "name": "stdout",
     "output_type": "stream",
     "text": [
      "number of SAR: 52065\n",
      "number of Non_SAR: 51794\n",
      "Non_SAR / SAR: 0.9947949678286757\n"
     ]
    }
   ],
   "source": [
    "print(f'number of SAR: {len(SAR)}')\n",
    "print(f'number of Non_SAR: {len(Non_SAR)}')\n",
    "print(f'Non_SAR / SAR: {len(Non_SAR) / len(SAR)}')"
   ]
  },
  {
   "cell_type": "code",
   "execution_count": 12,
   "metadata": {},
   "outputs": [
    {
     "data": {
      "text/plain": [
       "(103859, 38)"
      ]
     },
     "execution_count": 12,
     "metadata": {},
     "output_type": "execute_result"
    }
   ],
   "source": [
    "new_train_set = pd.concat([SAR, Non_SAR])\n",
    "new_train_set.shape"
   ]
  },
  {
   "cell_type": "code",
   "execution_count": 13,
   "metadata": {},
   "outputs": [
    {
     "data": {
      "text/plain": [
       "(52061, 38)"
      ]
     },
     "execution_count": 13,
     "metadata": {},
     "output_type": "execute_result"
    }
   ],
   "source": [
    "train_set.shape"
   ]
  },
  {
   "cell_type": "markdown",
   "metadata": {},
   "source": [
    "### threshold: 現金存款累積>=&1101_amount元"
   ]
  },
  {
   "cell_type": "code",
   "execution_count": 14,
   "metadata": {},
   "outputs": [
    {
     "name": "stdout",
     "output_type": "stream",
     "text": [
      "len of median: 17787\n"
     ]
    }
   ],
   "source": [
    "median = SplitMedian(new_train_set, 'Credit_Amt')"
   ]
  },
  {
   "cell_type": "code",
   "execution_count": 15,
   "metadata": {
    "scrolled": true
   },
   "outputs": [],
   "source": [
    "# credit 存款, 小於等於{金額}留下, SAR=0 Credit_Amt值較大, upper bound\n",
    "# new train set\n",
    "results = pd.DataFrame(columns = ['threshold', 'information gain','SAR', 'Non SAR','newSAM=1_SAR=1(TP)','newSAM=1_SAR=0(FP)',\\\n",
    "                                  'newSAM=0_SAR=1(FN)', 'newSAM=0_SAR=0(TN)', 'recall','filter rate'])\n",
    "ent_new = pd.DataFrame(columns = ['thre', 'father_entropy', 'condition_entropy0', 'condition_entropy1', 'information_gain'])\n",
    "father_entropy = Entropy(new_train_set, 'TO_SAR')\n",
    "\n",
    "for thre in median:\n",
    "    new_SAM_1 = new_train_set[new_train_set['Credit_Amt']<= thre]\n",
    "    new_SAM_0 = new_train_set[new_train_set['Credit_Amt']> thre]\n",
    "    TP = new_SAM_1[new_SAM_1['TO_SAR']!= 0].shape[0]\n",
    "    TN = new_SAM_0[new_SAM_0['TO_SAR']== 0].shape[0]\n",
    "    FP = new_SAM_1[new_SAM_1['TO_SAR']== 0].shape[0]\n",
    "    FN = new_SAM_0[new_SAM_0['TO_SAR']!= 0].shape[0]\n",
    "    total = new_train_set.shape[0]\n",
    "    \n",
    "    condition_entropy0 = Entropy(new_SAM_0, 'TO_SAR') * (len(new_SAM_0) / total)\n",
    "    condition_entropy1 = Entropy(new_SAM_1, 'TO_SAR') * (len(new_SAM_1) / total)\n",
    "    information_gain = father_entropy - (condition_entropy0 + condition_entropy1)\n",
    "    ent_new = ent_new.append({'thre': thre, 'father_entropy': father_entropy, 'condition_entropy0': condition_entropy0, 'condition_entropy1': condition_entropy1, 'information_gain': information_gain}, ignore_index= True)\n",
    "    \n",
    "    results = results.append({'threshold':thre, 'information gain': information_gain, 'SAR':SAR.shape[0], \\\n",
    "                              'Non SAR':Non_SAR.shape[0],\\\n",
    "                              'newSAM=1_SAR=1(TP)':TP, 'newSAM=1_SAR=0(FP)':FP, 'newSAM=0_SAR=1(FN)':FN,\\\n",
    "                              'newSAM=0_SAR=0(TN)':TN, 'recall': str(round(TP/(TP+FN), 4)),\\\n",
    "                              'filter rate':str((round((TN+FN)/total, 4)))}, ignore_index = True)\n",
    "\n",
    "results = results.sort_values(by= 'information gain', ascending= False)"
   ]
  },
  {
   "cell_type": "code",
   "execution_count": 16,
   "metadata": {},
   "outputs": [
    {
     "data": {
      "text/html": [
       "<div>\n",
       "<style scoped>\n",
       "    .dataframe tbody tr th:only-of-type {\n",
       "        vertical-align: middle;\n",
       "    }\n",
       "\n",
       "    .dataframe tbody tr th {\n",
       "        vertical-align: top;\n",
       "    }\n",
       "\n",
       "    .dataframe thead th {\n",
       "        text-align: right;\n",
       "    }\n",
       "</style>\n",
       "<table border=\"1\" class=\"dataframe\">\n",
       "  <thead>\n",
       "    <tr style=\"text-align: right;\">\n",
       "      <th></th>\n",
       "      <th>threshold</th>\n",
       "      <th>information gain</th>\n",
       "      <th>SAR</th>\n",
       "      <th>Non SAR</th>\n",
       "      <th>newSAM=1_SAR=1(TP)</th>\n",
       "      <th>newSAM=1_SAR=0(FP)</th>\n",
       "      <th>newSAM=0_SAR=1(FN)</th>\n",
       "      <th>newSAM=0_SAR=0(TN)</th>\n",
       "      <th>recall</th>\n",
       "      <th>filter rate</th>\n",
       "    </tr>\n",
       "  </thead>\n",
       "  <tbody>\n",
       "    <tr>\n",
       "      <th>10407</th>\n",
       "      <td>1557804.5</td>\n",
       "      <td>0.018635</td>\n",
       "      <td>52065</td>\n",
       "      <td>51794</td>\n",
       "      <td>46995</td>\n",
       "      <td>40789</td>\n",
       "      <td>5070</td>\n",
       "      <td>11004</td>\n",
       "      <td>0.9026</td>\n",
       "      <td>0.1548</td>\n",
       "    </tr>\n",
       "    <tr>\n",
       "      <th>10408</th>\n",
       "      <td>1558101.0</td>\n",
       "      <td>0.018619</td>\n",
       "      <td>52065</td>\n",
       "      <td>51794</td>\n",
       "      <td>46995</td>\n",
       "      <td>40792</td>\n",
       "      <td>5070</td>\n",
       "      <td>11001</td>\n",
       "      <td>0.9026</td>\n",
       "      <td>0.1547</td>\n",
       "    </tr>\n",
       "    <tr>\n",
       "      <th>10409</th>\n",
       "      <td>1558264.0</td>\n",
       "      <td>0.018614</td>\n",
       "      <td>52065</td>\n",
       "      <td>51794</td>\n",
       "      <td>46995</td>\n",
       "      <td>40793</td>\n",
       "      <td>5070</td>\n",
       "      <td>11000</td>\n",
       "      <td>0.9026</td>\n",
       "      <td>0.1547</td>\n",
       "    </tr>\n",
       "    <tr>\n",
       "      <th>10410</th>\n",
       "      <td>1558663.0</td>\n",
       "      <td>0.018609</td>\n",
       "      <td>52065</td>\n",
       "      <td>51794</td>\n",
       "      <td>46995</td>\n",
       "      <td>40794</td>\n",
       "      <td>5070</td>\n",
       "      <td>10999</td>\n",
       "      <td>0.9026</td>\n",
       "      <td>0.1547</td>\n",
       "    </tr>\n",
       "    <tr>\n",
       "      <th>10411</th>\n",
       "      <td>1559012.0</td>\n",
       "      <td>0.018582</td>\n",
       "      <td>52065</td>\n",
       "      <td>51794</td>\n",
       "      <td>46995</td>\n",
       "      <td>40799</td>\n",
       "      <td>5070</td>\n",
       "      <td>10994</td>\n",
       "      <td>0.9026</td>\n",
       "      <td>0.1547</td>\n",
       "    </tr>\n",
       "    <tr>\n",
       "      <th>10412</th>\n",
       "      <td>1559037.0</td>\n",
       "      <td>0.018576</td>\n",
       "      <td>52065</td>\n",
       "      <td>51794</td>\n",
       "      <td>46995</td>\n",
       "      <td>40800</td>\n",
       "      <td>5070</td>\n",
       "      <td>10993</td>\n",
       "      <td>0.9026</td>\n",
       "      <td>0.1547</td>\n",
       "    </tr>\n",
       "    <tr>\n",
       "      <th>10413</th>\n",
       "      <td>1559104.0</td>\n",
       "      <td>0.018571</td>\n",
       "      <td>52065</td>\n",
       "      <td>51794</td>\n",
       "      <td>46995</td>\n",
       "      <td>40801</td>\n",
       "      <td>5070</td>\n",
       "      <td>10992</td>\n",
       "      <td>0.9026</td>\n",
       "      <td>0.1547</td>\n",
       "    </tr>\n",
       "    <tr>\n",
       "      <th>10414</th>\n",
       "      <td>1559179.0</td>\n",
       "      <td>0.018566</td>\n",
       "      <td>52065</td>\n",
       "      <td>51794</td>\n",
       "      <td>46995</td>\n",
       "      <td>40802</td>\n",
       "      <td>5070</td>\n",
       "      <td>10991</td>\n",
       "      <td>0.9026</td>\n",
       "      <td>0.1546</td>\n",
       "    </tr>\n",
       "    <tr>\n",
       "      <th>10415</th>\n",
       "      <td>1559496.5</td>\n",
       "      <td>0.018560</td>\n",
       "      <td>52065</td>\n",
       "      <td>51794</td>\n",
       "      <td>46995</td>\n",
       "      <td>40803</td>\n",
       "      <td>5070</td>\n",
       "      <td>10990</td>\n",
       "      <td>0.9026</td>\n",
       "      <td>0.1546</td>\n",
       "    </tr>\n",
       "    <tr>\n",
       "      <th>10416</th>\n",
       "      <td>1559896.5</td>\n",
       "      <td>0.018555</td>\n",
       "      <td>52065</td>\n",
       "      <td>51794</td>\n",
       "      <td>46995</td>\n",
       "      <td>40804</td>\n",
       "      <td>5070</td>\n",
       "      <td>10989</td>\n",
       "      <td>0.9026</td>\n",
       "      <td>0.1546</td>\n",
       "    </tr>\n",
       "  </tbody>\n",
       "</table>\n",
       "</div>"
      ],
      "text/plain": [
       "       threshold  information gain    SAR Non SAR newSAM=1_SAR=1(TP)  \\\n",
       "10407  1557804.5          0.018635  52065   51794              46995   \n",
       "10408  1558101.0          0.018619  52065   51794              46995   \n",
       "10409  1558264.0          0.018614  52065   51794              46995   \n",
       "10410  1558663.0          0.018609  52065   51794              46995   \n",
       "10411  1559012.0          0.018582  52065   51794              46995   \n",
       "10412  1559037.0          0.018576  52065   51794              46995   \n",
       "10413  1559104.0          0.018571  52065   51794              46995   \n",
       "10414  1559179.0          0.018566  52065   51794              46995   \n",
       "10415  1559496.5          0.018560  52065   51794              46995   \n",
       "10416  1559896.5          0.018555  52065   51794              46995   \n",
       "\n",
       "      newSAM=1_SAR=0(FP) newSAM=0_SAR=1(FN) newSAM=0_SAR=0(TN)  recall  \\\n",
       "10407              40789               5070              11004  0.9026   \n",
       "10408              40792               5070              11001  0.9026   \n",
       "10409              40793               5070              11000  0.9026   \n",
       "10410              40794               5070              10999  0.9026   \n",
       "10411              40799               5070              10994  0.9026   \n",
       "10412              40800               5070              10993  0.9026   \n",
       "10413              40801               5070              10992  0.9026   \n",
       "10414              40802               5070              10991  0.9026   \n",
       "10415              40803               5070              10990  0.9026   \n",
       "10416              40804               5070              10989  0.9026   \n",
       "\n",
       "      filter rate  \n",
       "10407      0.1548  \n",
       "10408      0.1547  \n",
       "10409      0.1547  \n",
       "10410      0.1547  \n",
       "10411      0.1547  \n",
       "10412      0.1547  \n",
       "10413      0.1547  \n",
       "10414      0.1546  \n",
       "10415      0.1546  \n",
       "10416      0.1546  "
      ]
     },
     "execution_count": 16,
     "metadata": {},
     "output_type": "execute_result"
    }
   ],
   "source": [
    "results['recall'] = results['recall'].astype('float')\n",
    "results[results['recall']>0.9].sort_values(by= 'information gain', ascending= False)[:10]"
   ]
  },
  {
   "cell_type": "code",
   "execution_count": 18,
   "metadata": {},
   "outputs": [
    {
     "data": {
      "text/html": [
       "<div>\n",
       "<style scoped>\n",
       "    .dataframe tbody tr th:only-of-type {\n",
       "        vertical-align: middle;\n",
       "    }\n",
       "\n",
       "    .dataframe tbody tr th {\n",
       "        vertical-align: top;\n",
       "    }\n",
       "\n",
       "    .dataframe thead th {\n",
       "        text-align: right;\n",
       "    }\n",
       "</style>\n",
       "<table border=\"1\" class=\"dataframe\">\n",
       "  <thead>\n",
       "    <tr style=\"text-align: right;\">\n",
       "      <th></th>\n",
       "      <th>thre</th>\n",
       "      <th>father_entropy</th>\n",
       "      <th>condition_entropy0</th>\n",
       "      <th>condition_entropy1</th>\n",
       "      <th>information_gain</th>\n",
       "    </tr>\n",
       "  </thead>\n",
       "  <tbody>\n",
       "    <tr>\n",
       "      <th>10407</th>\n",
       "      <td>1557804.5</td>\n",
       "      <td>0.999995</td>\n",
       "      <td>0.139187</td>\n",
       "      <td>0.842173</td>\n",
       "      <td>0.018635</td>\n",
       "    </tr>\n",
       "  </tbody>\n",
       "</table>\n",
       "</div>"
      ],
      "text/plain": [
       "            thre  father_entropy  condition_entropy0  condition_entropy1  \\\n",
       "10407  1557804.5        0.999995            0.139187            0.842173   \n",
       "\n",
       "       information_gain  \n",
       "10407          0.018635  "
      ]
     },
     "execution_count": 18,
     "metadata": {},
     "output_type": "execute_result"
    }
   ],
   "source": [
    "ent_new[ent_new['thre']== 1557804.5]"
   ]
  },
  {
   "cell_type": "code",
   "execution_count": 19,
   "metadata": {},
   "outputs": [],
   "source": [
    "# credit 存款, 小於等於{金額}留下, SAR=0 Credit_Amt值較大, upper bound\n",
    "# old train set\n",
    "results = pd.DataFrame(columns = ['threshold', 'information gain','SAR', 'Non SAR','newSAM=1_SAR=1(TP)','newSAM=1_SAR=0(FP)',\\\n",
    "                                  'newSAM=0_SAR=1(FN)', 'newSAM=0_SAR=0(TN)', 'recall','filter rate'])\n",
    "ent_old = pd.DataFrame(columns = ['thre', 'father_entropy', 'condition_entropy0', 'condition_entropy1', 'information_gain'])\n",
    "father_entropy = Entropy(train_set, 'TO_SAR')\n",
    "\n",
    "for thre in median:\n",
    "    new_SAM_1 = train_set[train_set['Credit_Amt']<= thre]\n",
    "    new_SAM_0 = train_set[train_set['Credit_Amt']> thre]\n",
    "    TP = new_SAM_1[new_SAM_1['TO_SAR']!= 0].shape[0]\n",
    "    TN = new_SAM_0[new_SAM_0['TO_SAR']== 0].shape[0]\n",
    "    FP = new_SAM_1[new_SAM_1['TO_SAR']== 0].shape[0]\n",
    "    FN = new_SAM_0[new_SAM_0['TO_SAR']!= 0].shape[0]\n",
    "    total = train_set.shape[0]\n",
    "    \n",
    "    condition_entropy0 = Entropy(new_SAM_0, 'TO_SAR') * (len(new_SAM_0) / total)\n",
    "    condition_entropy1 = Entropy(new_SAM_1, 'TO_SAR') * (len(new_SAM_1) / total)\n",
    "    information_gain = father_entropy - (condition_entropy0 + condition_entropy1)\n",
    "    ent_old = ent_old.append({'thre': thre, 'father_entropy': father_entropy, 'condition_entropy0': condition_entropy0, 'condition_entropy1': condition_entropy1, 'information_gain': information_gain}, ignore_index= True)\n",
    "    \n",
    "    results = results.append({'threshold':thre, 'information gain': information_gain, 'SAR':SAR.shape[0], \\\n",
    "                              'Non SAR':Non_SAR.shape[0],\\\n",
    "                              'newSAM=1_SAR=1(TP)':TP, 'newSAM=1_SAR=0(FP)':FP, 'newSAM=0_SAR=1(FN)':FN,\\\n",
    "                              'newSAM=0_SAR=0(TN)':TN, 'recall': str(round(TP/(TP+FN), 4)),\\\n",
    "                              'filter rate':str((round((TN+FN)/total, 4)))}, ignore_index = True)\n",
    "\n",
    "results = results.sort_values(by= 'information gain', ascending= False)"
   ]
  },
  {
   "cell_type": "code",
   "execution_count": 21,
   "metadata": {},
   "outputs": [
    {
     "data": {
      "text/html": [
       "<div>\n",
       "<style scoped>\n",
       "    .dataframe tbody tr th:only-of-type {\n",
       "        vertical-align: middle;\n",
       "    }\n",
       "\n",
       "    .dataframe tbody tr th {\n",
       "        vertical-align: top;\n",
       "    }\n",
       "\n",
       "    .dataframe thead th {\n",
       "        text-align: right;\n",
       "    }\n",
       "</style>\n",
       "<table border=\"1\" class=\"dataframe\">\n",
       "  <thead>\n",
       "    <tr style=\"text-align: right;\">\n",
       "      <th></th>\n",
       "      <th>threshold</th>\n",
       "      <th>information gain</th>\n",
       "      <th>SAR</th>\n",
       "      <th>Non SAR</th>\n",
       "      <th>newSAM=1_SAR=1(TP)</th>\n",
       "      <th>newSAM=1_SAR=0(FP)</th>\n",
       "      <th>newSAM=0_SAR=1(FN)</th>\n",
       "      <th>newSAM=0_SAR=0(TN)</th>\n",
       "      <th>recall</th>\n",
       "      <th>filter rate</th>\n",
       "    </tr>\n",
       "  </thead>\n",
       "  <tbody>\n",
       "    <tr>\n",
       "      <th>10407</th>\n",
       "      <td>1557804.5</td>\n",
       "      <td>0.000347</td>\n",
       "      <td>52065</td>\n",
       "      <td>51794</td>\n",
       "      <td>241</td>\n",
       "      <td>40789</td>\n",
       "      <td>26</td>\n",
       "      <td>11004</td>\n",
       "      <td>0.9026</td>\n",
       "      <td>0.2119</td>\n",
       "    </tr>\n",
       "    <tr>\n",
       "      <th>10408</th>\n",
       "      <td>1558101.0</td>\n",
       "      <td>0.000347</td>\n",
       "      <td>52065</td>\n",
       "      <td>51794</td>\n",
       "      <td>241</td>\n",
       "      <td>40792</td>\n",
       "      <td>26</td>\n",
       "      <td>11001</td>\n",
       "      <td>0.9026</td>\n",
       "      <td>0.2118</td>\n",
       "    </tr>\n",
       "    <tr>\n",
       "      <th>10409</th>\n",
       "      <td>1558264.0</td>\n",
       "      <td>0.000347</td>\n",
       "      <td>52065</td>\n",
       "      <td>51794</td>\n",
       "      <td>241</td>\n",
       "      <td>40793</td>\n",
       "      <td>26</td>\n",
       "      <td>11000</td>\n",
       "      <td>0.9026</td>\n",
       "      <td>0.2118</td>\n",
       "    </tr>\n",
       "    <tr>\n",
       "      <th>10410</th>\n",
       "      <td>1558663.0</td>\n",
       "      <td>0.000347</td>\n",
       "      <td>52065</td>\n",
       "      <td>51794</td>\n",
       "      <td>241</td>\n",
       "      <td>40794</td>\n",
       "      <td>26</td>\n",
       "      <td>10999</td>\n",
       "      <td>0.9026</td>\n",
       "      <td>0.2118</td>\n",
       "    </tr>\n",
       "    <tr>\n",
       "      <th>10411</th>\n",
       "      <td>1559012.0</td>\n",
       "      <td>0.000346</td>\n",
       "      <td>52065</td>\n",
       "      <td>51794</td>\n",
       "      <td>241</td>\n",
       "      <td>40799</td>\n",
       "      <td>26</td>\n",
       "      <td>10994</td>\n",
       "      <td>0.9026</td>\n",
       "      <td>0.2117</td>\n",
       "    </tr>\n",
       "    <tr>\n",
       "      <th>10412</th>\n",
       "      <td>1559037.0</td>\n",
       "      <td>0.000346</td>\n",
       "      <td>52065</td>\n",
       "      <td>51794</td>\n",
       "      <td>241</td>\n",
       "      <td>40800</td>\n",
       "      <td>26</td>\n",
       "      <td>10993</td>\n",
       "      <td>0.9026</td>\n",
       "      <td>0.2117</td>\n",
       "    </tr>\n",
       "    <tr>\n",
       "      <th>10413</th>\n",
       "      <td>1559104.0</td>\n",
       "      <td>0.000346</td>\n",
       "      <td>52065</td>\n",
       "      <td>51794</td>\n",
       "      <td>241</td>\n",
       "      <td>40801</td>\n",
       "      <td>26</td>\n",
       "      <td>10992</td>\n",
       "      <td>0.9026</td>\n",
       "      <td>0.2116</td>\n",
       "    </tr>\n",
       "    <tr>\n",
       "      <th>10414</th>\n",
       "      <td>1559179.0</td>\n",
       "      <td>0.000346</td>\n",
       "      <td>52065</td>\n",
       "      <td>51794</td>\n",
       "      <td>241</td>\n",
       "      <td>40802</td>\n",
       "      <td>26</td>\n",
       "      <td>10991</td>\n",
       "      <td>0.9026</td>\n",
       "      <td>0.2116</td>\n",
       "    </tr>\n",
       "    <tr>\n",
       "      <th>10415</th>\n",
       "      <td>1559496.5</td>\n",
       "      <td>0.000346</td>\n",
       "      <td>52065</td>\n",
       "      <td>51794</td>\n",
       "      <td>241</td>\n",
       "      <td>40803</td>\n",
       "      <td>26</td>\n",
       "      <td>10990</td>\n",
       "      <td>0.9026</td>\n",
       "      <td>0.2116</td>\n",
       "    </tr>\n",
       "    <tr>\n",
       "      <th>10416</th>\n",
       "      <td>1559896.5</td>\n",
       "      <td>0.000346</td>\n",
       "      <td>52065</td>\n",
       "      <td>51794</td>\n",
       "      <td>241</td>\n",
       "      <td>40804</td>\n",
       "      <td>26</td>\n",
       "      <td>10989</td>\n",
       "      <td>0.9026</td>\n",
       "      <td>0.2116</td>\n",
       "    </tr>\n",
       "  </tbody>\n",
       "</table>\n",
       "</div>"
      ],
      "text/plain": [
       "       threshold  information gain    SAR Non SAR newSAM=1_SAR=1(TP)  \\\n",
       "10407  1557804.5          0.000347  52065   51794                241   \n",
       "10408  1558101.0          0.000347  52065   51794                241   \n",
       "10409  1558264.0          0.000347  52065   51794                241   \n",
       "10410  1558663.0          0.000347  52065   51794                241   \n",
       "10411  1559012.0          0.000346  52065   51794                241   \n",
       "10412  1559037.0          0.000346  52065   51794                241   \n",
       "10413  1559104.0          0.000346  52065   51794                241   \n",
       "10414  1559179.0          0.000346  52065   51794                241   \n",
       "10415  1559496.5          0.000346  52065   51794                241   \n",
       "10416  1559896.5          0.000346  52065   51794                241   \n",
       "\n",
       "      newSAM=1_SAR=0(FP) newSAM=0_SAR=1(FN) newSAM=0_SAR=0(TN)  recall  \\\n",
       "10407              40789                 26              11004  0.9026   \n",
       "10408              40792                 26              11001  0.9026   \n",
       "10409              40793                 26              11000  0.9026   \n",
       "10410              40794                 26              10999  0.9026   \n",
       "10411              40799                 26              10994  0.9026   \n",
       "10412              40800                 26              10993  0.9026   \n",
       "10413              40801                 26              10992  0.9026   \n",
       "10414              40802                 26              10991  0.9026   \n",
       "10415              40803                 26              10990  0.9026   \n",
       "10416              40804                 26              10989  0.9026   \n",
       "\n",
       "      filter rate  \n",
       "10407      0.2119  \n",
       "10408      0.2118  \n",
       "10409      0.2118  \n",
       "10410      0.2118  \n",
       "10411      0.2117  \n",
       "10412      0.2117  \n",
       "10413      0.2116  \n",
       "10414      0.2116  \n",
       "10415      0.2116  \n",
       "10416      0.2116  "
      ]
     },
     "execution_count": 21,
     "metadata": {},
     "output_type": "execute_result"
    }
   ],
   "source": [
    "results['recall'] = results['recall'].astype('float')\n",
    "results[results['recall']>0.9].sort_values(by= 'information gain', ascending= False)[:10]"
   ]
  },
  {
   "cell_type": "code",
   "execution_count": 22,
   "metadata": {},
   "outputs": [
    {
     "data": {
      "text/html": [
       "<div>\n",
       "<style scoped>\n",
       "    .dataframe tbody tr th:only-of-type {\n",
       "        vertical-align: middle;\n",
       "    }\n",
       "\n",
       "    .dataframe tbody tr th {\n",
       "        vertical-align: top;\n",
       "    }\n",
       "\n",
       "    .dataframe thead th {\n",
       "        text-align: right;\n",
       "    }\n",
       "</style>\n",
       "<table border=\"1\" class=\"dataframe\">\n",
       "  <thead>\n",
       "    <tr style=\"text-align: right;\">\n",
       "      <th></th>\n",
       "      <th>thre</th>\n",
       "      <th>father_entropy</th>\n",
       "      <th>condition_entropy0</th>\n",
       "      <th>condition_entropy1</th>\n",
       "      <th>information_gain</th>\n",
       "    </tr>\n",
       "  </thead>\n",
       "  <tbody>\n",
       "    <tr>\n",
       "      <th>10407</th>\n",
       "      <td>1557804.5</td>\n",
       "      <td>0.046394</td>\n",
       "      <td>0.005079</td>\n",
       "      <td>0.040968</td>\n",
       "      <td>0.000347</td>\n",
       "    </tr>\n",
       "  </tbody>\n",
       "</table>\n",
       "</div>"
      ],
      "text/plain": [
       "            thre  father_entropy  condition_entropy0  condition_entropy1  \\\n",
       "10407  1557804.5        0.046394            0.005079            0.040968   \n",
       "\n",
       "       information_gain  \n",
       "10407          0.000347  "
      ]
     },
     "execution_count": 22,
     "metadata": {},
     "output_type": "execute_result"
    }
   ],
   "source": [
    "ent_old[ent_old['thre']== 1557804.5]"
   ]
  },
  {
   "cell_type": "code",
   "execution_count": 23,
   "metadata": {},
   "outputs": [
    {
     "data": {
      "text/html": [
       "<div>\n",
       "<style scoped>\n",
       "    .dataframe tbody tr th:only-of-type {\n",
       "        vertical-align: middle;\n",
       "    }\n",
       "\n",
       "    .dataframe tbody tr th {\n",
       "        vertical-align: top;\n",
       "    }\n",
       "\n",
       "    .dataframe thead th {\n",
       "        text-align: right;\n",
       "    }\n",
       "</style>\n",
       "<table border=\"1\" class=\"dataframe\">\n",
       "  <thead>\n",
       "    <tr style=\"text-align: right;\">\n",
       "      <th></th>\n",
       "      <th>threshold</th>\n",
       "      <th>information gain</th>\n",
       "      <th>SAR</th>\n",
       "      <th>Non SAR</th>\n",
       "      <th>newSAM=1_SAR=1(TP)</th>\n",
       "      <th>newSAM=1_SAR=0(FP)</th>\n",
       "      <th>newSAM=0_SAR=1(FN)</th>\n",
       "      <th>newSAM=0_SAR=0(TN)</th>\n",
       "      <th>recall</th>\n",
       "      <th>filter rate</th>\n",
       "    </tr>\n",
       "  </thead>\n",
       "  <tbody>\n",
       "    <tr>\n",
       "      <th>0</th>\n",
       "      <td>1557804.5</td>\n",
       "      <td>0.000217</td>\n",
       "      <td>52065</td>\n",
       "      <td>51794</td>\n",
       "      <td>162</td>\n",
       "      <td>26758</td>\n",
       "      <td>17</td>\n",
       "      <td>7772</td>\n",
       "      <td>0.905</td>\n",
       "      <td>0.2244</td>\n",
       "    </tr>\n",
       "  </tbody>\n",
       "</table>\n",
       "</div>"
      ],
      "text/plain": [
       "   threshold  information gain    SAR Non SAR newSAM=1_SAR=1(TP)  \\\n",
       "0  1557804.5          0.000217  52065   51794                162   \n",
       "\n",
       "  newSAM=1_SAR=0(FP) newSAM=0_SAR=1(FN) newSAM=0_SAR=0(TN) recall filter rate  \n",
       "0              26758                 17               7772  0.905      0.2244  "
      ]
     },
     "metadata": {},
     "output_type": "display_data"
    }
   ],
   "source": [
    "# test set\n",
    "results = pd.DataFrame(columns = ['threshold', 'information gain','SAR', 'Non SAR','newSAM=1_SAR=1(TP)','newSAM=1_SAR=0(FP)',\\\n",
    "                                  'newSAM=0_SAR=1(FN)', 'newSAM=0_SAR=0(TN)', 'recall','filter rate'])\n",
    "thre = 1557804.5\n",
    "\n",
    "father_entropy = Entropy(train_set, 'TO_SAR')\n",
    "new_SAM_1 = test_set[test_set['Credit_Amt']<= thre]\n",
    "new_SAM_0 = test_set[test_set['Credit_Amt']> thre]\n",
    "TP = new_SAM_1[new_SAM_1['TO_SAR']!= 0].shape[0]\n",
    "TN = new_SAM_0[new_SAM_0['TO_SAR']== 0].shape[0]\n",
    "FP = new_SAM_1[new_SAM_1['TO_SAR']== 0].shape[0]\n",
    "FN = new_SAM_0[new_SAM_0['TO_SAR']!= 0].shape[0]\n",
    "total = test_set.shape[0]\n",
    "\n",
    "condition_entropy0 = Entropy(new_SAM_0, 'TO_SAR') * (len(new_SAM_0) / total)\n",
    "condition_entropy1 = Entropy(new_SAM_1, 'TO_SAR') * (len(new_SAM_1) / total)\n",
    "information_gain = father_entropy - (condition_entropy0 + condition_entropy1)\n",
    "\n",
    "results = results.append({'threshold':thre, 'information gain': information_gain, 'SAR':SAR.shape[0], \\\n",
    "                            'Non SAR':Non_SAR.shape[0],\\\n",
    "                            'newSAM=1_SAR=1(TP)':TP, 'newSAM=1_SAR=0(FP)':FP, 'newSAM=0_SAR=1(FN)':FN,\\\n",
    "                            'newSAM=0_SAR=0(TN)':TN, 'recall': str(round(TP/(TP+FN), 4)),\\\n",
    "                            'filter rate':str((round((TN+FN)/total, 4)))}, ignore_index = True)\n",
    "display(results)    "
   ]
  },
  {
   "cell_type": "markdown",
   "metadata": {},
   "source": [
    "### threshold: 現金存款累計次數>=&1101_trans_num次"
   ]
  },
  {
   "cell_type": "code",
   "execution_count": 24,
   "metadata": {},
   "outputs": [
    {
     "name": "stdout",
     "output_type": "stream",
     "text": [
      "len of median: 218\n"
     ]
    }
   ],
   "source": [
    "median = SplitMedian(new_train_set, 'number_of_Credit')"
   ]
  },
  {
   "cell_type": "code",
   "execution_count": 26,
   "metadata": {},
   "outputs": [],
   "source": [
    "# Credit 提款金額 小於等於{金額}留下, SAR=0 number_of_Cedit值較大, upper bound\n",
    "# new train set\n",
    "\n",
    "results = pd.DataFrame(columns = ['threshold', 'information gain','SAR', 'Non SAR','newSAM=1_SAR=1(TP)','newSAM=1_SAR=0(FP)',\\\n",
    "                                  'newSAM=0_SAR=1(FN)', 'newSAM=0_SAR=0(TN)', 'recall','filter rate'])\n",
    "ent_new = pd.DataFrame(columns = ['thre', 'father_entropy', 'condition_entropy0', 'condition_entropy1', 'information_gain'])\n",
    "father_entropy = Entropy(new_train_set, 'TO_SAR')\n",
    "\n",
    "for thre in median:\n",
    "    new_SAM_1 = new_train_set[new_train_set['number_of_Credit']<= thre]\n",
    "    new_SAM_0 = new_train_set[new_train_set['number_of_Credit']> thre]\n",
    "    TP = new_SAM_1[new_SAM_1['TO_SAR']!= 0].shape[0]\n",
    "    TN = new_SAM_0[new_SAM_0['TO_SAR']== 0].shape[0]\n",
    "    FP = new_SAM_1[new_SAM_1['TO_SAR']== 0].shape[0]\n",
    "    FN = new_SAM_0[new_SAM_0['TO_SAR']!= 0].shape[0]\n",
    "    total = new_train_set.shape[0]\n",
    "    \n",
    "    condition_entropy0 = Entropy(new_SAM_0, 'TO_SAR') * (len(new_SAM_0) / total)\n",
    "    condition_entropy1 = Entropy(new_SAM_1, 'TO_SAR') * (len(new_SAM_1) / total)\n",
    "    information_gain = father_entropy - (condition_entropy0 + condition_entropy1)\n",
    "    ent_new = ent_new.append({'thre': thre, 'father_entropy': father_entropy, 'condition_entropy0': condition_entropy0, 'condition_entropy1': condition_entropy1, 'information_gain': information_gain}, ignore_index= True)\n",
    "    \n",
    "    results = results.append({'threshold':thre, 'information gain': information_gain, 'SAR':SAR.shape[0], \\\n",
    "                              'Non SAR':Non_SAR.shape[0],\\\n",
    "                              'newSAM=1_SAR=1(TP)':TP, 'newSAM=1_SAR=0(FP)':FP, 'newSAM=0_SAR=1(FN)':FN,\\\n",
    "                              'newSAM=0_SAR=0(TN)':TN, 'recall': str(round(TP/(TP+FN), 4)),\\\n",
    "                              'filter rate':str((round((TN+FN)/total, 4)))}, ignore_index = True)\n",
    "\n",
    "results = results.sort_values(by= 'information gain', ascending= False)"
   ]
  },
  {
   "cell_type": "code",
   "execution_count": 27,
   "metadata": {},
   "outputs": [
    {
     "data": {
      "text/html": [
       "<div>\n",
       "<style scoped>\n",
       "    .dataframe tbody tr th:only-of-type {\n",
       "        vertical-align: middle;\n",
       "    }\n",
       "\n",
       "    .dataframe tbody tr th {\n",
       "        vertical-align: top;\n",
       "    }\n",
       "\n",
       "    .dataframe thead th {\n",
       "        text-align: right;\n",
       "    }\n",
       "</style>\n",
       "<table border=\"1\" class=\"dataframe\">\n",
       "  <thead>\n",
       "    <tr style=\"text-align: right;\">\n",
       "      <th></th>\n",
       "      <th>threshold</th>\n",
       "      <th>information gain</th>\n",
       "      <th>SAR</th>\n",
       "      <th>Non SAR</th>\n",
       "      <th>newSAM=1_SAR=1(TP)</th>\n",
       "      <th>newSAM=1_SAR=0(FP)</th>\n",
       "      <th>newSAM=0_SAR=1(FN)</th>\n",
       "      <th>newSAM=0_SAR=0(TN)</th>\n",
       "      <th>recall</th>\n",
       "      <th>filter rate</th>\n",
       "    </tr>\n",
       "  </thead>\n",
       "  <tbody>\n",
       "    <tr>\n",
       "      <th>22</th>\n",
       "      <td>22.5</td>\n",
       "      <td>0.004870</td>\n",
       "      <td>52065</td>\n",
       "      <td>51794</td>\n",
       "      <td>49335</td>\n",
       "      <td>46870</td>\n",
       "      <td>2730</td>\n",
       "      <td>4923</td>\n",
       "      <td>0.9476</td>\n",
       "      <td>0.0737</td>\n",
       "    </tr>\n",
       "    <tr>\n",
       "      <th>19</th>\n",
       "      <td>19.5</td>\n",
       "      <td>0.004692</td>\n",
       "      <td>52065</td>\n",
       "      <td>51794</td>\n",
       "      <td>48165</td>\n",
       "      <td>45434</td>\n",
       "      <td>3900</td>\n",
       "      <td>6359</td>\n",
       "      <td>0.9251</td>\n",
       "      <td>0.0988</td>\n",
       "    </tr>\n",
       "    <tr>\n",
       "      <th>33</th>\n",
       "      <td>33.5</td>\n",
       "      <td>0.004192</td>\n",
       "      <td>52065</td>\n",
       "      <td>51794</td>\n",
       "      <td>51090</td>\n",
       "      <td>49457</td>\n",
       "      <td>975</td>\n",
       "      <td>2336</td>\n",
       "      <td>0.9813</td>\n",
       "      <td>0.0319</td>\n",
       "    </tr>\n",
       "    <tr>\n",
       "      <th>21</th>\n",
       "      <td>21.5</td>\n",
       "      <td>0.004019</td>\n",
       "      <td>52065</td>\n",
       "      <td>51794</td>\n",
       "      <td>48750</td>\n",
       "      <td>46360</td>\n",
       "      <td>3315</td>\n",
       "      <td>5433</td>\n",
       "      <td>0.9363</td>\n",
       "      <td>0.0842</td>\n",
       "    </tr>\n",
       "    <tr>\n",
       "      <th>29</th>\n",
       "      <td>29.5</td>\n",
       "      <td>0.003853</td>\n",
       "      <td>52065</td>\n",
       "      <td>51794</td>\n",
       "      <td>50700</td>\n",
       "      <td>48961</td>\n",
       "      <td>1365</td>\n",
       "      <td>2832</td>\n",
       "      <td>0.9738</td>\n",
       "      <td>0.0404</td>\n",
       "    </tr>\n",
       "    <tr>\n",
       "      <th>...</th>\n",
       "      <td>...</td>\n",
       "      <td>...</td>\n",
       "      <td>...</td>\n",
       "      <td>...</td>\n",
       "      <td>...</td>\n",
       "      <td>...</td>\n",
       "      <td>...</td>\n",
       "      <td>...</td>\n",
       "      <td>...</td>\n",
       "      <td>...</td>\n",
       "    </tr>\n",
       "    <tr>\n",
       "      <th>213</th>\n",
       "      <td>829.5</td>\n",
       "      <td>0.000068</td>\n",
       "      <td>52065</td>\n",
       "      <td>51794</td>\n",
       "      <td>52065</td>\n",
       "      <td>51787</td>\n",
       "      <td>0</td>\n",
       "      <td>6</td>\n",
       "      <td>1.0000</td>\n",
       "      <td>0.0001</td>\n",
       "    </tr>\n",
       "    <tr>\n",
       "      <th>214</th>\n",
       "      <td>835.0</td>\n",
       "      <td>0.000058</td>\n",
       "      <td>52065</td>\n",
       "      <td>51794</td>\n",
       "      <td>52065</td>\n",
       "      <td>51788</td>\n",
       "      <td>0</td>\n",
       "      <td>5</td>\n",
       "      <td>1.0000</td>\n",
       "      <td>0.0</td>\n",
       "    </tr>\n",
       "    <tr>\n",
       "      <th>215</th>\n",
       "      <td>837.0</td>\n",
       "      <td>0.000048</td>\n",
       "      <td>52065</td>\n",
       "      <td>51794</td>\n",
       "      <td>52065</td>\n",
       "      <td>51789</td>\n",
       "      <td>0</td>\n",
       "      <td>4</td>\n",
       "      <td>1.0000</td>\n",
       "      <td>0.0</td>\n",
       "    </tr>\n",
       "    <tr>\n",
       "      <th>216</th>\n",
       "      <td>840.5</td>\n",
       "      <td>0.000029</td>\n",
       "      <td>52065</td>\n",
       "      <td>51794</td>\n",
       "      <td>52065</td>\n",
       "      <td>51791</td>\n",
       "      <td>0</td>\n",
       "      <td>2</td>\n",
       "      <td>1.0000</td>\n",
       "      <td>0.0</td>\n",
       "    </tr>\n",
       "    <tr>\n",
       "      <th>217</th>\n",
       "      <td>847.5</td>\n",
       "      <td>0.000019</td>\n",
       "      <td>52065</td>\n",
       "      <td>51794</td>\n",
       "      <td>52065</td>\n",
       "      <td>51792</td>\n",
       "      <td>0</td>\n",
       "      <td>1</td>\n",
       "      <td>1.0000</td>\n",
       "      <td>0.0</td>\n",
       "    </tr>\n",
       "  </tbody>\n",
       "</table>\n",
       "<p>201 rows × 10 columns</p>\n",
       "</div>"
      ],
      "text/plain": [
       "     threshold  information gain    SAR Non SAR newSAM=1_SAR=1(TP)  \\\n",
       "22        22.5          0.004870  52065   51794              49335   \n",
       "19        19.5          0.004692  52065   51794              48165   \n",
       "33        33.5          0.004192  52065   51794              51090   \n",
       "21        21.5          0.004019  52065   51794              48750   \n",
       "29        29.5          0.003853  52065   51794              50700   \n",
       "..         ...               ...    ...     ...                ...   \n",
       "213      829.5          0.000068  52065   51794              52065   \n",
       "214      835.0          0.000058  52065   51794              52065   \n",
       "215      837.0          0.000048  52065   51794              52065   \n",
       "216      840.5          0.000029  52065   51794              52065   \n",
       "217      847.5          0.000019  52065   51794              52065   \n",
       "\n",
       "    newSAM=1_SAR=0(FP) newSAM=0_SAR=1(FN) newSAM=0_SAR=0(TN)  recall  \\\n",
       "22               46870               2730               4923  0.9476   \n",
       "19               45434               3900               6359  0.9251   \n",
       "33               49457                975               2336  0.9813   \n",
       "21               46360               3315               5433  0.9363   \n",
       "29               48961               1365               2832  0.9738   \n",
       "..                 ...                ...                ...     ...   \n",
       "213              51787                  0                  6  1.0000   \n",
       "214              51788                  0                  5  1.0000   \n",
       "215              51789                  0                  4  1.0000   \n",
       "216              51791                  0                  2  1.0000   \n",
       "217              51792                  0                  1  1.0000   \n",
       "\n",
       "    filter rate  \n",
       "22       0.0737  \n",
       "19       0.0988  \n",
       "33       0.0319  \n",
       "21       0.0842  \n",
       "29       0.0404  \n",
       "..          ...  \n",
       "213      0.0001  \n",
       "214         0.0  \n",
       "215         0.0  \n",
       "216         0.0  \n",
       "217         0.0  \n",
       "\n",
       "[201 rows x 10 columns]"
      ]
     },
     "execution_count": 27,
     "metadata": {},
     "output_type": "execute_result"
    }
   ],
   "source": [
    "results['recall'] = results['recall'].astype('float64')\n",
    "results[results['recall']>= 0.9].sort_values(by= 'information gain', ascending= False)"
   ]
  },
  {
   "cell_type": "code",
   "execution_count": 28,
   "metadata": {},
   "outputs": [
    {
     "data": {
      "text/html": [
       "<div>\n",
       "<style scoped>\n",
       "    .dataframe tbody tr th:only-of-type {\n",
       "        vertical-align: middle;\n",
       "    }\n",
       "\n",
       "    .dataframe tbody tr th {\n",
       "        vertical-align: top;\n",
       "    }\n",
       "\n",
       "    .dataframe thead th {\n",
       "        text-align: right;\n",
       "    }\n",
       "</style>\n",
       "<table border=\"1\" class=\"dataframe\">\n",
       "  <thead>\n",
       "    <tr style=\"text-align: right;\">\n",
       "      <th></th>\n",
       "      <th>thre</th>\n",
       "      <th>father_entropy</th>\n",
       "      <th>condition_entropy0</th>\n",
       "      <th>condition_entropy1</th>\n",
       "      <th>information_gain</th>\n",
       "    </tr>\n",
       "  </thead>\n",
       "  <tbody>\n",
       "    <tr>\n",
       "      <th>22</th>\n",
       "      <td>22.5</td>\n",
       "      <td>0.999995</td>\n",
       "      <td>0.06926</td>\n",
       "      <td>0.925865</td>\n",
       "      <td>0.00487</td>\n",
       "    </tr>\n",
       "  </tbody>\n",
       "</table>\n",
       "</div>"
      ],
      "text/plain": [
       "    thre  father_entropy  condition_entropy0  condition_entropy1  \\\n",
       "22  22.5        0.999995             0.06926            0.925865   \n",
       "\n",
       "    information_gain  \n",
       "22           0.00487  "
      ]
     },
     "execution_count": 28,
     "metadata": {},
     "output_type": "execute_result"
    }
   ],
   "source": [
    "ent_new[ent_new['thre'] == 22.5]"
   ]
  },
  {
   "cell_type": "code",
   "execution_count": 29,
   "metadata": {},
   "outputs": [],
   "source": [
    "# Credit 提款金額 小於等於{金額}留下, SAR=0 number_of_Cedit值較大, upper bound\n",
    "# old train set\n",
    "\n",
    "results = pd.DataFrame(columns = ['threshold', 'information gain','SAR', 'Non SAR','newSAM=1_SAR=1(TP)','newSAM=1_SAR=0(FP)',\\\n",
    "                                  'newSAM=0_SAR=1(FN)', 'newSAM=0_SAR=0(TN)', 'recall','filter rate'])\n",
    "ent_old = pd.DataFrame(columns = ['thre', 'father_entropy', 'condition_entropy0', 'condition_entropy1', 'information_gain'])\n",
    "father_entropy = Entropy(train_set, 'TO_SAR')\n",
    "for thre in median:\n",
    "    new_SAM_1 = train_set[train_set['number_of_Credit']<= thre]\n",
    "    new_SAM_0 = train_set[train_set['number_of_Credit']> thre]\n",
    "    TP = new_SAM_1[new_SAM_1['TO_SAR']!= 0].shape[0]\n",
    "    TN = new_SAM_0[new_SAM_0['TO_SAR']== 0].shape[0]\n",
    "    FP = new_SAM_1[new_SAM_1['TO_SAR']== 0].shape[0]\n",
    "    FN = new_SAM_0[new_SAM_0['TO_SAR']!= 0].shape[0]\n",
    "    total = train_set.shape[0]\n",
    "    \n",
    "    condition_entropy0 = Entropy(new_SAM_0, 'TO_SAR') * (len(new_SAM_0) / total)\n",
    "    condition_entropy1 = Entropy(new_SAM_1, 'TO_SAR') * (len(new_SAM_1) / total)\n",
    "    information_gain = father_entropy - (condition_entropy0 + condition_entropy1)\n",
    "    ent_old = ent_old.append({'thre': thre, 'father_entropy': father_entropy, 'condition_entropy0': condition_entropy0, 'condition_entropy1': condition_entropy1, 'information_gain': information_gain}, ignore_index= True)\n",
    "    \n",
    "    results = results.append({'threshold':thre, 'information gain': information_gain, 'SAR':SAR.shape[0], \\\n",
    "                              'Non SAR':Non_SAR.shape[0],\\\n",
    "                              'newSAM=1_SAR=1(TP)':TP, 'newSAM=1_SAR=0(FP)':FP, 'newSAM=0_SAR=1(FN)':FN,\\\n",
    "                              'newSAM=0_SAR=0(TN)':TN, 'recall': str(round(TP/(TP+FN), 4)),\\\n",
    "                              'filter rate':str((round((TN+FN)/total, 4)))}, ignore_index = True)\n",
    "\n",
    "results = results.sort_values(by= 'information gain', ascending= False)"
   ]
  },
  {
   "cell_type": "code",
   "execution_count": 31,
   "metadata": {},
   "outputs": [
    {
     "data": {
      "text/html": [
       "<div>\n",
       "<style scoped>\n",
       "    .dataframe tbody tr th:only-of-type {\n",
       "        vertical-align: middle;\n",
       "    }\n",
       "\n",
       "    .dataframe tbody tr th {\n",
       "        vertical-align: top;\n",
       "    }\n",
       "\n",
       "    .dataframe thead th {\n",
       "        text-align: right;\n",
       "    }\n",
       "</style>\n",
       "<table border=\"1\" class=\"dataframe\">\n",
       "  <thead>\n",
       "    <tr style=\"text-align: right;\">\n",
       "      <th></th>\n",
       "      <th>threshold</th>\n",
       "      <th>information gain</th>\n",
       "      <th>SAR</th>\n",
       "      <th>Non SAR</th>\n",
       "      <th>newSAM=1_SAR=1(TP)</th>\n",
       "      <th>newSAM=1_SAR=0(FP)</th>\n",
       "      <th>newSAM=0_SAR=1(FN)</th>\n",
       "      <th>newSAM=0_SAR=0(TN)</th>\n",
       "      <th>recall</th>\n",
       "      <th>filter rate</th>\n",
       "    </tr>\n",
       "  </thead>\n",
       "  <tbody>\n",
       "    <tr>\n",
       "      <th>22</th>\n",
       "      <td>22.5</td>\n",
       "      <td>9.159450e-05</td>\n",
       "      <td>52065</td>\n",
       "      <td>51794</td>\n",
       "      <td>253</td>\n",
       "      <td>46870</td>\n",
       "      <td>14</td>\n",
       "      <td>4923</td>\n",
       "      <td>0.9476</td>\n",
       "      <td>0.0948</td>\n",
       "    </tr>\n",
       "    <tr>\n",
       "      <th>19</th>\n",
       "      <td>19.5</td>\n",
       "      <td>8.956407e-05</td>\n",
       "      <td>52065</td>\n",
       "      <td>51794</td>\n",
       "      <td>247</td>\n",
       "      <td>45434</td>\n",
       "      <td>20</td>\n",
       "      <td>6359</td>\n",
       "      <td>0.9251</td>\n",
       "      <td>0.1225</td>\n",
       "    </tr>\n",
       "    <tr>\n",
       "      <th>21</th>\n",
       "      <td>21.5</td>\n",
       "      <td>7.655839e-05</td>\n",
       "      <td>52065</td>\n",
       "      <td>51794</td>\n",
       "      <td>250</td>\n",
       "      <td>46360</td>\n",
       "      <td>17</td>\n",
       "      <td>5433</td>\n",
       "      <td>0.9363</td>\n",
       "      <td>0.1047</td>\n",
       "    </tr>\n",
       "    <tr>\n",
       "      <th>33</th>\n",
       "      <td>33.5</td>\n",
       "      <td>7.587085e-05</td>\n",
       "      <td>52065</td>\n",
       "      <td>51794</td>\n",
       "      <td>262</td>\n",
       "      <td>49457</td>\n",
       "      <td>5</td>\n",
       "      <td>2336</td>\n",
       "      <td>0.9813</td>\n",
       "      <td>0.045</td>\n",
       "    </tr>\n",
       "    <tr>\n",
       "      <th>17</th>\n",
       "      <td>17.5</td>\n",
       "      <td>7.232711e-05</td>\n",
       "      <td>52065</td>\n",
       "      <td>51794</td>\n",
       "      <td>241</td>\n",
       "      <td>44331</td>\n",
       "      <td>26</td>\n",
       "      <td>7462</td>\n",
       "      <td>0.9026</td>\n",
       "      <td>0.1438</td>\n",
       "    </tr>\n",
       "    <tr>\n",
       "      <th>...</th>\n",
       "      <td>...</td>\n",
       "      <td>...</td>\n",
       "      <td>...</td>\n",
       "      <td>...</td>\n",
       "      <td>...</td>\n",
       "      <td>...</td>\n",
       "      <td>...</td>\n",
       "      <td>...</td>\n",
       "      <td>...</td>\n",
       "      <td>...</td>\n",
       "    </tr>\n",
       "    <tr>\n",
       "      <th>213</th>\n",
       "      <td>829.5</td>\n",
       "      <td>9.974799e-07</td>\n",
       "      <td>52065</td>\n",
       "      <td>51794</td>\n",
       "      <td>267</td>\n",
       "      <td>51787</td>\n",
       "      <td>0</td>\n",
       "      <td>6</td>\n",
       "      <td>1.0000</td>\n",
       "      <td>0.0001</td>\n",
       "    </tr>\n",
       "    <tr>\n",
       "      <th>214</th>\n",
       "      <td>835.0</td>\n",
       "      <td>8.549745e-07</td>\n",
       "      <td>52065</td>\n",
       "      <td>51794</td>\n",
       "      <td>267</td>\n",
       "      <td>51788</td>\n",
       "      <td>0</td>\n",
       "      <td>5</td>\n",
       "      <td>1.0000</td>\n",
       "      <td>0.0001</td>\n",
       "    </tr>\n",
       "    <tr>\n",
       "      <th>215</th>\n",
       "      <td>837.0</td>\n",
       "      <td>7.124719e-07</td>\n",
       "      <td>52065</td>\n",
       "      <td>51794</td>\n",
       "      <td>267</td>\n",
       "      <td>51789</td>\n",
       "      <td>0</td>\n",
       "      <td>4</td>\n",
       "      <td>1.0000</td>\n",
       "      <td>0.0001</td>\n",
       "    </tr>\n",
       "    <tr>\n",
       "      <th>216</th>\n",
       "      <td>840.5</td>\n",
       "      <td>4.274749e-07</td>\n",
       "      <td>52065</td>\n",
       "      <td>51794</td>\n",
       "      <td>267</td>\n",
       "      <td>51791</td>\n",
       "      <td>0</td>\n",
       "      <td>2</td>\n",
       "      <td>1.0000</td>\n",
       "      <td>0.0</td>\n",
       "    </tr>\n",
       "    <tr>\n",
       "      <th>217</th>\n",
       "      <td>847.5</td>\n",
       "      <td>2.849805e-07</td>\n",
       "      <td>52065</td>\n",
       "      <td>51794</td>\n",
       "      <td>267</td>\n",
       "      <td>51792</td>\n",
       "      <td>0</td>\n",
       "      <td>1</td>\n",
       "      <td>1.0000</td>\n",
       "      <td>0.0</td>\n",
       "    </tr>\n",
       "  </tbody>\n",
       "</table>\n",
       "<p>201 rows × 10 columns</p>\n",
       "</div>"
      ],
      "text/plain": [
       "     threshold  information gain    SAR Non SAR newSAM=1_SAR=1(TP)  \\\n",
       "22        22.5      9.159450e-05  52065   51794                253   \n",
       "19        19.5      8.956407e-05  52065   51794                247   \n",
       "21        21.5      7.655839e-05  52065   51794                250   \n",
       "33        33.5      7.587085e-05  52065   51794                262   \n",
       "17        17.5      7.232711e-05  52065   51794                241   \n",
       "..         ...               ...    ...     ...                ...   \n",
       "213      829.5      9.974799e-07  52065   51794                267   \n",
       "214      835.0      8.549745e-07  52065   51794                267   \n",
       "215      837.0      7.124719e-07  52065   51794                267   \n",
       "216      840.5      4.274749e-07  52065   51794                267   \n",
       "217      847.5      2.849805e-07  52065   51794                267   \n",
       "\n",
       "    newSAM=1_SAR=0(FP) newSAM=0_SAR=1(FN) newSAM=0_SAR=0(TN)  recall  \\\n",
       "22               46870                 14               4923  0.9476   \n",
       "19               45434                 20               6359  0.9251   \n",
       "21               46360                 17               5433  0.9363   \n",
       "33               49457                  5               2336  0.9813   \n",
       "17               44331                 26               7462  0.9026   \n",
       "..                 ...                ...                ...     ...   \n",
       "213              51787                  0                  6  1.0000   \n",
       "214              51788                  0                  5  1.0000   \n",
       "215              51789                  0                  4  1.0000   \n",
       "216              51791                  0                  2  1.0000   \n",
       "217              51792                  0                  1  1.0000   \n",
       "\n",
       "    filter rate  \n",
       "22       0.0948  \n",
       "19       0.1225  \n",
       "21       0.1047  \n",
       "33        0.045  \n",
       "17       0.1438  \n",
       "..          ...  \n",
       "213      0.0001  \n",
       "214      0.0001  \n",
       "215      0.0001  \n",
       "216         0.0  \n",
       "217         0.0  \n",
       "\n",
       "[201 rows x 10 columns]"
      ]
     },
     "execution_count": 31,
     "metadata": {},
     "output_type": "execute_result"
    }
   ],
   "source": [
    "results['recall'] = results['recall'].astype('float64')\n",
    "results[results['recall']>= 0.9].sort_values(by= 'information gain', ascending= False)"
   ]
  },
  {
   "cell_type": "code",
   "execution_count": 30,
   "metadata": {},
   "outputs": [
    {
     "data": {
      "text/html": [
       "<div>\n",
       "<style scoped>\n",
       "    .dataframe tbody tr th:only-of-type {\n",
       "        vertical-align: middle;\n",
       "    }\n",
       "\n",
       "    .dataframe tbody tr th {\n",
       "        vertical-align: top;\n",
       "    }\n",
       "\n",
       "    .dataframe thead th {\n",
       "        text-align: right;\n",
       "    }\n",
       "</style>\n",
       "<table border=\"1\" class=\"dataframe\">\n",
       "  <thead>\n",
       "    <tr style=\"text-align: right;\">\n",
       "      <th></th>\n",
       "      <th>thre</th>\n",
       "      <th>father_entropy</th>\n",
       "      <th>condition_entropy0</th>\n",
       "      <th>condition_entropy1</th>\n",
       "      <th>information_gain</th>\n",
       "    </tr>\n",
       "  </thead>\n",
       "  <tbody>\n",
       "    <tr>\n",
       "      <th>22</th>\n",
       "      <td>22.5</td>\n",
       "      <td>0.046394</td>\n",
       "      <td>0.002663</td>\n",
       "      <td>0.04364</td>\n",
       "      <td>0.000092</td>\n",
       "    </tr>\n",
       "  </tbody>\n",
       "</table>\n",
       "</div>"
      ],
      "text/plain": [
       "    thre  father_entropy  condition_entropy0  condition_entropy1  \\\n",
       "22  22.5        0.046394            0.002663             0.04364   \n",
       "\n",
       "    information_gain  \n",
       "22          0.000092  "
      ]
     },
     "execution_count": 30,
     "metadata": {},
     "output_type": "execute_result"
    }
   ],
   "source": [
    "ent_old[ent_old['thre'] == 22.5]"
   ]
  },
  {
   "cell_type": "code",
   "execution_count": 32,
   "metadata": {},
   "outputs": [
    {
     "data": {
      "text/html": [
       "<div>\n",
       "<style scoped>\n",
       "    .dataframe tbody tr th:only-of-type {\n",
       "        vertical-align: middle;\n",
       "    }\n",
       "\n",
       "    .dataframe tbody tr th {\n",
       "        vertical-align: top;\n",
       "    }\n",
       "\n",
       "    .dataframe thead th {\n",
       "        text-align: right;\n",
       "    }\n",
       "</style>\n",
       "<table border=\"1\" class=\"dataframe\">\n",
       "  <thead>\n",
       "    <tr style=\"text-align: right;\">\n",
       "      <th></th>\n",
       "      <th>threshold</th>\n",
       "      <th>information gain</th>\n",
       "      <th>SAR</th>\n",
       "      <th>Non SAR</th>\n",
       "      <th>newSAM=1_SAR=1(TP)</th>\n",
       "      <th>newSAM=1_SAR=0(FP)</th>\n",
       "      <th>newSAM=0_SAR=1(FN)</th>\n",
       "      <th>newSAM=0_SAR=0(TN)</th>\n",
       "      <th>recall</th>\n",
       "      <th>filter rate</th>\n",
       "    </tr>\n",
       "  </thead>\n",
       "  <tbody>\n",
       "    <tr>\n",
       "      <th>0</th>\n",
       "      <td>22.5</td>\n",
       "      <td>0.000063</td>\n",
       "      <td>52065</td>\n",
       "      <td>51794</td>\n",
       "      <td>175</td>\n",
       "      <td>31472</td>\n",
       "      <td>4</td>\n",
       "      <td>3058</td>\n",
       "      <td>0.9777</td>\n",
       "      <td>0.0882</td>\n",
       "    </tr>\n",
       "  </tbody>\n",
       "</table>\n",
       "</div>"
      ],
      "text/plain": [
       "   threshold  information gain    SAR Non SAR newSAM=1_SAR=1(TP)  \\\n",
       "0       22.5          0.000063  52065   51794                175   \n",
       "\n",
       "  newSAM=1_SAR=0(FP) newSAM=0_SAR=1(FN) newSAM=0_SAR=0(TN)  recall filter rate  \n",
       "0              31472                  4               3058  0.9777      0.0882  "
      ]
     },
     "metadata": {},
     "output_type": "display_data"
    }
   ],
   "source": [
    "# test set\n",
    "results = pd.DataFrame(columns = ['threshold', 'information gain','SAR', 'Non SAR','newSAM=1_SAR=1(TP)','newSAM=1_SAR=0(FP)',\\\n",
    "                                  'newSAM=0_SAR=1(FN)', 'newSAM=0_SAR=0(TN)', 'recall','filter rate'])\n",
    "thre = 22.5\n",
    "\n",
    "father_entropy = Entropy(train_set, 'TO_SAR')\n",
    "new_SAM_1 = test_set[test_set['number_of_Credit']<= thre]\n",
    "new_SAM_0 = test_set[test_set['number_of_Credit']> thre]\n",
    "TP = new_SAM_1[new_SAM_1['TO_SAR']!= 0].shape[0]\n",
    "TN = new_SAM_0[new_SAM_0['TO_SAR']== 0].shape[0]\n",
    "FP = new_SAM_1[new_SAM_1['TO_SAR']== 0].shape[0]\n",
    "FN = new_SAM_0[new_SAM_0['TO_SAR']!= 0].shape[0]\n",
    "total = test_set.shape[0]\n",
    "\n",
    "condition_entropy0 = Entropy(new_SAM_0, 'TO_SAR') * (len(new_SAM_0) / total)\n",
    "condition_entropy1 = Entropy(new_SAM_1, 'TO_SAR') * (len(new_SAM_1) / total)\n",
    "information_gain = father_entropy - (condition_entropy0 + condition_entropy1)\n",
    "\n",
    "results = results.append({'threshold':thre, 'information gain': information_gain, 'SAR':SAR.shape[0], \\\n",
    "                            'Non SAR':Non_SAR.shape[0],\\\n",
    "                            'newSAM=1_SAR=1(TP)':TP, 'newSAM=1_SAR=0(FP)':FP, 'newSAM=0_SAR=1(FN)':FN,\\\n",
    "                            'newSAM=0_SAR=0(TN)':TN, 'recall': str(round(TP/(TP+FN), 4)),\\\n",
    "                            'filter rate':str((round((TN+FN)/total, 4)))}, ignore_index = True)\n",
    "display(results)    "
   ]
  },
  {
   "cell_type": "markdown",
   "metadata": {},
   "source": [
    "### threshold: 現金提款累積>=&1101_amount元"
   ]
  },
  {
   "cell_type": "code",
   "execution_count": 48,
   "metadata": {},
   "outputs": [
    {
     "name": "stdout",
     "output_type": "stream",
     "text": [
      "len of median: 14527\n"
     ]
    }
   ],
   "source": [
    "median = SplitMedian(new_train_set, 'Debit_Amt')"
   ]
  },
  {
   "cell_type": "code",
   "execution_count": 49,
   "metadata": {},
   "outputs": [],
   "source": [
    "# new train set\n",
    "results = pd.DataFrame(columns = ['threshold', 'information gain','SAR', 'Non SAR','newSAM=1_SAR=1(TP)','newSAM=1_SAR=0(FP)',\\\n",
    "                                  'newSAM=0_SAR=1(FN)', 'newSAM=0_SAR=0(TN)', 'recall','filter rate'])\n",
    "ent = pd.DataFrame(columns = ['thre', 'father_entropy', 'condition_entropy0', 'condition_entropy1', 'information_gain'])\n",
    "\n",
    "father_entropy = Entropy(new_train_set, 'TO_SAR')\n",
    "for thre in median:\n",
    "    new_SAM_1 = new_train_set[new_train_set['Debit_Amt']<= thre]\n",
    "    new_SAM_0 = new_train_set[new_train_set['Debit_Amt']> thre]\n",
    "    TP = new_SAM_1[new_SAM_1['TO_SAR']!= 0].shape[0]\n",
    "    TN = new_SAM_0[new_SAM_0['TO_SAR']== 0].shape[0]\n",
    "    FP = new_SAM_1[new_SAM_1['TO_SAR']== 0].shape[0]\n",
    "    FN = new_SAM_0[new_SAM_0['TO_SAR']!= 0].shape[0]\n",
    "    total = new_train_set.shape[0]\n",
    "    \n",
    "    condition_entropy0 = Entropy(new_SAM_0, 'TO_SAR') * (len(new_SAM_0) / total)\n",
    "    condition_entropy1 = Entropy(new_SAM_1, 'TO_SAR') * (len(new_SAM_1) / total)\n",
    "    information_gain = father_entropy - (condition_entropy0 + condition_entropy1)\n",
    "    ent = ent.append({'thre': thre, 'father_entropy': father_entropy, 'condition_entropy0': condition_entropy0, \n",
    "                      'condition_entropy1': condition_entropy1, 'information_gain': information_gain}, ignore_index= True)\n",
    "    \n",
    "    results = results.append({'threshold':thre, 'information gain': information_gain, 'SAR':SAR.shape[0], \\\n",
    "                              'Non SAR':Non_SAR.shape[0],\\\n",
    "                              'newSAM=1_SAR=1(TP)':TP, 'newSAM=1_SAR=0(FP)':FP, 'newSAM=0_SAR=1(FN)':FN,\\\n",
    "                              'newSAM=0_SAR=0(TN)':TN, 'recall': str(round(TP/(TP+FN), 4)),\\\n",
    "                              'filter rate':str((round((TN+FN)/total, 4)))}, ignore_index = True)\n",
    "\n",
    "results = results.sort_values(by= 'information gain', ascending= False)"
   ]
  },
  {
   "cell_type": "code",
   "execution_count": 50,
   "metadata": {},
   "outputs": [
    {
     "data": {
      "text/html": [
       "<div>\n",
       "<style scoped>\n",
       "    .dataframe tbody tr th:only-of-type {\n",
       "        vertical-align: middle;\n",
       "    }\n",
       "\n",
       "    .dataframe tbody tr th {\n",
       "        vertical-align: top;\n",
       "    }\n",
       "\n",
       "    .dataframe thead th {\n",
       "        text-align: right;\n",
       "    }\n",
       "</style>\n",
       "<table border=\"1\" class=\"dataframe\">\n",
       "  <thead>\n",
       "    <tr style=\"text-align: right;\">\n",
       "      <th></th>\n",
       "      <th>threshold</th>\n",
       "      <th>information gain</th>\n",
       "      <th>SAR</th>\n",
       "      <th>Non SAR</th>\n",
       "      <th>newSAM=1_SAR=1(TP)</th>\n",
       "      <th>newSAM=1_SAR=0(FP)</th>\n",
       "      <th>newSAM=0_SAR=1(FN)</th>\n",
       "      <th>newSAM=0_SAR=0(TN)</th>\n",
       "      <th>recall</th>\n",
       "      <th>filter rate</th>\n",
       "    </tr>\n",
       "  </thead>\n",
       "  <tbody>\n",
       "    <tr>\n",
       "      <th>12632</th>\n",
       "      <td>2539952.0</td>\n",
       "      <td>0.003643</td>\n",
       "      <td>52065</td>\n",
       "      <td>51794</td>\n",
       "      <td>47190</td>\n",
       "      <td>48871</td>\n",
       "      <td>4875</td>\n",
       "      <td>2922</td>\n",
       "      <td>0.9064</td>\n",
       "      <td>0.0751</td>\n",
       "    </tr>\n",
       "    <tr>\n",
       "      <th>12631</th>\n",
       "      <td>2539496.5</td>\n",
       "      <td>0.003639</td>\n",
       "      <td>52065</td>\n",
       "      <td>51794</td>\n",
       "      <td>47190</td>\n",
       "      <td>48870</td>\n",
       "      <td>4875</td>\n",
       "      <td>2923</td>\n",
       "      <td>0.9064</td>\n",
       "      <td>0.0751</td>\n",
       "    </tr>\n",
       "    <tr>\n",
       "      <th>12630</th>\n",
       "      <td>2538829.0</td>\n",
       "      <td>0.003635</td>\n",
       "      <td>52065</td>\n",
       "      <td>51794</td>\n",
       "      <td>47190</td>\n",
       "      <td>48869</td>\n",
       "      <td>4875</td>\n",
       "      <td>2924</td>\n",
       "      <td>0.9064</td>\n",
       "      <td>0.0751</td>\n",
       "    </tr>\n",
       "    <tr>\n",
       "      <th>12629</th>\n",
       "      <td>2538284.5</td>\n",
       "      <td>0.003630</td>\n",
       "      <td>52065</td>\n",
       "      <td>51794</td>\n",
       "      <td>47190</td>\n",
       "      <td>48868</td>\n",
       "      <td>4875</td>\n",
       "      <td>2925</td>\n",
       "      <td>0.9064</td>\n",
       "      <td>0.0751</td>\n",
       "    </tr>\n",
       "    <tr>\n",
       "      <th>12628</th>\n",
       "      <td>2537782.5</td>\n",
       "      <td>0.003626</td>\n",
       "      <td>52065</td>\n",
       "      <td>51794</td>\n",
       "      <td>47190</td>\n",
       "      <td>48867</td>\n",
       "      <td>4875</td>\n",
       "      <td>2926</td>\n",
       "      <td>0.9064</td>\n",
       "      <td>0.0751</td>\n",
       "    </tr>\n",
       "    <tr>\n",
       "      <th>12627</th>\n",
       "      <td>2537532.5</td>\n",
       "      <td>0.003622</td>\n",
       "      <td>52065</td>\n",
       "      <td>51794</td>\n",
       "      <td>47190</td>\n",
       "      <td>48866</td>\n",
       "      <td>4875</td>\n",
       "      <td>2927</td>\n",
       "      <td>0.9064</td>\n",
       "      <td>0.0751</td>\n",
       "    </tr>\n",
       "    <tr>\n",
       "      <th>12626</th>\n",
       "      <td>2536910.0</td>\n",
       "      <td>0.003618</td>\n",
       "      <td>52065</td>\n",
       "      <td>51794</td>\n",
       "      <td>47190</td>\n",
       "      <td>48865</td>\n",
       "      <td>4875</td>\n",
       "      <td>2928</td>\n",
       "      <td>0.9064</td>\n",
       "      <td>0.0751</td>\n",
       "    </tr>\n",
       "    <tr>\n",
       "      <th>12625</th>\n",
       "      <td>2536312.5</td>\n",
       "      <td>0.003613</td>\n",
       "      <td>52065</td>\n",
       "      <td>51794</td>\n",
       "      <td>47190</td>\n",
       "      <td>48864</td>\n",
       "      <td>4875</td>\n",
       "      <td>2929</td>\n",
       "      <td>0.9064</td>\n",
       "      <td>0.0751</td>\n",
       "    </tr>\n",
       "    <tr>\n",
       "      <th>12624</th>\n",
       "      <td>2536285.5</td>\n",
       "      <td>0.003609</td>\n",
       "      <td>52065</td>\n",
       "      <td>51794</td>\n",
       "      <td>47190</td>\n",
       "      <td>48863</td>\n",
       "      <td>4875</td>\n",
       "      <td>2930</td>\n",
       "      <td>0.9064</td>\n",
       "      <td>0.0751</td>\n",
       "    </tr>\n",
       "    <tr>\n",
       "      <th>12623</th>\n",
       "      <td>2536140.5</td>\n",
       "      <td>0.003605</td>\n",
       "      <td>52065</td>\n",
       "      <td>51794</td>\n",
       "      <td>47190</td>\n",
       "      <td>48862</td>\n",
       "      <td>4875</td>\n",
       "      <td>2931</td>\n",
       "      <td>0.9064</td>\n",
       "      <td>0.0752</td>\n",
       "    </tr>\n",
       "  </tbody>\n",
       "</table>\n",
       "</div>"
      ],
      "text/plain": [
       "       threshold  information gain    SAR Non SAR newSAM=1_SAR=1(TP)  \\\n",
       "12632  2539952.0          0.003643  52065   51794              47190   \n",
       "12631  2539496.5          0.003639  52065   51794              47190   \n",
       "12630  2538829.0          0.003635  52065   51794              47190   \n",
       "12629  2538284.5          0.003630  52065   51794              47190   \n",
       "12628  2537782.5          0.003626  52065   51794              47190   \n",
       "12627  2537532.5          0.003622  52065   51794              47190   \n",
       "12626  2536910.0          0.003618  52065   51794              47190   \n",
       "12625  2536312.5          0.003613  52065   51794              47190   \n",
       "12624  2536285.5          0.003609  52065   51794              47190   \n",
       "12623  2536140.5          0.003605  52065   51794              47190   \n",
       "\n",
       "      newSAM=1_SAR=0(FP) newSAM=0_SAR=1(FN) newSAM=0_SAR=0(TN)  recall  \\\n",
       "12632              48871               4875               2922  0.9064   \n",
       "12631              48870               4875               2923  0.9064   \n",
       "12630              48869               4875               2924  0.9064   \n",
       "12629              48868               4875               2925  0.9064   \n",
       "12628              48867               4875               2926  0.9064   \n",
       "12627              48866               4875               2927  0.9064   \n",
       "12626              48865               4875               2928  0.9064   \n",
       "12625              48864               4875               2929  0.9064   \n",
       "12624              48863               4875               2930  0.9064   \n",
       "12623              48862               4875               2931  0.9064   \n",
       "\n",
       "      filter rate  \n",
       "12632      0.0751  \n",
       "12631      0.0751  \n",
       "12630      0.0751  \n",
       "12629      0.0751  \n",
       "12628      0.0751  \n",
       "12627      0.0751  \n",
       "12626      0.0751  \n",
       "12625      0.0751  \n",
       "12624      0.0751  \n",
       "12623      0.0752  "
      ]
     },
     "execution_count": 50,
     "metadata": {},
     "output_type": "execute_result"
    }
   ],
   "source": [
    "results['recall'] = results['recall'].astype('float')\n",
    "results[results['recall']>0.9].sort_values(by= 'information gain', ascending= False)[:10]"
   ]
  },
  {
   "cell_type": "code",
   "execution_count": 51,
   "metadata": {
    "scrolled": true
   },
   "outputs": [
    {
     "data": {
      "text/html": [
       "<div>\n",
       "<style scoped>\n",
       "    .dataframe tbody tr th:only-of-type {\n",
       "        vertical-align: middle;\n",
       "    }\n",
       "\n",
       "    .dataframe tbody tr th {\n",
       "        vertical-align: top;\n",
       "    }\n",
       "\n",
       "    .dataframe thead th {\n",
       "        text-align: right;\n",
       "    }\n",
       "</style>\n",
       "<table border=\"1\" class=\"dataframe\">\n",
       "  <thead>\n",
       "    <tr style=\"text-align: right;\">\n",
       "      <th></th>\n",
       "      <th>thre</th>\n",
       "      <th>father_entropy</th>\n",
       "      <th>condition_entropy0</th>\n",
       "      <th>condition_entropy1</th>\n",
       "      <th>information_gain</th>\n",
       "    </tr>\n",
       "  </thead>\n",
       "  <tbody>\n",
       "    <tr>\n",
       "      <th>12632</th>\n",
       "      <td>2539952.0</td>\n",
       "      <td>0.999995</td>\n",
       "      <td>0.071639</td>\n",
       "      <td>0.924713</td>\n",
       "      <td>0.003643</td>\n",
       "    </tr>\n",
       "  </tbody>\n",
       "</table>\n",
       "</div>"
      ],
      "text/plain": [
       "            thre  father_entropy  condition_entropy0  condition_entropy1  \\\n",
       "12632  2539952.0        0.999995            0.071639            0.924713   \n",
       "\n",
       "       information_gain  \n",
       "12632          0.003643  "
      ]
     },
     "execution_count": 51,
     "metadata": {},
     "output_type": "execute_result"
    }
   ],
   "source": [
    "ent[ent['thre'] == 2539952.0]"
   ]
  },
  {
   "cell_type": "code",
   "execution_count": 52,
   "metadata": {},
   "outputs": [],
   "source": [
    "# old train set\n",
    "results = pd.DataFrame(columns = ['threshold', 'information gain','SAR', 'Non SAR','newSAM=1_SAR=1(TP)','newSAM=1_SAR=0(FP)',\\\n",
    "                                  'newSAM=0_SAR=1(FN)', 'newSAM=0_SAR=0(TN)', 'recall','filter rate'])\n",
    "ent = pd.DataFrame(columns = ['thre', 'father_entropy', 'condition_entropy0', 'condition_entropy1', 'information_gain'])\n",
    "\n",
    "father_entropy = Entropy(train_set, 'TO_SAR')\n",
    "for thre in median:\n",
    "    new_SAM_1 = train_set[train_set['Debit_Amt']<= thre]\n",
    "    new_SAM_0 = train_set[train_set['Debit_Amt']> thre]\n",
    "    TP = new_SAM_1[new_SAM_1['TO_SAR']!= 0].shape[0]\n",
    "    TN = new_SAM_0[new_SAM_0['TO_SAR']== 0].shape[0]\n",
    "    FP = new_SAM_1[new_SAM_1['TO_SAR']== 0].shape[0]\n",
    "    FN = new_SAM_0[new_SAM_0['TO_SAR']!= 0].shape[0]\n",
    "    total = train_set.shape[0]\n",
    "    \n",
    "    condition_entropy0 = Entropy(new_SAM_0, 'TO_SAR') * (len(new_SAM_0) / total)\n",
    "    condition_entropy1 = Entropy(new_SAM_1, 'TO_SAR') * (len(new_SAM_1) / total)\n",
    "    information_gain = father_entropy - (condition_entropy0 + condition_entropy1)\n",
    "    ent = ent.append({'thre': thre, 'father_entropy': father_entropy, 'condition_entropy0': condition_entropy0, \n",
    "                      'condition_entropy1': condition_entropy1, 'information_gain': information_gain}, ignore_index= True)\n",
    "    \n",
    "    results = results.append({'threshold':thre, 'information gain': information_gain, 'SAR':SAR.shape[0], \\\n",
    "                              'Non SAR':Non_SAR.shape[0],\\\n",
    "                              'newSAM=1_SAR=1(TP)':TP, 'newSAM=1_SAR=0(FP)':FP, 'newSAM=0_SAR=1(FN)':FN,\\\n",
    "                              'newSAM=0_SAR=0(TN)':TN, 'recall': str(round(TP/(TP+FN), 4)),\\\n",
    "                              'filter rate':str((round((TN+FN)/total, 4)))}, ignore_index = True)\n",
    "\n",
    "results = results.sort_values(by= 'information gain', ascending= False)"
   ]
  },
  {
   "cell_type": "code",
   "execution_count": 53,
   "metadata": {},
   "outputs": [
    {
     "data": {
      "text/html": [
       "<div>\n",
       "<style scoped>\n",
       "    .dataframe tbody tr th:only-of-type {\n",
       "        vertical-align: middle;\n",
       "    }\n",
       "\n",
       "    .dataframe tbody tr th {\n",
       "        vertical-align: top;\n",
       "    }\n",
       "\n",
       "    .dataframe thead th {\n",
       "        text-align: right;\n",
       "    }\n",
       "</style>\n",
       "<table border=\"1\" class=\"dataframe\">\n",
       "  <thead>\n",
       "    <tr style=\"text-align: right;\">\n",
       "      <th></th>\n",
       "      <th>threshold</th>\n",
       "      <th>information gain</th>\n",
       "      <th>SAR</th>\n",
       "      <th>Non SAR</th>\n",
       "      <th>newSAM=1_SAR=1(TP)</th>\n",
       "      <th>newSAM=1_SAR=0(FP)</th>\n",
       "      <th>newSAM=0_SAR=1(FN)</th>\n",
       "      <th>newSAM=0_SAR=0(TN)</th>\n",
       "      <th>recall</th>\n",
       "      <th>filter rate</th>\n",
       "    </tr>\n",
       "  </thead>\n",
       "  <tbody>\n",
       "    <tr>\n",
       "      <th>12632</th>\n",
       "      <td>2539952.0</td>\n",
       "      <td>0.000081</td>\n",
       "      <td>52065</td>\n",
       "      <td>51794</td>\n",
       "      <td>242</td>\n",
       "      <td>48871</td>\n",
       "      <td>25</td>\n",
       "      <td>2922</td>\n",
       "      <td>0.9064</td>\n",
       "      <td>0.0566</td>\n",
       "    </tr>\n",
       "    <tr>\n",
       "      <th>12631</th>\n",
       "      <td>2539496.5</td>\n",
       "      <td>0.000081</td>\n",
       "      <td>52065</td>\n",
       "      <td>51794</td>\n",
       "      <td>242</td>\n",
       "      <td>48870</td>\n",
       "      <td>25</td>\n",
       "      <td>2923</td>\n",
       "      <td>0.9064</td>\n",
       "      <td>0.0566</td>\n",
       "    </tr>\n",
       "    <tr>\n",
       "      <th>12630</th>\n",
       "      <td>2538829.0</td>\n",
       "      <td>0.000081</td>\n",
       "      <td>52065</td>\n",
       "      <td>51794</td>\n",
       "      <td>242</td>\n",
       "      <td>48869</td>\n",
       "      <td>25</td>\n",
       "      <td>2924</td>\n",
       "      <td>0.9064</td>\n",
       "      <td>0.0566</td>\n",
       "    </tr>\n",
       "    <tr>\n",
       "      <th>12629</th>\n",
       "      <td>2538284.5</td>\n",
       "      <td>0.000080</td>\n",
       "      <td>52065</td>\n",
       "      <td>51794</td>\n",
       "      <td>242</td>\n",
       "      <td>48868</td>\n",
       "      <td>25</td>\n",
       "      <td>2925</td>\n",
       "      <td>0.9064</td>\n",
       "      <td>0.0567</td>\n",
       "    </tr>\n",
       "    <tr>\n",
       "      <th>12628</th>\n",
       "      <td>2537782.5</td>\n",
       "      <td>0.000080</td>\n",
       "      <td>52065</td>\n",
       "      <td>51794</td>\n",
       "      <td>242</td>\n",
       "      <td>48867</td>\n",
       "      <td>25</td>\n",
       "      <td>2926</td>\n",
       "      <td>0.9064</td>\n",
       "      <td>0.0567</td>\n",
       "    </tr>\n",
       "    <tr>\n",
       "      <th>12627</th>\n",
       "      <td>2537532.5</td>\n",
       "      <td>0.000080</td>\n",
       "      <td>52065</td>\n",
       "      <td>51794</td>\n",
       "      <td>242</td>\n",
       "      <td>48866</td>\n",
       "      <td>25</td>\n",
       "      <td>2927</td>\n",
       "      <td>0.9064</td>\n",
       "      <td>0.0567</td>\n",
       "    </tr>\n",
       "    <tr>\n",
       "      <th>12626</th>\n",
       "      <td>2536910.0</td>\n",
       "      <td>0.000080</td>\n",
       "      <td>52065</td>\n",
       "      <td>51794</td>\n",
       "      <td>242</td>\n",
       "      <td>48865</td>\n",
       "      <td>25</td>\n",
       "      <td>2928</td>\n",
       "      <td>0.9064</td>\n",
       "      <td>0.0567</td>\n",
       "    </tr>\n",
       "    <tr>\n",
       "      <th>12625</th>\n",
       "      <td>2536312.5</td>\n",
       "      <td>0.000080</td>\n",
       "      <td>52065</td>\n",
       "      <td>51794</td>\n",
       "      <td>242</td>\n",
       "      <td>48864</td>\n",
       "      <td>25</td>\n",
       "      <td>2929</td>\n",
       "      <td>0.9064</td>\n",
       "      <td>0.0567</td>\n",
       "    </tr>\n",
       "    <tr>\n",
       "      <th>12624</th>\n",
       "      <td>2536285.5</td>\n",
       "      <td>0.000080</td>\n",
       "      <td>52065</td>\n",
       "      <td>51794</td>\n",
       "      <td>242</td>\n",
       "      <td>48863</td>\n",
       "      <td>25</td>\n",
       "      <td>2930</td>\n",
       "      <td>0.9064</td>\n",
       "      <td>0.0568</td>\n",
       "    </tr>\n",
       "    <tr>\n",
       "      <th>12623</th>\n",
       "      <td>2536140.5</td>\n",
       "      <td>0.000080</td>\n",
       "      <td>52065</td>\n",
       "      <td>51794</td>\n",
       "      <td>242</td>\n",
       "      <td>48862</td>\n",
       "      <td>25</td>\n",
       "      <td>2931</td>\n",
       "      <td>0.9064</td>\n",
       "      <td>0.0568</td>\n",
       "    </tr>\n",
       "  </tbody>\n",
       "</table>\n",
       "</div>"
      ],
      "text/plain": [
       "       threshold  information gain    SAR Non SAR newSAM=1_SAR=1(TP)  \\\n",
       "12632  2539952.0          0.000081  52065   51794                242   \n",
       "12631  2539496.5          0.000081  52065   51794                242   \n",
       "12630  2538829.0          0.000081  52065   51794                242   \n",
       "12629  2538284.5          0.000080  52065   51794                242   \n",
       "12628  2537782.5          0.000080  52065   51794                242   \n",
       "12627  2537532.5          0.000080  52065   51794                242   \n",
       "12626  2536910.0          0.000080  52065   51794                242   \n",
       "12625  2536312.5          0.000080  52065   51794                242   \n",
       "12624  2536285.5          0.000080  52065   51794                242   \n",
       "12623  2536140.5          0.000080  52065   51794                242   \n",
       "\n",
       "      newSAM=1_SAR=0(FP) newSAM=0_SAR=1(FN) newSAM=0_SAR=0(TN)  recall  \\\n",
       "12632              48871                 25               2922  0.9064   \n",
       "12631              48870                 25               2923  0.9064   \n",
       "12630              48869                 25               2924  0.9064   \n",
       "12629              48868                 25               2925  0.9064   \n",
       "12628              48867                 25               2926  0.9064   \n",
       "12627              48866                 25               2927  0.9064   \n",
       "12626              48865                 25               2928  0.9064   \n",
       "12625              48864                 25               2929  0.9064   \n",
       "12624              48863                 25               2930  0.9064   \n",
       "12623              48862                 25               2931  0.9064   \n",
       "\n",
       "      filter rate  \n",
       "12632      0.0566  \n",
       "12631      0.0566  \n",
       "12630      0.0566  \n",
       "12629      0.0567  \n",
       "12628      0.0567  \n",
       "12627      0.0567  \n",
       "12626      0.0567  \n",
       "12625      0.0567  \n",
       "12624      0.0568  \n",
       "12623      0.0568  "
      ]
     },
     "execution_count": 53,
     "metadata": {},
     "output_type": "execute_result"
    }
   ],
   "source": [
    "results['recall'] = results['recall'].astype('float')\n",
    "results[results['recall']>0.9].sort_values(by= 'information gain', ascending= False)[:10]"
   ]
  },
  {
   "cell_type": "code",
   "execution_count": 54,
   "metadata": {},
   "outputs": [
    {
     "data": {
      "text/html": [
       "<div>\n",
       "<style scoped>\n",
       "    .dataframe tbody tr th:only-of-type {\n",
       "        vertical-align: middle;\n",
       "    }\n",
       "\n",
       "    .dataframe tbody tr th {\n",
       "        vertical-align: top;\n",
       "    }\n",
       "\n",
       "    .dataframe thead th {\n",
       "        text-align: right;\n",
       "    }\n",
       "</style>\n",
       "<table border=\"1\" class=\"dataframe\">\n",
       "  <thead>\n",
       "    <tr style=\"text-align: right;\">\n",
       "      <th></th>\n",
       "      <th>thre</th>\n",
       "      <th>father_entropy</th>\n",
       "      <th>condition_entropy0</th>\n",
       "      <th>condition_entropy1</th>\n",
       "      <th>information_gain</th>\n",
       "    </tr>\n",
       "  </thead>\n",
       "  <tbody>\n",
       "    <tr>\n",
       "      <th>12632</th>\n",
       "      <td>2539952.0</td>\n",
       "      <td>0.046394</td>\n",
       "      <td>0.003994</td>\n",
       "      <td>0.042319</td>\n",
       "      <td>0.000081</td>\n",
       "    </tr>\n",
       "  </tbody>\n",
       "</table>\n",
       "</div>"
      ],
      "text/plain": [
       "            thre  father_entropy  condition_entropy0  condition_entropy1  \\\n",
       "12632  2539952.0        0.046394            0.003994            0.042319   \n",
       "\n",
       "       information_gain  \n",
       "12632          0.000081  "
      ]
     },
     "execution_count": 54,
     "metadata": {},
     "output_type": "execute_result"
    }
   ],
   "source": [
    "ent[ent['thre'] == 2539952.0]"
   ]
  },
  {
   "cell_type": "code",
   "execution_count": 55,
   "metadata": {},
   "outputs": [
    {
     "data": {
      "text/html": [
       "<div>\n",
       "<style scoped>\n",
       "    .dataframe tbody tr th:only-of-type {\n",
       "        vertical-align: middle;\n",
       "    }\n",
       "\n",
       "    .dataframe tbody tr th {\n",
       "        vertical-align: top;\n",
       "    }\n",
       "\n",
       "    .dataframe thead th {\n",
       "        text-align: right;\n",
       "    }\n",
       "</style>\n",
       "<table border=\"1\" class=\"dataframe\">\n",
       "  <thead>\n",
       "    <tr style=\"text-align: right;\">\n",
       "      <th></th>\n",
       "      <th>threshold</th>\n",
       "      <th>information gain</th>\n",
       "      <th>SAR</th>\n",
       "      <th>Non SAR</th>\n",
       "      <th>newSAM=1_SAR=1(TP)</th>\n",
       "      <th>newSAM=1_SAR=0(FP)</th>\n",
       "      <th>newSAM=0_SAR=1(FN)</th>\n",
       "      <th>newSAM=0_SAR=0(TN)</th>\n",
       "      <th>recall</th>\n",
       "      <th>filter rate</th>\n",
       "    </tr>\n",
       "  </thead>\n",
       "  <tbody>\n",
       "    <tr>\n",
       "      <th>0</th>\n",
       "      <td>2539952.0</td>\n",
       "      <td>0.00009</td>\n",
       "      <td>52065</td>\n",
       "      <td>51794</td>\n",
       "      <td>156</td>\n",
       "      <td>32703</td>\n",
       "      <td>23</td>\n",
       "      <td>1827</td>\n",
       "      <td>0.8715</td>\n",
       "      <td>0.0533</td>\n",
       "    </tr>\n",
       "  </tbody>\n",
       "</table>\n",
       "</div>"
      ],
      "text/plain": [
       "   threshold  information gain    SAR Non SAR newSAM=1_SAR=1(TP)  \\\n",
       "0  2539952.0           0.00009  52065   51794                156   \n",
       "\n",
       "  newSAM=1_SAR=0(FP) newSAM=0_SAR=1(FN) newSAM=0_SAR=0(TN)  recall filter rate  \n",
       "0              32703                 23               1827  0.8715      0.0533  "
      ]
     },
     "metadata": {},
     "output_type": "display_data"
    }
   ],
   "source": [
    "# test set\n",
    "results = pd.DataFrame(columns = ['threshold', 'information gain','SAR', 'Non SAR','newSAM=1_SAR=1(TP)','newSAM=1_SAR=0(FP)',\\\n",
    "                                  'newSAM=0_SAR=1(FN)', 'newSAM=0_SAR=0(TN)', 'recall','filter rate'])\n",
    "thre = 2539952.0\n",
    "\n",
    "father_entropy = Entropy(train_set, 'TO_SAR')\n",
    "new_SAM_1 = test_set[test_set['Debit_Amt']<= thre]\n",
    "new_SAM_0 = test_set[test_set['Debit_Amt']> thre]\n",
    "TP = new_SAM_1[new_SAM_1['TO_SAR']!= 0].shape[0]\n",
    "TN = new_SAM_0[new_SAM_0['TO_SAR']== 0].shape[0]\n",
    "FP = new_SAM_1[new_SAM_1['TO_SAR']== 0].shape[0]\n",
    "FN = new_SAM_0[new_SAM_0['TO_SAR']!= 0].shape[0]\n",
    "total = test_set.shape[0]\n",
    "\n",
    "condition_entropy0 = Entropy(new_SAM_0, 'TO_SAR') * (len(new_SAM_0) / total)\n",
    "condition_entropy1 = Entropy(new_SAM_1, 'TO_SAR') * (len(new_SAM_1) / total)\n",
    "information_gain = father_entropy - (condition_entropy0 + condition_entropy1)\n",
    "\n",
    "results = results.append({'threshold':thre, 'information gain': information_gain, 'SAR':SAR.shape[0], \\\n",
    "                            'Non SAR':Non_SAR.shape[0],\\\n",
    "                            'newSAM=1_SAR=1(TP)':TP, 'newSAM=1_SAR=0(FP)':FP, 'newSAM=0_SAR=1(FN)':FN,\\\n",
    "                            'newSAM=0_SAR=0(TN)':TN, 'recall': str(round(TP/(TP+FN), 4)),\\\n",
    "                            'filter rate':str((round((TN+FN)/total, 4)))}, ignore_index = True)\n",
    "display(results)    "
   ]
  },
  {
   "cell_type": "markdown",
   "metadata": {},
   "source": [
    "### threshold: 現金提款累計次數>=&1101_trans_num次"
   ]
  },
  {
   "cell_type": "code",
   "execution_count": 56,
   "metadata": {},
   "outputs": [
    {
     "name": "stdout",
     "output_type": "stream",
     "text": [
      "len of median: 154\n"
     ]
    }
   ],
   "source": [
    "median = SplitMedian(new_train_set, 'number_of_Debit')"
   ]
  },
  {
   "cell_type": "code",
   "execution_count": 57,
   "metadata": {},
   "outputs": [],
   "source": [
    "# new train set\n",
    "results = pd.DataFrame(columns = ['threshold', 'information gain','SAR', 'Non SAR','newSAM=1_SAR=1(TP)','newSAM=1_SAR=0(FP)',\\\n",
    "                                  'newSAM=0_SAR=1(FN)', 'newSAM=0_SAR=0(TN)', 'recall','filter rate'])\n",
    "ent = pd.DataFrame(columns = ['thre', 'father_entropy', 'condition_entropy0', 'condition_entropy1', 'information_gain'])\n",
    "father_entropy = Entropy(new_train_set, 'TO_SAR')\n",
    "\n",
    "for thre in median:\n",
    "    new_SAM_1 = new_train_set[new_train_set['number_of_Debit']<= thre]\n",
    "    new_SAM_0 = new_train_set[new_train_set['number_of_Debit']> thre]\n",
    "    TP = new_SAM_1[new_SAM_1['TO_SAR']!= 0].shape[0]\n",
    "    TN = new_SAM_0[new_SAM_0['TO_SAR']== 0].shape[0]\n",
    "    FP = new_SAM_1[new_SAM_1['TO_SAR']== 0].shape[0]\n",
    "    FN = new_SAM_0[new_SAM_0['TO_SAR']!= 0].shape[0]\n",
    "    total = new_train_set.shape[0]\n",
    "    \n",
    "    condition_entropy0 = Entropy(new_SAM_0, 'TO_SAR') * (len(new_SAM_0) / total)\n",
    "    condition_entropy1 = Entropy(new_SAM_1, 'TO_SAR') * (len(new_SAM_1) / total)\n",
    "    information_gain = father_entropy - (condition_entropy0 + condition_entropy1)\n",
    "    ent = ent.append({'thre': thre, 'father_entropy': father_entropy, 'condition_entropy0': condition_entropy0, \n",
    "                      'condition_entropy1': condition_entropy1, 'information_gain': information_gain}, ignore_index= True)\n",
    "\n",
    "    results = results.append({'threshold':thre, 'information gain': information_gain, 'SAR':SAR.shape[0], \\\n",
    "                              'Non SAR':Non_SAR.shape[0],\\\n",
    "                              'newSAM=1_SAR=1(TP)':TP, 'newSAM=1_SAR=0(FP)':FP, 'newSAM=0_SAR=1(FN)':FN,\\\n",
    "                              'newSAM=0_SAR=0(TN)':TN, 'recall': str(round(TP/(TP+FN), 4)),\\\n",
    "                              'filter rate':str((round((TN+FN)/total, 4)))}, ignore_index = True)\n",
    "\n",
    "results = results.sort_values(by= 'information gain', ascending= False)"
   ]
  },
  {
   "cell_type": "code",
   "execution_count": 58,
   "metadata": {},
   "outputs": [
    {
     "data": {
      "text/html": [
       "<div>\n",
       "<style scoped>\n",
       "    .dataframe tbody tr th:only-of-type {\n",
       "        vertical-align: middle;\n",
       "    }\n",
       "\n",
       "    .dataframe tbody tr th {\n",
       "        vertical-align: top;\n",
       "    }\n",
       "\n",
       "    .dataframe thead th {\n",
       "        text-align: right;\n",
       "    }\n",
       "</style>\n",
       "<table border=\"1\" class=\"dataframe\">\n",
       "  <thead>\n",
       "    <tr style=\"text-align: right;\">\n",
       "      <th></th>\n",
       "      <th>threshold</th>\n",
       "      <th>information gain</th>\n",
       "      <th>SAR</th>\n",
       "      <th>Non SAR</th>\n",
       "      <th>newSAM=1_SAR=1(TP)</th>\n",
       "      <th>newSAM=1_SAR=0(FP)</th>\n",
       "      <th>newSAM=0_SAR=1(FN)</th>\n",
       "      <th>newSAM=0_SAR=0(TN)</th>\n",
       "      <th>recall</th>\n",
       "      <th>filter rate</th>\n",
       "    </tr>\n",
       "  </thead>\n",
       "  <tbody>\n",
       "    <tr>\n",
       "      <th>67</th>\n",
       "      <td>67.5</td>\n",
       "      <td>0.023355</td>\n",
       "      <td>52065</td>\n",
       "      <td>51794</td>\n",
       "      <td>48750</td>\n",
       "      <td>51580</td>\n",
       "      <td>3315</td>\n",
       "      <td>213</td>\n",
       "      <td>0.9363</td>\n",
       "      <td>0.034</td>\n",
       "    </tr>\n",
       "    <tr>\n",
       "      <th>66</th>\n",
       "      <td>66.5</td>\n",
       "      <td>0.023178</td>\n",
       "      <td>52065</td>\n",
       "      <td>51794</td>\n",
       "      <td>48750</td>\n",
       "      <td>51574</td>\n",
       "      <td>3315</td>\n",
       "      <td>219</td>\n",
       "      <td>0.9363</td>\n",
       "      <td>0.034</td>\n",
       "    </tr>\n",
       "    <tr>\n",
       "      <th>65</th>\n",
       "      <td>65.5</td>\n",
       "      <td>0.022772</td>\n",
       "      <td>52065</td>\n",
       "      <td>51794</td>\n",
       "      <td>48750</td>\n",
       "      <td>51560</td>\n",
       "      <td>3315</td>\n",
       "      <td>233</td>\n",
       "      <td>0.9363</td>\n",
       "      <td>0.0342</td>\n",
       "    </tr>\n",
       "    <tr>\n",
       "      <th>73</th>\n",
       "      <td>73.5</td>\n",
       "      <td>0.022660</td>\n",
       "      <td>52065</td>\n",
       "      <td>51794</td>\n",
       "      <td>48945</td>\n",
       "      <td>51616</td>\n",
       "      <td>3120</td>\n",
       "      <td>177</td>\n",
       "      <td>0.9401</td>\n",
       "      <td>0.0317</td>\n",
       "    </tr>\n",
       "    <tr>\n",
       "      <th>64</th>\n",
       "      <td>64.5</td>\n",
       "      <td>0.022573</td>\n",
       "      <td>52065</td>\n",
       "      <td>51794</td>\n",
       "      <td>48750</td>\n",
       "      <td>51553</td>\n",
       "      <td>3315</td>\n",
       "      <td>240</td>\n",
       "      <td>0.9363</td>\n",
       "      <td>0.0342</td>\n",
       "    </tr>\n",
       "    <tr>\n",
       "      <th>72</th>\n",
       "      <td>72.5</td>\n",
       "      <td>0.022443</td>\n",
       "      <td>52065</td>\n",
       "      <td>51794</td>\n",
       "      <td>48945</td>\n",
       "      <td>51609</td>\n",
       "      <td>3120</td>\n",
       "      <td>184</td>\n",
       "      <td>0.9401</td>\n",
       "      <td>0.0318</td>\n",
       "    </tr>\n",
       "    <tr>\n",
       "      <th>52</th>\n",
       "      <td>52.5</td>\n",
       "      <td>0.022422</td>\n",
       "      <td>52065</td>\n",
       "      <td>51794</td>\n",
       "      <td>47775</td>\n",
       "      <td>51183</td>\n",
       "      <td>4290</td>\n",
       "      <td>610</td>\n",
       "      <td>0.9176</td>\n",
       "      <td>0.0472</td>\n",
       "    </tr>\n",
       "    <tr>\n",
       "      <th>71</th>\n",
       "      <td>71.5</td>\n",
       "      <td>0.022350</td>\n",
       "      <td>52065</td>\n",
       "      <td>51794</td>\n",
       "      <td>48945</td>\n",
       "      <td>51606</td>\n",
       "      <td>3120</td>\n",
       "      <td>187</td>\n",
       "      <td>0.9401</td>\n",
       "      <td>0.0318</td>\n",
       "    </tr>\n",
       "    <tr>\n",
       "      <th>70</th>\n",
       "      <td>70.5</td>\n",
       "      <td>0.022138</td>\n",
       "      <td>52065</td>\n",
       "      <td>51794</td>\n",
       "      <td>48945</td>\n",
       "      <td>51599</td>\n",
       "      <td>3120</td>\n",
       "      <td>194</td>\n",
       "      <td>0.9401</td>\n",
       "      <td>0.0319</td>\n",
       "    </tr>\n",
       "    <tr>\n",
       "      <th>63</th>\n",
       "      <td>63.5</td>\n",
       "      <td>0.021993</td>\n",
       "      <td>52065</td>\n",
       "      <td>51794</td>\n",
       "      <td>48750</td>\n",
       "      <td>51532</td>\n",
       "      <td>3315</td>\n",
       "      <td>261</td>\n",
       "      <td>0.9363</td>\n",
       "      <td>0.0344</td>\n",
       "    </tr>\n",
       "  </tbody>\n",
       "</table>\n",
       "</div>"
      ],
      "text/plain": [
       "    threshold  information gain    SAR Non SAR newSAM=1_SAR=1(TP)  \\\n",
       "67       67.5          0.023355  52065   51794              48750   \n",
       "66       66.5          0.023178  52065   51794              48750   \n",
       "65       65.5          0.022772  52065   51794              48750   \n",
       "73       73.5          0.022660  52065   51794              48945   \n",
       "64       64.5          0.022573  52065   51794              48750   \n",
       "72       72.5          0.022443  52065   51794              48945   \n",
       "52       52.5          0.022422  52065   51794              47775   \n",
       "71       71.5          0.022350  52065   51794              48945   \n",
       "70       70.5          0.022138  52065   51794              48945   \n",
       "63       63.5          0.021993  52065   51794              48750   \n",
       "\n",
       "   newSAM=1_SAR=0(FP) newSAM=0_SAR=1(FN) newSAM=0_SAR=0(TN)  recall  \\\n",
       "67              51580               3315                213  0.9363   \n",
       "66              51574               3315                219  0.9363   \n",
       "65              51560               3315                233  0.9363   \n",
       "73              51616               3120                177  0.9401   \n",
       "64              51553               3315                240  0.9363   \n",
       "72              51609               3120                184  0.9401   \n",
       "52              51183               4290                610  0.9176   \n",
       "71              51606               3120                187  0.9401   \n",
       "70              51599               3120                194  0.9401   \n",
       "63              51532               3315                261  0.9363   \n",
       "\n",
       "   filter rate  \n",
       "67       0.034  \n",
       "66       0.034  \n",
       "65      0.0342  \n",
       "73      0.0317  \n",
       "64      0.0342  \n",
       "72      0.0318  \n",
       "52      0.0472  \n",
       "71      0.0318  \n",
       "70      0.0319  \n",
       "63      0.0344  "
      ]
     },
     "execution_count": 58,
     "metadata": {},
     "output_type": "execute_result"
    }
   ],
   "source": [
    "results['recall'] = results['recall'].astype('float')\n",
    "results[results['recall']>0.9].sort_values(by= 'information gain', ascending= False)[:10]"
   ]
  },
  {
   "cell_type": "code",
   "execution_count": 59,
   "metadata": {},
   "outputs": [
    {
     "data": {
      "text/html": [
       "<div>\n",
       "<style scoped>\n",
       "    .dataframe tbody tr th:only-of-type {\n",
       "        vertical-align: middle;\n",
       "    }\n",
       "\n",
       "    .dataframe tbody tr th {\n",
       "        vertical-align: top;\n",
       "    }\n",
       "\n",
       "    .dataframe thead th {\n",
       "        text-align: right;\n",
       "    }\n",
       "</style>\n",
       "<table border=\"1\" class=\"dataframe\">\n",
       "  <thead>\n",
       "    <tr style=\"text-align: right;\">\n",
       "      <th></th>\n",
       "      <th>thre</th>\n",
       "      <th>father_entropy</th>\n",
       "      <th>condition_entropy0</th>\n",
       "      <th>condition_entropy1</th>\n",
       "      <th>information_gain</th>\n",
       "    </tr>\n",
       "  </thead>\n",
       "  <tbody>\n",
       "    <tr>\n",
       "      <th>67</th>\n",
       "      <td>67.5</td>\n",
       "      <td>0.999995</td>\n",
       "      <td>0.011173</td>\n",
       "      <td>0.965467</td>\n",
       "      <td>0.023355</td>\n",
       "    </tr>\n",
       "  </tbody>\n",
       "</table>\n",
       "</div>"
      ],
      "text/plain": [
       "    thre  father_entropy  condition_entropy0  condition_entropy1  \\\n",
       "67  67.5        0.999995            0.011173            0.965467   \n",
       "\n",
       "    information_gain  \n",
       "67          0.023355  "
      ]
     },
     "execution_count": 59,
     "metadata": {},
     "output_type": "execute_result"
    }
   ],
   "source": [
    "ent[ent['thre']== 67.5]"
   ]
  },
  {
   "cell_type": "code",
   "execution_count": 44,
   "metadata": {},
   "outputs": [],
   "source": [
    "# old train set\n",
    "results = pd.DataFrame(columns = ['threshold', 'information gain','SAR', 'Non SAR','newSAM=1_SAR=1(TP)','newSAM=1_SAR=0(FP)',\\\n",
    "                                  'newSAM=0_SAR=1(FN)', 'newSAM=0_SAR=0(TN)', 'recall','filter rate'])\n",
    "ent = pd.DataFrame(columns = ['thre', 'father_entropy', 'condition_entropy0', 'condition_entropy1', 'information_gain'])\n",
    "father_entropy = Entropy(train_set, 'TO_SAR')\n",
    "\n",
    "for thre in median:\n",
    "    new_SAM_1 = train_set[train_set['number_of_Debit']<= thre]\n",
    "    new_SAM_0 = train_set[train_set['number_of_Debit']> thre]\n",
    "    TP = new_SAM_1[new_SAM_1['TO_SAR']!= 0].shape[0]\n",
    "    TN = new_SAM_0[new_SAM_0['TO_SAR']== 0].shape[0]\n",
    "    FP = new_SAM_1[new_SAM_1['TO_SAR']== 0].shape[0]\n",
    "    FN = new_SAM_0[new_SAM_0['TO_SAR']!= 0].shape[0]\n",
    "    total = train_set.shape[0]\n",
    "    \n",
    "    condition_entropy0 = Entropy(new_SAM_0, 'TO_SAR') * (len(new_SAM_0) / total)\n",
    "    condition_entropy1 = Entropy(new_SAM_1, 'TO_SAR') * (len(new_SAM_1) / total)\n",
    "    information_gain = father_entropy - (condition_entropy0 + condition_entropy1)\n",
    "    ent = ent.append({'thre': thre, 'father_entropy': father_entropy, 'condition_entropy0': condition_entropy0, \n",
    "                      'condition_entropy1': condition_entropy1, 'information_gain': information_gain}, ignore_index= True)\n",
    "\n",
    "    results = results.append({'threshold':thre, 'information gain': information_gain, 'SAR':SAR.shape[0], \\\n",
    "                              'Non SAR':Non_SAR.shape[0],\\\n",
    "                              'newSAM=1_SAR=1(TP)':TP, 'newSAM=1_SAR=0(FP)':FP, 'newSAM=0_SAR=1(FN)':FN,\\\n",
    "                              'newSAM=0_SAR=0(TN)':TN, 'recall': str(round(TP/(TP+FN), 4)),\\\n",
    "                              'filter rate':str((round((TN+FN)/total, 4)))}, ignore_index = True)\n",
    "\n",
    "results = results.sort_values(by= 'information gain', ascending= False)"
   ]
  },
  {
   "cell_type": "code",
   "execution_count": 45,
   "metadata": {},
   "outputs": [
    {
     "data": {
      "text/html": [
       "<div>\n",
       "<style scoped>\n",
       "    .dataframe tbody tr th:only-of-type {\n",
       "        vertical-align: middle;\n",
       "    }\n",
       "\n",
       "    .dataframe tbody tr th {\n",
       "        vertical-align: top;\n",
       "    }\n",
       "\n",
       "    .dataframe thead th {\n",
       "        text-align: right;\n",
       "    }\n",
       "</style>\n",
       "<table border=\"1\" class=\"dataframe\">\n",
       "  <thead>\n",
       "    <tr style=\"text-align: right;\">\n",
       "      <th></th>\n",
       "      <th>threshold</th>\n",
       "      <th>information gain</th>\n",
       "      <th>SAR</th>\n",
       "      <th>Non SAR</th>\n",
       "      <th>newSAM=1_SAR=1(TP)</th>\n",
       "      <th>newSAM=1_SAR=0(FP)</th>\n",
       "      <th>newSAM=0_SAR=1(FN)</th>\n",
       "      <th>newSAM=0_SAR=0(TN)</th>\n",
       "      <th>recall</th>\n",
       "      <th>filter rate</th>\n",
       "    </tr>\n",
       "  </thead>\n",
       "  <tbody>\n",
       "    <tr>\n",
       "      <th>67</th>\n",
       "      <td>67.5</td>\n",
       "      <td>0.000848</td>\n",
       "      <td>52065</td>\n",
       "      <td>51794</td>\n",
       "      <td>250</td>\n",
       "      <td>51580</td>\n",
       "      <td>17</td>\n",
       "      <td>213</td>\n",
       "      <td>0.9363</td>\n",
       "      <td>0.0044</td>\n",
       "    </tr>\n",
       "    <tr>\n",
       "      <th>73</th>\n",
       "      <td>73.5</td>\n",
       "      <td>0.000847</td>\n",
       "      <td>52065</td>\n",
       "      <td>51794</td>\n",
       "      <td>251</td>\n",
       "      <td>51616</td>\n",
       "      <td>16</td>\n",
       "      <td>177</td>\n",
       "      <td>0.9401</td>\n",
       "      <td>0.0037</td>\n",
       "    </tr>\n",
       "    <tr>\n",
       "      <th>66</th>\n",
       "      <td>66.5</td>\n",
       "      <td>0.000836</td>\n",
       "      <td>52065</td>\n",
       "      <td>51794</td>\n",
       "      <td>250</td>\n",
       "      <td>51574</td>\n",
       "      <td>17</td>\n",
       "      <td>219</td>\n",
       "      <td>0.9363</td>\n",
       "      <td>0.0045</td>\n",
       "    </tr>\n",
       "    <tr>\n",
       "      <th>72</th>\n",
       "      <td>72.5</td>\n",
       "      <td>0.000831</td>\n",
       "      <td>52065</td>\n",
       "      <td>51794</td>\n",
       "      <td>251</td>\n",
       "      <td>51609</td>\n",
       "      <td>16</td>\n",
       "      <td>184</td>\n",
       "      <td>0.9401</td>\n",
       "      <td>0.0038</td>\n",
       "    </tr>\n",
       "    <tr>\n",
       "      <th>71</th>\n",
       "      <td>71.5</td>\n",
       "      <td>0.000825</td>\n",
       "      <td>52065</td>\n",
       "      <td>51794</td>\n",
       "      <td>251</td>\n",
       "      <td>51606</td>\n",
       "      <td>16</td>\n",
       "      <td>187</td>\n",
       "      <td>0.9401</td>\n",
       "      <td>0.0039</td>\n",
       "    </tr>\n",
       "    <tr>\n",
       "      <th>77</th>\n",
       "      <td>77.5</td>\n",
       "      <td>0.000816</td>\n",
       "      <td>52065</td>\n",
       "      <td>51794</td>\n",
       "      <td>252</td>\n",
       "      <td>51637</td>\n",
       "      <td>15</td>\n",
       "      <td>156</td>\n",
       "      <td>0.9438</td>\n",
       "      <td>0.0033</td>\n",
       "    </tr>\n",
       "    <tr>\n",
       "      <th>76</th>\n",
       "      <td>76.5</td>\n",
       "      <td>0.000812</td>\n",
       "      <td>52065</td>\n",
       "      <td>51794</td>\n",
       "      <td>252</td>\n",
       "      <td>51635</td>\n",
       "      <td>15</td>\n",
       "      <td>158</td>\n",
       "      <td>0.9438</td>\n",
       "      <td>0.0033</td>\n",
       "    </tr>\n",
       "    <tr>\n",
       "      <th>70</th>\n",
       "      <td>70.5</td>\n",
       "      <td>0.000810</td>\n",
       "      <td>52065</td>\n",
       "      <td>51794</td>\n",
       "      <td>251</td>\n",
       "      <td>51599</td>\n",
       "      <td>16</td>\n",
       "      <td>194</td>\n",
       "      <td>0.9401</td>\n",
       "      <td>0.004</td>\n",
       "    </tr>\n",
       "    <tr>\n",
       "      <th>65</th>\n",
       "      <td>65.5</td>\n",
       "      <td>0.000809</td>\n",
       "      <td>52065</td>\n",
       "      <td>51794</td>\n",
       "      <td>250</td>\n",
       "      <td>51560</td>\n",
       "      <td>17</td>\n",
       "      <td>233</td>\n",
       "      <td>0.9363</td>\n",
       "      <td>0.0048</td>\n",
       "    </tr>\n",
       "    <tr>\n",
       "      <th>75</th>\n",
       "      <td>75.5</td>\n",
       "      <td>0.000804</td>\n",
       "      <td>52065</td>\n",
       "      <td>51794</td>\n",
       "      <td>252</td>\n",
       "      <td>51632</td>\n",
       "      <td>15</td>\n",
       "      <td>161</td>\n",
       "      <td>0.9438</td>\n",
       "      <td>0.0034</td>\n",
       "    </tr>\n",
       "  </tbody>\n",
       "</table>\n",
       "</div>"
      ],
      "text/plain": [
       "    threshold  information gain    SAR Non SAR newSAM=1_SAR=1(TP)  \\\n",
       "67       67.5          0.000848  52065   51794                250   \n",
       "73       73.5          0.000847  52065   51794                251   \n",
       "66       66.5          0.000836  52065   51794                250   \n",
       "72       72.5          0.000831  52065   51794                251   \n",
       "71       71.5          0.000825  52065   51794                251   \n",
       "77       77.5          0.000816  52065   51794                252   \n",
       "76       76.5          0.000812  52065   51794                252   \n",
       "70       70.5          0.000810  52065   51794                251   \n",
       "65       65.5          0.000809  52065   51794                250   \n",
       "75       75.5          0.000804  52065   51794                252   \n",
       "\n",
       "   newSAM=1_SAR=0(FP) newSAM=0_SAR=1(FN) newSAM=0_SAR=0(TN)  recall  \\\n",
       "67              51580                 17                213  0.9363   \n",
       "73              51616                 16                177  0.9401   \n",
       "66              51574                 17                219  0.9363   \n",
       "72              51609                 16                184  0.9401   \n",
       "71              51606                 16                187  0.9401   \n",
       "77              51637                 15                156  0.9438   \n",
       "76              51635                 15                158  0.9438   \n",
       "70              51599                 16                194  0.9401   \n",
       "65              51560                 17                233  0.9363   \n",
       "75              51632                 15                161  0.9438   \n",
       "\n",
       "   filter rate  \n",
       "67      0.0044  \n",
       "73      0.0037  \n",
       "66      0.0045  \n",
       "72      0.0038  \n",
       "71      0.0039  \n",
       "77      0.0033  \n",
       "76      0.0033  \n",
       "70       0.004  \n",
       "65      0.0048  \n",
       "75      0.0034  "
      ]
     },
     "execution_count": 45,
     "metadata": {},
     "output_type": "execute_result"
    }
   ],
   "source": [
    "results['recall'] = results['recall'].astype('float')\n",
    "results[results['recall']>0.9].sort_values(by= 'information gain', ascending= False)[:10]"
   ]
  },
  {
   "cell_type": "code",
   "execution_count": 46,
   "metadata": {},
   "outputs": [
    {
     "data": {
      "text/html": [
       "<div>\n",
       "<style scoped>\n",
       "    .dataframe tbody tr th:only-of-type {\n",
       "        vertical-align: middle;\n",
       "    }\n",
       "\n",
       "    .dataframe tbody tr th {\n",
       "        vertical-align: top;\n",
       "    }\n",
       "\n",
       "    .dataframe thead th {\n",
       "        text-align: right;\n",
       "    }\n",
       "</style>\n",
       "<table border=\"1\" class=\"dataframe\">\n",
       "  <thead>\n",
       "    <tr style=\"text-align: right;\">\n",
       "      <th></th>\n",
       "      <th>thre</th>\n",
       "      <th>father_entropy</th>\n",
       "      <th>condition_entropy0</th>\n",
       "      <th>condition_entropy1</th>\n",
       "      <th>information_gain</th>\n",
       "    </tr>\n",
       "  </thead>\n",
       "  <tbody>\n",
       "    <tr>\n",
       "      <th>67</th>\n",
       "      <td>67.5</td>\n",
       "      <td>0.046394</td>\n",
       "      <td>0.00168</td>\n",
       "      <td>0.043866</td>\n",
       "      <td>0.000848</td>\n",
       "    </tr>\n",
       "  </tbody>\n",
       "</table>\n",
       "</div>"
      ],
      "text/plain": [
       "    thre  father_entropy  condition_entropy0  condition_entropy1  \\\n",
       "67  67.5        0.046394             0.00168            0.043866   \n",
       "\n",
       "    information_gain  \n",
       "67          0.000848  "
      ]
     },
     "execution_count": 46,
     "metadata": {},
     "output_type": "execute_result"
    }
   ],
   "source": [
    "ent[ent['thre']== 67.5]"
   ]
  },
  {
   "cell_type": "code",
   "execution_count": 47,
   "metadata": {},
   "outputs": [
    {
     "data": {
      "text/html": [
       "<div>\n",
       "<style scoped>\n",
       "    .dataframe tbody tr th:only-of-type {\n",
       "        vertical-align: middle;\n",
       "    }\n",
       "\n",
       "    .dataframe tbody tr th {\n",
       "        vertical-align: top;\n",
       "    }\n",
       "\n",
       "    .dataframe thead th {\n",
       "        text-align: right;\n",
       "    }\n",
       "</style>\n",
       "<table border=\"1\" class=\"dataframe\">\n",
       "  <thead>\n",
       "    <tr style=\"text-align: right;\">\n",
       "      <th></th>\n",
       "      <th>threshold</th>\n",
       "      <th>information gain</th>\n",
       "      <th>SAR</th>\n",
       "      <th>Non SAR</th>\n",
       "      <th>newSAM=1_SAR=1(TP)</th>\n",
       "      <th>newSAM=1_SAR=0(FP)</th>\n",
       "      <th>newSAM=0_SAR=1(FN)</th>\n",
       "      <th>newSAM=0_SAR=0(TN)</th>\n",
       "      <th>recall</th>\n",
       "      <th>filter rate</th>\n",
       "    </tr>\n",
       "  </thead>\n",
       "  <tbody>\n",
       "    <tr>\n",
       "      <th>0</th>\n",
       "      <td>67.5</td>\n",
       "      <td>0.00017</td>\n",
       "      <td>52065</td>\n",
       "      <td>51794</td>\n",
       "      <td>172</td>\n",
       "      <td>34384</td>\n",
       "      <td>7</td>\n",
       "      <td>146</td>\n",
       "      <td>0.9609</td>\n",
       "      <td>0.0044</td>\n",
       "    </tr>\n",
       "  </tbody>\n",
       "</table>\n",
       "</div>"
      ],
      "text/plain": [
       "   threshold  information gain    SAR Non SAR newSAM=1_SAR=1(TP)  \\\n",
       "0       67.5           0.00017  52065   51794                172   \n",
       "\n",
       "  newSAM=1_SAR=0(FP) newSAM=0_SAR=1(FN) newSAM=0_SAR=0(TN)  recall filter rate  \n",
       "0              34384                  7                146  0.9609      0.0044  "
      ]
     },
     "metadata": {},
     "output_type": "display_data"
    }
   ],
   "source": [
    "# test set\n",
    "results = pd.DataFrame(columns = ['threshold', 'information gain','SAR', 'Non SAR','newSAM=1_SAR=1(TP)','newSAM=1_SAR=0(FP)',\\\n",
    "                                  'newSAM=0_SAR=1(FN)', 'newSAM=0_SAR=0(TN)', 'recall','filter rate'])\n",
    "thre = 67.5\n",
    "\n",
    "father_entropy = Entropy(train_set, 'TO_SAR')\n",
    "new_SAM_1 = test_set[test_set['number_of_Debit']<= thre]\n",
    "new_SAM_0 = test_set[test_set['number_of_Debit']> thre]\n",
    "TP = new_SAM_1[new_SAM_1['TO_SAR']!= 0].shape[0]\n",
    "TN = new_SAM_0[new_SAM_0['TO_SAR']== 0].shape[0]\n",
    "FP = new_SAM_1[new_SAM_1['TO_SAR']== 0].shape[0]\n",
    "FN = new_SAM_0[new_SAM_0['TO_SAR']!= 0].shape[0]\n",
    "total = test_set.shape[0]\n",
    "\n",
    "condition_entropy0 = Entropy(new_SAM_0, 'TO_SAR') * (len(new_SAM_0) / total)\n",
    "condition_entropy1 = Entropy(new_SAM_1, 'TO_SAR') * (len(new_SAM_1) / total)\n",
    "information_gain = father_entropy - (condition_entropy0 + condition_entropy1)\n",
    "\n",
    "results = results.append({'threshold':thre, 'information gain': information_gain, 'SAR':SAR.shape[0], \\\n",
    "                            'Non SAR':Non_SAR.shape[0],\\\n",
    "                            'newSAM=1_SAR=1(TP)':TP, 'newSAM=1_SAR=0(FP)':FP, 'newSAM=0_SAR=1(FN)':FN,\\\n",
    "                            'newSAM=0_SAR=0(TN)':TN, 'recall': str(round(TP/(TP+FN), 4)),\\\n",
    "                            'filter rate':str((round((TN+FN)/total, 4)))}, ignore_index = True)\n",
    "display(results)    "
   ]
  },
  {
   "cell_type": "markdown",
   "metadata": {},
   "source": [
    "### 同時考慮現金存款累積>= &1101_amount 且次數>=&1101_trans_num 次或現金提款累積>= &1101_amount 且次數>=&1101_trans_num次"
   ]
  },
  {
   "cell_type": "code",
   "execution_count": 88,
   "metadata": {},
   "outputs": [
    {
     "name": "stdout",
     "output_type": "stream",
     "text": [
      "len of median: 17787\n",
      "len of median: 218\n"
     ]
    }
   ],
   "source": [
    "#沒有做oversampling\n",
    "credit_amt_median = SplitMedian(train_set, 'Credit_Amt')\n",
    "number_of_credit_median = SplitMedian(train_set, 'number_of_Credit')"
   ]
  },
  {
   "cell_type": "code",
   "execution_count": 89,
   "metadata": {},
   "outputs": [
    {
     "name": "stdout",
     "output_type": "stream",
     "text": [
      "[  562523.3   990990.8  1106412.1  1236799.5  1396903.   1600802.5\n",
      "  1999435.   2459497.5  3365424.1 23202000. ]\n",
      "[ 22.2  43.9  65.6  87.3 111.  136.7 189.6 282.1 325.2 847.5]\n"
     ]
    }
   ],
   "source": [
    "credit_amt_median = np.percentile(credit_amt_median, np.linspace(10, 100, 10))\n",
    "number_of_credit_median = np.percentile(number_of_credit_median, np.linspace(10, 100, 10))\n",
    "\n",
    "print(credit_amt_median)\n",
    "print(number_of_credit_median)"
   ]
  },
  {
   "cell_type": "code",
   "execution_count": 90,
   "metadata": {},
   "outputs": [
    {
     "name": "stdout",
     "output_type": "stream",
     "text": [
      "max val:  9.060087534748518e-05 number of max val:  1\n",
      "0th, information gain: 9.060087534748518e-05, recall: 0.052434456928838954, val1: 562523.3, val2: 22.200000000000003\n",
      "10th, information gain: 7.522665219292929e-05, recall: 0.052434456928838954, val1: 990990.8, val2: 22.200000000000003\n",
      "1th, information gain: 6.677149167608198e-05, recall: 0.00749063670411985, val1: 562523.3, val2: 43.900000000000006\n",
      "11th, information gain: 6.481450733377553e-05, recall: 0.00749063670411985, val1: 990990.8, val2: 43.900000000000006\n",
      "21th, information gain: 6.0534277536980485e-05, recall: 0.00749063670411985, val1: 1106412.1, val2: 43.900000000000006\n",
      "31th, information gain: 5.453550036169791e-05, recall: 0.00749063670411985, val1: 1236799.5, val2: 43.900000000000006\n",
      "30th, information gain: 4.9919186727413745e-05, recall: 0.04119850187265917, val1: 1236799.5, val2: 22.200000000000003\n",
      "61th, information gain: 4.9078741805354265e-05, recall: 0.003745318352059925, val1: 1999435.0, val2: 43.900000000000006\n",
      "41th, information gain: 4.5724304197601595e-05, recall: 0.00749063670411985, val1: 1396903.0, val2: 43.900000000000006\n",
      "20th, information gain: 4.382236361318709e-05, recall: 0.052434456928838954, val1: 1106412.1, val2: 22.200000000000003\n",
      "********************************\n"
     ]
    }
   ],
   "source": [
    "default_credit_amt = 0\n",
    "default_number_of_credit = 0\n",
    "LOGIC = 'AND'\n",
    "candidate_rule1 = Search2Rule(credit_amt_median, number_of_credit_median, 'Credit_Amt' \\\n",
    "                             , 'number_of_Credit', default_credit_amt, default_number_of_credit \\\n",
    "                             , SAR, Non_SAR, train_set, LOGIC, SAR_type)"
   ]
  },
  {
   "cell_type": "code",
   "execution_count": 91,
   "metadata": {},
   "outputs": [
    {
     "data": {
      "text/plain": [
       "[[1106412.1, 22.200000000000003],\n",
       " [1396903.0, 43.900000000000006],\n",
       " [1999435.0, 43.900000000000006],\n",
       " [1236799.5, 22.200000000000003],\n",
       " [1236799.5, 43.900000000000006],\n",
       " [1106412.1, 43.900000000000006],\n",
       " [990990.8, 43.900000000000006],\n",
       " [562523.3, 43.900000000000006],\n",
       " [990990.8, 22.200000000000003],\n",
       " [562523.3, 22.200000000000003]]"
      ]
     },
     "execution_count": 91,
     "metadata": {},
     "output_type": "execute_result"
    }
   ],
   "source": [
    "candidate_rule1"
   ]
  },
  {
   "cell_type": "code",
   "execution_count": 92,
   "metadata": {},
   "outputs": [
    {
     "name": "stdout",
     "output_type": "stream",
     "text": [
      "len of median: 14527\n",
      "len of median: 154\n"
     ]
    }
   ],
   "source": [
    "debit_amt_median = SplitMedian(train_set, 'Debit_Amt')\n",
    "number_of_debit_median = SplitMedian(train_set, 'number_of_Debit')"
   ]
  },
  {
   "cell_type": "code",
   "execution_count": 93,
   "metadata": {},
   "outputs": [
    {
     "name": "stdout",
     "output_type": "stream",
     "text": [
      "[  252970.8   676648.8  1002331.3  1104008.   1230007.5  1410378.3\n",
      "  1665826.   2076350.   2862985.6 77180000. ]\n",
      "[ 15.8  31.1  46.4  61.7  77.   94.2 109.6 128.9 148.2 177.5]\n"
     ]
    }
   ],
   "source": [
    "debit_amt_median = np.percentile(debit_amt_median, np.linspace(10, 100, 10))\n",
    "number_of_debit_median = np.percentile(number_of_debit_median, np.linspace(10, 100, 10))\n",
    "\n",
    "print(debit_amt_median)\n",
    "print(number_of_debit_median)"
   ]
  },
  {
   "cell_type": "code",
   "execution_count": 94,
   "metadata": {},
   "outputs": [
    {
     "name": "stdout",
     "output_type": "stream",
     "text": [
      "max val:  0.0011130118441024933 number of max val:  1\n",
      "10th, information gain: 0.0011130118441024933, recall: 0.44569288389513106, val1: 676648.8, val2: 15.8\n",
      "0th, information gain: 0.001055479006494324, recall: 0.44569288389513106, val1: 252970.80000000005, val2: 15.8\n",
      "14th, information gain: 0.000833455935282966, recall: 0.056179775280898875, val1: 676648.8, val2: 77.0\n",
      "4th, information gain: 0.0008284432470486713, recall: 0.056179775280898875, val1: 252970.80000000005, val2: 77.0\n",
      "20th, information gain: 0.0008009799448977645, recall: 0.3782771535580524, val1: 1002331.3, val2: 15.8\n",
      "13th, information gain: 0.000737883257725877, recall: 0.06367041198501873, val1: 676648.8, val2: 61.7\n",
      "3th, information gain: 0.0007318405617442042, recall: 0.06367041198501873, val1: 252970.80000000005, val2: 61.7\n",
      "30th, information gain: 0.0006122512531416407, recall: 0.31086142322097376, val1: 1104008.0, val2: 15.8\n",
      "24th, information gain: 0.0005351037169391976, recall: 0.04119850187265917, val1: 1002331.3, val2: 77.0\n",
      "12th, information gain: 0.0005051880666846129, recall: 0.08614232209737828, val1: 676648.8, val2: 46.400000000000006\n",
      "********************************\n"
     ]
    }
   ],
   "source": [
    "default_debit_amt = 0\n",
    "default_number_of_debit = 0\n",
    "LOGIC = 'AND'\n",
    "candidate_rule2 = Search2Rule(debit_amt_median, number_of_debit_median, 'Debit_Amt' \\\n",
    "                              , 'number_of_Debit', default_debit_amt, default_number_of_debit \\\n",
    "                              , SAR, Non_SAR, train_set, LOGIC, SAR_type)"
   ]
  },
  {
   "cell_type": "code",
   "execution_count": 95,
   "metadata": {},
   "outputs": [
    {
     "data": {
      "text/plain": [
       "[[676648.8, 46.400000000000006],\n",
       " [1002331.3, 77.0],\n",
       " [1104008.0, 15.8],\n",
       " [252970.80000000005, 61.7],\n",
       " [676648.8, 61.7],\n",
       " [1002331.3, 15.8],\n",
       " [252970.80000000005, 77.0],\n",
       " [676648.8, 77.0],\n",
       " [252970.80000000005, 15.8],\n",
       " [676648.8, 15.8]]"
      ]
     },
     "execution_count": 95,
     "metadata": {},
     "output_type": "execute_result"
    }
   ],
   "source": [
    "candidate_rule2"
   ]
  },
  {
   "cell_type": "code",
   "execution_count": 96,
   "metadata": {},
   "outputs": [],
   "source": [
    "candidate_rule1 = [[ceil(x), ceil(y)] for [x, y] in candidate_rule1]\n",
    "candidate_rule2 = [[ceil(x), ceil(y)] for [x, y] in candidate_rule2]"
   ]
  },
  {
   "cell_type": "code",
   "execution_count": 97,
   "metadata": {},
   "outputs": [],
   "source": [
    "# apply on training set\n",
    "results = pd.DataFrame(columns = ['Credit_Amt_median', 'number_of_Credit_median', 'debit_Amt_median', 'number_of_debit_median', 'information gain','SAR', 'Non SAR','newSAM=1_SAR=1(TP)','newSAM=1_SAR=0(FP)',\\\n",
    "                                  'newSAM=0_SAR=1(FN)', 'newSAM=0_SAR=0(TN)', 'recall','filter rate'])\n",
    "\n",
    "father_entropy = Entropy(train_set, 'TO_SAR')\n",
    "for thre1, thre2 in candidate_rule1:\n",
    "    for thre3, thre4 in candidate_rule2:\n",
    "        idx = list(set(train_set[train_set['Credit_Amt']>= thre1].index) & set(train_set[train_set['number_of_Credit'] >= thre2].index))\n",
    "        idx1 = list(set(train_set[train_set['Debit_Amt'] >= thre3].index) & set(train_set[train_set['number_of_Debit'] >= thre4].index))\n",
    "        new_SAM_1_rule1 = train_set.iloc[idx]\n",
    "        new_SAM_1_rule2 = train_set.iloc[idx1]\n",
    "        \n",
    "        new_SAM_1 = new_SAM_1_rule1.append(new_SAM_1_rule2)\n",
    "        new_SAM_1 = new_SAM_1.drop_duplicates()\n",
    "        new_SAM_0 = train_set.drop(index= new_SAM_1.index)\n",
    "        \n",
    "        if (new_SAM_0.shape[0] + new_SAM_1.shape[0] != train_set.shape[0]):\n",
    "            raise ValueError('new SAM 0 and new SAM 1 overlapped!')\n",
    "            \n",
    "        TP = new_SAM_1[new_SAM_1['TO_SAR']!= 0].shape[0]\n",
    "        TN = new_SAM_0[new_SAM_0['TO_SAR']== 0].shape[0]\n",
    "        FP = new_SAM_1[new_SAM_1['TO_SAR']== 0].shape[0]\n",
    "        FN = new_SAM_0[new_SAM_0['TO_SAR']!= 0].shape[0]\n",
    "        total = train_set.shape[0]\n",
    "        \n",
    "        condition_entropy_0 = Entropy(new_SAM_0, 'TO_SAR') * (len(new_SAM_0) / total)\n",
    "        condition_entropy_1 = Entropy(new_SAM_1, 'TO_SAR') * (len(new_SAM_1) / total)\n",
    "        information_gain = father_entropy - (condition_entropy_0 + condition_entropy_1)\n",
    "        \n",
    "        results = results.append({'Credit_Amt_median': thre1, 'number_of_Credit_median': thre2, 'debit_Amt_median': thre3, 'number_of_debit_median': thre4 \\\n",
    "                                , 'information gain': information_gain, 'SAR': SAR.shape[0], 'Non SAR': Non_SAR.shape[0] \\\n",
    "                                , 'newSAM=1_SAR=1(TP)': TP, 'newSAM=1_SAR=0(FP)': FP, 'newSAM=0_SAR=1(FN)': FN \\\n",
    "                                , 'newSAM=0_SAR=0(TN)': TN, 'recall': str(round(TP/ (TP+FN), 4)), 'filter rate': str((round((TN + FN)/total, 4)))}, ignore_index= True)"
   ]
  },
  {
   "cell_type": "code",
   "execution_count": 98,
   "metadata": {},
   "outputs": [
    {
     "data": {
      "text/html": [
       "<div>\n",
       "<style scoped>\n",
       "    .dataframe tbody tr th:only-of-type {\n",
       "        vertical-align: middle;\n",
       "    }\n",
       "\n",
       "    .dataframe tbody tr th {\n",
       "        vertical-align: top;\n",
       "    }\n",
       "\n",
       "    .dataframe thead th {\n",
       "        text-align: right;\n",
       "    }\n",
       "</style>\n",
       "<table border=\"1\" class=\"dataframe\">\n",
       "  <thead>\n",
       "    <tr style=\"text-align: right;\">\n",
       "      <th></th>\n",
       "      <th>Credit_Amt_median</th>\n",
       "      <th>number_of_Credit_median</th>\n",
       "      <th>debit_Amt_median</th>\n",
       "      <th>number_of_debit_median</th>\n",
       "      <th>information gain</th>\n",
       "      <th>SAR</th>\n",
       "      <th>Non SAR</th>\n",
       "      <th>newSAM=1_SAR=1(TP)</th>\n",
       "      <th>newSAM=1_SAR=0(FP)</th>\n",
       "      <th>newSAM=0_SAR=1(FN)</th>\n",
       "      <th>newSAM=0_SAR=0(TN)</th>\n",
       "      <th>recall</th>\n",
       "      <th>filter rate</th>\n",
       "    </tr>\n",
       "  </thead>\n",
       "  <tbody>\n",
       "    <tr>\n",
       "      <th>99</th>\n",
       "      <td>562524</td>\n",
       "      <td>23</td>\n",
       "      <td>676649</td>\n",
       "      <td>16</td>\n",
       "      <td>0.000594</td>\n",
       "      <td>267</td>\n",
       "      <td>51794</td>\n",
       "      <td>122</td>\n",
       "      <td>13928</td>\n",
       "      <td>145</td>\n",
       "      <td>37866</td>\n",
       "      <td>0.4569</td>\n",
       "      <td>0.7301</td>\n",
       "    </tr>\n",
       "    <tr>\n",
       "      <th>8</th>\n",
       "      <td>1106413</td>\n",
       "      <td>23</td>\n",
       "      <td>252971</td>\n",
       "      <td>16</td>\n",
       "      <td>0.000662</td>\n",
       "      <td>267</td>\n",
       "      <td>51794</td>\n",
       "      <td>122</td>\n",
       "      <td>13444</td>\n",
       "      <td>145</td>\n",
       "      <td>38350</td>\n",
       "      <td>0.4569</td>\n",
       "      <td>0.7394</td>\n",
       "    </tr>\n",
       "    <tr>\n",
       "      <th>88</th>\n",
       "      <td>990991</td>\n",
       "      <td>23</td>\n",
       "      <td>252971</td>\n",
       "      <td>16</td>\n",
       "      <td>0.000591</td>\n",
       "      <td>267</td>\n",
       "      <td>51794</td>\n",
       "      <td>122</td>\n",
       "      <td>13949</td>\n",
       "      <td>145</td>\n",
       "      <td>37845</td>\n",
       "      <td>0.4569</td>\n",
       "      <td>0.7297</td>\n",
       "    </tr>\n",
       "    <tr>\n",
       "      <th>9</th>\n",
       "      <td>1106413</td>\n",
       "      <td>23</td>\n",
       "      <td>676649</td>\n",
       "      <td>16</td>\n",
       "      <td>0.000697</td>\n",
       "      <td>267</td>\n",
       "      <td>51794</td>\n",
       "      <td>122</td>\n",
       "      <td>13209</td>\n",
       "      <td>145</td>\n",
       "      <td>38585</td>\n",
       "      <td>0.4569</td>\n",
       "      <td>0.7439</td>\n",
       "    </tr>\n",
       "    <tr>\n",
       "      <th>89</th>\n",
       "      <td>990991</td>\n",
       "      <td>23</td>\n",
       "      <td>676649</td>\n",
       "      <td>16</td>\n",
       "      <td>0.000624</td>\n",
       "      <td>267</td>\n",
       "      <td>51794</td>\n",
       "      <td>122</td>\n",
       "      <td>13715</td>\n",
       "      <td>145</td>\n",
       "      <td>38079</td>\n",
       "      <td>0.4569</td>\n",
       "      <td>0.7342</td>\n",
       "    </tr>\n",
       "    <tr>\n",
       "      <th>98</th>\n",
       "      <td>562524</td>\n",
       "      <td>23</td>\n",
       "      <td>252971</td>\n",
       "      <td>16</td>\n",
       "      <td>0.000563</td>\n",
       "      <td>267</td>\n",
       "      <td>51794</td>\n",
       "      <td>122</td>\n",
       "      <td>14162</td>\n",
       "      <td>145</td>\n",
       "      <td>37632</td>\n",
       "      <td>0.4569</td>\n",
       "      <td>0.7256</td>\n",
       "    </tr>\n",
       "    <tr>\n",
       "      <th>39</th>\n",
       "      <td>1236800</td>\n",
       "      <td>23</td>\n",
       "      <td>676649</td>\n",
       "      <td>16</td>\n",
       "      <td>0.000735</td>\n",
       "      <td>267</td>\n",
       "      <td>51794</td>\n",
       "      <td>120</td>\n",
       "      <td>12636</td>\n",
       "      <td>147</td>\n",
       "      <td>39158</td>\n",
       "      <td>0.4494</td>\n",
       "      <td>0.755</td>\n",
       "    </tr>\n",
       "    <tr>\n",
       "      <th>38</th>\n",
       "      <td>1236800</td>\n",
       "      <td>23</td>\n",
       "      <td>252971</td>\n",
       "      <td>16</td>\n",
       "      <td>0.000698</td>\n",
       "      <td>267</td>\n",
       "      <td>51794</td>\n",
       "      <td>120</td>\n",
       "      <td>12875</td>\n",
       "      <td>147</td>\n",
       "      <td>38919</td>\n",
       "      <td>0.4494</td>\n",
       "      <td>0.7504</td>\n",
       "    </tr>\n",
       "    <tr>\n",
       "      <th>69</th>\n",
       "      <td>990991</td>\n",
       "      <td>44</td>\n",
       "      <td>676649</td>\n",
       "      <td>16</td>\n",
       "      <td>0.000877</td>\n",
       "      <td>267</td>\n",
       "      <td>51794</td>\n",
       "      <td>112</td>\n",
       "      <td>10561</td>\n",
       "      <td>155</td>\n",
       "      <td>41233</td>\n",
       "      <td>0.4195</td>\n",
       "      <td>0.795</td>\n",
       "    </tr>\n",
       "    <tr>\n",
       "      <th>78</th>\n",
       "      <td>562524</td>\n",
       "      <td>44</td>\n",
       "      <td>252971</td>\n",
       "      <td>16</td>\n",
       "      <td>0.000825</td>\n",
       "      <td>267</td>\n",
       "      <td>51794</td>\n",
       "      <td>112</td>\n",
       "      <td>10842</td>\n",
       "      <td>155</td>\n",
       "      <td>40952</td>\n",
       "      <td>0.4195</td>\n",
       "      <td>0.7896</td>\n",
       "    </tr>\n",
       "  </tbody>\n",
       "</table>\n",
       "</div>"
      ],
      "text/plain": [
       "   Credit_Amt_median number_of_Credit_median debit_Amt_median  \\\n",
       "99            562524                      23           676649   \n",
       "8            1106413                      23           252971   \n",
       "88            990991                      23           252971   \n",
       "9            1106413                      23           676649   \n",
       "89            990991                      23           676649   \n",
       "98            562524                      23           252971   \n",
       "39           1236800                      23           676649   \n",
       "38           1236800                      23           252971   \n",
       "69            990991                      44           676649   \n",
       "78            562524                      44           252971   \n",
       "\n",
       "   number_of_debit_median  information gain  SAR Non SAR newSAM=1_SAR=1(TP)  \\\n",
       "99                     16          0.000594  267   51794                122   \n",
       "8                      16          0.000662  267   51794                122   \n",
       "88                     16          0.000591  267   51794                122   \n",
       "9                      16          0.000697  267   51794                122   \n",
       "89                     16          0.000624  267   51794                122   \n",
       "98                     16          0.000563  267   51794                122   \n",
       "39                     16          0.000735  267   51794                120   \n",
       "38                     16          0.000698  267   51794                120   \n",
       "69                     16          0.000877  267   51794                112   \n",
       "78                     16          0.000825  267   51794                112   \n",
       "\n",
       "   newSAM=1_SAR=0(FP) newSAM=0_SAR=1(FN) newSAM=0_SAR=0(TN)  recall  \\\n",
       "99              13928                145              37866  0.4569   \n",
       "8               13444                145              38350  0.4569   \n",
       "88              13949                145              37845  0.4569   \n",
       "9               13209                145              38585  0.4569   \n",
       "89              13715                145              38079  0.4569   \n",
       "98              14162                145              37632  0.4569   \n",
       "39              12636                147              39158  0.4494   \n",
       "38              12875                147              38919  0.4494   \n",
       "69              10561                155              41233  0.4195   \n",
       "78              10842                155              40952  0.4195   \n",
       "\n",
       "   filter rate  \n",
       "99      0.7301  \n",
       "8       0.7394  \n",
       "88      0.7297  \n",
       "9       0.7439  \n",
       "89      0.7342  \n",
       "98      0.7256  \n",
       "39       0.755  \n",
       "38      0.7504  \n",
       "69       0.795  \n",
       "78      0.7896  "
      ]
     },
     "execution_count": 98,
     "metadata": {},
     "output_type": "execute_result"
    }
   ],
   "source": [
    "results.sort_values(by= 'recall', ascending= False)[:10]"
   ]
  },
  {
   "cell_type": "code",
   "execution_count": 101,
   "metadata": {},
   "outputs": [],
   "source": [
    "results['recall'] = results['recall'].astype('float')\n",
    "results['filter rate'] = results['filter rate'].astype('float')"
   ]
  },
  {
   "cell_type": "code",
   "execution_count": 173,
   "metadata": {},
   "outputs": [],
   "source": [
    "# apply on testing set\n",
    "results = pd.DataFrame(columns = ['Credit_Amt_median', 'number_of_Credit_median', 'debit_Amt_median', 'number_of_debit_median', 'information gain','SAR', 'Non SAR','newSAM=1_SAR=1(TP)','newSAM=1_SAR=0(FP)',\\\n",
    "                                  'newSAM=0_SAR=1(FN)', 'newSAM=0_SAR=0(TN)', 'recall','filter rate'])\n",
    "\n",
    "father_entropy = Entropy(test_set, 'TO_SAR')\n",
    "for thre1, thre2 in candidate_rule1:\n",
    "    for thre3, thre4 in candidate_rule2:\n",
    "        idx = list(set(test_set[test_set['Credit_Amt']>= thre1].index) & set(test_set[test_set['number_of_Credit'] >= thre2].index))\n",
    "        idx1 = list(set(test_set[test_set['Debit_Amt'] >= thre3].index) & set(test_set[test_set['number_of_Debit'] >= thre4].index))\n",
    "        new_SAM_1_rule1 = test_set.iloc[idx]\n",
    "        new_SAM_1_rule2 = test_set.iloc[idx1]\n",
    "        \n",
    "        new_SAM_1 = new_SAM_1_rule1.append(new_SAM_1_rule2)\n",
    "        new_SAM_1 = new_SAM_1.drop_duplicates()\n",
    "        new_SAM_0 = test_set.drop(index= new_SAM_1.index)\n",
    "        \n",
    "        if (new_SAM_0.shape[0] + new_SAM_1.shape[0] != test_set.shape[0]):\n",
    "            raise ValueError('new SAM 0 and new SAM 1 overlapped!')\n",
    "            \n",
    "        TP = new_SAM_1[new_SAM_1['TO_SAR']!= 0].shape[0]\n",
    "        TN = new_SAM_0[new_SAM_0['TO_SAR']== 0].shape[0]\n",
    "        FP = new_SAM_1[new_SAM_1['TO_SAR']== 0].shape[0]\n",
    "        FN = new_SAM_0[new_SAM_0['TO_SAR']!= 0].shape[0]\n",
    "        total = test_set.shape[0]\n",
    "        \n",
    "        condition_entropy_0 = Entropy(new_SAM_0, 'TO_SAR') * (len(new_SAM_0) / total)\n",
    "        condition_entropy_1 = Entropy(new_SAM_1, 'TO_SAR') * (len(new_SAM_1) / total)\n",
    "        information_gain = father_entropy - (condition_entropy_0 + condition_entropy_1)\n",
    "        \n",
    "        results = results.append({'Credit_Amt_median': thre1, 'number_of_Credit_median': thre2, 'debit_Amt_median': thre3, 'number_of_debit_median': thre4 \\\n",
    "                                , 'information gain': information_gain, 'SAR': SAR.shape[0], 'Non SAR': Non_SAR.shape[0] \\\n",
    "                                , 'newSAM=1_SAR=1(TP)': TP, 'newSAM=1_SAR=0(FP)': FP, 'newSAM=0_SAR=1(FN)': FN \\\n",
    "                                , 'newSAM=0_SAR=0(TN)': TN, 'recall': str(round(TP/ (TP+FN), 4)), 'filter rate': str((round((TN + FN)/total, 4)))}, ignore_index= True)"
   ]
  },
  {
   "cell_type": "code",
   "execution_count": 179,
   "metadata": {},
   "outputs": [
    {
     "data": {
      "text/html": [
       "<div>\n",
       "<style scoped>\n",
       "    .dataframe tbody tr th:only-of-type {\n",
       "        vertical-align: middle;\n",
       "    }\n",
       "\n",
       "    .dataframe tbody tr th {\n",
       "        vertical-align: top;\n",
       "    }\n",
       "\n",
       "    .dataframe thead th {\n",
       "        text-align: right;\n",
       "    }\n",
       "</style>\n",
       "<table border=\"1\" class=\"dataframe\">\n",
       "  <thead>\n",
       "    <tr style=\"text-align: right;\">\n",
       "      <th></th>\n",
       "      <th>Credit_Amt_median</th>\n",
       "      <th>number_of_Credit_median</th>\n",
       "      <th>debit_Amt_median</th>\n",
       "      <th>number_of_debit_median</th>\n",
       "      <th>information gain</th>\n",
       "      <th>SAR</th>\n",
       "      <th>Non SAR</th>\n",
       "      <th>newSAM=1_SAR=1(TP)</th>\n",
       "      <th>newSAM=1_SAR=0(FP)</th>\n",
       "      <th>newSAM=0_SAR=1(FN)</th>\n",
       "      <th>newSAM=0_SAR=0(TN)</th>\n",
       "      <th>recall</th>\n",
       "      <th>filter rate</th>\n",
       "    </tr>\n",
       "  </thead>\n",
       "  <tbody>\n",
       "    <tr>\n",
       "      <th>99</th>\n",
       "      <td>562524</td>\n",
       "      <td>23</td>\n",
       "      <td>676649</td>\n",
       "      <td>16</td>\n",
       "      <td>0.000421</td>\n",
       "      <td>52065</td>\n",
       "      <td>51794</td>\n",
       "      <td>76</td>\n",
       "      <td>9254</td>\n",
       "      <td>103</td>\n",
       "      <td>25276</td>\n",
       "      <td>0.4246</td>\n",
       "      <td>0.7312</td>\n",
       "    </tr>\n",
       "    <tr>\n",
       "      <th>39</th>\n",
       "      <td>1236800</td>\n",
       "      <td>23</td>\n",
       "      <td>676649</td>\n",
       "      <td>16</td>\n",
       "      <td>0.000533</td>\n",
       "      <td>52065</td>\n",
       "      <td>51794</td>\n",
       "      <td>76</td>\n",
       "      <td>8645</td>\n",
       "      <td>103</td>\n",
       "      <td>25885</td>\n",
       "      <td>0.4246</td>\n",
       "      <td>0.7487</td>\n",
       "    </tr>\n",
       "    <tr>\n",
       "      <th>88</th>\n",
       "      <td>990991</td>\n",
       "      <td>23</td>\n",
       "      <td>252971</td>\n",
       "      <td>16</td>\n",
       "      <td>0.000419</td>\n",
       "      <td>52065</td>\n",
       "      <td>51794</td>\n",
       "      <td>76</td>\n",
       "      <td>9262</td>\n",
       "      <td>103</td>\n",
       "      <td>25268</td>\n",
       "      <td>0.4246</td>\n",
       "      <td>0.731</td>\n",
       "    </tr>\n",
       "    <tr>\n",
       "      <th>9</th>\n",
       "      <td>1106413</td>\n",
       "      <td>23</td>\n",
       "      <td>676649</td>\n",
       "      <td>16</td>\n",
       "      <td>0.000487</td>\n",
       "      <td>52065</td>\n",
       "      <td>51794</td>\n",
       "      <td>76</td>\n",
       "      <td>8886</td>\n",
       "      <td>103</td>\n",
       "      <td>25644</td>\n",
       "      <td>0.4246</td>\n",
       "      <td>0.7418</td>\n",
       "    </tr>\n",
       "    <tr>\n",
       "      <th>8</th>\n",
       "      <td>1106413</td>\n",
       "      <td>23</td>\n",
       "      <td>252971</td>\n",
       "      <td>16</td>\n",
       "      <td>0.000464</td>\n",
       "      <td>52065</td>\n",
       "      <td>51794</td>\n",
       "      <td>76</td>\n",
       "      <td>9007</td>\n",
       "      <td>103</td>\n",
       "      <td>25523</td>\n",
       "      <td>0.4246</td>\n",
       "      <td>0.7383</td>\n",
       "    </tr>\n",
       "    <tr>\n",
       "      <th>38</th>\n",
       "      <td>1236800</td>\n",
       "      <td>23</td>\n",
       "      <td>252971</td>\n",
       "      <td>16</td>\n",
       "      <td>0.000509</td>\n",
       "      <td>52065</td>\n",
       "      <td>51794</td>\n",
       "      <td>76</td>\n",
       "      <td>8766</td>\n",
       "      <td>103</td>\n",
       "      <td>25764</td>\n",
       "      <td>0.4246</td>\n",
       "      <td>0.7453</td>\n",
       "    </tr>\n",
       "    <tr>\n",
       "      <th>89</th>\n",
       "      <td>990991</td>\n",
       "      <td>23</td>\n",
       "      <td>676649</td>\n",
       "      <td>16</td>\n",
       "      <td>0.000440</td>\n",
       "      <td>52065</td>\n",
       "      <td>51794</td>\n",
       "      <td>76</td>\n",
       "      <td>9141</td>\n",
       "      <td>103</td>\n",
       "      <td>25389</td>\n",
       "      <td>0.4246</td>\n",
       "      <td>0.7344</td>\n",
       "    </tr>\n",
       "    <tr>\n",
       "      <th>98</th>\n",
       "      <td>562524</td>\n",
       "      <td>23</td>\n",
       "      <td>252971</td>\n",
       "      <td>16</td>\n",
       "      <td>0.000400</td>\n",
       "      <td>52065</td>\n",
       "      <td>51794</td>\n",
       "      <td>76</td>\n",
       "      <td>9375</td>\n",
       "      <td>103</td>\n",
       "      <td>25155</td>\n",
       "      <td>0.4246</td>\n",
       "      <td>0.7277</td>\n",
       "    </tr>\n",
       "    <tr>\n",
       "      <th>28</th>\n",
       "      <td>1999435</td>\n",
       "      <td>44</td>\n",
       "      <td>252971</td>\n",
       "      <td>16</td>\n",
       "      <td>0.000779</td>\n",
       "      <td>52065</td>\n",
       "      <td>51794</td>\n",
       "      <td>73</td>\n",
       "      <td>7101</td>\n",
       "      <td>106</td>\n",
       "      <td>27429</td>\n",
       "      <td>0.4078</td>\n",
       "      <td>0.7933</td>\n",
       "    </tr>\n",
       "    <tr>\n",
       "      <th>78</th>\n",
       "      <td>562524</td>\n",
       "      <td>44</td>\n",
       "      <td>252971</td>\n",
       "      <td>16</td>\n",
       "      <td>0.000688</td>\n",
       "      <td>52065</td>\n",
       "      <td>51794</td>\n",
       "      <td>73</td>\n",
       "      <td>7460</td>\n",
       "      <td>106</td>\n",
       "      <td>27070</td>\n",
       "      <td>0.4078</td>\n",
       "      <td>0.783</td>\n",
       "    </tr>\n",
       "  </tbody>\n",
       "</table>\n",
       "</div>"
      ],
      "text/plain": [
       "   Credit_Amt_median number_of_Credit_median debit_Amt_median  \\\n",
       "99            562524                      23           676649   \n",
       "39           1236800                      23           676649   \n",
       "88            990991                      23           252971   \n",
       "9            1106413                      23           676649   \n",
       "8            1106413                      23           252971   \n",
       "38           1236800                      23           252971   \n",
       "89            990991                      23           676649   \n",
       "98            562524                      23           252971   \n",
       "28           1999435                      44           252971   \n",
       "78            562524                      44           252971   \n",
       "\n",
       "   number_of_debit_median  information gain    SAR Non SAR newSAM=1_SAR=1(TP)  \\\n",
       "99                     16          0.000421  52065   51794                 76   \n",
       "39                     16          0.000533  52065   51794                 76   \n",
       "88                     16          0.000419  52065   51794                 76   \n",
       "9                      16          0.000487  52065   51794                 76   \n",
       "8                      16          0.000464  52065   51794                 76   \n",
       "38                     16          0.000509  52065   51794                 76   \n",
       "89                     16          0.000440  52065   51794                 76   \n",
       "98                     16          0.000400  52065   51794                 76   \n",
       "28                     16          0.000779  52065   51794                 73   \n",
       "78                     16          0.000688  52065   51794                 73   \n",
       "\n",
       "   newSAM=1_SAR=0(FP) newSAM=0_SAR=1(FN) newSAM=0_SAR=0(TN)  recall  \\\n",
       "99               9254                103              25276  0.4246   \n",
       "39               8645                103              25885  0.4246   \n",
       "88               9262                103              25268  0.4246   \n",
       "9                8886                103              25644  0.4246   \n",
       "8                9007                103              25523  0.4246   \n",
       "38               8766                103              25764  0.4246   \n",
       "89               9141                103              25389  0.4246   \n",
       "98               9375                103              25155  0.4246   \n",
       "28               7101                106              27429  0.4078   \n",
       "78               7460                106              27070  0.4078   \n",
       "\n",
       "   filter rate  \n",
       "99      0.7312  \n",
       "39      0.7487  \n",
       "88       0.731  \n",
       "9       0.7418  \n",
       "8       0.7383  \n",
       "38      0.7453  \n",
       "89      0.7344  \n",
       "98      0.7277  \n",
       "28      0.7933  \n",
       "78       0.783  "
      ]
     },
     "execution_count": 179,
     "metadata": {},
     "output_type": "execute_result"
    }
   ],
   "source": [
    "results.sort_values(by= 'recall', ascending= False)[:10]"
   ]
  }
 ],
 "metadata": {
  "kernelspec": {
   "display_name": "Python 3 (ipykernel)",
   "language": "python",
   "name": "python3"
  },
  "language_info": {
   "codemirror_mode": {
    "name": "ipython",
    "version": 3
   },
   "file_extension": ".py",
   "mimetype": "text/x-python",
   "name": "python",
   "nbconvert_exporter": "python",
   "pygments_lexer": "ipython3",
   "version": "3.8.5"
  }
 },
 "nbformat": 4,
 "nbformat_minor": 4
}
