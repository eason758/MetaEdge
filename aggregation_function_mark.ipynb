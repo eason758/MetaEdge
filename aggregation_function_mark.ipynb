{
 "cells": [
  {
   "cell_type": "code",
   "execution_count": 1,
   "metadata": {},
   "outputs": [],
   "source": [
    "import os\n",
    "import pandas as pd\n",
    "import pymssql\n",
    "from IPython.display import clear_output"
   ]
  },
  {
   "cell_type": "code",
   "execution_count": 2,
   "metadata": {},
   "outputs": [],
   "source": [
    "transaction_code = pd.read_excel('D:/NCTU/10-資料範例與欄位說明/NCTU_AI_AML資料表欄位說明_v20210507.xlsx', sheet_name= '交易代碼表')\n",
    "credit_code = transaction_code.loc[transaction_code['交易方向']== 'CREDIT', '交易代碼'].values.astype(int)\n",
    "debit_code = transaction_code.loc[transaction_code['交易方向']== 'DEBIT', '交易代碼'].values.astype(int)"
   ]
  },
  {
   "cell_type": "markdown",
   "metadata": {},
   "source": [
    "debit_code 3168 excel 裡面主要類型是空白，次要類型是\"無\"，且沒有其他備註"
   ]
  },
  {
   "cell_type": "code",
   "execution_count": 4,
   "metadata": {},
   "outputs": [
    {
     "data": {
      "text/plain": [
       "array([3168, 3171, 3174, 3177, 3178, 3181, 3183, 3185, 3186, 3189, 3192,\n",
       "       3193, 3195, 3198, 3201, 3204, 3205, 3207, 3208, 3210, 3212, 3213,\n",
       "       3214, 3215, 3216, 3219, 3222, 3223, 3224, 3225, 3226, 3228, 3231,\n",
       "       3234, 3237, 3240, 3243, 3246, 3285, 3288, 3291, 3294, 3297, 3300,\n",
       "       3303, 3306, 3309, 3312, 3315, 3318, 3321, 3330, 3410, 3413, 3416,\n",
       "       3419, 3422, 3425, 3600, 3610, 3620, 5410, 5411, 5415, 5420, 5425,\n",
       "       5430, 5435, 5440, 5445, 5450, 5455, 5460, 5465, 5470, 5540, 5545,\n",
       "       8001, 8002, 8004, 8005, 8010, 8011, 8014, 8016, 8021, 8028, 8029,\n",
       "       8030, 8031, 8032, 8033, 8034, 8047, 8048, 8049, 8050, 8051, 8052,\n",
       "       8053, 8054, 8055, 8056, 8057, 8058, 8070, 8071, 8072, 8073, 8074,\n",
       "       8075, 8076, 8077, 8080, 8084, 8085, 8087, 8096, 8098, 8102, 8104,\n",
       "       8106, 8107, 8113, 8115, 8117, 8121, 5412, 9006])"
      ]
     },
     "execution_count": 4,
     "metadata": {},
     "output_type": "execute_result"
    }
   ],
   "source": [
    "debit_code"
   ]
  },
  {
   "cell_type": "code",
   "execution_count": 5,
   "metadata": {},
   "outputs": [],
   "source": [
    "conn = pymssql.connect(server= '.', user= 'NCTUUser2', password= 'NCTU@MetaEdge', database= 'NCTU(1090401-1091231)')\n",
    "cursor = conn.cursor()"
   ]
  },
  {
   "cell_type": "code",
   "execution_count": 6,
   "metadata": {},
   "outputs": [],
   "source": [
    "def transactionKeySAR(scenario_name):\n",
    "    cursor.execute(f'SELECT Txn_Type_Key FROM dbo.SAR_Info_TxnTypeKey WHERE Scenario_name = {scenario_name}')\n",
    "    txnKey = []\n",
    "\n",
    "    for row in cursor:\n",
    "        txnKey.append(int(row[0]))\n",
    "    return txnKey"
   ]
  },
  {
   "cell_type": "code",
   "execution_count": null,
   "metadata": {},
   "outputs": [],
   "source": [
    "end_of_file = '_txn.csv'"
   ]
  },
  {
   "cell_type": "code",
   "execution_count": 7,
   "metadata": {},
   "outputs": [],
   "source": [
    "FEATURE = ['Credit_Amt', 'number_of_Credit', 'Debit_Amt', 'number_of_Debit', 'debit/credit']\n",
    "def aggregation(df, day, scenario_name, party, feature, path, save_path):\n",
    "    print(scenario_name + 'txn aggregation... start!')\n",
    "    data = []\n",
    "    txnKey = transactionKeySAR(scenario_name)\n",
    "\n",
    "    for i in range(df.shape[0]):\n",
    "        data_slice = []\n",
    "\n",
    "        if i % 1000 == 0:\n",
    "            clear_output(wait= True)\n",
    "    \n",
    "        txn_file_path = path + day + '/' + str(i) + end_of_file\n",
    "        print('row account:', i, 'file path:', txn_file_path)\n",
    "        print('scenario name:', df['scenario_name'][i], 'corresponding txn key:', txnKey)\n",
    "\n",
    "        if os.path.isfile(txn_file_path):\n",
    "            txn_file = pd.read_csv(txn_file_path)\n",
    "            if txn_file.empty is False:\n",
    "                credit_idx = []\n",
    "                debit_idx = []\n",
    "\n",
    "                for j in range(txn_file.shape[0]):\n",
    "                    if party == 'ACC':\n",
    "                        if txn_file['Acct_No'][j] == df['Acct_No'][i] and txn_file['Txn_Sts_Key'][j] == 1:\n",
    "                            if txn_file['Txn_Type_KEy'][j] in txnKey and txn_file['Txn_Type_Key'][j] in credit_code:\n",
    "                                print('Txn type key:', txn_file['Txn_Type_KEy'][j])\n",
    "                                credit_idx.append(j)\n",
    "                            elif txn_file['Txn_Type_Key'][j] in txnKey and txn_file['Txn_Type_Key'][j] in debit_code:\n",
    "                                print('txn type key:', txn_file['Txn_Type_Key'][j])\n",
    "                                debit_idx.append(j)\n",
    "                    \n",
    "                    elif party == 'PTY':\n",
    "                        if txn_file['Txn_Sts_Key'][j] == 1:\n",
    "                            if txn_file['Txn_Type_Key'][j] in txnKey and txn_file['Txn_Type_Key'][j] in debit_code:\n",
    "                                print('txn type key:', txn_file['Txn_Type_Key'][j])\n",
    "                                credit_idx.append(j)\n",
    "                            elif txn_file['Txn_Type_Key'][j] in txnKey and txn_file['Txn_Type_Key'][j] in debit_code:\n",
    "                                print('txn type key:', txn_file['Txn_Type_Key'][j])\n",
    "                                debit_idx.append(j)\n",
    "\n",
    "                credit = txn_file.iloc[credit_idx]\n",
    "                credit_amt = credit['Ccy_Amt'].sum()\n",
    "                credit_num = credit.shape[0]\n",
    "\n",
    "                debit = txn_file.iloc[debit_idx]\n",
    "                debit_amt = debit['Ccy_Amt'].sunm()\n",
    "                debit_num = debit.shape[0]\n",
    "\n",
    "                data_slice = [credit_amt, credit_num, debit_amt, debit_num]\n",
    "\n",
    "                if credit_amt != 0:\n",
    "                    data_slice.append(debit_amt/ credit_amt)\n",
    "                else:\n",
    "                    data_slice.append(-1)\n",
    "            \n",
    "            else:\n",
    "                print(f'{str(i)}_txn.csv is empty')\n",
    "            print('slice:', data_slice)\n",
    "            data.append(data_slice)\n",
    "\n",
    "    df1 = pd.DataFrame(data= data, columns= FEATURE)\n",
    "    usecol = [*list(df.columns)]\n",
    "    df = df[usecol]\n",
    "    df = df[df['scenario_name'] == scenario_name]\n",
    "    df.to_csv(save_path + scenario_name + '_' + day + '_with_aggregated_txn_type+key_營業日.csv', index= False)\n",
    "    print(scenario_name + 'txn aggregation... done!')\n",
    "    "
   ]
  },
  {
   "cell_type": "code",
   "execution_count": null,
   "metadata": {},
   "outputs": [],
   "source": [
    "FEATURE = ['credit_Amt', 'number_of_Credit', 'Debit_Amt', 'number_of_Debit', 'debit/credit']\n",
    "\n",
    "def aggregationScenarioGroup(df, group, day, path, save_path):\n",
    "    print('Group txn aggregation... start!')\n",
    "    data = []\n",
    "    "
   ]
  }
 ],
 "metadata": {
  "kernelspec": {
   "display_name": "Python 3.8.5 ('base')",
   "language": "python",
   "name": "python3"
  },
  "language_info": {
   "codemirror_mode": {
    "name": "ipython",
    "version": 3
   },
   "file_extension": ".py",
   "mimetype": "text/x-python",
   "name": "python",
   "nbconvert_exporter": "python",
   "pygments_lexer": "ipython3",
   "version": "3.8.5"
  },
  "orig_nbformat": 4,
  "vscode": {
   "interpreter": {
    "hash": "c70b165adba5618d06f74f9d07fe6485cbd83160061bc4485c0745b1939ab6c1"
   }
  }
 },
 "nbformat": 4,
 "nbformat_minor": 2
}
