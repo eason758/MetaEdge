{
 "cells": [
  {
   "cell_type": "code",
   "execution_count": 1,
   "metadata": {},
   "outputs": [],
   "source": [
    "import pandas as pd\n",
    "import numpy as np"
   ]
  },
  {
   "cell_type": "markdown",
   "metadata": {},
   "source": [
    "# 自然人"
   ]
  },
  {
   "cell_type": "code",
   "execution_count": 2,
   "metadata": {},
   "outputs": [],
   "source": [
    "df = pd.read_csv(\"D:/NCTU/12-資料產出/NCTU/alert處理new3.csv\")"
   ]
  },
  {
   "cell_type": "code",
   "execution_count": 12,
   "metadata": {},
   "outputs": [
    {
     "data": {
      "text/plain": [
       "(347676, 41)"
      ]
     },
     "execution_count": 12,
     "metadata": {},
     "output_type": "execute_result"
    }
   ],
   "source": [
    "df.shape"
   ]
  },
  {
   "cell_type": "code",
   "execution_count": 3,
   "metadata": {},
   "outputs": [
    {
     "data": {
      "text/plain": [
       "F     645\n",
       "NF    295\n",
       "Name: TO_SAR, dtype: int64"
      ]
     },
     "execution_count": 3,
     "metadata": {},
     "output_type": "execute_result"
    }
   ],
   "source": [
    "df['TO_SAR'].value_counts()"
   ]
  },
  {
   "cell_type": "code",
   "execution_count": 8,
   "metadata": {},
   "outputs": [],
   "source": [
    "df['TO_SAR'] = df['TO_SAR'].replace(np.nan, 0)\n",
    "df['TO_SAR'] = df['TO_SAR'].replace(\"F\", 1)\n",
    "df['TO_SAR'] = df['TO_SAR'].replace(\"NF\", 1)"
   ]
  },
  {
   "cell_type": "code",
   "execution_count": 9,
   "metadata": {},
   "outputs": [
    {
     "data": {
      "text/plain": [
       "0    346736\n",
       "1       940\n",
       "Name: TO_SAR, dtype: int64"
      ]
     },
     "execution_count": 9,
     "metadata": {},
     "output_type": "execute_result"
    }
   ],
   "source": [
    "df['TO_SAR'].value_counts()"
   ]
  },
  {
   "cell_type": "code",
   "execution_count": 13,
   "metadata": {},
   "outputs": [],
   "source": [
    "Non_SAR = df[df['TO_SAR']==0]\n",
    "TO_SAR  = df[df['TO_SAR']!=0]"
   ]
  },
  {
   "cell_type": "code",
   "execution_count": 14,
   "metadata": {},
   "outputs": [
    {
     "name": "stdout",
     "output_type": "stream",
     "text": [
      "(940, 41) (346736, 41)\n"
     ]
    }
   ],
   "source": [
    "print(TO_SAR.shape, Non_SAR.shape)"
   ]
  },
  {
   "cell_type": "code",
   "execution_count": 15,
   "metadata": {},
   "outputs": [
    {
     "data": {
      "text/plain": [
       "TWN_A11_01    446\n",
       "TWN_A12_01    241\n",
       "TWN_A17_01     73\n",
       "TWN_A13_01     68\n",
       "TWN_A15_01     25\n",
       "TWN_A81_01     13\n",
       "TWN_AB2_01     12\n",
       "TWN_AB4_01     10\n",
       "BOT_AZ8_01     10\n",
       "TWN_A21_01     10\n",
       "TWN_A21_02      9\n",
       "BOT_AZ2_01      6\n",
       "TWN_A61_01      4\n",
       "TWN_A1B_01      2\n",
       "TWN_A1F_01      2\n",
       "BOT_AZ9_01      2\n",
       "TWN_A1C_01      2\n",
       "TWN_AB3_02      1\n",
       "TWN_AB1_01      1\n",
       "TWN_A1D_01      1\n",
       "TWN_A62_01      1\n",
       "TWN_AB3_01      1\n",
       "Name: scenario_name, dtype: int64"
      ]
     },
     "execution_count": 15,
     "metadata": {},
     "output_type": "execute_result"
    }
   ],
   "source": [
    "TO_SAR['scenario_name'].value_counts()"
   ]
  },
  {
   "cell_type": "code",
   "execution_count": 16,
   "metadata": {},
   "outputs": [
    {
     "data": {
      "text/html": [
       "<div>\n",
       "<style scoped>\n",
       "    .dataframe tbody tr th:only-of-type {\n",
       "        vertical-align: middle;\n",
       "    }\n",
       "\n",
       "    .dataframe tbody tr th {\n",
       "        vertical-align: top;\n",
       "    }\n",
       "\n",
       "    .dataframe thead th {\n",
       "        text-align: right;\n",
       "    }\n",
       "</style>\n",
       "<table border=\"1\" class=\"dataframe\">\n",
       "  <thead>\n",
       "    <tr style=\"text-align: right;\">\n",
       "      <th></th>\n",
       "      <th>scenario_name</th>\n",
       "      <th>TO_SAR</th>\n",
       "      <th>total</th>\n",
       "    </tr>\n",
       "  </thead>\n",
       "  <tbody>\n",
       "    <tr>\n",
       "      <th>0</th>\n",
       "      <td>TWN_A11_01</td>\n",
       "      <td>446</td>\n",
       "      <td>86770</td>\n",
       "    </tr>\n",
       "    <tr>\n",
       "      <th>1</th>\n",
       "      <td>TWN_A12_01</td>\n",
       "      <td>241</td>\n",
       "      <td>49965</td>\n",
       "    </tr>\n",
       "    <tr>\n",
       "      <th>2</th>\n",
       "      <td>TWN_A17_01</td>\n",
       "      <td>73</td>\n",
       "      <td>4507</td>\n",
       "    </tr>\n",
       "    <tr>\n",
       "      <th>3</th>\n",
       "      <td>TWN_A13_01</td>\n",
       "      <td>68</td>\n",
       "      <td>7499</td>\n",
       "    </tr>\n",
       "    <tr>\n",
       "      <th>4</th>\n",
       "      <td>TWN_A15_01</td>\n",
       "      <td>25</td>\n",
       "      <td>12530</td>\n",
       "    </tr>\n",
       "    <tr>\n",
       "      <th>5</th>\n",
       "      <td>TWN_A81_01</td>\n",
       "      <td>13</td>\n",
       "      <td>723</td>\n",
       "    </tr>\n",
       "    <tr>\n",
       "      <th>6</th>\n",
       "      <td>TWN_AB2_01</td>\n",
       "      <td>12</td>\n",
       "      <td>2622</td>\n",
       "    </tr>\n",
       "    <tr>\n",
       "      <th>7</th>\n",
       "      <td>TWN_A21_01</td>\n",
       "      <td>10</td>\n",
       "      <td>26202</td>\n",
       "    </tr>\n",
       "    <tr>\n",
       "      <th>8</th>\n",
       "      <td>BOT_AZ8_01</td>\n",
       "      <td>10</td>\n",
       "      <td>1104</td>\n",
       "    </tr>\n",
       "    <tr>\n",
       "      <th>9</th>\n",
       "      <td>TWN_AB4_01</td>\n",
       "      <td>10</td>\n",
       "      <td>3288</td>\n",
       "    </tr>\n",
       "    <tr>\n",
       "      <th>10</th>\n",
       "      <td>TWN_A21_02</td>\n",
       "      <td>9</td>\n",
       "      <td>33812</td>\n",
       "    </tr>\n",
       "    <tr>\n",
       "      <th>11</th>\n",
       "      <td>BOT_AZ2_01</td>\n",
       "      <td>6</td>\n",
       "      <td>2984</td>\n",
       "    </tr>\n",
       "    <tr>\n",
       "      <th>12</th>\n",
       "      <td>TWN_A61_01</td>\n",
       "      <td>4</td>\n",
       "      <td>1982</td>\n",
       "    </tr>\n",
       "    <tr>\n",
       "      <th>13</th>\n",
       "      <td>TWN_A1C_01</td>\n",
       "      <td>2</td>\n",
       "      <td>3700</td>\n",
       "    </tr>\n",
       "    <tr>\n",
       "      <th>14</th>\n",
       "      <td>TWN_A1B_01</td>\n",
       "      <td>2</td>\n",
       "      <td>90059</td>\n",
       "    </tr>\n",
       "    <tr>\n",
       "      <th>15</th>\n",
       "      <td>TWN_A1F_01</td>\n",
       "      <td>2</td>\n",
       "      <td>802</td>\n",
       "    </tr>\n",
       "    <tr>\n",
       "      <th>16</th>\n",
       "      <td>BOT_AZ9_01</td>\n",
       "      <td>2</td>\n",
       "      <td>166</td>\n",
       "    </tr>\n",
       "    <tr>\n",
       "      <th>17</th>\n",
       "      <td>TWN_A1D_01</td>\n",
       "      <td>1</td>\n",
       "      <td>604</td>\n",
       "    </tr>\n",
       "    <tr>\n",
       "      <th>18</th>\n",
       "      <td>TWN_AB3_02</td>\n",
       "      <td>1</td>\n",
       "      <td>70</td>\n",
       "    </tr>\n",
       "    <tr>\n",
       "      <th>19</th>\n",
       "      <td>TWN_AB3_01</td>\n",
       "      <td>1</td>\n",
       "      <td>1016</td>\n",
       "    </tr>\n",
       "    <tr>\n",
       "      <th>20</th>\n",
       "      <td>TWN_A62_01</td>\n",
       "      <td>1</td>\n",
       "      <td>211</td>\n",
       "    </tr>\n",
       "    <tr>\n",
       "      <th>21</th>\n",
       "      <td>TWN_AB1_01</td>\n",
       "      <td>1</td>\n",
       "      <td>383</td>\n",
       "    </tr>\n",
       "  </tbody>\n",
       "</table>\n",
       "</div>"
      ],
      "text/plain": [
       "   scenario_name TO_SAR  total\n",
       "0     TWN_A11_01    446  86770\n",
       "1     TWN_A12_01    241  49965\n",
       "2     TWN_A17_01     73   4507\n",
       "3     TWN_A13_01     68   7499\n",
       "4     TWN_A15_01     25  12530\n",
       "5     TWN_A81_01     13    723\n",
       "6     TWN_AB2_01     12   2622\n",
       "7     TWN_A21_01     10  26202\n",
       "8     BOT_AZ8_01     10   1104\n",
       "9     TWN_AB4_01     10   3288\n",
       "10    TWN_A21_02      9  33812\n",
       "11    BOT_AZ2_01      6   2984\n",
       "12    TWN_A61_01      4   1982\n",
       "13    TWN_A1C_01      2   3700\n",
       "14    TWN_A1B_01      2  90059\n",
       "15    TWN_A1F_01      2    802\n",
       "16    BOT_AZ9_01      2    166\n",
       "17    TWN_A1D_01      1    604\n",
       "18    TWN_AB3_02      1     70\n",
       "19    TWN_AB3_01      1   1016\n",
       "20    TWN_A62_01      1    211\n",
       "21    TWN_AB1_01      1    383"
      ]
     },
     "metadata": {},
     "output_type": "display_data"
    }
   ],
   "source": [
    "SAR_scenario = list(set(TO_SAR['scenario_name']))\n",
    "scenario_SAR_relation = pd.DataFrame(columns = ['scenario_name', 'TO_SAR', 'total'])\n",
    "for item in SAR_scenario:\n",
    "    total = df[df['scenario_name']==item].shape[0]\n",
    "    to_sar = TO_SAR[TO_SAR['scenario_name']==item].shape[0]\n",
    "    scenario_SAR_relation = scenario_SAR_relation.append({'scenario_name':item, 'TO_SAR':to_sar, 'total':total}, ignore_index = True)\n",
    "display(scenario_SAR_relation.sort_values(by=['TO_SAR'], ascending = False).reset_index(drop=True))"
   ]
  },
  {
   "cell_type": "code",
   "execution_count": null,
   "metadata": {},
   "outputs": [],
   "source": []
  }
 ],
 "metadata": {
  "kernelspec": {
   "display_name": "Python 3.8.5 ('base')",
   "language": "python",
   "name": "python3"
  },
  "language_info": {
   "codemirror_mode": {
    "name": "ipython",
    "version": 3
   },
   "file_extension": ".py",
   "mimetype": "text/x-python",
   "name": "python",
   "nbconvert_exporter": "python",
   "pygments_lexer": "ipython3",
   "version": "3.8.5"
  },
  "vscode": {
   "interpreter": {
    "hash": "c70b165adba5618d06f74f9d07fe6485cbd83160061bc4485c0745b1939ab6c1"
   }
  }
 },
 "nbformat": 4,
 "nbformat_minor": 4
}
